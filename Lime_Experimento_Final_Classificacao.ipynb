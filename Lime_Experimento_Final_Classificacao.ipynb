{
  "cells": [
    {
      "cell_type": "markdown",
      "metadata": {
        "id": "view-in-github",
        "colab_type": "text"
      },
      "source": [
        "<a href=\"https://colab.research.google.com/github/JessicaVicentini99/fake_br_corpus_lime/blob/main/Lime_Experimento_Final_Classificacao.ipynb\" target=\"_parent\"><img src=\"https://colab.research.google.com/assets/colab-badge.svg\" alt=\"Open In Colab\"/></a>"
      ]
    },
    {
      "cell_type": "markdown",
      "metadata": {
        "id": "OCIwkz51JqCK"
      },
      "source": [
        "# Imports"
      ]
    },
    {
      "cell_type": "code",
      "execution_count": null,
      "metadata": {
        "colab": {
          "base_uri": "https://localhost:8080/"
        },
        "id": "EV6D9lsCKPu4",
        "outputId": "9c66a413-ca3d-44ca-c629-3f2f0db7394f"
      },
      "outputs": [
        {
          "output_type": "stream",
          "name": "stdout",
          "text": [
            "Collecting transformers\n",
            "  Downloading transformers-4.33.1-py3-none-any.whl (7.6 MB)\n",
            "\u001b[2K     \u001b[90m━━━━━━━━━━━━━━━━━━━━━━━━━━━━━━━━━━━━━━━━\u001b[0m \u001b[32m7.6/7.6 MB\u001b[0m \u001b[31m67.0 MB/s\u001b[0m eta \u001b[36m0:00:00\u001b[0m\n",
            "\u001b[?25hRequirement already satisfied: filelock in /usr/local/lib/python3.10/dist-packages (from transformers) (3.12.2)\n",
            "Collecting huggingface-hub<1.0,>=0.15.1 (from transformers)\n",
            "  Downloading huggingface_hub-0.16.4-py3-none-any.whl (268 kB)\n",
            "\u001b[2K     \u001b[90m━━━━━━━━━━━━━━━━━━━━━━━━━━━━━━━━━━━━━━\u001b[0m \u001b[32m268.8/268.8 kB\u001b[0m \u001b[31m31.8 MB/s\u001b[0m eta \u001b[36m0:00:00\u001b[0m\n",
            "\u001b[?25hRequirement already satisfied: numpy>=1.17 in /usr/local/lib/python3.10/dist-packages (from transformers) (1.23.5)\n",
            "Requirement already satisfied: packaging>=20.0 in /usr/local/lib/python3.10/dist-packages (from transformers) (23.1)\n",
            "Requirement already satisfied: pyyaml>=5.1 in /usr/local/lib/python3.10/dist-packages (from transformers) (6.0.1)\n",
            "Requirement already satisfied: regex!=2019.12.17 in /usr/local/lib/python3.10/dist-packages (from transformers) (2023.6.3)\n",
            "Requirement already satisfied: requests in /usr/local/lib/python3.10/dist-packages (from transformers) (2.31.0)\n",
            "Collecting tokenizers!=0.11.3,<0.14,>=0.11.1 (from transformers)\n",
            "  Downloading tokenizers-0.13.3-cp310-cp310-manylinux_2_17_x86_64.manylinux2014_x86_64.whl (7.8 MB)\n",
            "\u001b[2K     \u001b[90m━━━━━━━━━━━━━━━━━━━━━━━━━━━━━━━━━━━━━━━━\u001b[0m \u001b[32m7.8/7.8 MB\u001b[0m \u001b[31m116.2 MB/s\u001b[0m eta \u001b[36m0:00:00\u001b[0m\n",
            "\u001b[?25hCollecting safetensors>=0.3.1 (from transformers)\n",
            "  Downloading safetensors-0.3.3-cp310-cp310-manylinux_2_17_x86_64.manylinux2014_x86_64.whl (1.3 MB)\n",
            "\u001b[2K     \u001b[90m━━━━━━━━━━━━━━━━━━━━━━━━━━━━━━━━━━━━━━━━\u001b[0m \u001b[32m1.3/1.3 MB\u001b[0m \u001b[31m76.5 MB/s\u001b[0m eta \u001b[36m0:00:00\u001b[0m\n",
            "\u001b[?25hRequirement already satisfied: tqdm>=4.27 in /usr/local/lib/python3.10/dist-packages (from transformers) (4.66.1)\n",
            "Requirement already satisfied: fsspec in /usr/local/lib/python3.10/dist-packages (from huggingface-hub<1.0,>=0.15.1->transformers) (2023.6.0)\n",
            "Requirement already satisfied: typing-extensions>=3.7.4.3 in /usr/local/lib/python3.10/dist-packages (from huggingface-hub<1.0,>=0.15.1->transformers) (4.5.0)\n",
            "Requirement already satisfied: charset-normalizer<4,>=2 in /usr/local/lib/python3.10/dist-packages (from requests->transformers) (3.2.0)\n",
            "Requirement already satisfied: idna<4,>=2.5 in /usr/local/lib/python3.10/dist-packages (from requests->transformers) (3.4)\n",
            "Requirement already satisfied: urllib3<3,>=1.21.1 in /usr/local/lib/python3.10/dist-packages (from requests->transformers) (2.0.4)\n",
            "Requirement already satisfied: certifi>=2017.4.17 in /usr/local/lib/python3.10/dist-packages (from requests->transformers) (2023.7.22)\n",
            "Installing collected packages: tokenizers, safetensors, huggingface-hub, transformers\n",
            "Successfully installed huggingface-hub-0.16.4 safetensors-0.3.3 tokenizers-0.13.3 transformers-4.33.1\n"
          ]
        }
      ],
      "source": [
        "!pip install transformers"
      ]
    },
    {
      "cell_type": "code",
      "execution_count": null,
      "metadata": {
        "id": "21J_QQr8-Bmk"
      },
      "outputs": [],
      "source": [
        "from transformers import AutoModelForPreTraining  # Or BertForPreTraining for loading pretraining heads\n"
      ]
    },
    {
      "cell_type": "code",
      "execution_count": null,
      "metadata": {
        "id": "hYMUbMNpJpjB"
      },
      "outputs": [],
      "source": [
        "import tensorflow as tf\n",
        "# from transformers import AutoTokenizer, TFAutoModelForSequenceClassification #TFBertForSequenceClassification\n",
        "from transformers import AutoModel, AutoTokenizer, BertTokenizer, BertModel, TFAutoModelForSequenceClassification #TFBertForSequenceClassification\n",
        "import pandas as pd\n",
        "import numpy as np\n",
        "from sklearn.model_selection import train_test_split\n",
        "import datetime\n",
        "import os\n",
        "import json\n",
        "import time\n",
        "import matplotlib.pyplot as plt\n",
        "from IPython.display import display, HTML\n",
        "from sklearn.metrics import classification_report\n",
        "from sklearn.metrics import confusion_matrix\n",
        "import seaborn as sns\n",
        "from tensorflow.keras.optimizers import Adam\n",
        "import csv\n"
      ]
    },
    {
      "cell_type": "code",
      "execution_count": null,
      "metadata": {
        "id": "F1kqiT5C2khl",
        "colab": {
          "base_uri": "https://localhost:8080/"
        },
        "outputId": "9cd83629-69fe-4455-df9e-7e6ed18baed9"
      },
      "outputs": [
        {
          "output_type": "stream",
          "name": "stdout",
          "text": [
            "Drive already mounted at /content/drive; to attempt to forcibly remount, call drive.mount(\"/content/drive\", force_remount=True).\n"
          ]
        }
      ],
      "source": [
        "from google.colab import drive\n",
        "drive.mount('/content/drive')"
      ]
    },
    {
      "cell_type": "markdown",
      "metadata": {
        "id": "-NXfffpeDgOY"
      },
      "source": [
        "# Create Directories"
      ]
    },
    {
      "cell_type": "code",
      "execution_count": null,
      "metadata": {
        "id": "xNJp0Uk0D2Cm"
      },
      "outputs": [],
      "source": [
        "def create_dir(path):\n",
        "  if not os.path.exists(path):\n",
        "    os.mkdir(path)"
      ]
    },
    {
      "cell_type": "code",
      "execution_count": null,
      "metadata": {
        "id": "3j6vTwV7DmvY"
      },
      "outputs": [],
      "source": [
        "def create_directories(base_path):\n",
        "  directories = {\n",
        "    'models_path': base_path + '/models',\n",
        "    'checkpoints_path': base_path + '/checkpoints',\n",
        "    'metrics_path': base_path + '/metrics',\n",
        "    'classification_report_path': base_path + '/metrics/classification_report',\n",
        "    'graphs_path': base_path + '/metrics/graphs',\n",
        "    'history_path': base_path + '/metrics/history',\n",
        "    'lime_explanations': base_path + '/lime_explanations',\n",
        "    'lime_html': base_path + '/lime_explanations/lime_html',\n",
        "    'lime_html_1_1': base_path + '/lime_explanations/lime_html_1_1',\n",
        "    'lime_html_0_0': base_path + '/lime_explanations/lime_html_0_0',\n",
        "    'lime_html_1_0': base_path + '/lime_explanations/lime_html_1_0',\n",
        "    'lime_html_0_1': base_path + '/lime_explanations/lime_html_0_1',\n",
        "  }\n",
        "  for name, folder_path in directories.items():\n",
        "    create_dir(folder_path)\n",
        "  return directories"
      ]
    },
    {
      "cell_type": "code",
      "execution_count": null,
      "metadata": {
        "id": "m12SbWsiD067"
      },
      "outputs": [],
      "source": [
        "base_path = '/content/drive/MyDrive/Arquivos/Mestrado/Qualificação/Experimentos Pos Qualificacao/Fake_Br_corpus_novo_experimento'"
      ]
    },
    {
      "cell_type": "code",
      "execution_count": null,
      "metadata": {
        "id": "6qD0IwUvJT_k"
      },
      "outputs": [],
      "source": [
        "create_dir(base_path)"
      ]
    },
    {
      "cell_type": "code",
      "execution_count": null,
      "metadata": {
        "id": "PnKTW1DpEAoT"
      },
      "outputs": [],
      "source": [
        "directories = create_directories(base_path)"
      ]
    },
    {
      "cell_type": "markdown",
      "metadata": {
        "id": "haopqh0yKhqI"
      },
      "source": [
        "## Geracao do nome do modelo"
      ]
    },
    {
      "cell_type": "code",
      "execution_count": null,
      "metadata": {
        "id": "KRDpDeWHKko3"
      },
      "outputs": [],
      "source": [
        "def generate_model_name(models_path):\n",
        "  model_files = os.listdir(models_path)\n",
        "  if model_files:\n",
        "    model_files.sort(reverse=True)\n",
        "    last_model_index = int(model_files[0].split('_')[1])\n",
        "    model_index = last_model_index + 1\n",
        "  else:\n",
        "    model_index = 1\n",
        "  timestamp = datetime.datetime.now().strftime('%d_%m_%Y-%H_%M')\n",
        "  model_save_name = f\"model_{model_index}__{timestamp}\"\n",
        "  return model_save_name"
      ]
    },
    {
      "cell_type": "code",
      "execution_count": null,
      "metadata": {
        "id": "D_GnMbMeKqJ_"
      },
      "outputs": [],
      "source": [
        "def generate_metrics_files_name(model_name, directories):\n",
        "  files_name = {\n",
        "    'model': directories['models_path'] + '/' + model_name + '.h5',\n",
        "    'checkpoint': directories['checkpoints_path'] + '/' + model_name + '_checkpoint-{epoch:02d}.h5',\n",
        "    'metrics_csv': directories['metrics_path'] + '/models_metrics.csv',\n",
        "    'classification_report_txt': directories['classification_report_path'] + '/' + model_name + '.txt',\n",
        "    'classification_report_json': directories['classification_report_path'] + '/' + model_name + '.json',\n",
        "    'graph_acc': directories['graphs_path'] + '/' + model_name + '_acc.png',\n",
        "    'graph_loss': directories['graphs_path'] + '/' + model_name + '_loss.png',\n",
        "    'graph_acc_and_loss': directories['graphs_path'] + '/' + model_name + '_acc_and_loss.png',\n",
        "    'confusion_matrix': directories['graphs_path'] + '/' + model_name + '_confusion_matrix.png',\n",
        "    'history': directories['history_path'] + '/' + model_name + '_history.json',\n",
        "    'lime_explanations': directories['lime_explanations'] + '/lime_explanations.csv',\n",
        "  }\n",
        "  return files_name"
      ]
    },
    {
      "cell_type": "code",
      "execution_count": null,
      "metadata": {
        "id": "Hxrw4bFTK1kX"
      },
      "outputs": [],
      "source": [
        "model_save_name = generate_model_name(directories['models_path'])\n",
        "files_name = generate_metrics_files_name(model_save_name, directories)"
      ]
    },
    {
      "cell_type": "markdown",
      "metadata": {
        "id": "v3TthUxKK954"
      },
      "source": [
        "# Model Configs"
      ]
    },
    {
      "cell_type": "code",
      "execution_count": null,
      "metadata": {
        "id": "cAMXjsVcLACC"
      },
      "outputs": [],
      "source": [
        "MODEL_NAME = 'neuralmind/bert-base-portuguese-cased' #'bert-base-uncased'\n",
        "MAX_LEN = 200\n",
        "\n",
        "BATCH_SIZE = 240\n",
        "EPOCHS = 30\n",
        "LEARNING_RATE = 1e-6 #3e-5\n",
        "# LEARNING_RATE = 1e-5 #3e-5\n",
        "DROPOUT_RATE = 0.1"
      ]
    },
    {
      "cell_type": "markdown",
      "metadata": {
        "id": "kN66bwvXJCIW"
      },
      "source": [
        "# Load Dataset\n",
        "\n"
      ]
    },
    {
      "cell_type": "code",
      "execution_count": null,
      "metadata": {
        "id": "0FnA_nbuKDA9"
      },
      "outputs": [],
      "source": [
        "def load_dataset():\n",
        "  dataset = pd.read_csv(\n",
        "          \"/content/drive/MyDrive/Arquivos/Mestrado/Qualificação/full_text_fake_br.csv\",\n",
        "          usecols=['label', 'content'],\n",
        "          encoding='utf-8'\n",
        "        )\n",
        "  # print(dataset['label'].unique())\n",
        "  # class_mapping = {'fake': 0, 'True': 1}\n",
        "  # dataset['label'] = dataset['label'].map(class_mapping)\n",
        "  return dataset"
      ]
    },
    {
      "cell_type": "code",
      "execution_count": null,
      "metadata": {
        "id": "odjgUQ_jOf_z"
      },
      "outputs": [],
      "source": [
        "dataset = load_dataset()"
      ]
    },
    {
      "cell_type": "code",
      "execution_count": null,
      "metadata": {
        "id": "lKsJkQqP3Mid"
      },
      "outputs": [],
      "source": [
        "MAX_LEN=(dataset['content'].str.len().max())-2"
      ]
    },
    {
      "cell_type": "code",
      "execution_count": null,
      "metadata": {
        "id": "-PryjMUFt6I1",
        "colab": {
          "base_uri": "https://localhost:8080/"
        },
        "outputId": "5a05c0c8-d403-44ce-c5b3-1c172ff96efa"
      },
      "outputs": [
        {
          "output_type": "execute_result",
          "data": {
            "text/plain": [
              "46082"
            ]
          },
          "metadata": {},
          "execution_count": 17
        }
      ],
      "source": [
        "MAX_LEN"
      ]
    },
    {
      "cell_type": "code",
      "execution_count": null,
      "metadata": {
        "id": "eORZt0fAT56y"
      },
      "outputs": [],
      "source": [
        "# MAX_LEN=200"
      ]
    },
    {
      "cell_type": "code",
      "execution_count": null,
      "metadata": {
        "id": "8kyLgGA04hoO"
      },
      "outputs": [],
      "source": [
        "MAX_LEN=512"
      ]
    },
    {
      "cell_type": "code",
      "execution_count": null,
      "metadata": {
        "id": "PK8JHlQ5OZI1"
      },
      "outputs": [],
      "source": [
        "dataset[\"label\"]=dataset[\"label\"].astype(\"int\")"
      ]
    },
    {
      "cell_type": "code",
      "execution_count": null,
      "metadata": {
        "id": "4wdqTkfvKHoG",
        "colab": {
          "base_uri": "https://localhost:8080/",
          "height": 206
        },
        "outputId": "c3179f6f-c945-4a54-bedf-b7d06ca5fbbe"
      },
      "outputs": [
        {
          "output_type": "execute_result",
          "data": {
            "text/plain": [
              "                                             content  label\n",
              "0  Ex de Luiza Brunet é ouvido em audiência do ca...      1\n",
              "1  Mercosul suspende direitos políticos da Venezu...      1\n",
              "2  Relator diz que concessão de asilo a Battisti ...      1\n",
              "3  Ele não precisa ser caçado, diz advogado do go...      1\n",
              "4  Petrobras tem interesse em encontrar parceiros...      1"
            ],
            "text/html": [
              "\n",
              "  <div id=\"df-28b05118-5358-4622-82f8-93c4a87d86b7\" class=\"colab-df-container\">\n",
              "    <div>\n",
              "<style scoped>\n",
              "    .dataframe tbody tr th:only-of-type {\n",
              "        vertical-align: middle;\n",
              "    }\n",
              "\n",
              "    .dataframe tbody tr th {\n",
              "        vertical-align: top;\n",
              "    }\n",
              "\n",
              "    .dataframe thead th {\n",
              "        text-align: right;\n",
              "    }\n",
              "</style>\n",
              "<table border=\"1\" class=\"dataframe\">\n",
              "  <thead>\n",
              "    <tr style=\"text-align: right;\">\n",
              "      <th></th>\n",
              "      <th>content</th>\n",
              "      <th>label</th>\n",
              "    </tr>\n",
              "  </thead>\n",
              "  <tbody>\n",
              "    <tr>\n",
              "      <th>0</th>\n",
              "      <td>Ex de Luiza Brunet é ouvido em audiência do ca...</td>\n",
              "      <td>1</td>\n",
              "    </tr>\n",
              "    <tr>\n",
              "      <th>1</th>\n",
              "      <td>Mercosul suspende direitos políticos da Venezu...</td>\n",
              "      <td>1</td>\n",
              "    </tr>\n",
              "    <tr>\n",
              "      <th>2</th>\n",
              "      <td>Relator diz que concessão de asilo a Battisti ...</td>\n",
              "      <td>1</td>\n",
              "    </tr>\n",
              "    <tr>\n",
              "      <th>3</th>\n",
              "      <td>Ele não precisa ser caçado, diz advogado do go...</td>\n",
              "      <td>1</td>\n",
              "    </tr>\n",
              "    <tr>\n",
              "      <th>4</th>\n",
              "      <td>Petrobras tem interesse em encontrar parceiros...</td>\n",
              "      <td>1</td>\n",
              "    </tr>\n",
              "  </tbody>\n",
              "</table>\n",
              "</div>\n",
              "    <div class=\"colab-df-buttons\">\n",
              "\n",
              "  <div class=\"colab-df-container\">\n",
              "    <button class=\"colab-df-convert\" onclick=\"convertToInteractive('df-28b05118-5358-4622-82f8-93c4a87d86b7')\"\n",
              "            title=\"Convert this dataframe to an interactive table.\"\n",
              "            style=\"display:none;\">\n",
              "\n",
              "  <svg xmlns=\"http://www.w3.org/2000/svg\" height=\"24px\" viewBox=\"0 -960 960 960\">\n",
              "    <path d=\"M120-120v-720h720v720H120Zm60-500h600v-160H180v160Zm220 220h160v-160H400v160Zm0 220h160v-160H400v160ZM180-400h160v-160H180v160Zm440 0h160v-160H620v160ZM180-180h160v-160H180v160Zm440 0h160v-160H620v160Z\"/>\n",
              "  </svg>\n",
              "    </button>\n",
              "\n",
              "  <style>\n",
              "    .colab-df-container {\n",
              "      display:flex;\n",
              "      gap: 12px;\n",
              "    }\n",
              "\n",
              "    .colab-df-convert {\n",
              "      background-color: #E8F0FE;\n",
              "      border: none;\n",
              "      border-radius: 50%;\n",
              "      cursor: pointer;\n",
              "      display: none;\n",
              "      fill: #1967D2;\n",
              "      height: 32px;\n",
              "      padding: 0 0 0 0;\n",
              "      width: 32px;\n",
              "    }\n",
              "\n",
              "    .colab-df-convert:hover {\n",
              "      background-color: #E2EBFA;\n",
              "      box-shadow: 0px 1px 2px rgba(60, 64, 67, 0.3), 0px 1px 3px 1px rgba(60, 64, 67, 0.15);\n",
              "      fill: #174EA6;\n",
              "    }\n",
              "\n",
              "    .colab-df-buttons div {\n",
              "      margin-bottom: 4px;\n",
              "    }\n",
              "\n",
              "    [theme=dark] .colab-df-convert {\n",
              "      background-color: #3B4455;\n",
              "      fill: #D2E3FC;\n",
              "    }\n",
              "\n",
              "    [theme=dark] .colab-df-convert:hover {\n",
              "      background-color: #434B5C;\n",
              "      box-shadow: 0px 1px 3px 1px rgba(0, 0, 0, 0.15);\n",
              "      filter: drop-shadow(0px 1px 2px rgba(0, 0, 0, 0.3));\n",
              "      fill: #FFFFFF;\n",
              "    }\n",
              "  </style>\n",
              "\n",
              "    <script>\n",
              "      const buttonEl =\n",
              "        document.querySelector('#df-28b05118-5358-4622-82f8-93c4a87d86b7 button.colab-df-convert');\n",
              "      buttonEl.style.display =\n",
              "        google.colab.kernel.accessAllowed ? 'block' : 'none';\n",
              "\n",
              "      async function convertToInteractive(key) {\n",
              "        const element = document.querySelector('#df-28b05118-5358-4622-82f8-93c4a87d86b7');\n",
              "        const dataTable =\n",
              "          await google.colab.kernel.invokeFunction('convertToInteractive',\n",
              "                                                    [key], {});\n",
              "        if (!dataTable) return;\n",
              "\n",
              "        const docLinkHtml = 'Like what you see? Visit the ' +\n",
              "          '<a target=\"_blank\" href=https://colab.research.google.com/notebooks/data_table.ipynb>data table notebook</a>'\n",
              "          + ' to learn more about interactive tables.';\n",
              "        element.innerHTML = '';\n",
              "        dataTable['output_type'] = 'display_data';\n",
              "        await google.colab.output.renderOutput(dataTable, element);\n",
              "        const docLink = document.createElement('div');\n",
              "        docLink.innerHTML = docLinkHtml;\n",
              "        element.appendChild(docLink);\n",
              "      }\n",
              "    </script>\n",
              "  </div>\n",
              "\n",
              "\n",
              "<div id=\"df-869feb29-3a55-48ff-9655-3fae0a162e2b\">\n",
              "  <button class=\"colab-df-quickchart\" onclick=\"quickchart('df-869feb29-3a55-48ff-9655-3fae0a162e2b')\"\n",
              "            title=\"Suggest charts.\"\n",
              "            style=\"display:none;\">\n",
              "\n",
              "<svg xmlns=\"http://www.w3.org/2000/svg\" height=\"24px\"viewBox=\"0 0 24 24\"\n",
              "     width=\"24px\">\n",
              "    <g>\n",
              "        <path d=\"M19 3H5c-1.1 0-2 .9-2 2v14c0 1.1.9 2 2 2h14c1.1 0 2-.9 2-2V5c0-1.1-.9-2-2-2zM9 17H7v-7h2v7zm4 0h-2V7h2v10zm4 0h-2v-4h2v4z\"/>\n",
              "    </g>\n",
              "</svg>\n",
              "  </button>\n",
              "\n",
              "<style>\n",
              "  .colab-df-quickchart {\n",
              "      --bg-color: #E8F0FE;\n",
              "      --fill-color: #1967D2;\n",
              "      --hover-bg-color: #E2EBFA;\n",
              "      --hover-fill-color: #174EA6;\n",
              "      --disabled-fill-color: #AAA;\n",
              "      --disabled-bg-color: #DDD;\n",
              "  }\n",
              "\n",
              "  [theme=dark] .colab-df-quickchart {\n",
              "      --bg-color: #3B4455;\n",
              "      --fill-color: #D2E3FC;\n",
              "      --hover-bg-color: #434B5C;\n",
              "      --hover-fill-color: #FFFFFF;\n",
              "      --disabled-bg-color: #3B4455;\n",
              "      --disabled-fill-color: #666;\n",
              "  }\n",
              "\n",
              "  .colab-df-quickchart {\n",
              "    background-color: var(--bg-color);\n",
              "    border: none;\n",
              "    border-radius: 50%;\n",
              "    cursor: pointer;\n",
              "    display: none;\n",
              "    fill: var(--fill-color);\n",
              "    height: 32px;\n",
              "    padding: 0;\n",
              "    width: 32px;\n",
              "  }\n",
              "\n",
              "  .colab-df-quickchart:hover {\n",
              "    background-color: var(--hover-bg-color);\n",
              "    box-shadow: 0 1px 2px rgba(60, 64, 67, 0.3), 0 1px 3px 1px rgba(60, 64, 67, 0.15);\n",
              "    fill: var(--button-hover-fill-color);\n",
              "  }\n",
              "\n",
              "  .colab-df-quickchart-complete:disabled,\n",
              "  .colab-df-quickchart-complete:disabled:hover {\n",
              "    background-color: var(--disabled-bg-color);\n",
              "    fill: var(--disabled-fill-color);\n",
              "    box-shadow: none;\n",
              "  }\n",
              "\n",
              "  .colab-df-spinner {\n",
              "    border: 2px solid var(--fill-color);\n",
              "    border-color: transparent;\n",
              "    border-bottom-color: var(--fill-color);\n",
              "    animation:\n",
              "      spin 1s steps(1) infinite;\n",
              "  }\n",
              "\n",
              "  @keyframes spin {\n",
              "    0% {\n",
              "      border-color: transparent;\n",
              "      border-bottom-color: var(--fill-color);\n",
              "      border-left-color: var(--fill-color);\n",
              "    }\n",
              "    20% {\n",
              "      border-color: transparent;\n",
              "      border-left-color: var(--fill-color);\n",
              "      border-top-color: var(--fill-color);\n",
              "    }\n",
              "    30% {\n",
              "      border-color: transparent;\n",
              "      border-left-color: var(--fill-color);\n",
              "      border-top-color: var(--fill-color);\n",
              "      border-right-color: var(--fill-color);\n",
              "    }\n",
              "    40% {\n",
              "      border-color: transparent;\n",
              "      border-right-color: var(--fill-color);\n",
              "      border-top-color: var(--fill-color);\n",
              "    }\n",
              "    60% {\n",
              "      border-color: transparent;\n",
              "      border-right-color: var(--fill-color);\n",
              "    }\n",
              "    80% {\n",
              "      border-color: transparent;\n",
              "      border-right-color: var(--fill-color);\n",
              "      border-bottom-color: var(--fill-color);\n",
              "    }\n",
              "    90% {\n",
              "      border-color: transparent;\n",
              "      border-bottom-color: var(--fill-color);\n",
              "    }\n",
              "  }\n",
              "</style>\n",
              "\n",
              "  <script>\n",
              "    async function quickchart(key) {\n",
              "      const quickchartButtonEl =\n",
              "        document.querySelector('#' + key + ' button');\n",
              "      quickchartButtonEl.disabled = true;  // To prevent multiple clicks.\n",
              "      quickchartButtonEl.classList.add('colab-df-spinner');\n",
              "      try {\n",
              "        const charts = await google.colab.kernel.invokeFunction(\n",
              "            'suggestCharts', [key], {});\n",
              "      } catch (error) {\n",
              "        console.error('Error during call to suggestCharts:', error);\n",
              "      }\n",
              "      quickchartButtonEl.classList.remove('colab-df-spinner');\n",
              "      quickchartButtonEl.classList.add('colab-df-quickchart-complete');\n",
              "    }\n",
              "    (() => {\n",
              "      let quickchartButtonEl =\n",
              "        document.querySelector('#df-869feb29-3a55-48ff-9655-3fae0a162e2b button');\n",
              "      quickchartButtonEl.style.display =\n",
              "        google.colab.kernel.accessAllowed ? 'block' : 'none';\n",
              "    })();\n",
              "  </script>\n",
              "</div>\n",
              "    </div>\n",
              "  </div>\n"
            ]
          },
          "metadata": {},
          "execution_count": 20
        }
      ],
      "source": [
        "dataset.head()"
      ]
    },
    {
      "cell_type": "code",
      "execution_count": null,
      "metadata": {
        "id": "US1Usc-IOmiO",
        "colab": {
          "base_uri": "https://localhost:8080/"
        },
        "outputId": "d4dad212-4365-404f-997f-8bc3b4d5f4cf"
      },
      "outputs": [
        {
          "output_type": "execute_result",
          "data": {
            "text/plain": [
              "array([1, 0])"
            ]
          },
          "metadata": {},
          "execution_count": 21
        }
      ],
      "source": [
        "dataset[\"label\"].unique()\n"
      ]
    },
    {
      "cell_type": "markdown",
      "metadata": {
        "id": "UHDnb0IgKe8p"
      },
      "source": [
        "## Divisao Dataset"
      ]
    },
    {
      "cell_type": "code",
      "execution_count": null,
      "metadata": {
        "id": "fi6x0K8tKeOf"
      },
      "outputs": [],
      "source": [
        "train,test = train_test_split(dataset,test_size=0.2,random_state=42,stratify=dataset[\"label\"])"
      ]
    },
    {
      "cell_type": "code",
      "execution_count": null,
      "metadata": {
        "id": "F16C5M1OKvcd",
        "colab": {
          "base_uri": "https://localhost:8080/"
        },
        "outputId": "8c1fb28b-581b-429c-d3bc-82644ec0fe7a"
      },
      "outputs": [
        {
          "output_type": "stream",
          "name": "stdout",
          "text": [
            "(5760, 2) (1440, 2)\n"
          ]
        }
      ],
      "source": [
        "print(train.shape,test.shape)"
      ]
    },
    {
      "cell_type": "code",
      "source": [
        "test_df = test.copy()\n",
        "test_df.to_csv('/content/drive/MyDrive/Arquivos/Mestrado/Qualificação/amostras_de_teste.csv', index=False)"
      ],
      "metadata": {
        "id": "L5eyFw6lbOe0"
      },
      "execution_count": null,
      "outputs": []
    },
    {
      "cell_type": "markdown",
      "metadata": {
        "id": "VWxuBa1nLBUL"
      },
      "source": [
        "# Load Model"
      ]
    },
    {
      "cell_type": "code",
      "execution_count": null,
      "metadata": {
        "id": "ub3Tv0eLLb4t"
      },
      "outputs": [],
      "source": [
        "# tokenizer = AutoTokenizer.from_pretrained(MODEL_NAME)"
      ]
    },
    {
      "cell_type": "code",
      "execution_count": null,
      "metadata": {
        "id": "M1FQIwozlref",
        "colab": {
          "base_uri": "https://localhost:8080/",
          "height": 317,
          "referenced_widgets": [
            "698b895c7a2141c2824ffa0cefafed14",
            "f32b628d0e59484789872c1528a82dfc",
            "45b85673d4664f0dac244e0dc3a5f16c",
            "1ccbc7dbc0dd4b13ad80158b8f5d8d65",
            "b808ee28780e494e892692be94e2d460",
            "0ed8f97ac5ea471c85a4818c2e8d485b",
            "3e230bb8804b478dbb0a5db381a110f4",
            "e1f4596e2c5749239e73e0d19ce77a8a",
            "24c49a6437ef4a86b0ebc9e6466b4e03",
            "4cf50c4fa2104a25bb3aa201e554deb2",
            "96af457029664c82bb84942358042ec7",
            "d8db8d83e082453b85e3a9761bdedbd7",
            "41bd17da36c945328376b17693ed23ad",
            "28d0234abd2b4b7d913d5a0038dbbb1e",
            "c1dbf59793854c849ea1576f06cc3742",
            "05107bc8f03f4448bed57001312306ce",
            "82f44729c8ef4204af98c08c746dc669",
            "b3887265c523425c99cdbf4fad15dc78",
            "1dab7afe38b641ffa0fee97cb62c37d1",
            "d9e554957dde42e0bb47c012902cd318",
            "a00ef979f68c4d7d86f676ee6a908f5c",
            "99963cfd295648f1974b199614f57ad6",
            "7ab43057acab45f6b4386a84224e0b10",
            "7929e3b7833c45179b2ca4e7931369d7",
            "9e65d8e41a914778890c01bcfa7312bd",
            "72e7c6127640481c94c88fda1bf33c4b",
            "6d6b907e05d3455e85fbdc0695143aa7",
            "ab97ee68c5834909909149cb6c818d5d",
            "2883af2bf6c841009f3ba1af153fd506",
            "15420b66b1ce4824acf3d89694b1e798",
            "2f34d0a1a09942ecb29ed6ec6c925a60",
            "bccc5268d57e4cee9da39b72033a0437",
            "5b45010fbd2b4598b656d2bb206a71ba",
            "998585f364964013a5cb901c298b9a5c",
            "a7787fff74b741dc8e56c0eb0ecb6563",
            "3df40983180749568d055c12bf0eb914",
            "1298ba90e932422d8814145a1cbfe78a",
            "d9c358215e07414cad338e905fd1e522",
            "4301a9219c834a6b8a57e7f22e0eaddc",
            "01a9df9c40c64e83bf378d8b9e26617e",
            "0046f9d3fa4d48ac8ff66fbbe9d46fe9",
            "1159aada268f42d1bd6b9d437625d661",
            "25268e6f0d234453bc82766ce27bd5a3",
            "b7155a58fe17469788e9c7a33440f006",
            "524376e7f1ef4085be9b23a5ba76b810",
            "c9fd5291fb6749b0b4212d5bfe221d32",
            "9c08461295aa4abc818276009d6faacf",
            "df961e53227e4fb6ab08bda6c84b747c",
            "8432991882a942e3a11193d461876536",
            "23e34d9a425c4bc2a68cdd934aff311c",
            "b7a88fe56f244efd909478421cc1e57a",
            "40095581786d471798f4b32a57644ea4",
            "827b107752d54c16a0b0db4b056f76ae",
            "d503cb4959444e4b98bd483552c18126",
            "5b8197ae33e24494a6acc1eb2b63e89a"
          ]
        },
        "outputId": "f9abaf5e-366e-4c6b-e57f-100b86def5a9"
      },
      "outputs": [
        {
          "output_type": "display_data",
          "data": {
            "text/plain": [
              "Downloading (…)solve/main/vocab.txt:   0%|          | 0.00/210k [00:00<?, ?B/s]"
            ],
            "application/vnd.jupyter.widget-view+json": {
              "version_major": 2,
              "version_minor": 0,
              "model_id": "698b895c7a2141c2824ffa0cefafed14"
            }
          },
          "metadata": {}
        },
        {
          "output_type": "display_data",
          "data": {
            "text/plain": [
              "Downloading (…)in/added_tokens.json:   0%|          | 0.00/2.00 [00:00<?, ?B/s]"
            ],
            "application/vnd.jupyter.widget-view+json": {
              "version_major": 2,
              "version_minor": 0,
              "model_id": "d8db8d83e082453b85e3a9761bdedbd7"
            }
          },
          "metadata": {}
        },
        {
          "output_type": "display_data",
          "data": {
            "text/plain": [
              "Downloading (…)cial_tokens_map.json:   0%|          | 0.00/112 [00:00<?, ?B/s]"
            ],
            "application/vnd.jupyter.widget-view+json": {
              "version_major": 2,
              "version_minor": 0,
              "model_id": "7ab43057acab45f6b4386a84224e0b10"
            }
          },
          "metadata": {}
        },
        {
          "output_type": "display_data",
          "data": {
            "text/plain": [
              "Downloading (…)okenizer_config.json:   0%|          | 0.00/43.0 [00:00<?, ?B/s]"
            ],
            "application/vnd.jupyter.widget-view+json": {
              "version_major": 2,
              "version_minor": 0,
              "model_id": "998585f364964013a5cb901c298b9a5c"
            }
          },
          "metadata": {}
        },
        {
          "output_type": "display_data",
          "data": {
            "text/plain": [
              "Downloading (…)lve/main/config.json:   0%|          | 0.00/647 [00:00<?, ?B/s]"
            ],
            "application/vnd.jupyter.widget-view+json": {
              "version_major": 2,
              "version_minor": 0,
              "model_id": "524376e7f1ef4085be9b23a5ba76b810"
            }
          },
          "metadata": {}
        }
      ],
      "source": [
        "tokenizer = BertTokenizer.from_pretrained(MODEL_NAME)"
      ]
    },
    {
      "cell_type": "code",
      "execution_count": null,
      "metadata": {
        "id": "VTe8W_BhoHrt"
      },
      "outputs": [],
      "source": [
        "tr = train[\"content\"]\n"
      ]
    },
    {
      "cell_type": "code",
      "execution_count": null,
      "metadata": {
        "id": "o3Abpmt1oJEY",
        "colab": {
          "base_uri": "https://localhost:8080/",
          "height": 261
        },
        "outputId": "4a24dab4-46f4-43a8-e3b6-dc6d5a5390a7"
      },
      "outputs": [
        {
          "output_type": "execute_result",
          "data": {
            "text/plain": [
              "'Ex de Luiza Brunet é ouvido em audiência do caso no qual é acusado de agressão. Lírio Parisotto é acusado de duas lesões corporais contra a modelo: em 2015 e 2016. Outras duas testemunhas, que faltaram em audiência do ano passado, também prestaram depoimento no Fórum da Barra Funda..  O empresário Lírio Parisotto foi ouvido nesta segunda-feira (13) ao Fórum Criminal da Barra Funda, na Zona Oeste de São Paulo, em nova audiência do caso no qual ele é julgado pela acusação de agredir a ex-mulher, a atriz Luiza Brunet. Parisotto não quis falar com a imprensa. A segunda audiência de instrução durou cerca de duas horas. Além do empresário, prestaram depoimento um perito e uma mulher que presenciou uma viagem do casal para o exterior. O advogado de Parisotto, Celso Vilardi, comentou o depoimento do empresário: \"Ele tem uma versão só, nunca mentiu. Uma versão harmônica\", disse. Ele questiona as provas apresentadas pela acusação: \"Uma hora o atestado médico fala em fratura do dedo. Agora, a acusação juntou e-mail que fala em rompimento de tendão. A própria natureza da lesão vai modificando ao longo do tempo. O médico veio aqui hoje e disse que o atestado não tem o menor valor legal. Contraria todas as normas de medicinal legal e de processo.\" O advogado de Luiza Brunet, Pedro Egberto da Fonseca Neto, disse que as agressões estão comprovadas. “Não tem dúvidas das agressões nem de quem é o autor delas. Ele já tentou parar esse processo no Tribunal de Justiça de São Paulo. Não conseguiu porque está evidenciada a materialidade. Tentou no STJ em Brasília e não conseguiu.” “Não consegue explicar porque ela estava com olho roxo, costelas fraturadas, ele não consegue explicar. Então eles fazem o que fazem, jogo de cena, falam que ela que é violenta. Em 40 anos de vida pública, ela nunca teve um escândalo. Agora, do dia para a noite, virou o diabo\", disse. Sobre a agressão nos Estados Unidos, \"ele disse que ele a conteve. Mas quando perguntado sobre o olho roxo, ele disse que quem tem que explicar é ela\". No dia 29 de novembro de 2016, ocorreu a primeira audiência do caso. Naquela ocasião, Luiza Brunet foi ouvida em separado e disse que apanhou do então marido por duas vezes. Laudo e imagens de tomografia computadorizada, de junho de 2016, mostram que Luiza Brunet teve quatro costelas fraturadas. A atriz e modelo de 54 anos acusa o ex-companheiro, o empresário Lírio Parisotto, de 62, de quebrar suas costelas em 21 de maio de 2016 durante uma briga nos Estados Unidos. Segundo o laudo, foi constatada \"fratura sem desvio significativo, da porção ântero-lateral do 7o ao 10o arcos costais à direita, com formações de calos ósseos incipientes\". O laudo e as imagens das fraturas estão no processo, que é digitalizado. A divulgação do laudo com as imagens foi feita nesta semana pela revista Veja e, depois, o G1 também teve acesso ao documento . O caso que envolve as duas agressões está sob segredo judicial. Para o advogado de Parisotto, Celso Vilardi, o laudo da tomografia da coluna é questionável. \"Primeiro exame falou em nona vértebra. Depois um laudo falou em sétima, oitava, nona e décima vértebras. Então, nem os médicos particulares chegam a uma conclusão. Eu não conheço Essa tomografia não está juntada aos autos.\" O advogado de Luiza Brunet, Pedro Egberto da Fonseca Neto, rebate as críticas da defesa de Parisotto. \"O laudo já estava no processo desde o início. As imagens, o que aconteceu, é que elas foram devolvidas para a gente porque não tinha tecnologia para fazer a digitalização”, disse. Luiza ainda alega que Parisotto quebrou um dos seus dedos em 15 de dezembro de 2015 em outra discussão, desta vez em São Paulo. A defesa do empresário alega que ele tentou se defender da ex-mulher nas duas agressões de que é acusado. Como já prestou depoimento à juíza Elaine Cristina Monteiro Cavalcante, da Vara do Foro Central da Violência Doméstica e Familiar contra a Mulher, Luiza não precisou comparecer ao Fórum Criminal da Barra Funda, na Zona Oeste da capital paulista. O ex é acusado pela Promotoria de ter cometido dois crimes contra a modelo: de lesão corporal grave e leve. O empresário pode receber condenação de um ano e meio até oito anos de prisão, já que ele está sendo responsabilizado nos termos da Lei Maria da Penha, que endurece a pena. A ação penal em favor de Luiza não cobra indenização em dinheiro de Parisotto. “O Ministério Público pede apenas a punição dele [do empresário]\", falou o promotor. Na primeira audiência, outras três pessoas teriam sido ouvidas: uma testemunha de acusação (amiga da modelo) e três de defesa (ligadas a Parisotto). O advogado do empresário, Celso Vilardi, criticou em 2016 o Ministério Público por ter denunciado seu cliente por agressão contra Luiza. Ele também apontou haver contradições na versão da modelo. \"Nós já tínhamos feito uma juntada de WhastApp, texto de e-mails. Nós já tínhamos uma prova absolutamente consistente no sentido de que ela confessa que bate nele. Ela fala isso nos e-mails, os amigos falam isso nos e-mails. E, efetivamente, nós apontamos diversas contradições. As fotos que ela publicou não condizem com as daquela semana em que ela trabalhou numa novela\", disse Vilardi sobre a personagem Madá, que fez em Velho Chico, da TV Globo. A defesa de Lírio Parisotto também anexou ao processo uma troca de mensagens antigas, de período anterior às agressões, entre o empresário e a filha de Luiza Brunet, a também modelo Yasmin. Nas mensagens, a jovem teria pedido que os dois fizessem as pazes e falado que a mãe sofre com problemas psicológicos. De acordo com a acusação, o primeiro crime, de \"lesão corporal grave\", ocorreu no dia 15 de dezembro do ano passado, no apartamento do empresário em São Paulo, quando o então casal discutiu e ele quebrou um dos dedos da mão da atriz – de acordo com laudo indireto feito pelo Instituto Médico Legal (IML) a partir da radiografia que a vítima tirou à época. O segundo crime, de \"lesão corporal leve\", foi em 21 de maio de 2016, em outro apartamento do então marido, em Nova Iorque, nos Estados Unidos, segundo Luiza. No dia 29 de junho, ela procurou a Promotoria em São Paulo, cidade onde Parisotto mora, e contou que ele deu um soco no olho dela, a chutou e quebrou quatro de suas costelas – conforme constatou posteriormente laudo pericial. Em depoimento ao Ministério Público Estadual, no dia 14 de julho do ano passado, Parisotto alegou que agiu em legítima defesa para se defender de Luiza. Ele não falou com a imprensa. Luiza e Parisotto tiveram uma união estável por cinco anos, uma relação de términos e voltas. Dessa vez, os dois estão definitivamente separados. Luiza havia anexado ao processo mais de 20 fotos das lesões que alegou ter sofrido do então marido. Numa delas, que foi obtida e divulgada pelo Fantástico, ela aparece com o olho direito inchado. Em 25 de maio de 2016, a atriz havia divulgado uma foto em sua página no Facebook, quatro dias após o incidente, com parte do rosto coberto pelos cabelos e uma frase: \"A maquiagem forte esconde o hematoma da alma\". Luiza é embaixadora do Instituto Avon, que faz campanha contra a violência doméstica. Por conta da queixa de violência doméstica que a atriz prestou ao MPE contra o ex-marido, a Justiça decretou medidas de proteção para Luiza. O empresário está proibido de se aproximar e manter contato com ela.'"
            ],
            "application/vnd.google.colaboratory.intrinsic+json": {
              "type": "string"
            }
          },
          "metadata": {},
          "execution_count": 28
        }
      ],
      "source": [
        "tr[0]"
      ]
    },
    {
      "cell_type": "code",
      "execution_count": null,
      "metadata": {
        "id": "ZruDM5A2n_Bd"
      },
      "outputs": [],
      "source": [
        "# encoded_input = tokenizer.encode_plus(text=tr[0], max_length=MAX_LEN, truncation=True, return_tensors='tf')\n"
      ]
    },
    {
      "cell_type": "code",
      "execution_count": null,
      "metadata": {
        "id": "gLigewSnoPqZ"
      },
      "outputs": [],
      "source": [
        "# encoded_input"
      ]
    },
    {
      "cell_type": "markdown",
      "metadata": {
        "id": "feHeIvwlLjsj"
      },
      "source": [
        "# Tratamento das entradas"
      ]
    },
    {
      "cell_type": "code",
      "execution_count": null,
      "metadata": {
        "id": "kmcW1BdELmqq"
      },
      "outputs": [],
      "source": [
        "# def get_masks(text, max_length):\n",
        "#     \"\"\"Mask for padding\"\"\"\n",
        "#     tokens = tokenizer.tokenize(text)\n",
        "#     length = len(tokens)\n",
        "#     if length > max_length:\n",
        "#       tokens = tokens[:max_length]\n",
        "#     tokens = [\"[CLS]\"] + tokens + [\"[SEP]\"]\n",
        "\n",
        "\n",
        "#     return np.asarray([1]*len(tokens) + [0] * (max_length - len(tokens)))\n"
      ]
    },
    {
      "cell_type": "code",
      "execution_count": null,
      "metadata": {
        "id": "VWVXCYFULpcj"
      },
      "outputs": [],
      "source": [
        "# vec_get_masks = np.vectorize(get_masks, signature = '(),()->(n)')"
      ]
    },
    {
      "cell_type": "code",
      "execution_count": null,
      "metadata": {
        "id": "3k2zkwyGLu2a"
      },
      "outputs": [],
      "source": [
        "# def get_segments(text, max_length):\n",
        "#     \"\"\"Segments: 0 for the first sequence, 1 for the second\"\"\"\n",
        "#     tokens = tokenizer.tokenize(text)\n",
        "#     length = len(tokens)\n",
        "#     if length > max_length:\n",
        "#         tokens = tokens[:max_length]\n",
        "#     tokens = [\"[CLS]\"] + tokens + [\"[SEP]\"]\n",
        "\n",
        "#     segments = []\n",
        "#     current_segment_id = 0\n",
        "#     with_tags = [\"[CLS]\"] + tokens + [\"[SEP]\"]\n",
        "#     token_ids = tokenizer.convert_tokens_to_ids(tokens)\n",
        "\n",
        "#     for token in tokens:\n",
        "#         segments.append(current_segment_id)\n",
        "#         if token == \"[SEP]\":\n",
        "#             current_segment_id = 1\n",
        "#     return np.asarray(segments + [0] * (max_length - len(tokens)))"
      ]
    },
    {
      "cell_type": "code",
      "execution_count": null,
      "metadata": {
        "id": "a1iR4n98L0l1"
      },
      "outputs": [],
      "source": [
        "# vec_get_segments = np.vectorize(get_segments, signature = '(),()->(n)')\n"
      ]
    },
    {
      "cell_type": "code",
      "execution_count": null,
      "metadata": {
        "id": "nQBtu0bpL14t"
      },
      "outputs": [],
      "source": [
        "# def get_ids(text, tokenizer, max_length):\n",
        "#     \"\"\"Token ids from Tokenizer vocab\"\"\"\n",
        "#     tokens = tokenizer.tokenize(text)\n",
        "#     length = len(tokens)\n",
        "#     if length > max_length:\n",
        "#       tokens = tokens[:max_length]\n",
        "#     tokens = [\"[CLS]\"] + tokens + [\"[SEP]\"]\n",
        "\n",
        "\n",
        "#     token_ids = tokenizer.convert_tokens_to_ids(tokens)\n",
        "#     input_ids = np.asarray(token_ids + [0] * (max_length - len(tokens)))\n",
        "#     return input_ids"
      ]
    },
    {
      "cell_type": "code",
      "execution_count": null,
      "metadata": {
        "id": "U8-BR-C_L26o"
      },
      "outputs": [],
      "source": [
        "# vec_get_ids = np.vectorize(get_ids, signature = '(),(),()->(n)')\n"
      ]
    },
    {
      "cell_type": "code",
      "execution_count": null,
      "metadata": {
        "id": "qFUiu9mSpfOi"
      },
      "outputs": [],
      "source": []
    },
    {
      "cell_type": "code",
      "execution_count": null,
      "metadata": {
        "id": "IqCOo5TaL4go"
      },
      "outputs": [],
      "source": [
        "# def prepare(text_array, tokenizer, max_length = 200):\n",
        "\n",
        "#     ids = vec_get_ids(text_array,\n",
        "#                       tokenizer,\n",
        "#                       max_length).squeeze()\n",
        "#     masks = vec_get_masks(text_array,\n",
        "#                       max_length).squeeze()\n",
        "#     segments = vec_get_segments(text_array,\n",
        "#                       max_length).squeeze()\n",
        "\n",
        "#     return ids, segments, masks"
      ]
    },
    {
      "cell_type": "code",
      "execution_count": null,
      "metadata": {
        "id": "IY_JBFavMAS7",
        "colab": {
          "base_uri": "https://localhost:8080/",
          "height": 206
        },
        "outputId": "bafa1e2e-aa03-4e35-9f5d-7fb6b91d6084"
      },
      "outputs": [
        {
          "output_type": "execute_result",
          "data": {
            "text/plain": [
              "                                                content  label\n",
              "4264  Marqueteiro do PT está inquieto na cadeia. Ele...      0\n",
              "3482  População busca fósseis de dinossauros em Nova...      1\n",
              "4757  CHEGA! Vitória de Trump serve de aviso para a ...      0\n",
              "1942  Tribunal nega liberdade para ex-gerente de Eng...      1\n",
              "327   Chuva recorde no Rio causa 4 mortes e deixa es...      1"
            ],
            "text/html": [
              "\n",
              "  <div id=\"df-a99b84a9-e581-4193-bc60-de1bb94505d7\" class=\"colab-df-container\">\n",
              "    <div>\n",
              "<style scoped>\n",
              "    .dataframe tbody tr th:only-of-type {\n",
              "        vertical-align: middle;\n",
              "    }\n",
              "\n",
              "    .dataframe tbody tr th {\n",
              "        vertical-align: top;\n",
              "    }\n",
              "\n",
              "    .dataframe thead th {\n",
              "        text-align: right;\n",
              "    }\n",
              "</style>\n",
              "<table border=\"1\" class=\"dataframe\">\n",
              "  <thead>\n",
              "    <tr style=\"text-align: right;\">\n",
              "      <th></th>\n",
              "      <th>content</th>\n",
              "      <th>label</th>\n",
              "    </tr>\n",
              "  </thead>\n",
              "  <tbody>\n",
              "    <tr>\n",
              "      <th>4264</th>\n",
              "      <td>Marqueteiro do PT está inquieto na cadeia. Ele...</td>\n",
              "      <td>0</td>\n",
              "    </tr>\n",
              "    <tr>\n",
              "      <th>3482</th>\n",
              "      <td>População busca fósseis de dinossauros em Nova...</td>\n",
              "      <td>1</td>\n",
              "    </tr>\n",
              "    <tr>\n",
              "      <th>4757</th>\n",
              "      <td>CHEGA! Vitória de Trump serve de aviso para a ...</td>\n",
              "      <td>0</td>\n",
              "    </tr>\n",
              "    <tr>\n",
              "      <th>1942</th>\n",
              "      <td>Tribunal nega liberdade para ex-gerente de Eng...</td>\n",
              "      <td>1</td>\n",
              "    </tr>\n",
              "    <tr>\n",
              "      <th>327</th>\n",
              "      <td>Chuva recorde no Rio causa 4 mortes e deixa es...</td>\n",
              "      <td>1</td>\n",
              "    </tr>\n",
              "  </tbody>\n",
              "</table>\n",
              "</div>\n",
              "    <div class=\"colab-df-buttons\">\n",
              "\n",
              "  <div class=\"colab-df-container\">\n",
              "    <button class=\"colab-df-convert\" onclick=\"convertToInteractive('df-a99b84a9-e581-4193-bc60-de1bb94505d7')\"\n",
              "            title=\"Convert this dataframe to an interactive table.\"\n",
              "            style=\"display:none;\">\n",
              "\n",
              "  <svg xmlns=\"http://www.w3.org/2000/svg\" height=\"24px\" viewBox=\"0 -960 960 960\">\n",
              "    <path d=\"M120-120v-720h720v720H120Zm60-500h600v-160H180v160Zm220 220h160v-160H400v160Zm0 220h160v-160H400v160ZM180-400h160v-160H180v160Zm440 0h160v-160H620v160ZM180-180h160v-160H180v160Zm440 0h160v-160H620v160Z\"/>\n",
              "  </svg>\n",
              "    </button>\n",
              "\n",
              "  <style>\n",
              "    .colab-df-container {\n",
              "      display:flex;\n",
              "      gap: 12px;\n",
              "    }\n",
              "\n",
              "    .colab-df-convert {\n",
              "      background-color: #E8F0FE;\n",
              "      border: none;\n",
              "      border-radius: 50%;\n",
              "      cursor: pointer;\n",
              "      display: none;\n",
              "      fill: #1967D2;\n",
              "      height: 32px;\n",
              "      padding: 0 0 0 0;\n",
              "      width: 32px;\n",
              "    }\n",
              "\n",
              "    .colab-df-convert:hover {\n",
              "      background-color: #E2EBFA;\n",
              "      box-shadow: 0px 1px 2px rgba(60, 64, 67, 0.3), 0px 1px 3px 1px rgba(60, 64, 67, 0.15);\n",
              "      fill: #174EA6;\n",
              "    }\n",
              "\n",
              "    .colab-df-buttons div {\n",
              "      margin-bottom: 4px;\n",
              "    }\n",
              "\n",
              "    [theme=dark] .colab-df-convert {\n",
              "      background-color: #3B4455;\n",
              "      fill: #D2E3FC;\n",
              "    }\n",
              "\n",
              "    [theme=dark] .colab-df-convert:hover {\n",
              "      background-color: #434B5C;\n",
              "      box-shadow: 0px 1px 3px 1px rgba(0, 0, 0, 0.15);\n",
              "      filter: drop-shadow(0px 1px 2px rgba(0, 0, 0, 0.3));\n",
              "      fill: #FFFFFF;\n",
              "    }\n",
              "  </style>\n",
              "\n",
              "    <script>\n",
              "      const buttonEl =\n",
              "        document.querySelector('#df-a99b84a9-e581-4193-bc60-de1bb94505d7 button.colab-df-convert');\n",
              "      buttonEl.style.display =\n",
              "        google.colab.kernel.accessAllowed ? 'block' : 'none';\n",
              "\n",
              "      async function convertToInteractive(key) {\n",
              "        const element = document.querySelector('#df-a99b84a9-e581-4193-bc60-de1bb94505d7');\n",
              "        const dataTable =\n",
              "          await google.colab.kernel.invokeFunction('convertToInteractive',\n",
              "                                                    [key], {});\n",
              "        if (!dataTable) return;\n",
              "\n",
              "        const docLinkHtml = 'Like what you see? Visit the ' +\n",
              "          '<a target=\"_blank\" href=https://colab.research.google.com/notebooks/data_table.ipynb>data table notebook</a>'\n",
              "          + ' to learn more about interactive tables.';\n",
              "        element.innerHTML = '';\n",
              "        dataTable['output_type'] = 'display_data';\n",
              "        await google.colab.output.renderOutput(dataTable, element);\n",
              "        const docLink = document.createElement('div');\n",
              "        docLink.innerHTML = docLinkHtml;\n",
              "        element.appendChild(docLink);\n",
              "      }\n",
              "    </script>\n",
              "  </div>\n",
              "\n",
              "\n",
              "<div id=\"df-847af7be-505e-4e9a-9b82-1b0a8520c301\">\n",
              "  <button class=\"colab-df-quickchart\" onclick=\"quickchart('df-847af7be-505e-4e9a-9b82-1b0a8520c301')\"\n",
              "            title=\"Suggest charts.\"\n",
              "            style=\"display:none;\">\n",
              "\n",
              "<svg xmlns=\"http://www.w3.org/2000/svg\" height=\"24px\"viewBox=\"0 0 24 24\"\n",
              "     width=\"24px\">\n",
              "    <g>\n",
              "        <path d=\"M19 3H5c-1.1 0-2 .9-2 2v14c0 1.1.9 2 2 2h14c1.1 0 2-.9 2-2V5c0-1.1-.9-2-2-2zM9 17H7v-7h2v7zm4 0h-2V7h2v10zm4 0h-2v-4h2v4z\"/>\n",
              "    </g>\n",
              "</svg>\n",
              "  </button>\n",
              "\n",
              "<style>\n",
              "  .colab-df-quickchart {\n",
              "      --bg-color: #E8F0FE;\n",
              "      --fill-color: #1967D2;\n",
              "      --hover-bg-color: #E2EBFA;\n",
              "      --hover-fill-color: #174EA6;\n",
              "      --disabled-fill-color: #AAA;\n",
              "      --disabled-bg-color: #DDD;\n",
              "  }\n",
              "\n",
              "  [theme=dark] .colab-df-quickchart {\n",
              "      --bg-color: #3B4455;\n",
              "      --fill-color: #D2E3FC;\n",
              "      --hover-bg-color: #434B5C;\n",
              "      --hover-fill-color: #FFFFFF;\n",
              "      --disabled-bg-color: #3B4455;\n",
              "      --disabled-fill-color: #666;\n",
              "  }\n",
              "\n",
              "  .colab-df-quickchart {\n",
              "    background-color: var(--bg-color);\n",
              "    border: none;\n",
              "    border-radius: 50%;\n",
              "    cursor: pointer;\n",
              "    display: none;\n",
              "    fill: var(--fill-color);\n",
              "    height: 32px;\n",
              "    padding: 0;\n",
              "    width: 32px;\n",
              "  }\n",
              "\n",
              "  .colab-df-quickchart:hover {\n",
              "    background-color: var(--hover-bg-color);\n",
              "    box-shadow: 0 1px 2px rgba(60, 64, 67, 0.3), 0 1px 3px 1px rgba(60, 64, 67, 0.15);\n",
              "    fill: var(--button-hover-fill-color);\n",
              "  }\n",
              "\n",
              "  .colab-df-quickchart-complete:disabled,\n",
              "  .colab-df-quickchart-complete:disabled:hover {\n",
              "    background-color: var(--disabled-bg-color);\n",
              "    fill: var(--disabled-fill-color);\n",
              "    box-shadow: none;\n",
              "  }\n",
              "\n",
              "  .colab-df-spinner {\n",
              "    border: 2px solid var(--fill-color);\n",
              "    border-color: transparent;\n",
              "    border-bottom-color: var(--fill-color);\n",
              "    animation:\n",
              "      spin 1s steps(1) infinite;\n",
              "  }\n",
              "\n",
              "  @keyframes spin {\n",
              "    0% {\n",
              "      border-color: transparent;\n",
              "      border-bottom-color: var(--fill-color);\n",
              "      border-left-color: var(--fill-color);\n",
              "    }\n",
              "    20% {\n",
              "      border-color: transparent;\n",
              "      border-left-color: var(--fill-color);\n",
              "      border-top-color: var(--fill-color);\n",
              "    }\n",
              "    30% {\n",
              "      border-color: transparent;\n",
              "      border-left-color: var(--fill-color);\n",
              "      border-top-color: var(--fill-color);\n",
              "      border-right-color: var(--fill-color);\n",
              "    }\n",
              "    40% {\n",
              "      border-color: transparent;\n",
              "      border-right-color: var(--fill-color);\n",
              "      border-top-color: var(--fill-color);\n",
              "    }\n",
              "    60% {\n",
              "      border-color: transparent;\n",
              "      border-right-color: var(--fill-color);\n",
              "    }\n",
              "    80% {\n",
              "      border-color: transparent;\n",
              "      border-right-color: var(--fill-color);\n",
              "      border-bottom-color: var(--fill-color);\n",
              "    }\n",
              "    90% {\n",
              "      border-color: transparent;\n",
              "      border-bottom-color: var(--fill-color);\n",
              "    }\n",
              "  }\n",
              "</style>\n",
              "\n",
              "  <script>\n",
              "    async function quickchart(key) {\n",
              "      const quickchartButtonEl =\n",
              "        document.querySelector('#' + key + ' button');\n",
              "      quickchartButtonEl.disabled = true;  // To prevent multiple clicks.\n",
              "      quickchartButtonEl.classList.add('colab-df-spinner');\n",
              "      try {\n",
              "        const charts = await google.colab.kernel.invokeFunction(\n",
              "            'suggestCharts', [key], {});\n",
              "      } catch (error) {\n",
              "        console.error('Error during call to suggestCharts:', error);\n",
              "      }\n",
              "      quickchartButtonEl.classList.remove('colab-df-spinner');\n",
              "      quickchartButtonEl.classList.add('colab-df-quickchart-complete');\n",
              "    }\n",
              "    (() => {\n",
              "      let quickchartButtonEl =\n",
              "        document.querySelector('#df-847af7be-505e-4e9a-9b82-1b0a8520c301 button');\n",
              "      quickchartButtonEl.style.display =\n",
              "        google.colab.kernel.accessAllowed ? 'block' : 'none';\n",
              "    })();\n",
              "  </script>\n",
              "</div>\n",
              "    </div>\n",
              "  </div>\n"
            ]
          },
          "metadata": {},
          "execution_count": 38
        }
      ],
      "source": [
        "train.head()"
      ]
    },
    {
      "cell_type": "code",
      "execution_count": null,
      "metadata": {
        "id": "ww2cmMb4B3vf",
        "colab": {
          "base_uri": "https://localhost:8080/",
          "height": 261
        },
        "outputId": "0baf4c8d-f869-42ee-9ddb-e042788b67cd"
      },
      "outputs": [
        {
          "output_type": "execute_result",
          "data": {
            "text/plain": [
              "'Ex de Luiza Brunet é ouvido em audiência do caso no qual é acusado de agressão. Lírio Parisotto é acusado de duas lesões corporais contra a modelo: em 2015 e 2016. Outras duas testemunhas, que faltaram em audiência do ano passado, também prestaram depoimento no Fórum da Barra Funda..  O empresário Lírio Parisotto foi ouvido nesta segunda-feira (13) ao Fórum Criminal da Barra Funda, na Zona Oeste de São Paulo, em nova audiência do caso no qual ele é julgado pela acusação de agredir a ex-mulher, a atriz Luiza Brunet. Parisotto não quis falar com a imprensa. A segunda audiência de instrução durou cerca de duas horas. Além do empresário, prestaram depoimento um perito e uma mulher que presenciou uma viagem do casal para o exterior. O advogado de Parisotto, Celso Vilardi, comentou o depoimento do empresário: \"Ele tem uma versão só, nunca mentiu. Uma versão harmônica\", disse. Ele questiona as provas apresentadas pela acusação: \"Uma hora o atestado médico fala em fratura do dedo. Agora, a acusação juntou e-mail que fala em rompimento de tendão. A própria natureza da lesão vai modificando ao longo do tempo. O médico veio aqui hoje e disse que o atestado não tem o menor valor legal. Contraria todas as normas de medicinal legal e de processo.\" O advogado de Luiza Brunet, Pedro Egberto da Fonseca Neto, disse que as agressões estão comprovadas. “Não tem dúvidas das agressões nem de quem é o autor delas. Ele já tentou parar esse processo no Tribunal de Justiça de São Paulo. Não conseguiu porque está evidenciada a materialidade. Tentou no STJ em Brasília e não conseguiu.” “Não consegue explicar porque ela estava com olho roxo, costelas fraturadas, ele não consegue explicar. Então eles fazem o que fazem, jogo de cena, falam que ela que é violenta. Em 40 anos de vida pública, ela nunca teve um escândalo. Agora, do dia para a noite, virou o diabo\", disse. Sobre a agressão nos Estados Unidos, \"ele disse que ele a conteve. Mas quando perguntado sobre o olho roxo, ele disse que quem tem que explicar é ela\". No dia 29 de novembro de 2016, ocorreu a primeira audiência do caso. Naquela ocasião, Luiza Brunet foi ouvida em separado e disse que apanhou do então marido por duas vezes. Laudo e imagens de tomografia computadorizada, de junho de 2016, mostram que Luiza Brunet teve quatro costelas fraturadas. A atriz e modelo de 54 anos acusa o ex-companheiro, o empresário Lírio Parisotto, de 62, de quebrar suas costelas em 21 de maio de 2016 durante uma briga nos Estados Unidos. Segundo o laudo, foi constatada \"fratura sem desvio significativo, da porção ântero-lateral do 7o ao 10o arcos costais à direita, com formações de calos ósseos incipientes\". O laudo e as imagens das fraturas estão no processo, que é digitalizado. A divulgação do laudo com as imagens foi feita nesta semana pela revista Veja e, depois, o G1 também teve acesso ao documento . O caso que envolve as duas agressões está sob segredo judicial. Para o advogado de Parisotto, Celso Vilardi, o laudo da tomografia da coluna é questionável. \"Primeiro exame falou em nona vértebra. Depois um laudo falou em sétima, oitava, nona e décima vértebras. Então, nem os médicos particulares chegam a uma conclusão. Eu não conheço Essa tomografia não está juntada aos autos.\" O advogado de Luiza Brunet, Pedro Egberto da Fonseca Neto, rebate as críticas da defesa de Parisotto. \"O laudo já estava no processo desde o início. As imagens, o que aconteceu, é que elas foram devolvidas para a gente porque não tinha tecnologia para fazer a digitalização”, disse. Luiza ainda alega que Parisotto quebrou um dos seus dedos em 15 de dezembro de 2015 em outra discussão, desta vez em São Paulo. A defesa do empresário alega que ele tentou se defender da ex-mulher nas duas agressões de que é acusado. Como já prestou depoimento à juíza Elaine Cristina Monteiro Cavalcante, da Vara do Foro Central da Violência Doméstica e Familiar contra a Mulher, Luiza não precisou comparecer ao Fórum Criminal da Barra Funda, na Zona Oeste da capital paulista. O ex é acusado pela Promotoria de ter cometido dois crimes contra a modelo: de lesão corporal grave e leve. O empresário pode receber condenação de um ano e meio até oito anos de prisão, já que ele está sendo responsabilizado nos termos da Lei Maria da Penha, que endurece a pena. A ação penal em favor de Luiza não cobra indenização em dinheiro de Parisotto. “O Ministério Público pede apenas a punição dele [do empresário]\", falou o promotor. Na primeira audiência, outras três pessoas teriam sido ouvidas: uma testemunha de acusação (amiga da modelo) e três de defesa (ligadas a Parisotto). O advogado do empresário, Celso Vilardi, criticou em 2016 o Ministério Público por ter denunciado seu cliente por agressão contra Luiza. Ele também apontou haver contradições na versão da modelo. \"Nós já tínhamos feito uma juntada de WhastApp, texto de e-mails. Nós já tínhamos uma prova absolutamente consistente no sentido de que ela confessa que bate nele. Ela fala isso nos e-mails, os amigos falam isso nos e-mails. E, efetivamente, nós apontamos diversas contradições. As fotos que ela publicou não condizem com as daquela semana em que ela trabalhou numa novela\", disse Vilardi sobre a personagem Madá, que fez em Velho Chico, da TV Globo. A defesa de Lírio Parisotto também anexou ao processo uma troca de mensagens antigas, de período anterior às agressões, entre o empresário e a filha de Luiza Brunet, a também modelo Yasmin. Nas mensagens, a jovem teria pedido que os dois fizessem as pazes e falado que a mãe sofre com problemas psicológicos. De acordo com a acusação, o primeiro crime, de \"lesão corporal grave\", ocorreu no dia 15 de dezembro do ano passado, no apartamento do empresário em São Paulo, quando o então casal discutiu e ele quebrou um dos dedos da mão da atriz – de acordo com laudo indireto feito pelo Instituto Médico Legal (IML) a partir da radiografia que a vítima tirou à época. O segundo crime, de \"lesão corporal leve\", foi em 21 de maio de 2016, em outro apartamento do então marido, em Nova Iorque, nos Estados Unidos, segundo Luiza. No dia 29 de junho, ela procurou a Promotoria em São Paulo, cidade onde Parisotto mora, e contou que ele deu um soco no olho dela, a chutou e quebrou quatro de suas costelas – conforme constatou posteriormente laudo pericial. Em depoimento ao Ministério Público Estadual, no dia 14 de julho do ano passado, Parisotto alegou que agiu em legítima defesa para se defender de Luiza. Ele não falou com a imprensa. Luiza e Parisotto tiveram uma união estável por cinco anos, uma relação de términos e voltas. Dessa vez, os dois estão definitivamente separados. Luiza havia anexado ao processo mais de 20 fotos das lesões que alegou ter sofrido do então marido. Numa delas, que foi obtida e divulgada pelo Fantástico, ela aparece com o olho direito inchado. Em 25 de maio de 2016, a atriz havia divulgado uma foto em sua página no Facebook, quatro dias após o incidente, com parte do rosto coberto pelos cabelos e uma frase: \"A maquiagem forte esconde o hematoma da alma\". Luiza é embaixadora do Instituto Avon, que faz campanha contra a violência doméstica. Por conta da queixa de violência doméstica que a atriz prestou ao MPE contra o ex-marido, a Justiça decretou medidas de proteção para Luiza. O empresário está proibido de se aproximar e manter contato com ela.'"
            ],
            "application/vnd.google.colaboratory.intrinsic+json": {
              "type": "string"
            }
          },
          "metadata": {},
          "execution_count": 39
        }
      ],
      "source": [
        "train[\"content\"][0]"
      ]
    },
    {
      "cell_type": "code",
      "execution_count": null,
      "metadata": {
        "id": "MDFEhGnLL-zg"
      },
      "outputs": [],
      "source": [
        "tr = train[\"content\"]\n",
        "te = test[\"content\"]"
      ]
    },
    {
      "cell_type": "code",
      "execution_count": null,
      "metadata": {
        "id": "65fEjP1_fOQq"
      },
      "outputs": [],
      "source": [
        "# MAX_LEN=15000"
      ]
    },
    {
      "cell_type": "code",
      "execution_count": null,
      "metadata": {
        "id": "WlKR66Axpu9E"
      },
      "outputs": [],
      "source": [
        "encoded_samples_train = tokenizer.batch_encode_plus(\n",
        "    tr,\n",
        "    add_special_tokens=True,  # Adicione tokens especiais como [CLS], [SEP]\n",
        "    max_length=MAX_LEN,           # Defina o comprimento máximo desejado\n",
        "    padding=\"max_length\",     # Preencha/trunce para o comprimento máximo\n",
        "    truncation=True,          # Truncar a sequência se exceder o comprimento máximo\n",
        "    return_tensors=\"tf\"       # Retorne tensores do PyTorch\n",
        ")"
      ]
    },
    {
      "cell_type": "code",
      "execution_count": null,
      "metadata": {
        "id": "OEtdAKacwXHa"
      },
      "outputs": [],
      "source": [
        "encoded_samples_test = tokenizer.batch_encode_plus(\n",
        "    te,\n",
        "    add_special_tokens=True,  # Adicione tokens especiais como [CLS], [SEP]\n",
        "    max_length=MAX_LEN,           # Defina o comprimento máximo desejado\n",
        "    padding=\"max_length\",     # Preencha/trunce para o comprimento máximo\n",
        "    truncation=True,          # Truncar a sequência se exceder o comprimento máximo\n",
        "    return_tensors=\"tf\"       # Retorne tensores do PyTorch\n",
        ")"
      ]
    },
    {
      "cell_type": "code",
      "execution_count": null,
      "metadata": {
        "id": "WbBZAyRF-GLu"
      },
      "outputs": [],
      "source": [
        "# encoded_samples = []\n"
      ]
    },
    {
      "cell_type": "code",
      "execution_count": null,
      "metadata": {
        "id": "WYMbLtpW9-xD"
      },
      "outputs": [],
      "source": [
        "# for sample in tr:\n",
        "#     encoded_sample = tokenizer.encode_plus(\n",
        "#         sample,\n",
        "#         add_special_tokens=True,  # Adicione tokens especiais como [CLS], [SEP]\n",
        "#         max_length=MAX_LEN,           # Defina o comprimento máximo desejado\n",
        "#         padding=\"max_length\",     # Preencha/trunque para o comprimento máximo\n",
        "#         truncation=True,          # Truncar a sequência se exceder o comprimento máximo\n",
        "#         return_tensors=\"tf\"       # Retorne tensores do PyTorch\n",
        "#     )\n",
        "#     encoded_samples.append(encoded_sample)"
      ]
    },
    {
      "cell_type": "code",
      "execution_count": null,
      "metadata": {
        "id": "vLigdxH1MJ-t"
      },
      "outputs": [],
      "source": [
        "# ids_train, segments_train, masks_train = prepare(tr,\n",
        "#                                                  tokenizer, MAX_LEN)\n",
        "# ids_test, segments_test, masks_test = prepare(te,\n",
        "#                                                tokenizer, MAX_LEN)"
      ]
    },
    {
      "cell_type": "code",
      "execution_count": null,
      "metadata": {
        "id": "E1QYrekPVj6J"
      },
      "outputs": [],
      "source": [
        "    # ValueError: Input 0 of layer \"model_3\" is incompatible with the layer: expected shape=(None, 46074), found shape=(24, 46096)"
      ]
    },
    {
      "cell_type": "code",
      "execution_count": null,
      "metadata": {
        "id": "YPdiUbGcThGg"
      },
      "outputs": [],
      "source": [
        "# max_id_length = max([len(ids) for ids in ids_train])\n",
        "# print(\"Tamanho máximo de ids_train:\", max_id_length)"
      ]
    },
    {
      "cell_type": "code",
      "execution_count": null,
      "metadata": {
        "id": "pxb50kc6WRSJ"
      },
      "outputs": [],
      "source": [
        "# max_id_length = max([len(ids) for ids in masks_train])\n",
        "# print(\"Tamanho máximo de ids_train:\", max_id_length)"
      ]
    },
    {
      "cell_type": "markdown",
      "metadata": {
        "id": "CpjtIwYbMYWI"
      },
      "source": [
        "Token indices sequence length is longer than the specified maximum sequence length for this model (914 > 512). Running this sequence through the model will result in indexing errors"
      ]
    },
    {
      "cell_type": "markdown",
      "metadata": {
        "id": "yF1SRMhyMb3I"
      },
      "source": [
        "# Criacao do Modelo"
      ]
    },
    {
      "cell_type": "code",
      "execution_count": null,
      "metadata": {
        "id": "OS1fV2QiMSRZ",
        "colab": {
          "base_uri": "https://localhost:8080/",
          "height": 166,
          "referenced_widgets": [
            "c35a3ecf0a1d4c678cb57dc325851cc1",
            "1b8700b55e334f9faf87109ed7668b5f",
            "9625050a5034498f8418757ab9b436c0",
            "58556268ecbf441b9340cb01d40fe6ac",
            "c2c9931f7faa4ddbb433bdb03a48dda2",
            "ec8825ab0a6c4e80a41f14914208d798",
            "1f5dc2040b64453289aff3d5ed4774d5",
            "23393e64e6034536821beaaa4d2b9165",
            "5b3c4f9f361b4e9e8750682b54b75c4f",
            "ae2a49eb6dcf43179173e8e63d3a1ed5",
            "163aa0e6cea4411ab1a31fa81c2e584b"
          ]
        },
        "outputId": "61beec74-f12a-4fde-fd2d-99ac2a1219dd"
      },
      "outputs": [
        {
          "output_type": "display_data",
          "data": {
            "text/plain": [
              "Downloading tf_model.h5:   0%|          | 0.00/529M [00:00<?, ?B/s]"
            ],
            "application/vnd.jupyter.widget-view+json": {
              "version_major": 2,
              "version_minor": 0,
              "model_id": "c35a3ecf0a1d4c678cb57dc325851cc1"
            }
          },
          "metadata": {}
        },
        {
          "output_type": "stream",
          "name": "stderr",
          "text": [
            "All model checkpoint layers were used when initializing TFBertForSequenceClassification.\n",
            "\n",
            "Some layers of TFBertForSequenceClassification were not initialized from the model checkpoint at neuralmind/bert-base-portuguese-cased and are newly initialized: ['classifier', 'bert/pooler/dense/bias:0', 'bert/pooler/dense/kernel:0']\n",
            "You should probably TRAIN this model on a down-stream task to be able to use it for predictions and inference.\n"
          ]
        }
      ],
      "source": [
        "input_word_ids = tf.keras.Input(shape=(MAX_LEN,), dtype=tf.int32, name='input_word_ids')\n",
        "input_mask = tf.keras.Input(shape=(MAX_LEN,), dtype=tf.int32, name='input_mask')\n",
        "segment_ids = tf.keras.Input(shape=(MAX_LEN,), dtype=tf.int32,name=\"segment_ids\")\n",
        "bert_model = TFAutoModelForSequenceClassification.from_pretrained(\n",
        "    MODEL_NAME,\n",
        "    num_labels=2\n",
        "  )\n",
        "output = bert_model([input_word_ids, input_mask, segment_ids])\n",
        "# output = output\n",
        "# output = tf.keras.layers.Dense(32,activation='relu')(output)\n",
        "# output = tf.keras.layers.Dropout(DROPOUT_RATE)(output)\n",
        "logits = output.logits  # Acessa os logits da saída da camada BERT\n",
        "probs = tf.keras.layers.Softmax()(logits)\n",
        "\n",
        "# output = tf.keras.layers.Dense(1, activation='sigmoid')(x)\n",
        "model = tf.keras.Model(inputs=[input_word_ids, input_mask, segment_ids], outputs=[probs])\n"
      ]
    },
    {
      "cell_type": "code",
      "execution_count": null,
      "metadata": {
        "id": "ZacKLRQHNyLG"
      },
      "outputs": [],
      "source": [
        "# optimizer = tf.keras.optimizers.Adam(learning_rate=LEARNING_RATE)\n",
        "# loss = tf.keras.losses.CategoricalCrossentropy(from_logits=True)"
      ]
    },
    {
      "cell_type": "code",
      "execution_count": null,
      "metadata": {
        "id": "iVsSHIXRNGcD"
      },
      "outputs": [],
      "source": [
        "# model.compile(\n",
        "#             optimizer=tf.keras.optimizers.Adam(lr=LEARNING_RATE),\n",
        "#             loss='sparse_categorical_crossentropy',\n",
        "#             metrics=['accuracy'])\n",
        "\n"
      ]
    },
    {
      "cell_type": "code",
      "execution_count": null,
      "metadata": {
        "id": "U85SJD7UN669"
      },
      "outputs": [],
      "source": [
        "model.compile(Adam(learning_rate=LEARNING_RATE), loss='sparse_categorical_crossentropy', metrics=['accuracy'])\n"
      ]
    },
    {
      "cell_type": "code",
      "execution_count": null,
      "metadata": {
        "id": "Vse85gSRN4R-",
        "colab": {
          "base_uri": "https://localhost:8080/"
        },
        "outputId": "608ec541-b255-459f-cf88-39285b3ee0a8"
      },
      "outputs": [
        {
          "output_type": "stream",
          "name": "stdout",
          "text": [
            "Model: \"model\"\n",
            "__________________________________________________________________________________________________\n",
            " Layer (type)                   Output Shape         Param #     Connected to                     \n",
            "==================================================================================================\n",
            " input_word_ids (InputLayer)    [(None, 512)]        0           []                               \n",
            "                                                                                                  \n",
            " input_mask (InputLayer)        [(None, 512)]        0           []                               \n",
            "                                                                                                  \n",
            " segment_ids (InputLayer)       [(None, 512)]        0           []                               \n",
            "                                                                                                  \n",
            " tf_bert_for_sequence_classific  TFSequenceClassifie  108924674  ['input_word_ids[0][0]',         \n",
            " ation (TFBertForSequenceClassi  rOutput(loss=None,               'input_mask[0][0]',             \n",
            " fication)                      logits=(None, 2),                 'segment_ids[0][0]']            \n",
            "                                 hidden_states=None                                               \n",
            "                                , attentions=None)                                                \n",
            "                                                                                                  \n",
            " softmax (Softmax)              (None, 2)            0           ['tf_bert_for_sequence_classifica\n",
            "                                                                 tion[0][0]']                     \n",
            "                                                                                                  \n",
            "==================================================================================================\n",
            "Total params: 108,924,674\n",
            "Trainable params: 108,924,674\n",
            "Non-trainable params: 0\n",
            "__________________________________________________________________________________________________\n"
          ]
        }
      ],
      "source": [
        "model.summary()\n"
      ]
    },
    {
      "cell_type": "markdown",
      "metadata": {
        "id": "s4CFtpHFEltz"
      },
      "source": [
        "# Carregar pesos do modelo"
      ]
    },
    {
      "cell_type": "code",
      "execution_count": null,
      "metadata": {
        "id": "9pL-YduiEpDh"
      },
      "outputs": [],
      "source": [
        "# model.load_weights('/content/drive/MyDrive/Arquivos/Mestrado/Qualificação/Fake_Br_corpus_second_experiment/models/model_2__28_05_2023-18_49.h5')\n"
      ]
    },
    {
      "cell_type": "markdown",
      "metadata": {
        "id": "mfaxddWTMNTH"
      },
      "source": [
        "# Treinamento do Modelo"
      ]
    },
    {
      "cell_type": "code",
      "execution_count": null,
      "metadata": {
        "id": "Ruxp4Kb0OGcJ"
      },
      "outputs": [],
      "source": [
        "# train[\"label\"] = train[\"label\"]"
      ]
    },
    {
      "cell_type": "code",
      "execution_count": null,
      "metadata": {
        "id": "AVJ86PfSxZ_j"
      },
      "outputs": [],
      "source": [
        "# encoded_samples_train['input_ids']"
      ]
    },
    {
      "cell_type": "code",
      "execution_count": null,
      "metadata": {
        "id": "LyMxPCsAzt1L"
      },
      "outputs": [],
      "source": [
        "# input_word_ids = encoded_samples_train['input_ids']\n",
        "# input_mask = encoded_samples_train['attention_mask'],\n",
        "# segment_ids = encoded_samples_train['token_type_ids']"
      ]
    },
    {
      "cell_type": "code",
      "execution_count": null,
      "metadata": {
        "id": "cbwrArNu-83S"
      },
      "outputs": [],
      "source": [
        "# labels = np.array(train.label)"
      ]
    },
    {
      "cell_type": "code",
      "execution_count": null,
      "metadata": {
        "id": "2_IPq_rl--wV"
      },
      "outputs": [],
      "source": [
        "# labels = labels.astype(int)  # Converte para inteiros\n",
        "# labels = tf.keras.utils.to_categorical(labels, num_classes=2)\n"
      ]
    },
    {
      "cell_type": "code",
      "execution_count": null,
      "metadata": {
        "id": "wwUz0qVDAN9m"
      },
      "outputs": [],
      "source": [
        "# labels = labels.astype(int)  # Converte para inteiros\n"
      ]
    },
    {
      "cell_type": "code",
      "execution_count": null,
      "metadata": {
        "id": "IaUmJ3MO_WJz",
        "colab": {
          "base_uri": "https://localhost:8080/"
        },
        "outputId": "17db2205-f761-45de-abcd-c6e58ca9c7c0"
      },
      "outputs": [
        {
          "output_type": "execute_result",
          "data": {
            "text/plain": [
              "{'input_ids': <tf.Tensor: shape=(5760, 512), dtype=int32, numpy=\n",
              "array([[  101,   496,  6685, ...,     0,     0,     0],\n",
              "       [  101,  4150,  1163, ...,   481,   291,   102],\n",
              "       [  101,   187, 22340, ...,     0,     0,     0],\n",
              "       ...,\n",
              "       [  101, 12075,   125, ...,  3946,   123,   102],\n",
              "       [  101, 14215,  5054, ...,     0,     0,     0],\n",
              "       [  101, 11124,  1331, ...,   771,  2541,   102]], dtype=int32)>, 'token_type_ids': <tf.Tensor: shape=(5760, 512), dtype=int32, numpy=\n",
              "array([[0, 0, 0, ..., 0, 0, 0],\n",
              "       [0, 0, 0, ..., 0, 0, 0],\n",
              "       [0, 0, 0, ..., 0, 0, 0],\n",
              "       ...,\n",
              "       [0, 0, 0, ..., 0, 0, 0],\n",
              "       [0, 0, 0, ..., 0, 0, 0],\n",
              "       [0, 0, 0, ..., 0, 0, 0]], dtype=int32)>, 'attention_mask': <tf.Tensor: shape=(5760, 512), dtype=int32, numpy=\n",
              "array([[1, 1, 1, ..., 0, 0, 0],\n",
              "       [1, 1, 1, ..., 1, 1, 1],\n",
              "       [1, 1, 1, ..., 0, 0, 0],\n",
              "       ...,\n",
              "       [1, 1, 1, ..., 1, 1, 1],\n",
              "       [1, 1, 1, ..., 0, 0, 0],\n",
              "       [1, 1, 1, ..., 1, 1, 1]], dtype=int32)>}"
            ]
          },
          "metadata": {},
          "execution_count": 62
        }
      ],
      "source": [
        "encoded_samples_train"
      ]
    },
    {
      "cell_type": "code",
      "source": [],
      "metadata": {
        "id": "_g-GFNt3APIy"
      },
      "execution_count": null,
      "outputs": []
    },
    {
      "cell_type": "code",
      "execution_count": null,
      "metadata": {
        "id": "cPc-FSUCO8AB",
        "colab": {
          "base_uri": "https://localhost:8080/"
        },
        "outputId": "442c49fb-72f1-4e30-9717-9278f20ea570"
      },
      "outputs": [
        {
          "output_type": "stream",
          "name": "stdout",
          "text": [
            "Epoch 1/30\n",
            "192/192 [==============================] - 120s 420ms/step - loss: 0.5754 - accuracy: 0.8047 - val_loss: 0.3795 - val_accuracy: 0.9514\n",
            "Epoch 2/30\n",
            "192/192 [==============================] - 74s 385ms/step - loss: 0.2288 - accuracy: 0.9737 - val_loss: 0.1362 - val_accuracy: 0.9748\n",
            "Epoch 3/30\n",
            "192/192 [==============================] - 73s 378ms/step - loss: 0.0975 - accuracy: 0.9837 - val_loss: 0.0910 - val_accuracy: 0.9809\n",
            "Epoch 4/30\n",
            "192/192 [==============================] - 71s 367ms/step - loss: 0.0600 - accuracy: 0.9887 - val_loss: 0.0747 - val_accuracy: 0.9835\n",
            "Epoch 5/30\n",
            "192/192 [==============================] - 67s 349ms/step - loss: 0.0451 - accuracy: 0.9913 - val_loss: 0.0636 - val_accuracy: 0.9826\n",
            "Epoch 6/30\n",
            "192/192 [==============================] - 67s 349ms/step - loss: 0.0298 - accuracy: 0.9944 - val_loss: 0.0565 - val_accuracy: 0.9861\n",
            "Epoch 7/30\n",
            "192/192 [==============================] - 66s 341ms/step - loss: 0.0232 - accuracy: 0.9965 - val_loss: 0.0471 - val_accuracy: 0.9861\n",
            "Epoch 8/30\n",
            "192/192 [==============================] - 66s 341ms/step - loss: 0.0171 - accuracy: 0.9976 - val_loss: 0.0547 - val_accuracy: 0.9852\n",
            "Epoch 9/30\n",
            "192/192 [==============================] - 64s 335ms/step - loss: 0.0137 - accuracy: 0.9978 - val_loss: 0.0500 - val_accuracy: 0.9861\n",
            "Epoch 10/30\n",
            "192/192 [==============================] - 65s 336ms/step - loss: 0.0118 - accuracy: 0.9985 - val_loss: 0.0611 - val_accuracy: 0.9861\n",
            "Epoch 11/30\n",
            "192/192 [==============================] - 64s 335ms/step - loss: 0.0088 - accuracy: 0.9989 - val_loss: 0.0569 - val_accuracy: 0.9861\n",
            "Epoch 12/30\n",
            "192/192 [==============================] - 64s 331ms/step - loss: 0.0072 - accuracy: 0.9991 - val_loss: 0.0525 - val_accuracy: 0.9861\n",
            "Epoch 13/30\n",
            "192/192 [==============================] - 64s 335ms/step - loss: 0.0062 - accuracy: 0.9993 - val_loss: 0.0642 - val_accuracy: 0.9861\n",
            "Epoch 14/30\n",
            "192/192 [==============================] - 64s 331ms/step - loss: 0.0044 - accuracy: 0.9998 - val_loss: 0.0611 - val_accuracy: 0.9861\n",
            "Epoch 15/30\n",
            "192/192 [==============================] - 64s 331ms/step - loss: 0.0038 - accuracy: 0.9998 - val_loss: 0.0552 - val_accuracy: 0.9870\n",
            "Epoch 16/30\n",
            "192/192 [==============================] - 64s 332ms/step - loss: 0.0033 - accuracy: 0.9996 - val_loss: 0.0574 - val_accuracy: 0.9870\n",
            "Epoch 17/30\n",
            "192/192 [==============================] - 63s 329ms/step - loss: 0.0026 - accuracy: 0.9998 - val_loss: 0.0630 - val_accuracy: 0.9861\n",
            "Epoch 18/30\n",
            "192/192 [==============================] - 63s 329ms/step - loss: 0.0018 - accuracy: 1.0000 - val_loss: 0.0533 - val_accuracy: 0.9870\n",
            "Epoch 19/30\n",
            "192/192 [==============================] - 63s 330ms/step - loss: 0.0015 - accuracy: 1.0000 - val_loss: 0.0706 - val_accuracy: 0.9861\n",
            "Epoch 20/30\n",
            "192/192 [==============================] - 63s 329ms/step - loss: 0.0012 - accuracy: 1.0000 - val_loss: 0.0723 - val_accuracy: 0.9861\n",
            "Epoch 21/30\n",
            "192/192 [==============================] - 63s 329ms/step - loss: 0.0019 - accuracy: 0.9996 - val_loss: 0.0835 - val_accuracy: 0.9835\n",
            "Epoch 22/30\n",
            "192/192 [==============================] - 63s 327ms/step - loss: 0.0011 - accuracy: 1.0000 - val_loss: 0.0634 - val_accuracy: 0.9878\n",
            "Epoch 23/30\n",
            "192/192 [==============================] - 63s 330ms/step - loss: 9.6904e-04 - accuracy: 1.0000 - val_loss: 0.0686 - val_accuracy: 0.9878\n",
            "Epoch 24/30\n",
            "192/192 [==============================] - 62s 326ms/step - loss: 7.7842e-04 - accuracy: 1.0000 - val_loss: 0.0627 - val_accuracy: 0.9878\n",
            "Epoch 25/30\n",
            "192/192 [==============================] - 63s 326ms/step - loss: 6.6033e-04 - accuracy: 1.0000 - val_loss: 0.0667 - val_accuracy: 0.9870\n",
            "Epoch 26/30\n",
            "192/192 [==============================] - 63s 327ms/step - loss: 6.2384e-04 - accuracy: 1.0000 - val_loss: 0.0787 - val_accuracy: 0.9870\n",
            "Epoch 27/30\n",
            "192/192 [==============================] - 63s 329ms/step - loss: 5.6619e-04 - accuracy: 1.0000 - val_loss: 0.0730 - val_accuracy: 0.9870\n",
            "Epoch 28/30\n",
            "192/192 [==============================] - 63s 326ms/step - loss: 0.0013 - accuracy: 0.9993 - val_loss: 0.0572 - val_accuracy: 0.9887\n",
            "Epoch 29/30\n",
            "192/192 [==============================] - 63s 326ms/step - loss: 4.9732e-04 - accuracy: 1.0000 - val_loss: 0.0803 - val_accuracy: 0.9861\n",
            "Epoch 30/30\n",
            "192/192 [==============================] - 63s 329ms/step - loss: 3.9867e-04 - accuracy: 1.0000 - val_loss: 0.0790 - val_accuracy: 0.9852\n"
          ]
        }
      ],
      "source": [
        "start_time = time.time()\n",
        "\n",
        "\n",
        "history = model.fit(\n",
        "          x={\n",
        "              \"input_word_ids\": encoded_samples_train[\"input_ids\"],\n",
        "              \"input_mask\": encoded_samples_train[\"attention_mask\"],\n",
        "              \"segment_ids\": encoded_samples_train[\"token_type_ids\"]\n",
        "          },\n",
        "          y=train['label'],\n",
        "          validation_split=0.20,\n",
        "          epochs = EPOCHS,\n",
        "          batch_size = 24\n",
        "          )\n",
        "end_time = time.time()\n"
      ]
    },
    {
      "cell_type": "markdown",
      "metadata": {
        "id": "SH6r7aDplvGo"
      },
      "source": [
        "https://www.kaggle.com/code/andreshg/nlp-glove-bert-tf-idf-lstm-explained#8.-BERT"
      ]
    },
    {
      "cell_type": "code",
      "execution_count": null,
      "metadata": {
        "id": "NBBjg-zJibgZ"
      },
      "outputs": [],
      "source": [
        "model.save_weights(\n",
        "    '/content/drive/MyDrive/Arquivos/Mestrado/Qualificação/Fake_Br_corpus_novo_experimento_2/weights'\n",
        ")\n"
      ]
    },
    {
      "cell_type": "code",
      "execution_count": null,
      "metadata": {
        "id": "XONR7xU3OFOz",
        "colab": {
          "base_uri": "https://localhost:8080/"
        },
        "outputId": "e8f29c81-6832-407a-9597-b12944669357"
      },
      "outputs": [
        {
          "output_type": "stream",
          "name": "stderr",
          "text": [
            "WARNING:absl:Found untraced functions such as serving, embeddings_layer_call_fn, embeddings_layer_call_and_return_conditional_losses, encoder_layer_call_fn, encoder_layer_call_and_return_conditional_losses while saving (showing 5 of 421). These functions will not be directly callable after loading.\n"
          ]
        }
      ],
      "source": [
        "model.save(\n",
        "    '/content/drive/MyDrive/Arquivos/Mestrado/Qualificação/Fake_Br_corpus_novo_experimento_2/full_model'\n",
        ")"
      ]
    },
    {
      "cell_type": "markdown",
      "metadata": {
        "id": "Lk_y8WnBMUyh"
      },
      "source": [
        "# Avaliação do modelo"
      ]
    },
    {
      "cell_type": "markdown",
      "metadata": {
        "id": "dyJ7CbqGMZfm"
      },
      "source": [
        "## Excucao do modelo no conjunto de testes"
      ]
    },
    {
      "cell_type": "code",
      "execution_count": null,
      "metadata": {
        "id": "EmbXXAkrPIOI"
      },
      "outputs": [],
      "source": [
        "test[\"label\"] = test[\"label\"].astype(float)"
      ]
    },
    {
      "cell_type": "code",
      "execution_count": null,
      "metadata": {
        "id": "0o83plf_PJDZ",
        "colab": {
          "base_uri": "https://localhost:8080/"
        },
        "outputId": "622abe9a-a542-49de-e872-81b58321c9dd"
      },
      "outputs": [
        {
          "output_type": "stream",
          "name": "stdout",
          "text": [
            "45/45 [==============================] - 8s 125ms/step - loss: 0.0918 - accuracy: 0.9840\n"
          ]
        }
      ],
      "source": [
        "test_loss, test_acc = model.evaluate( x={\n",
        "              \"input_word_ids\": encoded_samples_test[\"input_ids\"],\n",
        "              \"input_mask\": encoded_samples_test[\"attention_mask\"],\n",
        "              \"segment_ids\": encoded_samples_test[\"token_type_ids\"]\n",
        "          },\n",
        "          y=test['label'])\n"
      ]
    },
    {
      "cell_type": "code",
      "execution_count": null,
      "metadata": {
        "id": "J4FpTzYo_ryb"
      },
      "outputs": [],
      "source": [
        "# threshold = 0.5\n"
      ]
    },
    {
      "cell_type": "code",
      "execution_count": null,
      "metadata": {
        "id": "TjqpedQtuSUV"
      },
      "outputs": [],
      "source": [
        "# y_pred = model.predict([ids_test, masks_test, segments_test])\n",
        "\n",
        "# y_pred_bool = np.argmax(y_pred, axis=1)\n"
      ]
    },
    {
      "cell_type": "markdown",
      "metadata": {
        "id": "iJVQnZ2bFoR0"
      },
      "source": [
        "# Geração de Relatorios"
      ]
    },
    {
      "cell_type": "code",
      "execution_count": null,
      "metadata": {
        "id": "__bG7NZZee3D",
        "colab": {
          "base_uri": "https://localhost:8080/"
        },
        "outputId": "79668e6d-97d9-4918-fc45-012327901173"
      },
      "outputs": [
        {
          "output_type": "stream",
          "name": "stdout",
          "text": [
            "45/45 [==============================] - 7s 122ms/step\n"
          ]
        }
      ],
      "source": [
        "y_pred = model.predict( x={\n",
        "              \"input_word_ids\": encoded_samples_test[\"input_ids\"],\n",
        "              \"input_mask\": encoded_samples_test[\"attention_mask\"],\n",
        "              \"segment_ids\": encoded_samples_test[\"token_type_ids\"]\n",
        "          })\n",
        "y_pred_bool = np.argmax(y_pred, axis=1)"
      ]
    },
    {
      "cell_type": "code",
      "execution_count": null,
      "metadata": {
        "id": "09Q-Vn19QjE-",
        "colab": {
          "base_uri": "https://localhost:8080/"
        },
        "outputId": "6c27ac78-c8c4-43d4-d0fd-72dc68baf9aa"
      },
      "outputs": [
        {
          "output_type": "execute_result",
          "data": {
            "text/plain": [
              "array([0, 0, 0, ..., 1, 1, 1])"
            ]
          },
          "metadata": {},
          "execution_count": 74
        }
      ],
      "source": [
        "y_pred_bool"
      ]
    },
    {
      "cell_type": "code",
      "execution_count": null,
      "metadata": {
        "id": "YJ8viKISd_6F"
      },
      "outputs": [],
      "source": [
        "def show_confusion_matrix(confusion_matrix):\n",
        "  hmap = sns.heatmap(confusion_matrix, annot=True, fmt=\"d\", cmap=\"Blues\")\n",
        "  hmap.yaxis.set_ticklabels(hmap.yaxis.get_ticklabels(), rotation=0, ha='right')\n",
        "  hmap.xaxis.set_ticklabels(hmap.xaxis.get_ticklabels(), rotation=30, ha='right')\n",
        "  plt.ylabel('True class')\n",
        "  plt.xlabel('Predicted class')\n",
        "  return hmap"
      ]
    },
    {
      "cell_type": "code",
      "execution_count": null,
      "metadata": {
        "id": "X71QCsivOVIe"
      },
      "outputs": [],
      "source": [
        "def generate_classification_report(y_pred, y_pred_bool, test, files_name):\n",
        "  # y_pred = model.predict([ids_test, masks_test, segments_test])\n",
        "  # y_pred_bool = np.argmax(y_pred, axis=1)\n",
        "\n",
        "  report = classification_report(y_pred_bool, test[\"label\"])\n",
        "  report_dict = classification_report(y_pred_bool, test[\"label\"], output_dict=True)\n",
        "  # df_report = pd.DataFrame(report_dict).transpose()\n",
        "\n",
        "  with open(files_name['classification_report_json'], 'w') as f:\n",
        "    json.dump(report_dict, f)\n",
        "\n",
        "  with open(files_name['classification_report_txt'], 'w') as f:\n",
        "    f.write(report)\n",
        "\n",
        "  print(report)\n",
        "\n",
        "  # CLASSIFICATION REPORT\n",
        "  cm = confusion_matrix(test[\"label\"], y_pred_bool)\n",
        "  df_cm = pd.DataFrame(cm, index=['0','1'], columns=['0','1'])\n",
        "  heatmap = show_confusion_matrix(df_cm)\n",
        "  heatmap.figure.savefig(files_name['confusion_matrix'])\n"
      ]
    },
    {
      "cell_type": "code",
      "execution_count": null,
      "metadata": {
        "id": "155KXoImErNa",
        "colab": {
          "base_uri": "https://localhost:8080/",
          "height": 608
        },
        "outputId": "e6089d45-3ed1-4e53-ccdd-9bb8aa26b167"
      },
      "outputs": [
        {
          "output_type": "stream",
          "name": "stdout",
          "text": [
            "              precision    recall  f1-score   support\n",
            "\n",
            "           0       0.97      0.99      0.98       707\n",
            "           1       0.99      0.98      0.98       733\n",
            "\n",
            "    accuracy                           0.98      1440\n",
            "   macro avg       0.98      0.98      0.98      1440\n",
            "weighted avg       0.98      0.98      0.98      1440\n",
            "\n"
          ]
        },
        {
          "output_type": "display_data",
          "data": {
            "text/plain": [
              "<Figure size 640x480 with 2 Axes>"
            ],
            "image/png": "[encoded data removed]"
          },
          "metadata": {}
        }
      ],
      "source": [
        "generate_classification_report(y_pred, y_pred_bool, test, files_name)"
      ]
    },
    {
      "cell_type": "markdown",
      "metadata": {
        "id": "myyY6yN7G9Db"
      },
      "source": [
        "# Salvar metricas do modelo"
      ]
    },
    {
      "cell_type": "code",
      "execution_count": null,
      "metadata": {
        "id": "OYHb64c7G_eg"
      },
      "outputs": [],
      "source": [
        "def save_model_metrics(model_save_name, files_name, history, start_time,\n",
        "                       end_time, epochs, batch_size, learning_rate, dropout,\n",
        "                       test_loss, test_acc, with_stop_words):\n",
        "  # Calcula o tempo de execução em segundos\n",
        "  time_seconds = round(end_time - start_time, 2)\n",
        "\n",
        "  # Calcula o tempo de execução em minutos\n",
        "  time_minutes = round(time_seconds / 60, 2)\n",
        "  metrics = {\n",
        "    'model': model_save_name,\n",
        "    'loss': history.history['loss'][-1],\n",
        "    'accuracy': history.history['accuracy'][-1],\n",
        "    'val_loss': history.history['val_loss'][-1],\n",
        "    'val_accuracy': history.history['val_accuracy'][-1],\n",
        "    'time': str(end_time - start_time),\n",
        "    'time_seconds': time_seconds,\n",
        "    'time_minutes': time_minutes,\n",
        "    'epochs': epochs,\n",
        "    'batch_size': batch_size,\n",
        "    'learning_rate': learning_rate,\n",
        "    'dropout': dropout,\n",
        "    'test_loss': test_loss,\n",
        "    'test_acc': test_acc,\n",
        "    'with_stop_words': with_stop_words\n",
        "  }\n",
        "\n",
        "  if os.path.isfile(files_name['metrics_csv']):\n",
        "      # Se o arquivo existe, leia-o em um DataFrame\n",
        "      df_metrics = pd.read_csv(files_name['metrics_csv'])\n",
        "  else:\n",
        "      # Se o arquivo não existe, crie um DataFrame vazio\n",
        "      df_metrics = pd.DataFrame()\n",
        "\n",
        "  df_metrics = df_metrics.append(metrics, ignore_index=True)\n",
        "  df_metrics.to_csv(files_name['metrics_csv'], index=False)\n",
        "\n",
        "  with open(files_name['history'], 'w') as f:\n",
        "    json.dump(history.history, f)\n",
        "\n",
        "  display(df_metrics.tail())\n",
        "\n"
      ]
    },
    {
      "cell_type": "code",
      "execution_count": null,
      "metadata": {
        "id": "BvSmv--mHDAb",
        "colab": {
          "base_uri": "https://localhost:8080/",
          "height": 202
        },
        "outputId": "a9c98a75-ece5-4a8f-d317-0501b1971523"
      },
      "outputs": [
        {
          "output_type": "stream",
          "name": "stderr",
          "text": [
            "<ipython-input-79-f730f8fdfb92>:34: FutureWarning: The frame.append method is deprecated and will be removed from pandas in a future version. Use pandas.concat instead.\n",
            "  df_metrics = df_metrics.append(metrics, ignore_index=True)\n"
          ]
        },
        {
          "output_type": "display_data",
          "data": {
            "text/plain": [
              "                       model      loss  accuracy  val_loss  val_accuracy  \\\n",
              "0  model_1__29_08_2023-11_18  0.000719       1.0  0.056528      0.986111   \n",
              "1  model_1__05_09_2023-17_21  0.000399       1.0  0.079034      0.985243   \n",
              "\n",
              "                 time  time_seconds  time_minutes  epochs  batch_size  \\\n",
              "0         1917.805606       1917.81         31.96      30          24   \n",
              "1  1995.0693562030792       1995.07         33.25      30         240   \n",
              "\n",
              "   learning_rate  dropout  test_loss  test_acc  with_stop_words  \n",
              "0       0.000001      0.1   0.069621  0.986806             True  \n",
              "1       0.000001      0.1   0.091810  0.984028             True  "
            ],
            "text/html": [
              "\n",
              "  <div id=\"df-8cdfa92f-78ad-4766-97ba-271efef41d55\" class=\"colab-df-container\">\n",
              "    <div>\n",
              "<style scoped>\n",
              "    .dataframe tbody tr th:only-of-type {\n",
              "        vertical-align: middle;\n",
              "    }\n",
              "\n",
              "    .dataframe tbody tr th {\n",
              "        vertical-align: top;\n",
              "    }\n",
              "\n",
              "    .dataframe thead th {\n",
              "        text-align: right;\n",
              "    }\n",
              "</style>\n",
              "<table border=\"1\" class=\"dataframe\">\n",
              "  <thead>\n",
              "    <tr style=\"text-align: right;\">\n",
              "      <th></th>\n",
              "      <th>model</th>\n",
              "      <th>loss</th>\n",
              "      <th>accuracy</th>\n",
              "      <th>val_loss</th>\n",
              "      <th>val_accuracy</th>\n",
              "      <th>time</th>\n",
              "      <th>time_seconds</th>\n",
              "      <th>time_minutes</th>\n",
              "      <th>epochs</th>\n",
              "      <th>batch_size</th>\n",
              "      <th>learning_rate</th>\n",
              "      <th>dropout</th>\n",
              "      <th>test_loss</th>\n",
              "      <th>test_acc</th>\n",
              "      <th>with_stop_words</th>\n",
              "    </tr>\n",
              "  </thead>\n",
              "  <tbody>\n",
              "    <tr>\n",
              "      <th>0</th>\n",
              "      <td>model_1__29_08_2023-11_18</td>\n",
              "      <td>0.000719</td>\n",
              "      <td>1.0</td>\n",
              "      <td>0.056528</td>\n",
              "      <td>0.986111</td>\n",
              "      <td>1917.805606</td>\n",
              "      <td>1917.81</td>\n",
              "      <td>31.96</td>\n",
              "      <td>30</td>\n",
              "      <td>24</td>\n",
              "      <td>0.000001</td>\n",
              "      <td>0.1</td>\n",
              "      <td>0.069621</td>\n",
              "      <td>0.986806</td>\n",
              "      <td>True</td>\n",
              "    </tr>\n",
              "    <tr>\n",
              "      <th>1</th>\n",
              "      <td>model_1__05_09_2023-17_21</td>\n",
              "      <td>0.000399</td>\n",
              "      <td>1.0</td>\n",
              "      <td>0.079034</td>\n",
              "      <td>0.985243</td>\n",
              "      <td>1995.0693562030792</td>\n",
              "      <td>1995.07</td>\n",
              "      <td>33.25</td>\n",
              "      <td>30</td>\n",
              "      <td>240</td>\n",
              "      <td>0.000001</td>\n",
              "      <td>0.1</td>\n",
              "      <td>0.091810</td>\n",
              "      <td>0.984028</td>\n",
              "      <td>True</td>\n",
              "    </tr>\n",
              "  </tbody>\n",
              "</table>\n",
              "</div>\n",
              "    <div class=\"colab-df-buttons\">\n",
              "\n",
              "  <div class=\"colab-df-container\">\n",
              "    <button class=\"colab-df-convert\" onclick=\"convertToInteractive('df-8cdfa92f-78ad-4766-97ba-271efef41d55')\"\n",
              "            title=\"Convert this dataframe to an interactive table.\"\n",
              "            style=\"display:none;\">\n",
              "\n",
              "  <svg xmlns=\"http://www.w3.org/2000/svg\" height=\"24px\" viewBox=\"0 -960 960 960\">\n",
              "    <path d=\"M120-120v-720h720v720H120Zm60-500h600v-160H180v160Zm220 220h160v-160H400v160Zm0 220h160v-160H400v160ZM180-400h160v-160H180v160Zm440 0h160v-160H620v160ZM180-180h160v-160H180v160Zm440 0h160v-160H620v160Z\"/>\n",
              "  </svg>\n",
              "    </button>\n",
              "\n",
              "  <style>\n",
              "    .colab-df-container {\n",
              "      display:flex;\n",
              "      gap: 12px;\n",
              "    }\n",
              "\n",
              "    .colab-df-convert {\n",
              "      background-color: #E8F0FE;\n",
              "      border: none;\n",
              "      border-radius: 50%;\n",
              "      cursor: pointer;\n",
              "      display: none;\n",
              "      fill: #1967D2;\n",
              "      height: 32px;\n",
              "      padding: 0 0 0 0;\n",
              "      width: 32px;\n",
              "    }\n",
              "\n",
              "    .colab-df-convert:hover {\n",
              "      background-color: #E2EBFA;\n",
              "      box-shadow: 0px 1px 2px rgba(60, 64, 67, 0.3), 0px 1px 3px 1px rgba(60, 64, 67, 0.15);\n",
              "      fill: #174EA6;\n",
              "    }\n",
              "\n",
              "    .colab-df-buttons div {\n",
              "      margin-bottom: 4px;\n",
              "    }\n",
              "\n",
              "    [theme=dark] .colab-df-convert {\n",
              "      background-color: #3B4455;\n",
              "      fill: #D2E3FC;\n",
              "    }\n",
              "\n",
              "    [theme=dark] .colab-df-convert:hover {\n",
              "      background-color: #434B5C;\n",
              "      box-shadow: 0px 1px 3px 1px rgba(0, 0, 0, 0.15);\n",
              "      filter: drop-shadow(0px 1px 2px rgba(0, 0, 0, 0.3));\n",
              "      fill: #FFFFFF;\n",
              "    }\n",
              "  </style>\n",
              "\n",
              "    <script>\n",
              "      const buttonEl =\n",
              "        document.querySelector('#df-8cdfa92f-78ad-4766-97ba-271efef41d55 button.colab-df-convert');\n",
              "      buttonEl.style.display =\n",
              "        google.colab.kernel.accessAllowed ? 'block' : 'none';\n",
              "\n",
              "      async function convertToInteractive(key) {\n",
              "        const element = document.querySelector('#df-8cdfa92f-78ad-4766-97ba-271efef41d55');\n",
              "        const dataTable =\n",
              "          await google.colab.kernel.invokeFunction('convertToInteractive',\n",
              "                                                    [key], {});\n",
              "        if (!dataTable) return;\n",
              "\n",
              "        const docLinkHtml = 'Like what you see? Visit the ' +\n",
              "          '<a target=\"_blank\" href=https://colab.research.google.com/notebooks/data_table.ipynb>data table notebook</a>'\n",
              "          + ' to learn more about interactive tables.';\n",
              "        element.innerHTML = '';\n",
              "        dataTable['output_type'] = 'display_data';\n",
              "        await google.colab.output.renderOutput(dataTable, element);\n",
              "        const docLink = document.createElement('div');\n",
              "        docLink.innerHTML = docLinkHtml;\n",
              "        element.appendChild(docLink);\n",
              "      }\n",
              "    </script>\n",
              "  </div>\n",
              "\n",
              "\n",
              "<div id=\"df-f1de0f80-3c1d-4977-b495-dcdb4dcf30ab\">\n",
              "  <button class=\"colab-df-quickchart\" onclick=\"quickchart('df-f1de0f80-3c1d-4977-b495-dcdb4dcf30ab')\"\n",
              "            title=\"Suggest charts.\"\n",
              "            style=\"display:none;\">\n",
              "\n",
              "<svg xmlns=\"http://www.w3.org/2000/svg\" height=\"24px\"viewBox=\"0 0 24 24\"\n",
              "     width=\"24px\">\n",
              "    <g>\n",
              "        <path d=\"M19 3H5c-1.1 0-2 .9-2 2v14c0 1.1.9 2 2 2h14c1.1 0 2-.9 2-2V5c0-1.1-.9-2-2-2zM9 17H7v-7h2v7zm4 0h-2V7h2v10zm4 0h-2v-4h2v4z\"/>\n",
              "    </g>\n",
              "</svg>\n",
              "  </button>\n",
              "\n",
              "<style>\n",
              "  .colab-df-quickchart {\n",
              "      --bg-color: #E8F0FE;\n",
              "      --fill-color: #1967D2;\n",
              "      --hover-bg-color: #E2EBFA;\n",
              "      --hover-fill-color: #174EA6;\n",
              "      --disabled-fill-color: #AAA;\n",
              "      --disabled-bg-color: #DDD;\n",
              "  }\n",
              "\n",
              "  [theme=dark] .colab-df-quickchart {\n",
              "      --bg-color: #3B4455;\n",
              "      --fill-color: #D2E3FC;\n",
              "      --hover-bg-color: #434B5C;\n",
              "      --hover-fill-color: #FFFFFF;\n",
              "      --disabled-bg-color: #3B4455;\n",
              "      --disabled-fill-color: #666;\n",
              "  }\n",
              "\n",
              "  .colab-df-quickchart {\n",
              "    background-color: var(--bg-color);\n",
              "    border: none;\n",
              "    border-radius: 50%;\n",
              "    cursor: pointer;\n",
              "    display: none;\n",
              "    fill: var(--fill-color);\n",
              "    height: 32px;\n",
              "    padding: 0;\n",
              "    width: 32px;\n",
              "  }\n",
              "\n",
              "  .colab-df-quickchart:hover {\n",
              "    background-color: var(--hover-bg-color);\n",
              "    box-shadow: 0 1px 2px rgba(60, 64, 67, 0.3), 0 1px 3px 1px rgba(60, 64, 67, 0.15);\n",
              "    fill: var(--button-hover-fill-color);\n",
              "  }\n",
              "\n",
              "  .colab-df-quickchart-complete:disabled,\n",
              "  .colab-df-quickchart-complete:disabled:hover {\n",
              "    background-color: var(--disabled-bg-color);\n",
              "    fill: var(--disabled-fill-color);\n",
              "    box-shadow: none;\n",
              "  }\n",
              "\n",
              "  .colab-df-spinner {\n",
              "    border: 2px solid var(--fill-color);\n",
              "    border-color: transparent;\n",
              "    border-bottom-color: var(--fill-color);\n",
              "    animation:\n",
              "      spin 1s steps(1) infinite;\n",
              "  }\n",
              "\n",
              "  @keyframes spin {\n",
              "    0% {\n",
              "      border-color: transparent;\n",
              "      border-bottom-color: var(--fill-color);\n",
              "      border-left-color: var(--fill-color);\n",
              "    }\n",
              "    20% {\n",
              "      border-color: transparent;\n",
              "      border-left-color: var(--fill-color);\n",
              "      border-top-color: var(--fill-color);\n",
              "    }\n",
              "    30% {\n",
              "      border-color: transparent;\n",
              "      border-left-color: var(--fill-color);\n",
              "      border-top-color: var(--fill-color);\n",
              "      border-right-color: var(--fill-color);\n",
              "    }\n",
              "    40% {\n",
              "      border-color: transparent;\n",
              "      border-right-color: var(--fill-color);\n",
              "      border-top-color: var(--fill-color);\n",
              "    }\n",
              "    60% {\n",
              "      border-color: transparent;\n",
              "      border-right-color: var(--fill-color);\n",
              "    }\n",
              "    80% {\n",
              "      border-color: transparent;\n",
              "      border-right-color: var(--fill-color);\n",
              "      border-bottom-color: var(--fill-color);\n",
              "    }\n",
              "    90% {\n",
              "      border-color: transparent;\n",
              "      border-bottom-color: var(--fill-color);\n",
              "    }\n",
              "  }\n",
              "</style>\n",
              "\n",
              "  <script>\n",
              "    async function quickchart(key) {\n",
              "      const quickchartButtonEl =\n",
              "        document.querySelector('#' + key + ' button');\n",
              "      quickchartButtonEl.disabled = true;  // To prevent multiple clicks.\n",
              "      quickchartButtonEl.classList.add('colab-df-spinner');\n",
              "      try {\n",
              "        const charts = await google.colab.kernel.invokeFunction(\n",
              "            'suggestCharts', [key], {});\n",
              "      } catch (error) {\n",
              "        console.error('Error during call to suggestCharts:', error);\n",
              "      }\n",
              "      quickchartButtonEl.classList.remove('colab-df-spinner');\n",
              "      quickchartButtonEl.classList.add('colab-df-quickchart-complete');\n",
              "    }\n",
              "    (() => {\n",
              "      let quickchartButtonEl =\n",
              "        document.querySelector('#df-f1de0f80-3c1d-4977-b495-dcdb4dcf30ab button');\n",
              "      quickchartButtonEl.style.display =\n",
              "        google.colab.kernel.accessAllowed ? 'block' : 'none';\n",
              "    })();\n",
              "  </script>\n",
              "</div>\n",
              "    </div>\n",
              "  </div>\n"
            ]
          },
          "metadata": {}
        }
      ],
      "source": [
        "save_model_metrics(model_save_name, files_name, history, start_time, end_time,\n",
        "                   EPOCHS, BATCH_SIZE, LEARNING_RATE, DROPOUT_RATE, test_loss,test_acc, True)\n"
      ]
    },
    {
      "cell_type": "markdown",
      "metadata": {
        "id": "s07OPGVMh7jz"
      },
      "source": [
        "# salvar grafico do treinamento"
      ]
    },
    {
      "cell_type": "code",
      "execution_count": null,
      "metadata": {
        "id": "dblETlFkh_OK"
      },
      "outputs": [],
      "source": [
        "def save_model_graphs(model_save_name, files_name, history):\n",
        "  epochs_range = list(range(1, len(history.history['accuracy'])+1))\n",
        "  # cria o gráfico de Accuracy\n",
        "  plt.plot(epochs_range, history.history['accuracy'])\n",
        "  plt.plot(epochs_range, history.history['val_accuracy'])\n",
        "  plt.title('Training and Validation Accuracy')\n",
        "  plt.ylabel('Accuracy')\n",
        "  plt.xlabel('Epoch')\n",
        "  plt.legend(['Train', 'Validation'], loc='lower right')\n",
        "\n",
        "  # Salva figura\n",
        "  plt.savefig(files_name['graph_acc'])\n",
        "  plt.show()\n",
        "\n",
        "  # cria o gráfico de Loss\n",
        "  plt.plot(epochs_range, history.history['loss'])\n",
        "  plt.plot(epochs_range, history.history['val_loss'])\n",
        "  plt.title('Training and Validation Loss')\n",
        "  plt.ylabel('Loss')\n",
        "  plt.xlabel('Epoch')\n",
        "  plt.legend(['Train', 'Validation'], loc='lower right')\n",
        "\n",
        "  # Salva figura\n",
        "  plt.savefig(files_name['graph_loss'])\n",
        "  plt.show()\n",
        "\n",
        "  # Definir o tamanho da figura\n",
        "  fig, axs = plt.subplots(1, 2, figsize=(15,5))\n",
        "\n",
        "  # Plotar o gráfico de loss no primeiro subplot\n",
        "  axs[0].plot(epochs_range, history.history['loss'], label='train_loss')\n",
        "  axs[0].plot(epochs_range, history.history['val_loss'], label='val_loss')\n",
        "  axs[0].set_title('Model Loss')\n",
        "  axs[0].set_xlabel('Epoch')\n",
        "  axs[0].set_ylabel('Loss')\n",
        "  axs[0].legend()\n",
        "\n",
        "  # Plotar o gráfico de acurácia no segundo subplot\n",
        "  axs[1].plot(epochs_range, history.history['accuracy'], label='train_acc')\n",
        "  axs[1].plot(epochs_range, history.history['val_accuracy'], label='val_acc')\n",
        "  axs[1].set_title('Model Accuracy')\n",
        "  axs[1].set_xlabel('Epoch')\n",
        "  axs[1].set_ylabel('Accuracy')\n",
        "  axs[1].legend()\n",
        "\n",
        "  # Salvar a figura em um arquivo\n",
        "  plt.savefig(files_name['graph_acc_and_loss'])"
      ]
    },
    {
      "cell_type": "code",
      "execution_count": null,
      "metadata": {
        "id": "DlnFh6_siE9w",
        "colab": {
          "base_uri": "https://localhost:8080/",
          "height": 1000
        },
        "outputId": "cdd07a28-3d17-4a3b-e5a1-3bc5b60ddd1f"
      },
      "outputs": [
        {
          "output_type": "display_data",
          "data": {
            "text/plain": [
              "<Figure size 640x480 with 1 Axes>"
            ],
            "image/png": "[encoded data removed]"
          },
          "metadata": {}
        },
        {
          "output_type": "display_data",
          "data": {
            "text/plain": [
              "<Figure size 640x480 with 1 Axes>"
            ],
            "image/png": "[encoded data removed]"
          },
          "metadata": {}
        },
        {
          "output_type": "display_data",
          "data": {
            "text/plain": [
              "<Figure size 1500x500 with 2 Axes>"
            ],
            "image/png": "[encoded data removed]"
          },
          "metadata": {}
        }
      ],
      "source": [
        "save_model_graphs(model_save_name, files_name, history)"
      ]
    },
    {
      "cell_type": "code",
      "execution_count": null,
      "metadata": {
        "id": "NhbyI20YUfP2"
      },
      "outputs": [],
      "source": [
        "# np.shape(ids_test)"
      ]
    },
    {
      "cell_type": "code",
      "execution_count": null,
      "metadata": {
        "id": "fY52J8_PUypv"
      },
      "outputs": [],
      "source": [
        "# y_pred"
      ]
    },
    {
      "cell_type": "code",
      "execution_count": null,
      "metadata": {
        "id": "SUjjSiwk_omw"
      },
      "outputs": [],
      "source": [
        "# # y_pred_bool = np.where(y_pred >= threshold, 1, 0)\n",
        "# y_pred_bool = np.argmax(y_pred, axis=1)\n",
        "# from sklearn.metrics import classification_report\n",
        "\n",
        "# print(classification_report(y_pred_bool, test[\"label\"]))"
      ]
    },
    {
      "cell_type": "code",
      "execution_count": null,
      "metadata": {
        "id": "Oaw1qPa7v9mX"
      },
      "outputs": [],
      "source": [
        "# from sklearn.metrics import confusion_matrix\n",
        "# import seaborn as sns\n"
      ]
    },
    {
      "cell_type": "code",
      "execution_count": null,
      "metadata": {
        "id": "c0hRUHBYU9n4"
      },
      "outputs": [],
      "source": [
        "# np.shape(y_pred_bool)"
      ]
    },
    {
      "cell_type": "markdown",
      "metadata": {
        "id": "u-5yoZwDuvDe"
      },
      "source": [
        "# LIME"
      ]
    },
    {
      "cell_type": "markdown",
      "metadata": {
        "id": "szsnzZPyAf06"
      },
      "source": [
        "https://www.kaggle.com/code/arinjaypathak/fine-tuned-bert-lime-youtube-comment-sentiment"
      ]
    },
    {
      "cell_type": "code",
      "execution_count": null,
      "metadata": {
        "id": "BvJmGv3butzY",
        "colab": {
          "base_uri": "https://localhost:8080/"
        },
        "outputId": "511cf416-03df-40b9-8d21-bed728a032bb"
      },
      "outputs": [
        {
          "output_type": "stream",
          "name": "stdout",
          "text": [
            "Collecting lime\n",
            "  Downloading lime-0.2.0.1.tar.gz (275 kB)\n",
            "\u001b[?25l     \u001b[90m━━━━━━━━━━━━━━━━━━━━━━━━━━━━━━━━━━━━━━━━\u001b[0m \u001b[32m0.0/275.7 kB\u001b[0m \u001b[31m?\u001b[0m eta \u001b[36m-:--:--\u001b[0m\r\u001b[2K     \u001b[91m━━━━━━━━\u001b[0m\u001b[91m╸\u001b[0m\u001b[90m━━━━━━━━━━━━━━━━━━━━━━━━━━━━━━━\u001b[0m \u001b[32m61.4/275.7 kB\u001b[0m \u001b[31m1.8 MB/s\u001b[0m eta \u001b[36m0:00:01\u001b[0m\r\u001b[2K     \u001b[90m━━━━━━━━━━━━━━━━━━━━━━━━━━━━━━━━━━━━━━━\u001b[0m \u001b[32m275.7/275.7 kB\u001b[0m \u001b[31m4.8 MB/s\u001b[0m eta \u001b[36m0:00:00\u001b[0m\n",
            "\u001b[?25h  Preparing metadata (setup.py) ... \u001b[?25l\u001b[?25hdone\n",
            "Requirement already satisfied: matplotlib in /usr/local/lib/python3.10/dist-packages (from lime) (3.7.1)\n",
            "Requirement already satisfied: numpy in /usr/local/lib/python3.10/dist-packages (from lime) (1.23.5)\n",
            "Requirement already satisfied: scipy in /usr/local/lib/python3.10/dist-packages (from lime) (1.10.1)\n",
            "Requirement already satisfied: tqdm in /usr/local/lib/python3.10/dist-packages (from lime) (4.66.1)\n",
            "Requirement already satisfied: scikit-learn>=0.18 in /usr/local/lib/python3.10/dist-packages (from lime) (1.2.2)\n",
            "Requirement already satisfied: scikit-image>=0.12 in /usr/local/lib/python3.10/dist-packages (from lime) (0.19.3)\n",
            "Requirement already satisfied: networkx>=2.2 in /usr/local/lib/python3.10/dist-packages (from scikit-image>=0.12->lime) (3.1)\n",
            "Requirement already satisfied: pillow!=7.1.0,!=7.1.1,!=8.3.0,>=6.1.0 in /usr/local/lib/python3.10/dist-packages (from scikit-image>=0.12->lime) (9.4.0)\n",
            "Requirement already satisfied: imageio>=2.4.1 in /usr/local/lib/python3.10/dist-packages (from scikit-image>=0.12->lime) (2.31.1)\n",
            "Requirement already satisfied: tifffile>=2019.7.26 in /usr/local/lib/python3.10/dist-packages (from scikit-image>=0.12->lime) (2023.8.12)\n",
            "Requirement already satisfied: PyWavelets>=1.1.1 in /usr/local/lib/python3.10/dist-packages (from scikit-image>=0.12->lime) (1.4.1)\n",
            "Requirement already satisfied: packaging>=20.0 in /usr/local/lib/python3.10/dist-packages (from scikit-image>=0.12->lime) (23.1)\n",
            "Requirement already satisfied: joblib>=1.1.1 in /usr/local/lib/python3.10/dist-packages (from scikit-learn>=0.18->lime) (1.3.2)\n",
            "Requirement already satisfied: threadpoolctl>=2.0.0 in /usr/local/lib/python3.10/dist-packages (from scikit-learn>=0.18->lime) (3.2.0)\n",
            "Requirement already satisfied: contourpy>=1.0.1 in /usr/local/lib/python3.10/dist-packages (from matplotlib->lime) (1.1.0)\n",
            "Requirement already satisfied: cycler>=0.10 in /usr/local/lib/python3.10/dist-packages (from matplotlib->lime) (0.11.0)\n",
            "Requirement already satisfied: fonttools>=4.22.0 in /usr/local/lib/python3.10/dist-packages (from matplotlib->lime) (4.42.1)\n",
            "Requirement already satisfied: kiwisolver>=1.0.1 in /usr/local/lib/python3.10/dist-packages (from matplotlib->lime) (1.4.4)\n",
            "Requirement already satisfied: pyparsing>=2.3.1 in /usr/local/lib/python3.10/dist-packages (from matplotlib->lime) (3.1.1)\n",
            "Requirement already satisfied: python-dateutil>=2.7 in /usr/local/lib/python3.10/dist-packages (from matplotlib->lime) (2.8.2)\n",
            "Requirement already satisfied: six>=1.5 in /usr/local/lib/python3.10/dist-packages (from python-dateutil>=2.7->matplotlib->lime) (1.16.0)\n",
            "Building wheels for collected packages: lime\n",
            "  Building wheel for lime (setup.py) ... \u001b[?25l\u001b[?25hdone\n",
            "  Created wheel for lime: filename=lime-0.2.0.1-py3-none-any.whl size=283834 sha256=1fd5fc889c27c9b91c81d2cef381bf0079a96c81d8a90dd2d6de843b8096a8b8\n",
            "  Stored in directory: /root/.cache/pip/wheels/fd/a2/af/9ac0a1a85a27f314a06b39e1f492bee1547d52549a4606ed89\n",
            "Successfully built lime\n",
            "Installing collected packages: lime\n",
            "Successfully installed lime-0.2.0.1\n"
          ]
        }
      ],
      "source": [
        "!pip install lime"
      ]
    },
    {
      "cell_type": "code",
      "execution_count": null,
      "metadata": {
        "id": "XtvKIpxJuxx1"
      },
      "outputs": [],
      "source": [
        "import lime\n",
        "from lime.lime_text import LimeTextExplainer"
      ]
    },
    {
      "cell_type": "markdown",
      "metadata": {
        "id": "pMh4ckrvG5ch"
      },
      "source": [
        "## LimeTestes"
      ]
    },
    {
      "cell_type": "markdown",
      "metadata": {
        "id": "NRwtDYB8HARO"
      },
      "source": [
        "## Funçao de predicao"
      ]
    },
    {
      "cell_type": "code",
      "execution_count": null,
      "metadata": {
        "id": "jEER2lUKG79a"
      },
      "outputs": [],
      "source": [
        "def predict_proba(arr):\n",
        "    # processed=[]\n",
        "    # for i in arr:\n",
        "    #     processed.append(i)\n",
        "    id,segment,mask=prepare(arr,tokenizer,max_length=200)\n",
        "    pred=model.predict([id,mask,segment])\n",
        "    return pred\n",
        "    # id, segment, mask = prepare([arr], tokenizer, max_length=200)\n",
        "    # pred = model.predict([id, mask, segment], batch_size=1)\n",
        "    # return pred"
      ]
    },
    {
      "cell_type": "code",
      "execution_count": null,
      "metadata": {
        "id": "ITnHsuVPOiHI"
      },
      "outputs": [],
      "source": [
        "def save_lime_explain(model_save_name, files_name, pos, sample_index, sample_text, original_class, prediction_class):\n",
        "\n",
        "  metrics = {\n",
        "    'model_name': model_save_name,\n",
        "    'pos': pos,\n",
        "    'index': sample_index,\n",
        "    'real_class': original_class,\n",
        "    'pred_class': prediction_class,\n",
        "    'text': sample_text\n",
        "  }\n",
        "\n",
        "  if os.path.isfile(files_name['lime_explanations']):\n",
        "      # Se o arquivo existe, leia-o em um DataFrame\n",
        "      df_lime = pd.read_csv(files_name['lime_explanations'])\n",
        "  else:\n",
        "      # Se o arquivo não existe, crie um DataFrame vazio\n",
        "      df_lime = pd.DataFrame()\n",
        "\n",
        "  df_lime = df_lime.append(metrics, ignore_index=True)\n",
        "  df_lime.to_csv(files_name['lime_explanations'], index=False)\n",
        "  display(df_lime.tail())\n"
      ]
    },
    {
      "cell_type": "code",
      "execution_count": null,
      "metadata": {
        "id": "0cD7Md_tHR0W"
      },
      "outputs": [],
      "source": [
        "def explain_instance(directories, test, y_pred_bool, model_save_name, files_name):\n",
        "  class_names = [0, 1]\n",
        "  explainer = LimeTextExplainer(class_names=class_names)\n",
        "  i = 0\n",
        "  for index, row in test.iterrows():\n",
        "    if i <= 682:\n",
        "      i = i + 1\n",
        "      continue\n",
        "    file_name = '/' + model_save_name + '_' + str(i) + '_pos_' + str(index) + '_index_'+ str(int(row['label'])) + '_orig_class_'+ str(y_pred_bool[i]) +'pred_class__lime_explain'\n",
        "    html_path = 'lime_html_' +  str(int(row['label'])) + '_' + str(y_pred_bool[i])\n",
        "    # explicando instancia\n",
        "    exp = explainer.explain_instance(row['content'], predict_proba)\n",
        "    exp.show_in_notebook(text=True)\n",
        "    # Salvando html do lime\n",
        "    exp.save_to_file(directories[html_path] + file_name + '.html')\n",
        "    # salvando explicancao como csv\n",
        "    result_list = exp.as_list()\n",
        "    csv_file_name = directories[html_path] + file_name + '.csv'\n",
        "    with open(csv_file_name, mode='w', newline='') as result_file:\n",
        "      writer = csv.writer(result_file)\n",
        "      writer.writerows(result_list)\n",
        "    # salvando texto e predicao e classe real no csv com todas as amostras\n",
        "    save_lime_explain(model_save_name, files_name, i, index, row['content'], row['label'], y_pred_bool[i])\n",
        "    i = i + 1\n",
        "    print(i)\n",
        "    print('-------------------------------------')\n"
      ]
    },
    {
      "cell_type": "code",
      "execution_count": null,
      "metadata": {
        "id": "oj7CM_iVN9bf"
      },
      "outputs": [],
      "source": [
        "explain_instance(directories, test, y_pred_bool, model_save_name, files_name)"
      ]
    },
    {
      "cell_type": "code",
      "execution_count": null,
      "metadata": {
        "id": "_-S5kWNPNo9B"
      },
      "outputs": [],
      "source": [
        "def explain_instance(explainer, directories, test):\n"
      ]
    },
    {
      "cell_type": "markdown",
      "metadata": {
        "id": "l-rR6dviG1En"
      },
      "source": [
        "# experimentos de teste Lime"
      ]
    },
    {
      "cell_type": "code",
      "execution_count": null,
      "metadata": {
        "id": "y4UfrkWoGzuQ"
      },
      "outputs": [],
      "source": []
    },
    {
      "cell_type": "code",
      "execution_count": null,
      "metadata": {
        "id": "0jZ5-YcQAmhU"
      },
      "outputs": [],
      "source": [
        "# y_pred = model.predict([ids_test, masks_test, segments_test])\n",
        "# row_index = dataset.loc[dataset['label'] == 0].index[0]\n",
        "# row = dataset.loc[row_index, :]\n",
        "# ids_train, segments_train, masks_train = prepare(tr,\n",
        "#                                                  tokenizer, MAX_LEN)"
      ]
    },
    {
      "cell_type": "markdown",
      "metadata": {
        "id": "C4Vl0KYpGfq4"
      },
      "source": [
        "## funcao de predicao"
      ]
    },
    {
      "cell_type": "code",
      "execution_count": null,
      "metadata": {
        "id": "b_hj8XZmAoyT"
      },
      "outputs": [],
      "source": [
        "def predict_proba_test(arr):\n",
        "    # processed=[]\n",
        "    # for i in arr:\n",
        "    #     processed.append(i)\n",
        "    id,segment,mask=prepare(arr,tokenizer,max_length=200)\n",
        "    pred=model.predict([id,mask,segment])\n",
        "    return pred\n",
        "    # id, segment, mask = prepare([arr], tokenizer, max_length=200)\n",
        "    # pred = model.predict([id, mask, segment], batch_size=1)\n",
        "    # return pred"
      ]
    },
    {
      "cell_type": "code",
      "execution_count": null,
      "metadata": {
        "id": "7wxGoIpYYZ6l"
      },
      "outputs": [],
      "source": []
    },
    {
      "cell_type": "code",
      "execution_count": null,
      "metadata": {
        "id": "smDj5H19YCCf"
      },
      "outputs": [],
      "source": [
        "row_index"
      ]
    },
    {
      "cell_type": "code",
      "execution_count": null,
      "metadata": {
        "id": "j_D3fO_bX-DV"
      },
      "outputs": [],
      "source": [
        "dataset.iloc[4,:]"
      ]
    },
    {
      "cell_type": "code",
      "execution_count": null,
      "metadata": {
        "id": "YNmncCZgX9I0"
      },
      "outputs": [],
      "source": []
    },
    {
      "cell_type": "code",
      "execution_count": null,
      "metadata": {
        "id": "09ZTSuojA2_m"
      },
      "outputs": [],
      "source": [
        "# sample_text = dataset.iloc[4,:]\n",
        "sample_text = dataset['content'][4]\n",
        "sample_text = dataset['content'][4]\n",
        "      # dataset['content'][3600]\n",
        "\n",
        "samples = [\n",
        "     dataset['content'][4],\n",
        "     dataset['content'][3600]\n",
        "]"
      ]
    },
    {
      "cell_type": "code",
      "execution_count": null,
      "metadata": {
        "id": "Uql1kYkQJbbr"
      },
      "outputs": [],
      "source": [
        "samples = [\n",
        "     dataset['content'][6660],\n",
        "]"
      ]
    },
    {
      "cell_type": "code",
      "execution_count": null,
      "metadata": {
        "id": "RjZ9JCcgK3_R"
      },
      "outputs": [],
      "source": [
        "dataset.iloc[3600,:]"
      ]
    },
    {
      "cell_type": "code",
      "execution_count": null,
      "metadata": {
        "id": "UiWPsmtsIKEY"
      },
      "outputs": [],
      "source": [
        "test['content'][6660]"
      ]
    },
    {
      "cell_type": "code",
      "execution_count": null,
      "metadata": {
        "id": "F-wy4JT4IGwZ"
      },
      "outputs": [],
      "source": [
        "test[\"label\"]"
      ]
    },
    {
      "cell_type": "code",
      "execution_count": null,
      "metadata": {
        "id": "punICj3TC4DQ"
      },
      "outputs": [],
      "source": [
        "resp = predict_proba_test(samples)"
      ]
    },
    {
      "cell_type": "code",
      "execution_count": null,
      "metadata": {
        "id": "_NZcvemhY4et"
      },
      "outputs": [],
      "source": [
        "resp"
      ]
    },
    {
      "cell_type": "code",
      "execution_count": null,
      "metadata": {
        "id": "oTlYQOZZEfTf"
      },
      "outputs": [],
      "source": [
        "resp"
      ]
    },
    {
      "cell_type": "code",
      "execution_count": null,
      "metadata": {
        "id": "8aPl-zsCrxrT"
      },
      "outputs": [],
      "source": [
        "resp = predict_proba(dataset['content'][4])"
      ]
    },
    {
      "cell_type": "code",
      "execution_count": null,
      "metadata": {
        "id": "dXtwWI0HT8Eh"
      },
      "outputs": [],
      "source": [
        "# test = np.where(resp >= threshold, 1, 0)\n",
        "np.argmax(resp, axis=0)"
      ]
    },
    {
      "cell_type": "markdown",
      "metadata": {
        "id": "YSDrVZCbGoxT"
      },
      "source": [
        "## instanciando explainer"
      ]
    },
    {
      "cell_type": "code",
      "execution_count": null,
      "metadata": {
        "id": "2PZZnVLtRqFk"
      },
      "outputs": [],
      "source": [
        "class_names = [0, 1]\n",
        "explainer = LimeTextExplainer(class_names=class_names)\n"
      ]
    },
    {
      "cell_type": "code",
      "execution_count": null,
      "metadata": {
        "id": "a5EI21FpA94P"
      },
      "outputs": [],
      "source": [
        "explainer.explain_instance(dataset['content'][3600],predict_proba).show_in_notebook(text=True)\n"
      ]
    },
    {
      "cell_type": "code",
      "execution_count": null,
      "metadata": {
        "id": "-CHvFtX-bmaH"
      },
      "outputs": [],
      "source": [
        "explainer.explain_instance(dataset['content'][4],predict_proba).show_in_notebook(text=True)\n"
      ]
    }
  ],
  "metadata": {
    "accelerator": "GPU",
    "colab": {
      "machine_shape": "hm",
      "provenance": [],
      "gpuType": "A100",
      "toc_visible": true,
      "mount_file_id": "1mJaMp0A156CKm4RCepk7JBxea3BQkWJ1",
      "authorship_tag": "ABX9TyMq0hf/LBsl5yO+20HmMthG",
      "include_colab_link": true
    },
    "kernelspec": {
      "display_name": "Python 3",
      "name": "python3"
    },
    "language_info": {
      "name": "python"
    },
    "widgets": {
      "application/vnd.jupyter.widget-state+json": {
        "698b895c7a2141c2824ffa0cefafed14": {
          "model_module": "@jupyter-widgets/controls",
          "model_name": "HBoxModel",
          "model_module_version": "1.5.0",
          "state": {
            "_dom_classes": [],
            "_model_module": "@jupyter-widgets/controls",
            "_model_module_version": "1.5.0",
            "_model_name": "HBoxModel",
            "_view_count": null,
            "_view_module": "@jupyter-widgets/controls",
            "_view_module_version": "1.5.0",
            "_view_name": "HBoxView",
            "box_style": "",
            "children": [
              "IPY_MODEL_f32b628d0e59484789872c1528a82dfc",
              "IPY_MODEL_45b85673d4664f0dac244e0dc3a5f16c",
              "IPY_MODEL_1ccbc7dbc0dd4b13ad80158b8f5d8d65"
            ],
            "layout": "IPY_MODEL_b808ee28780e494e892692be94e2d460"
          }
        },
        "f32b628d0e59484789872c1528a82dfc": {
          "model_module": "@jupyter-widgets/controls",
          "model_name": "HTMLModel",
          "model_module_version": "1.5.0",
          "state": {
            "_dom_classes": [],
            "_model_module": "@jupyter-widgets/controls",
            "_model_module_version": "1.5.0",
            "_model_name": "HTMLModel",
            "_view_count": null,
            "_view_module": "@jupyter-widgets/controls",
            "_view_module_version": "1.5.0",
            "_view_name": "HTMLView",
            "description": "",
            "description_tooltip": null,
            "layout": "IPY_MODEL_0ed8f97ac5ea471c85a4818c2e8d485b",
            "placeholder": "​",
            "style": "IPY_MODEL_3e230bb8804b478dbb0a5db381a110f4",
            "value": "Downloading (…)solve/main/vocab.txt: 100%"
          }
        },
        "45b85673d4664f0dac244e0dc3a5f16c": {
          "model_module": "@jupyter-widgets/controls",
          "model_name": "FloatProgressModel",
          "model_module_version": "1.5.0",
          "state": {
            "_dom_classes": [],
            "_model_module": "@jupyter-widgets/controls",
            "_model_module_version": "1.5.0",
            "_model_name": "FloatProgressModel",
            "_view_count": null,
            "_view_module": "@jupyter-widgets/controls",
            "_view_module_version": "1.5.0",
            "_view_name": "ProgressView",
            "bar_style": "success",
            "description": "",
            "description_tooltip": null,
            "layout": "IPY_MODEL_e1f4596e2c5749239e73e0d19ce77a8a",
            "max": 209528,
            "min": 0,
            "orientation": "horizontal",
            "style": "IPY_MODEL_24c49a6437ef4a86b0ebc9e6466b4e03",
            "value": 209528
          }
        },
        "1ccbc7dbc0dd4b13ad80158b8f5d8d65": {
          "model_module": "@jupyter-widgets/controls",
          "model_name": "HTMLModel",
          "model_module_version": "1.5.0",
          "state": {
            "_dom_classes": [],
            "_model_module": "@jupyter-widgets/controls",
            "_model_module_version": "1.5.0",
            "_model_name": "HTMLModel",
            "_view_count": null,
            "_view_module": "@jupyter-widgets/controls",
            "_view_module_version": "1.5.0",
            "_view_name": "HTMLView",
            "description": "",
            "description_tooltip": null,
            "layout": "IPY_MODEL_4cf50c4fa2104a25bb3aa201e554deb2",
            "placeholder": "​",
            "style": "IPY_MODEL_96af457029664c82bb84942358042ec7",
            "value": " 210k/210k [00:00&lt;00:00, 894kB/s]"
          }
        },
        "b808ee28780e494e892692be94e2d460": {
          "model_module": "@jupyter-widgets/base",
          "model_name": "LayoutModel",
          "model_module_version": "1.2.0",
          "state": {
            "_model_module": "@jupyter-widgets/base",
            "_model_module_version": "1.2.0",
            "_model_name": "LayoutModel",
            "_view_count": null,
            "_view_module": "@jupyter-widgets/base",
            "_view_module_version": "1.2.0",
            "_view_name": "LayoutView",
            "align_content": null,
            "align_items": null,
            "align_self": null,
            "border": null,
            "bottom": null,
            "display": null,
            "flex": null,
            "flex_flow": null,
            "grid_area": null,
            "grid_auto_columns": null,
            "grid_auto_flow": null,
            "grid_auto_rows": null,
            "grid_column": null,
            "grid_gap": null,
            "grid_row": null,
            "grid_template_areas": null,
            "grid_template_columns": null,
            "grid_template_rows": null,
            "height": null,
            "justify_content": null,
            "justify_items": null,
            "left": null,
            "margin": null,
            "max_height": null,
            "max_width": null,
            "min_height": null,
            "min_width": null,
            "object_fit": null,
            "object_position": null,
            "order": null,
            "overflow": null,
            "overflow_x": null,
            "overflow_y": null,
            "padding": null,
            "right": null,
            "top": null,
            "visibility": null,
            "width": null
          }
        },
        "0ed8f97ac5ea471c85a4818c2e8d485b": {
          "model_module": "@jupyter-widgets/base",
          "model_name": "LayoutModel",
          "model_module_version": "1.2.0",
          "state": {
            "_model_module": "@jupyter-widgets/base",
            "_model_module_version": "1.2.0",
            "_model_name": "LayoutModel",
            "_view_count": null,
            "_view_module": "@jupyter-widgets/base",
            "_view_module_version": "1.2.0",
            "_view_name": "LayoutView",
            "align_content": null,
            "align_items": null,
            "align_self": null,
            "border": null,
            "bottom": null,
            "display": null,
            "flex": null,
            "flex_flow": null,
            "grid_area": null,
            "grid_auto_columns": null,
            "grid_auto_flow": null,
            "grid_auto_rows": null,
            "grid_column": null,
            "grid_gap": null,
            "grid_row": null,
            "grid_template_areas": null,
            "grid_template_columns": null,
            "grid_template_rows": null,
            "height": null,
            "justify_content": null,
            "justify_items": null,
            "left": null,
            "margin": null,
            "max_height": null,
            "max_width": null,
            "min_height": null,
            "min_width": null,
            "object_fit": null,
            "object_position": null,
            "order": null,
            "overflow": null,
            "overflow_x": null,
            "overflow_y": null,
            "padding": null,
            "right": null,
            "top": null,
            "visibility": null,
            "width": null
          }
        },
        "3e230bb8804b478dbb0a5db381a110f4": {
          "model_module": "@jupyter-widgets/controls",
          "model_name": "DescriptionStyleModel",
          "model_module_version": "1.5.0",
          "state": {
            "_model_module": "@jupyter-widgets/controls",
            "_model_module_version": "1.5.0",
            "_model_name": "DescriptionStyleModel",
            "_view_count": null,
            "_view_module": "@jupyter-widgets/base",
            "_view_module_version": "1.2.0",
            "_view_name": "StyleView",
            "description_width": ""
          }
        },
        "e1f4596e2c5749239e73e0d19ce77a8a": {
          "model_module": "@jupyter-widgets/base",
          "model_name": "LayoutModel",
          "model_module_version": "1.2.0",
          "state": {
            "_model_module": "@jupyter-widgets/base",
            "_model_module_version": "1.2.0",
            "_model_name": "LayoutModel",
            "_view_count": null,
            "_view_module": "@jupyter-widgets/base",
            "_view_module_version": "1.2.0",
            "_view_name": "LayoutView",
            "align_content": null,
            "align_items": null,
            "align_self": null,
            "border": null,
            "bottom": null,
            "display": null,
            "flex": null,
            "flex_flow": null,
            "grid_area": null,
            "grid_auto_columns": null,
            "grid_auto_flow": null,
            "grid_auto_rows": null,
            "grid_column": null,
            "grid_gap": null,
            "grid_row": null,
            "grid_template_areas": null,
            "grid_template_columns": null,
            "grid_template_rows": null,
            "height": null,
            "justify_content": null,
            "justify_items": null,
            "left": null,
            "margin": null,
            "max_height": null,
            "max_width": null,
            "min_height": null,
            "min_width": null,
            "object_fit": null,
            "object_position": null,
            "order": null,
            "overflow": null,
            "overflow_x": null,
            "overflow_y": null,
            "padding": null,
            "right": null,
            "top": null,
            "visibility": null,
            "width": null
          }
        },
        "24c49a6437ef4a86b0ebc9e6466b4e03": {
          "model_module": "@jupyter-widgets/controls",
          "model_name": "ProgressStyleModel",
          "model_module_version": "1.5.0",
          "state": {
            "_model_module": "@jupyter-widgets/controls",
            "_model_module_version": "1.5.0",
            "_model_name": "ProgressStyleModel",
            "_view_count": null,
            "_view_module": "@jupyter-widgets/base",
            "_view_module_version": "1.2.0",
            "_view_name": "StyleView",
            "bar_color": null,
            "description_width": ""
          }
        },
        "4cf50c4fa2104a25bb3aa201e554deb2": {
          "model_module": "@jupyter-widgets/base",
          "model_name": "LayoutModel",
          "model_module_version": "1.2.0",
          "state": {
            "_model_module": "@jupyter-widgets/base",
            "_model_module_version": "1.2.0",
            "_model_name": "LayoutModel",
            "_view_count": null,
            "_view_module": "@jupyter-widgets/base",
            "_view_module_version": "1.2.0",
            "_view_name": "LayoutView",
            "align_content": null,
            "align_items": null,
            "align_self": null,
            "border": null,
            "bottom": null,
            "display": null,
            "flex": null,
            "flex_flow": null,
            "grid_area": null,
            "grid_auto_columns": null,
            "grid_auto_flow": null,
            "grid_auto_rows": null,
            "grid_column": null,
            "grid_gap": null,
            "grid_row": null,
            "grid_template_areas": null,
            "grid_template_columns": null,
            "grid_template_rows": null,
            "height": null,
            "justify_content": null,
            "justify_items": null,
            "left": null,
            "margin": null,
            "max_height": null,
            "max_width": null,
            "min_height": null,
            "min_width": null,
            "object_fit": null,
            "object_position": null,
            "order": null,
            "overflow": null,
            "overflow_x": null,
            "overflow_y": null,
            "padding": null,
            "right": null,
            "top": null,
            "visibility": null,
            "width": null
          }
        },
        "96af457029664c82bb84942358042ec7": {
          "model_module": "@jupyter-widgets/controls",
          "model_name": "DescriptionStyleModel",
          "model_module_version": "1.5.0",
          "state": {
            "_model_module": "@jupyter-widgets/controls",
            "_model_module_version": "1.5.0",
            "_model_name": "DescriptionStyleModel",
            "_view_count": null,
            "_view_module": "@jupyter-widgets/base",
            "_view_module_version": "1.2.0",
            "_view_name": "StyleView",
            "description_width": ""
          }
        },
        "d8db8d83e082453b85e3a9761bdedbd7": {
          "model_module": "@jupyter-widgets/controls",
          "model_name": "HBoxModel",
          "model_module_version": "1.5.0",
          "state": {
            "_dom_classes": [],
            "_model_module": "@jupyter-widgets/controls",
            "_model_module_version": "1.5.0",
            "_model_name": "HBoxModel",
            "_view_count": null,
            "_view_module": "@jupyter-widgets/controls",
            "_view_module_version": "1.5.0",
            "_view_name": "HBoxView",
            "box_style": "",
            "children": [
              "IPY_MODEL_41bd17da36c945328376b17693ed23ad",
              "IPY_MODEL_28d0234abd2b4b7d913d5a0038dbbb1e",
              "IPY_MODEL_c1dbf59793854c849ea1576f06cc3742"
            ],
            "layout": "IPY_MODEL_05107bc8f03f4448bed57001312306ce"
          }
        },
        "41bd17da36c945328376b17693ed23ad": {
          "model_module": "@jupyter-widgets/controls",
          "model_name": "HTMLModel",
          "model_module_version": "1.5.0",
          "state": {
            "_dom_classes": [],
            "_model_module": "@jupyter-widgets/controls",
            "_model_module_version": "1.5.0",
            "_model_name": "HTMLModel",
            "_view_count": null,
            "_view_module": "@jupyter-widgets/controls",
            "_view_module_version": "1.5.0",
            "_view_name": "HTMLView",
            "description": "",
            "description_tooltip": null,
            "layout": "IPY_MODEL_82f44729c8ef4204af98c08c746dc669",
            "placeholder": "​",
            "style": "IPY_MODEL_b3887265c523425c99cdbf4fad15dc78",
            "value": "Downloading (…)in/added_tokens.json: 100%"
          }
        },
        "28d0234abd2b4b7d913d5a0038dbbb1e": {
          "model_module": "@jupyter-widgets/controls",
          "model_name": "FloatProgressModel",
          "model_module_version": "1.5.0",
          "state": {
            "_dom_classes": [],
            "_model_module": "@jupyter-widgets/controls",
            "_model_module_version": "1.5.0",
            "_model_name": "FloatProgressModel",
            "_view_count": null,
            "_view_module": "@jupyter-widgets/controls",
            "_view_module_version": "1.5.0",
            "_view_name": "ProgressView",
            "bar_style": "success",
            "description": "",
            "description_tooltip": null,
            "layout": "IPY_MODEL_1dab7afe38b641ffa0fee97cb62c37d1",
            "max": 2,
            "min": 0,
            "orientation": "horizontal",
            "style": "IPY_MODEL_d9e554957dde42e0bb47c012902cd318",
            "value": 2
          }
        },
        "c1dbf59793854c849ea1576f06cc3742": {
          "model_module": "@jupyter-widgets/controls",
          "model_name": "HTMLModel",
          "model_module_version": "1.5.0",
          "state": {
            "_dom_classes": [],
            "_model_module": "@jupyter-widgets/controls",
            "_model_module_version": "1.5.0",
            "_model_name": "HTMLModel",
            "_view_count": null,
            "_view_module": "@jupyter-widgets/controls",
            "_view_module_version": "1.5.0",
            "_view_name": "HTMLView",
            "description": "",
            "description_tooltip": null,
            "layout": "IPY_MODEL_a00ef979f68c4d7d86f676ee6a908f5c",
            "placeholder": "​",
            "style": "IPY_MODEL_99963cfd295648f1974b199614f57ad6",
            "value": " 2.00/2.00 [00:00&lt;00:00, 172B/s]"
          }
        },
        "05107bc8f03f4448bed57001312306ce": {
          "model_module": "@jupyter-widgets/base",
          "model_name": "LayoutModel",
          "model_module_version": "1.2.0",
          "state": {
            "_model_module": "@jupyter-widgets/base",
            "_model_module_version": "1.2.0",
            "_model_name": "LayoutModel",
            "_view_count": null,
            "_view_module": "@jupyter-widgets/base",
            "_view_module_version": "1.2.0",
            "_view_name": "LayoutView",
            "align_content": null,
            "align_items": null,
            "align_self": null,
            "border": null,
            "bottom": null,
            "display": null,
            "flex": null,
            "flex_flow": null,
            "grid_area": null,
            "grid_auto_columns": null,
            "grid_auto_flow": null,
            "grid_auto_rows": null,
            "grid_column": null,
            "grid_gap": null,
            "grid_row": null,
            "grid_template_areas": null,
            "grid_template_columns": null,
            "grid_template_rows": null,
            "height": null,
            "justify_content": null,
            "justify_items": null,
            "left": null,
            "margin": null,
            "max_height": null,
            "max_width": null,
            "min_height": null,
            "min_width": null,
            "object_fit": null,
            "object_position": null,
            "order": null,
            "overflow": null,
            "overflow_x": null,
            "overflow_y": null,
            "padding": null,
            "right": null,
            "top": null,
            "visibility": null,
            "width": null
          }
        },
        "82f44729c8ef4204af98c08c746dc669": {
          "model_module": "@jupyter-widgets/base",
          "model_name": "LayoutModel",
          "model_module_version": "1.2.0",
          "state": {
            "_model_module": "@jupyter-widgets/base",
            "_model_module_version": "1.2.0",
            "_model_name": "LayoutModel",
            "_view_count": null,
            "_view_module": "@jupyter-widgets/base",
            "_view_module_version": "1.2.0",
            "_view_name": "LayoutView",
            "align_content": null,
            "align_items": null,
            "align_self": null,
            "border": null,
            "bottom": null,
            "display": null,
            "flex": null,
            "flex_flow": null,
            "grid_area": null,
            "grid_auto_columns": null,
            "grid_auto_flow": null,
            "grid_auto_rows": null,
            "grid_column": null,
            "grid_gap": null,
            "grid_row": null,
            "grid_template_areas": null,
            "grid_template_columns": null,
            "grid_template_rows": null,
            "height": null,
            "justify_content": null,
            "justify_items": null,
            "left": null,
            "margin": null,
            "max_height": null,
            "max_width": null,
            "min_height": null,
            "min_width": null,
            "object_fit": null,
            "object_position": null,
            "order": null,
            "overflow": null,
            "overflow_x": null,
            "overflow_y": null,
            "padding": null,
            "right": null,
            "top": null,
            "visibility": null,
            "width": null
          }
        },
        "b3887265c523425c99cdbf4fad15dc78": {
          "model_module": "@jupyter-widgets/controls",
          "model_name": "DescriptionStyleModel",
          "model_module_version": "1.5.0",
          "state": {
            "_model_module": "@jupyter-widgets/controls",
            "_model_module_version": "1.5.0",
            "_model_name": "DescriptionStyleModel",
            "_view_count": null,
            "_view_module": "@jupyter-widgets/base",
            "_view_module_version": "1.2.0",
            "_view_name": "StyleView",
            "description_width": ""
          }
        },
        "1dab7afe38b641ffa0fee97cb62c37d1": {
          "model_module": "@jupyter-widgets/base",
          "model_name": "LayoutModel",
          "model_module_version": "1.2.0",
          "state": {
            "_model_module": "@jupyter-widgets/base",
            "_model_module_version": "1.2.0",
            "_model_name": "LayoutModel",
            "_view_count": null,
            "_view_module": "@jupyter-widgets/base",
            "_view_module_version": "1.2.0",
            "_view_name": "LayoutView",
            "align_content": null,
            "align_items": null,
            "align_self": null,
            "border": null,
            "bottom": null,
            "display": null,
            "flex": null,
            "flex_flow": null,
            "grid_area": null,
            "grid_auto_columns": null,
            "grid_auto_flow": null,
            "grid_auto_rows": null,
            "grid_column": null,
            "grid_gap": null,
            "grid_row": null,
            "grid_template_areas": null,
            "grid_template_columns": null,
            "grid_template_rows": null,
            "height": null,
            "justify_content": null,
            "justify_items": null,
            "left": null,
            "margin": null,
            "max_height": null,
            "max_width": null,
            "min_height": null,
            "min_width": null,
            "object_fit": null,
            "object_position": null,
            "order": null,
            "overflow": null,
            "overflow_x": null,
            "overflow_y": null,
            "padding": null,
            "right": null,
            "top": null,
            "visibility": null,
            "width": null
          }
        },
        "d9e554957dde42e0bb47c012902cd318": {
          "model_module": "@jupyter-widgets/controls",
          "model_name": "ProgressStyleModel",
          "model_module_version": "1.5.0",
          "state": {
            "_model_module": "@jupyter-widgets/controls",
            "_model_module_version": "1.5.0",
            "_model_name": "ProgressStyleModel",
            "_view_count": null,
            "_view_module": "@jupyter-widgets/base",
            "_view_module_version": "1.2.0",
            "_view_name": "StyleView",
            "bar_color": null,
            "description_width": ""
          }
        },
        "a00ef979f68c4d7d86f676ee6a908f5c": {
          "model_module": "@jupyter-widgets/base",
          "model_name": "LayoutModel",
          "model_module_version": "1.2.0",
          "state": {
            "_model_module": "@jupyter-widgets/base",
            "_model_module_version": "1.2.0",
            "_model_name": "LayoutModel",
            "_view_count": null,
            "_view_module": "@jupyter-widgets/base",
            "_view_module_version": "1.2.0",
            "_view_name": "LayoutView",
            "align_content": null,
            "align_items": null,
            "align_self": null,
            "border": null,
            "bottom": null,
            "display": null,
            "flex": null,
            "flex_flow": null,
            "grid_area": null,
            "grid_auto_columns": null,
            "grid_auto_flow": null,
            "grid_auto_rows": null,
            "grid_column": null,
            "grid_gap": null,
            "grid_row": null,
            "grid_template_areas": null,
            "grid_template_columns": null,
            "grid_template_rows": null,
            "height": null,
            "justify_content": null,
            "justify_items": null,
            "left": null,
            "margin": null,
            "max_height": null,
            "max_width": null,
            "min_height": null,
            "min_width": null,
            "object_fit": null,
            "object_position": null,
            "order": null,
            "overflow": null,
            "overflow_x": null,
            "overflow_y": null,
            "padding": null,
            "right": null,
            "top": null,
            "visibility": null,
            "width": null
          }
        },
        "99963cfd295648f1974b199614f57ad6": {
          "model_module": "@jupyter-widgets/controls",
          "model_name": "DescriptionStyleModel",
          "model_module_version": "1.5.0",
          "state": {
            "_model_module": "@jupyter-widgets/controls",
            "_model_module_version": "1.5.0",
            "_model_name": "DescriptionStyleModel",
            "_view_count": null,
            "_view_module": "@jupyter-widgets/base",
            "_view_module_version": "1.2.0",
            "_view_name": "StyleView",
            "description_width": ""
          }
        },
        "7ab43057acab45f6b4386a84224e0b10": {
          "model_module": "@jupyter-widgets/controls",
          "model_name": "HBoxModel",
          "model_module_version": "1.5.0",
          "state": {
            "_dom_classes": [],
            "_model_module": "@jupyter-widgets/controls",
            "_model_module_version": "1.5.0",
            "_model_name": "HBoxModel",
            "_view_count": null,
            "_view_module": "@jupyter-widgets/controls",
            "_view_module_version": "1.5.0",
            "_view_name": "HBoxView",
            "box_style": "",
            "children": [
              "IPY_MODEL_7929e3b7833c45179b2ca4e7931369d7",
              "IPY_MODEL_9e65d8e41a914778890c01bcfa7312bd",
              "IPY_MODEL_72e7c6127640481c94c88fda1bf33c4b"
            ],
            "layout": "IPY_MODEL_6d6b907e05d3455e85fbdc0695143aa7"
          }
        },
        "7929e3b7833c45179b2ca4e7931369d7": {
          "model_module": "@jupyter-widgets/controls",
          "model_name": "HTMLModel",
          "model_module_version": "1.5.0",
          "state": {
            "_dom_classes": [],
            "_model_module": "@jupyter-widgets/controls",
            "_model_module_version": "1.5.0",
            "_model_name": "HTMLModel",
            "_view_count": null,
            "_view_module": "@jupyter-widgets/controls",
            "_view_module_version": "1.5.0",
            "_view_name": "HTMLView",
            "description": "",
            "description_tooltip": null,
            "layout": "IPY_MODEL_ab97ee68c5834909909149cb6c818d5d",
            "placeholder": "​",
            "style": "IPY_MODEL_2883af2bf6c841009f3ba1af153fd506",
            "value": "Downloading (…)cial_tokens_map.json: 100%"
          }
        },
        "9e65d8e41a914778890c01bcfa7312bd": {
          "model_module": "@jupyter-widgets/controls",
          "model_name": "FloatProgressModel",
          "model_module_version": "1.5.0",
          "state": {
            "_dom_classes": [],
            "_model_module": "@jupyter-widgets/controls",
            "_model_module_version": "1.5.0",
            "_model_name": "FloatProgressModel",
            "_view_count": null,
            "_view_module": "@jupyter-widgets/controls",
            "_view_module_version": "1.5.0",
            "_view_name": "ProgressView",
            "bar_style": "success",
            "description": "",
            "description_tooltip": null,
            "layout": "IPY_MODEL_15420b66b1ce4824acf3d89694b1e798",
            "max": 112,
            "min": 0,
            "orientation": "horizontal",
            "style": "IPY_MODEL_2f34d0a1a09942ecb29ed6ec6c925a60",
            "value": 112
          }
        },
        "72e7c6127640481c94c88fda1bf33c4b": {
          "model_module": "@jupyter-widgets/controls",
          "model_name": "HTMLModel",
          "model_module_version": "1.5.0",
          "state": {
            "_dom_classes": [],
            "_model_module": "@jupyter-widgets/controls",
            "_model_module_version": "1.5.0",
            "_model_name": "HTMLModel",
            "_view_count": null,
            "_view_module": "@jupyter-widgets/controls",
            "_view_module_version": "1.5.0",
            "_view_name": "HTMLView",
            "description": "",
            "description_tooltip": null,
            "layout": "IPY_MODEL_bccc5268d57e4cee9da39b72033a0437",
            "placeholder": "​",
            "style": "IPY_MODEL_5b45010fbd2b4598b656d2bb206a71ba",
            "value": " 112/112 [00:00&lt;00:00, 9.77kB/s]"
          }
        },
        "6d6b907e05d3455e85fbdc0695143aa7": {
          "model_module": "@jupyter-widgets/base",
          "model_name": "LayoutModel",
          "model_module_version": "1.2.0",
          "state": {
            "_model_module": "@jupyter-widgets/base",
            "_model_module_version": "1.2.0",
            "_model_name": "LayoutModel",
            "_view_count": null,
            "_view_module": "@jupyter-widgets/base",
            "_view_module_version": "1.2.0",
            "_view_name": "LayoutView",
            "align_content": null,
            "align_items": null,
            "align_self": null,
            "border": null,
            "bottom": null,
            "display": null,
            "flex": null,
            "flex_flow": null,
            "grid_area": null,
            "grid_auto_columns": null,
            "grid_auto_flow": null,
            "grid_auto_rows": null,
            "grid_column": null,
            "grid_gap": null,
            "grid_row": null,
            "grid_template_areas": null,
            "grid_template_columns": null,
            "grid_template_rows": null,
            "height": null,
            "justify_content": null,
            "justify_items": null,
            "left": null,
            "margin": null,
            "max_height": null,
            "max_width": null,
            "min_height": null,
            "min_width": null,
            "object_fit": null,
            "object_position": null,
            "order": null,
            "overflow": null,
            "overflow_x": null,
            "overflow_y": null,
            "padding": null,
            "right": null,
            "top": null,
            "visibility": null,
            "width": null
          }
        },
        "ab97ee68c5834909909149cb6c818d5d": {
          "model_module": "@jupyter-widgets/base",
          "model_name": "LayoutModel",
          "model_module_version": "1.2.0",
          "state": {
            "_model_module": "@jupyter-widgets/base",
            "_model_module_version": "1.2.0",
            "_model_name": "LayoutModel",
            "_view_count": null,
            "_view_module": "@jupyter-widgets/base",
            "_view_module_version": "1.2.0",
            "_view_name": "LayoutView",
            "align_content": null,
            "align_items": null,
            "align_self": null,
            "border": null,
            "bottom": null,
            "display": null,
            "flex": null,
            "flex_flow": null,
            "grid_area": null,
            "grid_auto_columns": null,
            "grid_auto_flow": null,
            "grid_auto_rows": null,
            "grid_column": null,
            "grid_gap": null,
            "grid_row": null,
            "grid_template_areas": null,
            "grid_template_columns": null,
            "grid_template_rows": null,
            "height": null,
            "justify_content": null,
            "justify_items": null,
            "left": null,
            "margin": null,
            "max_height": null,
            "max_width": null,
            "min_height": null,
            "min_width": null,
            "object_fit": null,
            "object_position": null,
            "order": null,
            "overflow": null,
            "overflow_x": null,
            "overflow_y": null,
            "padding": null,
            "right": null,
            "top": null,
            "visibility": null,
            "width": null
          }
        },
        "2883af2bf6c841009f3ba1af153fd506": {
          "model_module": "@jupyter-widgets/controls",
          "model_name": "DescriptionStyleModel",
          "model_module_version": "1.5.0",
          "state": {
            "_model_module": "@jupyter-widgets/controls",
            "_model_module_version": "1.5.0",
            "_model_name": "DescriptionStyleModel",
            "_view_count": null,
            "_view_module": "@jupyter-widgets/base",
            "_view_module_version": "1.2.0",
            "_view_name": "StyleView",
            "description_width": ""
          }
        },
        "15420b66b1ce4824acf3d89694b1e798": {
          "model_module": "@jupyter-widgets/base",
          "model_name": "LayoutModel",
          "model_module_version": "1.2.0",
          "state": {
            "_model_module": "@jupyter-widgets/base",
            "_model_module_version": "1.2.0",
            "_model_name": "LayoutModel",
            "_view_count": null,
            "_view_module": "@jupyter-widgets/base",
            "_view_module_version": "1.2.0",
            "_view_name": "LayoutView",
            "align_content": null,
            "align_items": null,
            "align_self": null,
            "border": null,
            "bottom": null,
            "display": null,
            "flex": null,
            "flex_flow": null,
            "grid_area": null,
            "grid_auto_columns": null,
            "grid_auto_flow": null,
            "grid_auto_rows": null,
            "grid_column": null,
            "grid_gap": null,
            "grid_row": null,
            "grid_template_areas": null,
            "grid_template_columns": null,
            "grid_template_rows": null,
            "height": null,
            "justify_content": null,
            "justify_items": null,
            "left": null,
            "margin": null,
            "max_height": null,
            "max_width": null,
            "min_height": null,
            "min_width": null,
            "object_fit": null,
            "object_position": null,
            "order": null,
            "overflow": null,
            "overflow_x": null,
            "overflow_y": null,
            "padding": null,
            "right": null,
            "top": null,
            "visibility": null,
            "width": null
          }
        },
        "2f34d0a1a09942ecb29ed6ec6c925a60": {
          "model_module": "@jupyter-widgets/controls",
          "model_name": "ProgressStyleModel",
          "model_module_version": "1.5.0",
          "state": {
            "_model_module": "@jupyter-widgets/controls",
            "_model_module_version": "1.5.0",
            "_model_name": "ProgressStyleModel",
            "_view_count": null,
            "_view_module": "@jupyter-widgets/base",
            "_view_module_version": "1.2.0",
            "_view_name": "StyleView",
            "bar_color": null,
            "description_width": ""
          }
        },
        "bccc5268d57e4cee9da39b72033a0437": {
          "model_module": "@jupyter-widgets/base",
          "model_name": "LayoutModel",
          "model_module_version": "1.2.0",
          "state": {
            "_model_module": "@jupyter-widgets/base",
            "_model_module_version": "1.2.0",
            "_model_name": "LayoutModel",
            "_view_count": null,
            "_view_module": "@jupyter-widgets/base",
            "_view_module_version": "1.2.0",
            "_view_name": "LayoutView",
            "align_content": null,
            "align_items": null,
            "align_self": null,
            "border": null,
            "bottom": null,
            "display": null,
            "flex": null,
            "flex_flow": null,
            "grid_area": null,
            "grid_auto_columns": null,
            "grid_auto_flow": null,
            "grid_auto_rows": null,
            "grid_column": null,
            "grid_gap": null,
            "grid_row": null,
            "grid_template_areas": null,
            "grid_template_columns": null,
            "grid_template_rows": null,
            "height": null,
            "justify_content": null,
            "justify_items": null,
            "left": null,
            "margin": null,
            "max_height": null,
            "max_width": null,
            "min_height": null,
            "min_width": null,
            "object_fit": null,
            "object_position": null,
            "order": null,
            "overflow": null,
            "overflow_x": null,
            "overflow_y": null,
            "padding": null,
            "right": null,
            "top": null,
            "visibility": null,
            "width": null
          }
        },
        "5b45010fbd2b4598b656d2bb206a71ba": {
          "model_module": "@jupyter-widgets/controls",
          "model_name": "DescriptionStyleModel",
          "model_module_version": "1.5.0",
          "state": {
            "_model_module": "@jupyter-widgets/controls",
            "_model_module_version": "1.5.0",
            "_model_name": "DescriptionStyleModel",
            "_view_count": null,
            "_view_module": "@jupyter-widgets/base",
            "_view_module_version": "1.2.0",
            "_view_name": "StyleView",
            "description_width": ""
          }
        },
        "998585f364964013a5cb901c298b9a5c": {
          "model_module": "@jupyter-widgets/controls",
          "model_name": "HBoxModel",
          "model_module_version": "1.5.0",
          "state": {
            "_dom_classes": [],
            "_model_module": "@jupyter-widgets/controls",
            "_model_module_version": "1.5.0",
            "_model_name": "HBoxModel",
            "_view_count": null,
            "_view_module": "@jupyter-widgets/controls",
            "_view_module_version": "1.5.0",
            "_view_name": "HBoxView",
            "box_style": "",
            "children": [
              "IPY_MODEL_a7787fff74b741dc8e56c0eb0ecb6563",
              "IPY_MODEL_3df40983180749568d055c12bf0eb914",
              "IPY_MODEL_1298ba90e932422d8814145a1cbfe78a"
            ],
            "layout": "IPY_MODEL_d9c358215e07414cad338e905fd1e522"
          }
        },
        "a7787fff74b741dc8e56c0eb0ecb6563": {
          "model_module": "@jupyter-widgets/controls",
          "model_name": "HTMLModel",
          "model_module_version": "1.5.0",
          "state": {
            "_dom_classes": [],
            "_model_module": "@jupyter-widgets/controls",
            "_model_module_version": "1.5.0",
            "_model_name": "HTMLModel",
            "_view_count": null,
            "_view_module": "@jupyter-widgets/controls",
            "_view_module_version": "1.5.0",
            "_view_name": "HTMLView",
            "description": "",
            "description_tooltip": null,
            "layout": "IPY_MODEL_4301a9219c834a6b8a57e7f22e0eaddc",
            "placeholder": "​",
            "style": "IPY_MODEL_01a9df9c40c64e83bf378d8b9e26617e",
            "value": "Downloading (…)okenizer_config.json: 100%"
          }
        },
        "3df40983180749568d055c12bf0eb914": {
          "model_module": "@jupyter-widgets/controls",
          "model_name": "FloatProgressModel",
          "model_module_version": "1.5.0",
          "state": {
            "_dom_classes": [],
            "_model_module": "@jupyter-widgets/controls",
            "_model_module_version": "1.5.0",
            "_model_name": "FloatProgressModel",
            "_view_count": null,
            "_view_module": "@jupyter-widgets/controls",
            "_view_module_version": "1.5.0",
            "_view_name": "ProgressView",
            "bar_style": "success",
            "description": "",
            "description_tooltip": null,
            "layout": "IPY_MODEL_0046f9d3fa4d48ac8ff66fbbe9d46fe9",
            "max": 43,
            "min": 0,
            "orientation": "horizontal",
            "style": "IPY_MODEL_1159aada268f42d1bd6b9d437625d661",
            "value": 43
          }
        },
        "1298ba90e932422d8814145a1cbfe78a": {
          "model_module": "@jupyter-widgets/controls",
          "model_name": "HTMLModel",
          "model_module_version": "1.5.0",
          "state": {
            "_dom_classes": [],
            "_model_module": "@jupyter-widgets/controls",
            "_model_module_version": "1.5.0",
            "_model_name": "HTMLModel",
            "_view_count": null,
            "_view_module": "@jupyter-widgets/controls",
            "_view_module_version": "1.5.0",
            "_view_name": "HTMLView",
            "description": "",
            "description_tooltip": null,
            "layout": "IPY_MODEL_25268e6f0d234453bc82766ce27bd5a3",
            "placeholder": "​",
            "style": "IPY_MODEL_b7155a58fe17469788e9c7a33440f006",
            "value": " 43.0/43.0 [00:00&lt;00:00, 4.07kB/s]"
          }
        },
        "d9c358215e07414cad338e905fd1e522": {
          "model_module": "@jupyter-widgets/base",
          "model_name": "LayoutModel",
          "model_module_version": "1.2.0",
          "state": {
            "_model_module": "@jupyter-widgets/base",
            "_model_module_version": "1.2.0",
            "_model_name": "LayoutModel",
            "_view_count": null,
            "_view_module": "@jupyter-widgets/base",
            "_view_module_version": "1.2.0",
            "_view_name": "LayoutView",
            "align_content": null,
            "align_items": null,
            "align_self": null,
            "border": null,
            "bottom": null,
            "display": null,
            "flex": null,
            "flex_flow": null,
            "grid_area": null,
            "grid_auto_columns": null,
            "grid_auto_flow": null,
            "grid_auto_rows": null,
            "grid_column": null,
            "grid_gap": null,
            "grid_row": null,
            "grid_template_areas": null,
            "grid_template_columns": null,
            "grid_template_rows": null,
            "height": null,
            "justify_content": null,
            "justify_items": null,
            "left": null,
            "margin": null,
            "max_height": null,
            "max_width": null,
            "min_height": null,
            "min_width": null,
            "object_fit": null,
            "object_position": null,
            "order": null,
            "overflow": null,
            "overflow_x": null,
            "overflow_y": null,
            "padding": null,
            "right": null,
            "top": null,
            "visibility": null,
            "width": null
          }
        },
        "4301a9219c834a6b8a57e7f22e0eaddc": {
          "model_module": "@jupyter-widgets/base",
          "model_name": "LayoutModel",
          "model_module_version": "1.2.0",
          "state": {
            "_model_module": "@jupyter-widgets/base",
            "_model_module_version": "1.2.0",
            "_model_name": "LayoutModel",
            "_view_count": null,
            "_view_module": "@jupyter-widgets/base",
            "_view_module_version": "1.2.0",
            "_view_name": "LayoutView",
            "align_content": null,
            "align_items": null,
            "align_self": null,
            "border": null,
            "bottom": null,
            "display": null,
            "flex": null,
            "flex_flow": null,
            "grid_area": null,
            "grid_auto_columns": null,
            "grid_auto_flow": null,
            "grid_auto_rows": null,
            "grid_column": null,
            "grid_gap": null,
            "grid_row": null,
            "grid_template_areas": null,
            "grid_template_columns": null,
            "grid_template_rows": null,
            "height": null,
            "justify_content": null,
            "justify_items": null,
            "left": null,
            "margin": null,
            "max_height": null,
            "max_width": null,
            "min_height": null,
            "min_width": null,
            "object_fit": null,
            "object_position": null,
            "order": null,
            "overflow": null,
            "overflow_x": null,
            "overflow_y": null,
            "padding": null,
            "right": null,
            "top": null,
            "visibility": null,
            "width": null
          }
        },
        "01a9df9c40c64e83bf378d8b9e26617e": {
          "model_module": "@jupyter-widgets/controls",
          "model_name": "DescriptionStyleModel",
          "model_module_version": "1.5.0",
          "state": {
            "_model_module": "@jupyter-widgets/controls",
            "_model_module_version": "1.5.0",
            "_model_name": "DescriptionStyleModel",
            "_view_count": null,
            "_view_module": "@jupyter-widgets/base",
            "_view_module_version": "1.2.0",
            "_view_name": "StyleView",
            "description_width": ""
          }
        },
        "0046f9d3fa4d48ac8ff66fbbe9d46fe9": {
          "model_module": "@jupyter-widgets/base",
          "model_name": "LayoutModel",
          "model_module_version": "1.2.0",
          "state": {
            "_model_module": "@jupyter-widgets/base",
            "_model_module_version": "1.2.0",
            "_model_name": "LayoutModel",
            "_view_count": null,
            "_view_module": "@jupyter-widgets/base",
            "_view_module_version": "1.2.0",
            "_view_name": "LayoutView",
            "align_content": null,
            "align_items": null,
            "align_self": null,
            "border": null,
            "bottom": null,
            "display": null,
            "flex": null,
            "flex_flow": null,
            "grid_area": null,
            "grid_auto_columns": null,
            "grid_auto_flow": null,
            "grid_auto_rows": null,
            "grid_column": null,
            "grid_gap": null,
            "grid_row": null,
            "grid_template_areas": null,
            "grid_template_columns": null,
            "grid_template_rows": null,
            "height": null,
            "justify_content": null,
            "justify_items": null,
            "left": null,
            "margin": null,
            "max_height": null,
            "max_width": null,
            "min_height": null,
            "min_width": null,
            "object_fit": null,
            "object_position": null,
            "order": null,
            "overflow": null,
            "overflow_x": null,
            "overflow_y": null,
            "padding": null,
            "right": null,
            "top": null,
            "visibility": null,
            "width": null
          }
        },
        "1159aada268f42d1bd6b9d437625d661": {
          "model_module": "@jupyter-widgets/controls",
          "model_name": "ProgressStyleModel",
          "model_module_version": "1.5.0",
          "state": {
            "_model_module": "@jupyter-widgets/controls",
            "_model_module_version": "1.5.0",
            "_model_name": "ProgressStyleModel",
            "_view_count": null,
            "_view_module": "@jupyter-widgets/base",
            "_view_module_version": "1.2.0",
            "_view_name": "StyleView",
            "bar_color": null,
            "description_width": ""
          }
        },
        "25268e6f0d234453bc82766ce27bd5a3": {
          "model_module": "@jupyter-widgets/base",
          "model_name": "LayoutModel",
          "model_module_version": "1.2.0",
          "state": {
            "_model_module": "@jupyter-widgets/base",
            "_model_module_version": "1.2.0",
            "_model_name": "LayoutModel",
            "_view_count": null,
            "_view_module": "@jupyter-widgets/base",
            "_view_module_version": "1.2.0",
            "_view_name": "LayoutView",
            "align_content": null,
            "align_items": null,
            "align_self": null,
            "border": null,
            "bottom": null,
            "display": null,
            "flex": null,
            "flex_flow": null,
            "grid_area": null,
            "grid_auto_columns": null,
            "grid_auto_flow": null,
            "grid_auto_rows": null,
            "grid_column": null,
            "grid_gap": null,
            "grid_row": null,
            "grid_template_areas": null,
            "grid_template_columns": null,
            "grid_template_rows": null,
            "height": null,
            "justify_content": null,
            "justify_items": null,
            "left": null,
            "margin": null,
            "max_height": null,
            "max_width": null,
            "min_height": null,
            "min_width": null,
            "object_fit": null,
            "object_position": null,
            "order": null,
            "overflow": null,
            "overflow_x": null,
            "overflow_y": null,
            "padding": null,
            "right": null,
            "top": null,
            "visibility": null,
            "width": null
          }
        },
        "b7155a58fe17469788e9c7a33440f006": {
          "model_module": "@jupyter-widgets/controls",
          "model_name": "DescriptionStyleModel",
          "model_module_version": "1.5.0",
          "state": {
            "_model_module": "@jupyter-widgets/controls",
            "_model_module_version": "1.5.0",
            "_model_name": "DescriptionStyleModel",
            "_view_count": null,
            "_view_module": "@jupyter-widgets/base",
            "_view_module_version": "1.2.0",
            "_view_name": "StyleView",
            "description_width": ""
          }
        },
        "524376e7f1ef4085be9b23a5ba76b810": {
          "model_module": "@jupyter-widgets/controls",
          "model_name": "HBoxModel",
          "model_module_version": "1.5.0",
          "state": {
            "_dom_classes": [],
            "_model_module": "@jupyter-widgets/controls",
            "_model_module_version": "1.5.0",
            "_model_name": "HBoxModel",
            "_view_count": null,
            "_view_module": "@jupyter-widgets/controls",
            "_view_module_version": "1.5.0",
            "_view_name": "HBoxView",
            "box_style": "",
            "children": [
              "IPY_MODEL_c9fd5291fb6749b0b4212d5bfe221d32",
              "IPY_MODEL_9c08461295aa4abc818276009d6faacf",
              "IPY_MODEL_df961e53227e4fb6ab08bda6c84b747c"
            ],
            "layout": "IPY_MODEL_8432991882a942e3a11193d461876536"
          }
        },
        "c9fd5291fb6749b0b4212d5bfe221d32": {
          "model_module": "@jupyter-widgets/controls",
          "model_name": "HTMLModel",
          "model_module_version": "1.5.0",
          "state": {
            "_dom_classes": [],
            "_model_module": "@jupyter-widgets/controls",
            "_model_module_version": "1.5.0",
            "_model_name": "HTMLModel",
            "_view_count": null,
            "_view_module": "@jupyter-widgets/controls",
            "_view_module_version": "1.5.0",
            "_view_name": "HTMLView",
            "description": "",
            "description_tooltip": null,
            "layout": "IPY_MODEL_23e34d9a425c4bc2a68cdd934aff311c",
            "placeholder": "​",
            "style": "IPY_MODEL_b7a88fe56f244efd909478421cc1e57a",
            "value": "Downloading (…)lve/main/config.json: 100%"
          }
        },
        "9c08461295aa4abc818276009d6faacf": {
          "model_module": "@jupyter-widgets/controls",
          "model_name": "FloatProgressModel",
          "model_module_version": "1.5.0",
          "state": {
            "_dom_classes": [],
            "_model_module": "@jupyter-widgets/controls",
            "_model_module_version": "1.5.0",
            "_model_name": "FloatProgressModel",
            "_view_count": null,
            "_view_module": "@jupyter-widgets/controls",
            "_view_module_version": "1.5.0",
            "_view_name": "ProgressView",
            "bar_style": "success",
            "description": "",
            "description_tooltip": null,
            "layout": "IPY_MODEL_40095581786d471798f4b32a57644ea4",
            "max": 647,
            "min": 0,
            "orientation": "horizontal",
            "style": "IPY_MODEL_827b107752d54c16a0b0db4b056f76ae",
            "value": 647
          }
        },
        "df961e53227e4fb6ab08bda6c84b747c": {
          "model_module": "@jupyter-widgets/controls",
          "model_name": "HTMLModel",
          "model_module_version": "1.5.0",
          "state": {
            "_dom_classes": [],
            "_model_module": "@jupyter-widgets/controls",
            "_model_module_version": "1.5.0",
            "_model_name": "HTMLModel",
            "_view_count": null,
            "_view_module": "@jupyter-widgets/controls",
            "_view_module_version": "1.5.0",
            "_view_name": "HTMLView",
            "description": "",
            "description_tooltip": null,
            "layout": "IPY_MODEL_d503cb4959444e4b98bd483552c18126",
            "placeholder": "​",
            "style": "IPY_MODEL_5b8197ae33e24494a6acc1eb2b63e89a",
            "value": " 647/647 [00:00&lt;00:00, 59.7kB/s]"
          }
        },
        "8432991882a942e3a11193d461876536": {
          "model_module": "@jupyter-widgets/base",
          "model_name": "LayoutModel",
          "model_module_version": "1.2.0",
          "state": {
            "_model_module": "@jupyter-widgets/base",
            "_model_module_version": "1.2.0",
            "_model_name": "LayoutModel",
            "_view_count": null,
            "_view_module": "@jupyter-widgets/base",
            "_view_module_version": "1.2.0",
            "_view_name": "LayoutView",
            "align_content": null,
            "align_items": null,
            "align_self": null,
            "border": null,
            "bottom": null,
            "display": null,
            "flex": null,
            "flex_flow": null,
            "grid_area": null,
            "grid_auto_columns": null,
            "grid_auto_flow": null,
            "grid_auto_rows": null,
            "grid_column": null,
            "grid_gap": null,
            "grid_row": null,
            "grid_template_areas": null,
            "grid_template_columns": null,
            "grid_template_rows": null,
            "height": null,
            "justify_content": null,
            "justify_items": null,
            "left": null,
            "margin": null,
            "max_height": null,
            "max_width": null,
            "min_height": null,
            "min_width": null,
            "object_fit": null,
            "object_position": null,
            "order": null,
            "overflow": null,
            "overflow_x": null,
            "overflow_y": null,
            "padding": null,
            "right": null,
            "top": null,
            "visibility": null,
            "width": null
          }
        },
        "23e34d9a425c4bc2a68cdd934aff311c": {
          "model_module": "@jupyter-widgets/base",
          "model_name": "LayoutModel",
          "model_module_version": "1.2.0",
          "state": {
            "_model_module": "@jupyter-widgets/base",
            "_model_module_version": "1.2.0",
            "_model_name": "LayoutModel",
            "_view_count": null,
            "_view_module": "@jupyter-widgets/base",
            "_view_module_version": "1.2.0",
            "_view_name": "LayoutView",
            "align_content": null,
            "align_items": null,
            "align_self": null,
            "border": null,
            "bottom": null,
            "display": null,
            "flex": null,
            "flex_flow": null,
            "grid_area": null,
            "grid_auto_columns": null,
            "grid_auto_flow": null,
            "grid_auto_rows": null,
            "grid_column": null,
            "grid_gap": null,
            "grid_row": null,
            "grid_template_areas": null,
            "grid_template_columns": null,
            "grid_template_rows": null,
            "height": null,
            "justify_content": null,
            "justify_items": null,
            "left": null,
            "margin": null,
            "max_height": null,
            "max_width": null,
            "min_height": null,
            "min_width": null,
            "object_fit": null,
            "object_position": null,
            "order": null,
            "overflow": null,
            "overflow_x": null,
            "overflow_y": null,
            "padding": null,
            "right": null,
            "top": null,
            "visibility": null,
            "width": null
          }
        },
        "b7a88fe56f244efd909478421cc1e57a": {
          "model_module": "@jupyter-widgets/controls",
          "model_name": "DescriptionStyleModel",
          "model_module_version": "1.5.0",
          "state": {
            "_model_module": "@jupyter-widgets/controls",
            "_model_module_version": "1.5.0",
            "_model_name": "DescriptionStyleModel",
            "_view_count": null,
            "_view_module": "@jupyter-widgets/base",
            "_view_module_version": "1.2.0",
            "_view_name": "StyleView",
            "description_width": ""
          }
        },
        "40095581786d471798f4b32a57644ea4": {
          "model_module": "@jupyter-widgets/base",
          "model_name": "LayoutModel",
          "model_module_version": "1.2.0",
          "state": {
            "_model_module": "@jupyter-widgets/base",
            "_model_module_version": "1.2.0",
            "_model_name": "LayoutModel",
            "_view_count": null,
            "_view_module": "@jupyter-widgets/base",
            "_view_module_version": "1.2.0",
            "_view_name": "LayoutView",
            "align_content": null,
            "align_items": null,
            "align_self": null,
            "border": null,
            "bottom": null,
            "display": null,
            "flex": null,
            "flex_flow": null,
            "grid_area": null,
            "grid_auto_columns": null,
            "grid_auto_flow": null,
            "grid_auto_rows": null,
            "grid_column": null,
            "grid_gap": null,
            "grid_row": null,
            "grid_template_areas": null,
            "grid_template_columns": null,
            "grid_template_rows": null,
            "height": null,
            "justify_content": null,
            "justify_items": null,
            "left": null,
            "margin": null,
            "max_height": null,
            "max_width": null,
            "min_height": null,
            "min_width": null,
            "object_fit": null,
            "object_position": null,
            "order": null,
            "overflow": null,
            "overflow_x": null,
            "overflow_y": null,
            "padding": null,
            "right": null,
            "top": null,
            "visibility": null,
            "width": null
          }
        },
        "827b107752d54c16a0b0db4b056f76ae": {
          "model_module": "@jupyter-widgets/controls",
          "model_name": "ProgressStyleModel",
          "model_module_version": "1.5.0",
          "state": {
            "_model_module": "@jupyter-widgets/controls",
            "_model_module_version": "1.5.0",
            "_model_name": "ProgressStyleModel",
            "_view_count": null,
            "_view_module": "@jupyter-widgets/base",
            "_view_module_version": "1.2.0",
            "_view_name": "StyleView",
            "bar_color": null,
            "description_width": ""
          }
        },
        "d503cb4959444e4b98bd483552c18126": {
          "model_module": "@jupyter-widgets/base",
          "model_name": "LayoutModel",
          "model_module_version": "1.2.0",
          "state": {
            "_model_module": "@jupyter-widgets/base",
            "_model_module_version": "1.2.0",
            "_model_name": "LayoutModel",
            "_view_count": null,
            "_view_module": "@jupyter-widgets/base",
            "_view_module_version": "1.2.0",
            "_view_name": "LayoutView",
            "align_content": null,
            "align_items": null,
            "align_self": null,
            "border": null,
            "bottom": null,
            "display": null,
            "flex": null,
            "flex_flow": null,
            "grid_area": null,
            "grid_auto_columns": null,
            "grid_auto_flow": null,
            "grid_auto_rows": null,
            "grid_column": null,
            "grid_gap": null,
            "grid_row": null,
            "grid_template_areas": null,
            "grid_template_columns": null,
            "grid_template_rows": null,
            "height": null,
            "justify_content": null,
            "justify_items": null,
            "left": null,
            "margin": null,
            "max_height": null,
            "max_width": null,
            "min_height": null,
            "min_width": null,
            "object_fit": null,
            "object_position": null,
            "order": null,
            "overflow": null,
            "overflow_x": null,
            "overflow_y": null,
            "padding": null,
            "right": null,
            "top": null,
            "visibility": null,
            "width": null
          }
        },
        "5b8197ae33e24494a6acc1eb2b63e89a": {
          "model_module": "@jupyter-widgets/controls",
          "model_name": "DescriptionStyleModel",
          "model_module_version": "1.5.0",
          "state": {
            "_model_module": "@jupyter-widgets/controls",
            "_model_module_version": "1.5.0",
            "_model_name": "DescriptionStyleModel",
            "_view_count": null,
            "_view_module": "@jupyter-widgets/base",
            "_view_module_version": "1.2.0",
            "_view_name": "StyleView",
            "description_width": ""
          }
        },
        "c35a3ecf0a1d4c678cb57dc325851cc1": {
          "model_module": "@jupyter-widgets/controls",
          "model_name": "HBoxModel",
          "model_module_version": "1.5.0",
          "state": {
            "_dom_classes": [],
            "_model_module": "@jupyter-widgets/controls",
            "_model_module_version": "1.5.0",
            "_model_name": "HBoxModel",
            "_view_count": null,
            "_view_module": "@jupyter-widgets/controls",
            "_view_module_version": "1.5.0",
            "_view_name": "HBoxView",
            "box_style": "",
            "children": [
              "IPY_MODEL_1b8700b55e334f9faf87109ed7668b5f",
              "IPY_MODEL_9625050a5034498f8418757ab9b436c0",
              "IPY_MODEL_58556268ecbf441b9340cb01d40fe6ac"
            ],
            "layout": "IPY_MODEL_c2c9931f7faa4ddbb433bdb03a48dda2"
          }
        },
        "1b8700b55e334f9faf87109ed7668b5f": {
          "model_module": "@jupyter-widgets/controls",
          "model_name": "HTMLModel",
          "model_module_version": "1.5.0",
          "state": {
            "_dom_classes": [],
            "_model_module": "@jupyter-widgets/controls",
            "_model_module_version": "1.5.0",
            "_model_name": "HTMLModel",
            "_view_count": null,
            "_view_module": "@jupyter-widgets/controls",
            "_view_module_version": "1.5.0",
            "_view_name": "HTMLView",
            "description": "",
            "description_tooltip": null,
            "layout": "IPY_MODEL_ec8825ab0a6c4e80a41f14914208d798",
            "placeholder": "​",
            "style": "IPY_MODEL_1f5dc2040b64453289aff3d5ed4774d5",
            "value": "Downloading tf_model.h5: 100%"
          }
        },
        "9625050a5034498f8418757ab9b436c0": {
          "model_module": "@jupyter-widgets/controls",
          "model_name": "FloatProgressModel",
          "model_module_version": "1.5.0",
          "state": {
            "_dom_classes": [],
            "_model_module": "@jupyter-widgets/controls",
            "_model_module_version": "1.5.0",
            "_model_name": "FloatProgressModel",
            "_view_count": null,
            "_view_module": "@jupyter-widgets/controls",
            "_view_module_version": "1.5.0",
            "_view_name": "ProgressView",
            "bar_style": "success",
            "description": "",
            "description_tooltip": null,
            "layout": "IPY_MODEL_23393e64e6034536821beaaa4d2b9165",
            "max": 529211872,
            "min": 0,
            "orientation": "horizontal",
            "style": "IPY_MODEL_5b3c4f9f361b4e9e8750682b54b75c4f",
            "value": 529211872
          }
        },
        "58556268ecbf441b9340cb01d40fe6ac": {
          "model_module": "@jupyter-widgets/controls",
          "model_name": "HTMLModel",
          "model_module_version": "1.5.0",
          "state": {
            "_dom_classes": [],
            "_model_module": "@jupyter-widgets/controls",
            "_model_module_version": "1.5.0",
            "_model_name": "HTMLModel",
            "_view_count": null,
            "_view_module": "@jupyter-widgets/controls",
            "_view_module_version": "1.5.0",
            "_view_name": "HTMLView",
            "description": "",
            "description_tooltip": null,
            "layout": "IPY_MODEL_ae2a49eb6dcf43179173e8e63d3a1ed5",
            "placeholder": "​",
            "style": "IPY_MODEL_163aa0e6cea4411ab1a31fa81c2e584b",
            "value": " 529M/529M [00:01&lt;00:00, 538MB/s]"
          }
        },
        "c2c9931f7faa4ddbb433bdb03a48dda2": {
          "model_module": "@jupyter-widgets/base",
          "model_name": "LayoutModel",
          "model_module_version": "1.2.0",
          "state": {
            "_model_module": "@jupyter-widgets/base",
            "_model_module_version": "1.2.0",
            "_model_name": "LayoutModel",
            "_view_count": null,
            "_view_module": "@jupyter-widgets/base",
            "_view_module_version": "1.2.0",
            "_view_name": "LayoutView",
            "align_content": null,
            "align_items": null,
            "align_self": null,
            "border": null,
            "bottom": null,
            "display": null,
            "flex": null,
            "flex_flow": null,
            "grid_area": null,
            "grid_auto_columns": null,
            "grid_auto_flow": null,
            "grid_auto_rows": null,
            "grid_column": null,
            "grid_gap": null,
            "grid_row": null,
            "grid_template_areas": null,
            "grid_template_columns": null,
            "grid_template_rows": null,
            "height": null,
            "justify_content": null,
            "justify_items": null,
            "left": null,
            "margin": null,
            "max_height": null,
            "max_width": null,
            "min_height": null,
            "min_width": null,
            "object_fit": null,
            "object_position": null,
            "order": null,
            "overflow": null,
            "overflow_x": null,
            "overflow_y": null,
            "padding": null,
            "right": null,
            "top": null,
            "visibility": null,
            "width": null
          }
        },
        "ec8825ab0a6c4e80a41f14914208d798": {
          "model_module": "@jupyter-widgets/base",
          "model_name": "LayoutModel",
          "model_module_version": "1.2.0",
          "state": {
            "_model_module": "@jupyter-widgets/base",
            "_model_module_version": "1.2.0",
            "_model_name": "LayoutModel",
            "_view_count": null,
            "_view_module": "@jupyter-widgets/base",
            "_view_module_version": "1.2.0",
            "_view_name": "LayoutView",
            "align_content": null,
            "align_items": null,
            "align_self": null,
            "border": null,
            "bottom": null,
            "display": null,
            "flex": null,
            "flex_flow": null,
            "grid_area": null,
            "grid_auto_columns": null,
            "grid_auto_flow": null,
            "grid_auto_rows": null,
            "grid_column": null,
            "grid_gap": null,
            "grid_row": null,
            "grid_template_areas": null,
            "grid_template_columns": null,
            "grid_template_rows": null,
            "height": null,
            "justify_content": null,
            "justify_items": null,
            "left": null,
            "margin": null,
            "max_height": null,
            "max_width": null,
            "min_height": null,
            "min_width": null,
            "object_fit": null,
            "object_position": null,
            "order": null,
            "overflow": null,
            "overflow_x": null,
            "overflow_y": null,
            "padding": null,
            "right": null,
            "top": null,
            "visibility": null,
            "width": null
          }
        },
        "1f5dc2040b64453289aff3d5ed4774d5": {
          "model_module": "@jupyter-widgets/controls",
          "model_name": "DescriptionStyleModel",
          "model_module_version": "1.5.0",
          "state": {
            "_model_module": "@jupyter-widgets/controls",
            "_model_module_version": "1.5.0",
            "_model_name": "DescriptionStyleModel",
            "_view_count": null,
            "_view_module": "@jupyter-widgets/base",
            "_view_module_version": "1.2.0",
            "_view_name": "StyleView",
            "description_width": ""
          }
        },
        "23393e64e6034536821beaaa4d2b9165": {
          "model_module": "@jupyter-widgets/base",
          "model_name": "LayoutModel",
          "model_module_version": "1.2.0",
          "state": {
            "_model_module": "@jupyter-widgets/base",
            "_model_module_version": "1.2.0",
            "_model_name": "LayoutModel",
            "_view_count": null,
            "_view_module": "@jupyter-widgets/base",
            "_view_module_version": "1.2.0",
            "_view_name": "LayoutView",
            "align_content": null,
            "align_items": null,
            "align_self": null,
            "border": null,
            "bottom": null,
            "display": null,
            "flex": null,
            "flex_flow": null,
            "grid_area": null,
            "grid_auto_columns": null,
            "grid_auto_flow": null,
            "grid_auto_rows": null,
            "grid_column": null,
            "grid_gap": null,
            "grid_row": null,
            "grid_template_areas": null,
            "grid_template_columns": null,
            "grid_template_rows": null,
            "height": null,
            "justify_content": null,
            "justify_items": null,
            "left": null,
            "margin": null,
            "max_height": null,
            "max_width": null,
            "min_height": null,
            "min_width": null,
            "object_fit": null,
            "object_position": null,
            "order": null,
            "overflow": null,
            "overflow_x": null,
            "overflow_y": null,
            "padding": null,
            "right": null,
            "top": null,
            "visibility": null,
            "width": null
          }
        },
        "5b3c4f9f361b4e9e8750682b54b75c4f": {
          "model_module": "@jupyter-widgets/controls",
          "model_name": "ProgressStyleModel",
          "model_module_version": "1.5.0",
          "state": {
            "_model_module": "@jupyter-widgets/controls",
            "_model_module_version": "1.5.0",
            "_model_name": "ProgressStyleModel",
            "_view_count": null,
            "_view_module": "@jupyter-widgets/base",
            "_view_module_version": "1.2.0",
            "_view_name": "StyleView",
            "bar_color": null,
            "description_width": ""
          }
        },
        "ae2a49eb6dcf43179173e8e63d3a1ed5": {
          "model_module": "@jupyter-widgets/base",
          "model_name": "LayoutModel",
          "model_module_version": "1.2.0",
          "state": {
            "_model_module": "@jupyter-widgets/base",
            "_model_module_version": "1.2.0",
            "_model_name": "LayoutModel",
            "_view_count": null,
            "_view_module": "@jupyter-widgets/base",
            "_view_module_version": "1.2.0",
            "_view_name": "LayoutView",
            "align_content": null,
            "align_items": null,
            "align_self": null,
            "border": null,
            "bottom": null,
            "display": null,
            "flex": null,
            "flex_flow": null,
            "grid_area": null,
            "grid_auto_columns": null,
            "grid_auto_flow": null,
            "grid_auto_rows": null,
            "grid_column": null,
            "grid_gap": null,
            "grid_row": null,
            "grid_template_areas": null,
            "grid_template_columns": null,
            "grid_template_rows": null,
            "height": null,
            "justify_content": null,
            "justify_items": null,
            "left": null,
            "margin": null,
            "max_height": null,
            "max_width": null,
            "min_height": null,
            "min_width": null,
            "object_fit": null,
            "object_position": null,
            "order": null,
            "overflow": null,
            "overflow_x": null,
            "overflow_y": null,
            "padding": null,
            "right": null,
            "top": null,
            "visibility": null,
            "width": null
          }
        },
        "163aa0e6cea4411ab1a31fa81c2e584b": {
          "model_module": "@jupyter-widgets/controls",
          "model_name": "DescriptionStyleModel",
          "model_module_version": "1.5.0",
          "state": {
            "_model_module": "@jupyter-widgets/controls",
            "_model_module_version": "1.5.0",
            "_model_name": "DescriptionStyleModel",
            "_view_count": null,
            "_view_module": "@jupyter-widgets/base",
            "_view_module_version": "1.2.0",
            "_view_name": "StyleView",
            "description_width": ""
          }
        }
      }
    }
  },
  "nbformat": 4,
  "nbformat_minor": 0
}