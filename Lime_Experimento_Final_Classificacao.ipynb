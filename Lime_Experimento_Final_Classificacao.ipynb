{
  "cells": [
    {
      "cell_type": "markdown",
      "metadata": {
        "id": "view-in-github",
        "colab_type": "text"
      },
      "source": [
        "<a href=\"https://colab.research.google.com/github/JessicaVicentini99/fake_br_corpus_lime/blob/main/Lime_Experimento_Final_Classificacao.ipynb\" target=\"_parent\"><img src=\"https://colab.research.google.com/assets/colab-badge.svg\" alt=\"Open In Colab\"/></a>"
      ]
    },
    {
      "cell_type": "markdown",
      "metadata": {
        "id": "OCIwkz51JqCK"
      },
      "source": [
        "# Imports"
      ]
    },
    {
      "cell_type": "code",
      "execution_count": 1,
      "metadata": {
        "colab": {
          "base_uri": "https://localhost:8080/"
        },
        "id": "EV6D9lsCKPu4",
        "outputId": "92b9421c-2735-44a0-d86d-79d64b5ea44f"
      },
      "outputs": [
        {
          "output_type": "stream",
          "name": "stdout",
          "text": [
            "Collecting transformers\n",
            "  Downloading transformers-4.33.1-py3-none-any.whl (7.6 MB)\n",
            "\u001b[2K     \u001b[90m━━━━━━━━━━━━━━━━━━━━━━━━━━━━━━━━━━━━━━━━\u001b[0m \u001b[32m7.6/7.6 MB\u001b[0m \u001b[31m16.5 MB/s\u001b[0m eta \u001b[36m0:00:00\u001b[0m\n",
            "\u001b[?25hRequirement already satisfied: filelock in /usr/local/lib/python3.10/dist-packages (from transformers) (3.12.2)\n",
            "Collecting huggingface-hub<1.0,>=0.15.1 (from transformers)\n",
            "  Downloading huggingface_hub-0.17.1-py3-none-any.whl (294 kB)\n",
            "\u001b[2K     \u001b[90m━━━━━━━━━━━━━━━━━━━━━━━━━━━━━━━━━━━━━━\u001b[0m \u001b[32m294.8/294.8 kB\u001b[0m \u001b[31m22.2 MB/s\u001b[0m eta \u001b[36m0:00:00\u001b[0m\n",
            "\u001b[?25hRequirement already satisfied: numpy>=1.17 in /usr/local/lib/python3.10/dist-packages (from transformers) (1.23.5)\n",
            "Requirement already satisfied: packaging>=20.0 in /usr/local/lib/python3.10/dist-packages (from transformers) (23.1)\n",
            "Requirement already satisfied: pyyaml>=5.1 in /usr/local/lib/python3.10/dist-packages (from transformers) (6.0.1)\n",
            "Requirement already satisfied: regex!=2019.12.17 in /usr/local/lib/python3.10/dist-packages (from transformers) (2023.6.3)\n",
            "Requirement already satisfied: requests in /usr/local/lib/python3.10/dist-packages (from transformers) (2.31.0)\n",
            "Collecting tokenizers!=0.11.3,<0.14,>=0.11.1 (from transformers)\n",
            "  Downloading tokenizers-0.13.3-cp310-cp310-manylinux_2_17_x86_64.manylinux2014_x86_64.whl (7.8 MB)\n",
            "\u001b[2K     \u001b[90m━━━━━━━━━━━━━━━━━━━━━━━━━━━━━━━━━━━━━━━━\u001b[0m \u001b[32m7.8/7.8 MB\u001b[0m \u001b[31m42.3 MB/s\u001b[0m eta \u001b[36m0:00:00\u001b[0m\n",
            "\u001b[?25hCollecting safetensors>=0.3.1 (from transformers)\n",
            "  Downloading safetensors-0.3.3-cp310-cp310-manylinux_2_17_x86_64.manylinux2014_x86_64.whl (1.3 MB)\n",
            "\u001b[2K     \u001b[90m━━━━━━━━━━━━━━━━━━━━━━━━━━━━━━━━━━━━━━━━\u001b[0m \u001b[32m1.3/1.3 MB\u001b[0m \u001b[31m45.6 MB/s\u001b[0m eta \u001b[36m0:00:00\u001b[0m\n",
            "\u001b[?25hRequirement already satisfied: tqdm>=4.27 in /usr/local/lib/python3.10/dist-packages (from transformers) (4.66.1)\n",
            "Requirement already satisfied: fsspec in /usr/local/lib/python3.10/dist-packages (from huggingface-hub<1.0,>=0.15.1->transformers) (2023.6.0)\n",
            "Requirement already satisfied: typing-extensions>=3.7.4.3 in /usr/local/lib/python3.10/dist-packages (from huggingface-hub<1.0,>=0.15.1->transformers) (4.5.0)\n",
            "Requirement already satisfied: charset-normalizer<4,>=2 in /usr/local/lib/python3.10/dist-packages (from requests->transformers) (3.2.0)\n",
            "Requirement already satisfied: idna<4,>=2.5 in /usr/local/lib/python3.10/dist-packages (from requests->transformers) (3.4)\n",
            "Requirement already satisfied: urllib3<3,>=1.21.1 in /usr/local/lib/python3.10/dist-packages (from requests->transformers) (2.0.4)\n",
            "Requirement already satisfied: certifi>=2017.4.17 in /usr/local/lib/python3.10/dist-packages (from requests->transformers) (2023.7.22)\n",
            "Installing collected packages: tokenizers, safetensors, huggingface-hub, transformers\n",
            "Successfully installed huggingface-hub-0.17.1 safetensors-0.3.3 tokenizers-0.13.3 transformers-4.33.1\n"
          ]
        }
      ],
      "source": [
        "!pip install transformers"
      ]
    },
    {
      "cell_type": "code",
      "execution_count": 2,
      "metadata": {
        "id": "21J_QQr8-Bmk"
      },
      "outputs": [],
      "source": [
        "from transformers import AutoModelForPreTraining  # Or BertForPreTraining for loading pretraining heads\n"
      ]
    },
    {
      "cell_type": "code",
      "execution_count": 3,
      "metadata": {
        "id": "hYMUbMNpJpjB"
      },
      "outputs": [],
      "source": [
        "import tensorflow as tf\n",
        "# from transformers import AutoTokenizer, TFAutoModelForSequenceClassification #TFBertForSequenceClassification\n",
        "from transformers import AutoModel, AutoTokenizer, BertTokenizer, BertModel, TFAutoModelForSequenceClassification #TFBertForSequenceClassification\n",
        "import pandas as pd\n",
        "import numpy as np\n",
        "from sklearn.model_selection import train_test_split\n",
        "import datetime\n",
        "import os\n",
        "import json\n",
        "import time\n",
        "import matplotlib.pyplot as plt\n",
        "from IPython.display import display, HTML\n",
        "from sklearn.metrics import classification_report\n",
        "from sklearn.metrics import confusion_matrix\n",
        "import seaborn as sns\n",
        "from tensorflow.keras.optimizers import Adam\n",
        "import csv\n"
      ]
    },
    {
      "cell_type": "code",
      "execution_count": 4,
      "metadata": {
        "id": "F1kqiT5C2khl",
        "colab": {
          "base_uri": "https://localhost:8080/"
        },
        "outputId": "a2dc9e3a-eec3-4006-b996-64b82bf6149a"
      },
      "outputs": [
        {
          "output_type": "stream",
          "name": "stdout",
          "text": [
            "Mounted at /content/drive\n"
          ]
        }
      ],
      "source": [
        "from google.colab import drive\n",
        "drive.mount('/content/drive')"
      ]
    },
    {
      "cell_type": "markdown",
      "metadata": {
        "id": "-NXfffpeDgOY"
      },
      "source": [
        "# Create Directories"
      ]
    },
    {
      "cell_type": "code",
      "execution_count": 5,
      "metadata": {
        "id": "xNJp0Uk0D2Cm"
      },
      "outputs": [],
      "source": [
        "def create_dir(path):\n",
        "  if not os.path.exists(path):\n",
        "    os.mkdir(path)"
      ]
    },
    {
      "cell_type": "markdown",
      "source": [
        "## Create the model path"
      ],
      "metadata": {
        "id": "JUW1Vj4SWpW2"
      }
    },
    {
      "cell_type": "code",
      "source": [
        "def generate_model_name(models_path):\n",
        "    model_folders = [f for f in os.listdir(models_path) if os.path.isdir(os.path.join(models_path, f))]\n",
        "\n",
        "    if model_folders:\n",
        "        model_folders.sort(reverse=True)\n",
        "        last_model_name_parts = model_folders[0].split('_')\n",
        "        if len(last_model_name_parts) >= 2:\n",
        "            last_model_index = int(last_model_name_parts[1])\n",
        "            model_index = last_model_index + 1\n",
        "        else:\n",
        "            # Handle the case where the folder name doesn't contain the expected format.\n",
        "            model_index = 1\n",
        "    else:\n",
        "        model_index = 1\n",
        "\n",
        "    timestamp = datetime.datetime.now().strftime('%d_%m_%Y-%H_%M')\n",
        "    model_save_name = f\"{model_index}_model_{timestamp}\"\n",
        "    return model_save_name"
      ],
      "metadata": {
        "id": "XgmcjqkkWo7R"
      },
      "execution_count": 6,
      "outputs": []
    },
    {
      "cell_type": "code",
      "source": [
        "initial_base_path = '/content/drive/MyDrive/Propor/Experimentos'\n"
      ],
      "metadata": {
        "id": "sgWkK8VwXa2Y"
      },
      "execution_count": 7,
      "outputs": []
    },
    {
      "cell_type": "code",
      "source": [
        "model_save_name = generate_model_name(initial_base_path)\n",
        "model_save_name"
      ],
      "metadata": {
        "colab": {
          "base_uri": "https://localhost:8080/",
          "height": 35
        },
        "id": "L5X-Bn-EXbyj",
        "outputId": "ca4cdf1f-927c-4a58-fff8-4170e1bf5286"
      },
      "execution_count": 8,
      "outputs": [
        {
          "output_type": "execute_result",
          "data": {
            "text/plain": [
              "'1_model_13_09_2023-18_55'"
            ],
            "application/vnd.google.colaboratory.intrinsic+json": {
              "type": "string"
            }
          },
          "metadata": {},
          "execution_count": 8
        }
      ]
    },
    {
      "cell_type": "code",
      "source": [
        "base_path = initial_base_path + '/' + model_save_name\n",
        "base_path"
      ],
      "metadata": {
        "id": "vCZErwRwYWi0",
        "colab": {
          "base_uri": "https://localhost:8080/",
          "height": 35
        },
        "outputId": "b070090d-8b2f-49e6-81ff-c09b3359f0a1"
      },
      "execution_count": 9,
      "outputs": [
        {
          "output_type": "execute_result",
          "data": {
            "text/plain": [
              "'/content/drive/MyDrive/Propor/Experimentos/1_model_13_09_2023-18_55'"
            ],
            "application/vnd.google.colaboratory.intrinsic+json": {
              "type": "string"
            }
          },
          "metadata": {},
          "execution_count": 9
        }
      ]
    },
    {
      "cell_type": "code",
      "source": [
        "create_dir(base_path)"
      ],
      "metadata": {
        "id": "B72CCDk-Xh38"
      },
      "execution_count": 10,
      "outputs": []
    },
    {
      "cell_type": "markdown",
      "source": [
        "## dataset path"
      ],
      "metadata": {
        "id": "pvTvexAvg0ZM"
      }
    },
    {
      "cell_type": "code",
      "source": [
        "dataset_path_save = initial_base_path + '/dataset'\n",
        "dataset_path_save"
      ],
      "metadata": {
        "id": "mWBonB2Xg9dG",
        "colab": {
          "base_uri": "https://localhost:8080/",
          "height": 35
        },
        "outputId": "1c5c9ff4-dee9-412e-8709-4c89c140cf35"
      },
      "execution_count": 11,
      "outputs": [
        {
          "output_type": "execute_result",
          "data": {
            "text/plain": [
              "'/content/drive/MyDrive/Propor/Experimentos/dataset'"
            ],
            "application/vnd.google.colaboratory.intrinsic+json": {
              "type": "string"
            }
          },
          "metadata": {},
          "execution_count": 11
        }
      ]
    },
    {
      "cell_type": "code",
      "source": [
        "create_dir(dataset_path_save)"
      ],
      "metadata": {
        "id": "mQsRB_tRg5zj"
      },
      "execution_count": 12,
      "outputs": []
    },
    {
      "cell_type": "code",
      "execution_count": 13,
      "metadata": {
        "id": "3j6vTwV7DmvY"
      },
      "outputs": [],
      "source": [
        "def create_directories(base_path):\n",
        "  directories = {\n",
        "    'models_path': base_path + '/models',\n",
        "    'checkpoints_path': base_path + '/checkpoints',\n",
        "    'metrics_path': base_path + '/metrics',\n",
        "    'classification_report_path': base_path + '/metrics/classification_report',\n",
        "    'graphs_path': base_path + '/metrics/graphs',\n",
        "    'history_path': base_path + '/metrics/history',\n",
        "    'lime_explanations': base_path + '/lime_explanations',\n",
        "    'lime_html': base_path + '/lime_explanations/lime_html',\n",
        "    'lime_html_1_1': base_path + '/lime_explanations/lime_html_1_1',\n",
        "    'lime_html_0_0': base_path + '/lime_explanations/lime_html_0_0',\n",
        "    'lime_html_1_0': base_path + '/lime_explanations/lime_html_1_0',\n",
        "    'lime_html_0_1': base_path + '/lime_explanations/lime_html_0_1',\n",
        "  }\n",
        "  for name, folder_path in directories.items():\n",
        "    create_dir(folder_path)\n",
        "  return directories"
      ]
    },
    {
      "cell_type": "code",
      "execution_count": 14,
      "metadata": {
        "id": "m12SbWsiD067"
      },
      "outputs": [],
      "source": [
        "# base_path = '/content/drive/MyDrive/Arquivos/Mestrado/Qualificação/Experimentos Pos Qualificacao/Fake_Br_corpus_novo_experimento'"
      ]
    },
    {
      "cell_type": "code",
      "execution_count": 15,
      "metadata": {
        "id": "PnKTW1DpEAoT"
      },
      "outputs": [],
      "source": [
        "directories = create_directories(base_path)"
      ]
    },
    {
      "cell_type": "markdown",
      "metadata": {
        "id": "haopqh0yKhqI"
      },
      "source": [
        "## Geracao das pastas de metricas\n",
        "\n"
      ]
    },
    {
      "cell_type": "code",
      "execution_count": 16,
      "metadata": {
        "id": "D_GnMbMeKqJ_"
      },
      "outputs": [],
      "source": [
        "def generate_metrics_files_name(model_name, directories):\n",
        "  files_name = {\n",
        "    'model': directories['models_path'] + '/' + model_name + '.h5',\n",
        "    'checkpoint': directories['checkpoints_path'] + '/' + model_name + '_checkpoint-{epoch:02d}.h5',\n",
        "    'metrics_csv': directories['metrics_path'] + '/models_metrics.csv',\n",
        "    'classification_report_txt': directories['classification_report_path'] + '/' + model_name + '.txt',\n",
        "    'classification_report_json': directories['classification_report_path'] + '/' + model_name + '.json',\n",
        "    'graph_acc': directories['graphs_path'] + '/' + model_name + '_acc.png',\n",
        "    'graph_loss': directories['graphs_path'] + '/' + model_name + '_loss.png',\n",
        "    'graph_acc_and_loss': directories['graphs_path'] + '/' + model_name + '_acc_and_loss.png',\n",
        "    'confusion_matrix': directories['graphs_path'] + '/' + model_name + '_confusion_matrix.png',\n",
        "    'history': directories['history_path'] + '/' + model_name + '_history.json',\n",
        "    'lime_explanations': directories['lime_explanations'] + '/lime_explanations.csv',\n",
        "  }\n",
        "  return files_name"
      ]
    },
    {
      "cell_type": "code",
      "execution_count": 17,
      "metadata": {
        "id": "Hxrw4bFTK1kX"
      },
      "outputs": [],
      "source": [
        "model_save_name = generate_model_name(directories['models_path'])\n",
        "files_name = generate_metrics_files_name(model_save_name, directories)"
      ]
    },
    {
      "cell_type": "markdown",
      "metadata": {
        "id": "v3TthUxKK954"
      },
      "source": [
        "# Model Configs"
      ]
    },
    {
      "cell_type": "code",
      "execution_count": 18,
      "metadata": {
        "id": "cAMXjsVcLACC"
      },
      "outputs": [],
      "source": [
        "MODEL_NAME = 'neuralmind/bert-base-portuguese-cased' #'bert-base-uncased'\n",
        "MAX_LEN = 512\n",
        "BATCH_SIZE = 24\n",
        "EPOCHS = 10\n",
        "LEARNING_RATE = 1e-6 #3e-5\n",
        "# LEARNING_RATE = 1e-5 #3e-5\n",
        "DROPOUT_RATE = 0.1"
      ]
    },
    {
      "cell_type": "markdown",
      "metadata": {
        "id": "kN66bwvXJCIW"
      },
      "source": [
        "# Load Dataset\n",
        "\n"
      ]
    },
    {
      "cell_type": "code",
      "execution_count": 19,
      "metadata": {
        "id": "0FnA_nbuKDA9"
      },
      "outputs": [],
      "source": [
        "def load_dataset():\n",
        "  dataset = pd.read_csv(\n",
        "          \"/content/drive/MyDrive/Arquivos/Mestrado/Qualificação/full_text_fake_br.csv\",\n",
        "          usecols=['label', 'content'],\n",
        "          encoding='utf-8'\n",
        "        )\n",
        "  # print(dataset['label'].unique())\n",
        "  # class_mapping = {'fake': 0, 'True': 1}\n",
        "  # dataset['label'] = dataset['label'].map(class_mapping)\n",
        "  return dataset"
      ]
    },
    {
      "cell_type": "code",
      "execution_count": 20,
      "metadata": {
        "id": "odjgUQ_jOf_z"
      },
      "outputs": [],
      "source": [
        "dataset = load_dataset()"
      ]
    },
    {
      "cell_type": "markdown",
      "source": [],
      "metadata": {
        "id": "G1qHfTONaIeh"
      }
    },
    {
      "cell_type": "code",
      "execution_count": 21,
      "metadata": {
        "id": "PK8JHlQ5OZI1"
      },
      "outputs": [],
      "source": [
        "dataset[\"label\"]=dataset[\"label\"].astype(\"int\")"
      ]
    },
    {
      "cell_type": "code",
      "execution_count": 22,
      "metadata": {
        "id": "4wdqTkfvKHoG",
        "colab": {
          "base_uri": "https://localhost:8080/",
          "height": 206
        },
        "outputId": "37831a51-ff48-40f0-913c-10a1f3ee9920"
      },
      "outputs": [
        {
          "output_type": "execute_result",
          "data": {
            "text/plain": [
              "                                             content  label\n",
              "0  Ex de Luiza Brunet é ouvido em audiência do ca...      1\n",
              "1  Mercosul suspende direitos políticos da Venezu...      1\n",
              "2  Relator diz que concessão de asilo a Battisti ...      1\n",
              "3  Ele não precisa ser caçado, diz advogado do go...      1\n",
              "4  Petrobras tem interesse em encontrar parceiros...      1"
            ],
            "text/html": [
              "\n",
              "  <div id=\"df-edfb0e54-1a87-4a71-9233-3a7afa5d7356\" class=\"colab-df-container\">\n",
              "    <div>\n",
              "<style scoped>\n",
              "    .dataframe tbody tr th:only-of-type {\n",
              "        vertical-align: middle;\n",
              "    }\n",
              "\n",
              "    .dataframe tbody tr th {\n",
              "        vertical-align: top;\n",
              "    }\n",
              "\n",
              "    .dataframe thead th {\n",
              "        text-align: right;\n",
              "    }\n",
              "</style>\n",
              "<table border=\"1\" class=\"dataframe\">\n",
              "  <thead>\n",
              "    <tr style=\"text-align: right;\">\n",
              "      <th></th>\n",
              "      <th>content</th>\n",
              "      <th>label</th>\n",
              "    </tr>\n",
              "  </thead>\n",
              "  <tbody>\n",
              "    <tr>\n",
              "      <th>0</th>\n",
              "      <td>Ex de Luiza Brunet é ouvido em audiência do ca...</td>\n",
              "      <td>1</td>\n",
              "    </tr>\n",
              "    <tr>\n",
              "      <th>1</th>\n",
              "      <td>Mercosul suspende direitos políticos da Venezu...</td>\n",
              "      <td>1</td>\n",
              "    </tr>\n",
              "    <tr>\n",
              "      <th>2</th>\n",
              "      <td>Relator diz que concessão de asilo a Battisti ...</td>\n",
              "      <td>1</td>\n",
              "    </tr>\n",
              "    <tr>\n",
              "      <th>3</th>\n",
              "      <td>Ele não precisa ser caçado, diz advogado do go...</td>\n",
              "      <td>1</td>\n",
              "    </tr>\n",
              "    <tr>\n",
              "      <th>4</th>\n",
              "      <td>Petrobras tem interesse em encontrar parceiros...</td>\n",
              "      <td>1</td>\n",
              "    </tr>\n",
              "  </tbody>\n",
              "</table>\n",
              "</div>\n",
              "    <div class=\"colab-df-buttons\">\n",
              "\n",
              "  <div class=\"colab-df-container\">\n",
              "    <button class=\"colab-df-convert\" onclick=\"convertToInteractive('df-edfb0e54-1a87-4a71-9233-3a7afa5d7356')\"\n",
              "            title=\"Convert this dataframe to an interactive table.\"\n",
              "            style=\"display:none;\">\n",
              "\n",
              "  <svg xmlns=\"http://www.w3.org/2000/svg\" height=\"24px\" viewBox=\"0 -960 960 960\">\n",
              "    <path d=\"M120-120v-720h720v720H120Zm60-500h600v-160H180v160Zm220 220h160v-160H400v160Zm0 220h160v-160H400v160ZM180-400h160v-160H180v160Zm440 0h160v-160H620v160ZM180-180h160v-160H180v160Zm440 0h160v-160H620v160Z\"/>\n",
              "  </svg>\n",
              "    </button>\n",
              "\n",
              "  <style>\n",
              "    .colab-df-container {\n",
              "      display:flex;\n",
              "      gap: 12px;\n",
              "    }\n",
              "\n",
              "    .colab-df-convert {\n",
              "      background-color: #E8F0FE;\n",
              "      border: none;\n",
              "      border-radius: 50%;\n",
              "      cursor: pointer;\n",
              "      display: none;\n",
              "      fill: #1967D2;\n",
              "      height: 32px;\n",
              "      padding: 0 0 0 0;\n",
              "      width: 32px;\n",
              "    }\n",
              "\n",
              "    .colab-df-convert:hover {\n",
              "      background-color: #E2EBFA;\n",
              "      box-shadow: 0px 1px 2px rgba(60, 64, 67, 0.3), 0px 1px 3px 1px rgba(60, 64, 67, 0.15);\n",
              "      fill: #174EA6;\n",
              "    }\n",
              "\n",
              "    .colab-df-buttons div {\n",
              "      margin-bottom: 4px;\n",
              "    }\n",
              "\n",
              "    [theme=dark] .colab-df-convert {\n",
              "      background-color: #3B4455;\n",
              "      fill: #D2E3FC;\n",
              "    }\n",
              "\n",
              "    [theme=dark] .colab-df-convert:hover {\n",
              "      background-color: #434B5C;\n",
              "      box-shadow: 0px 1px 3px 1px rgba(0, 0, 0, 0.15);\n",
              "      filter: drop-shadow(0px 1px 2px rgba(0, 0, 0, 0.3));\n",
              "      fill: #FFFFFF;\n",
              "    }\n",
              "  </style>\n",
              "\n",
              "    <script>\n",
              "      const buttonEl =\n",
              "        document.querySelector('#df-edfb0e54-1a87-4a71-9233-3a7afa5d7356 button.colab-df-convert');\n",
              "      buttonEl.style.display =\n",
              "        google.colab.kernel.accessAllowed ? 'block' : 'none';\n",
              "\n",
              "      async function convertToInteractive(key) {\n",
              "        const element = document.querySelector('#df-edfb0e54-1a87-4a71-9233-3a7afa5d7356');\n",
              "        const dataTable =\n",
              "          await google.colab.kernel.invokeFunction('convertToInteractive',\n",
              "                                                    [key], {});\n",
              "        if (!dataTable) return;\n",
              "\n",
              "        const docLinkHtml = 'Like what you see? Visit the ' +\n",
              "          '<a target=\"_blank\" href=https://colab.research.google.com/notebooks/data_table.ipynb>data table notebook</a>'\n",
              "          + ' to learn more about interactive tables.';\n",
              "        element.innerHTML = '';\n",
              "        dataTable['output_type'] = 'display_data';\n",
              "        await google.colab.output.renderOutput(dataTable, element);\n",
              "        const docLink = document.createElement('div');\n",
              "        docLink.innerHTML = docLinkHtml;\n",
              "        element.appendChild(docLink);\n",
              "      }\n",
              "    </script>\n",
              "  </div>\n",
              "\n",
              "\n",
              "<div id=\"df-91ed86ca-ad30-4554-8ded-bc36ddcf1970\">\n",
              "  <button class=\"colab-df-quickchart\" onclick=\"quickchart('df-91ed86ca-ad30-4554-8ded-bc36ddcf1970')\"\n",
              "            title=\"Suggest charts.\"\n",
              "            style=\"display:none;\">\n",
              "\n",
              "<svg xmlns=\"http://www.w3.org/2000/svg\" height=\"24px\"viewBox=\"0 0 24 24\"\n",
              "     width=\"24px\">\n",
              "    <g>\n",
              "        <path d=\"M19 3H5c-1.1 0-2 .9-2 2v14c0 1.1.9 2 2 2h14c1.1 0 2-.9 2-2V5c0-1.1-.9-2-2-2zM9 17H7v-7h2v7zm4 0h-2V7h2v10zm4 0h-2v-4h2v4z\"/>\n",
              "    </g>\n",
              "</svg>\n",
              "  </button>\n",
              "\n",
              "<style>\n",
              "  .colab-df-quickchart {\n",
              "      --bg-color: #E8F0FE;\n",
              "      --fill-color: #1967D2;\n",
              "      --hover-bg-color: #E2EBFA;\n",
              "      --hover-fill-color: #174EA6;\n",
              "      --disabled-fill-color: #AAA;\n",
              "      --disabled-bg-color: #DDD;\n",
              "  }\n",
              "\n",
              "  [theme=dark] .colab-df-quickchart {\n",
              "      --bg-color: #3B4455;\n",
              "      --fill-color: #D2E3FC;\n",
              "      --hover-bg-color: #434B5C;\n",
              "      --hover-fill-color: #FFFFFF;\n",
              "      --disabled-bg-color: #3B4455;\n",
              "      --disabled-fill-color: #666;\n",
              "  }\n",
              "\n",
              "  .colab-df-quickchart {\n",
              "    background-color: var(--bg-color);\n",
              "    border: none;\n",
              "    border-radius: 50%;\n",
              "    cursor: pointer;\n",
              "    display: none;\n",
              "    fill: var(--fill-color);\n",
              "    height: 32px;\n",
              "    padding: 0;\n",
              "    width: 32px;\n",
              "  }\n",
              "\n",
              "  .colab-df-quickchart:hover {\n",
              "    background-color: var(--hover-bg-color);\n",
              "    box-shadow: 0 1px 2px rgba(60, 64, 67, 0.3), 0 1px 3px 1px rgba(60, 64, 67, 0.15);\n",
              "    fill: var(--button-hover-fill-color);\n",
              "  }\n",
              "\n",
              "  .colab-df-quickchart-complete:disabled,\n",
              "  .colab-df-quickchart-complete:disabled:hover {\n",
              "    background-color: var(--disabled-bg-color);\n",
              "    fill: var(--disabled-fill-color);\n",
              "    box-shadow: none;\n",
              "  }\n",
              "\n",
              "  .colab-df-spinner {\n",
              "    border: 2px solid var(--fill-color);\n",
              "    border-color: transparent;\n",
              "    border-bottom-color: var(--fill-color);\n",
              "    animation:\n",
              "      spin 1s steps(1) infinite;\n",
              "  }\n",
              "\n",
              "  @keyframes spin {\n",
              "    0% {\n",
              "      border-color: transparent;\n",
              "      border-bottom-color: var(--fill-color);\n",
              "      border-left-color: var(--fill-color);\n",
              "    }\n",
              "    20% {\n",
              "      border-color: transparent;\n",
              "      border-left-color: var(--fill-color);\n",
              "      border-top-color: var(--fill-color);\n",
              "    }\n",
              "    30% {\n",
              "      border-color: transparent;\n",
              "      border-left-color: var(--fill-color);\n",
              "      border-top-color: var(--fill-color);\n",
              "      border-right-color: var(--fill-color);\n",
              "    }\n",
              "    40% {\n",
              "      border-color: transparent;\n",
              "      border-right-color: var(--fill-color);\n",
              "      border-top-color: var(--fill-color);\n",
              "    }\n",
              "    60% {\n",
              "      border-color: transparent;\n",
              "      border-right-color: var(--fill-color);\n",
              "    }\n",
              "    80% {\n",
              "      border-color: transparent;\n",
              "      border-right-color: var(--fill-color);\n",
              "      border-bottom-color: var(--fill-color);\n",
              "    }\n",
              "    90% {\n",
              "      border-color: transparent;\n",
              "      border-bottom-color: var(--fill-color);\n",
              "    }\n",
              "  }\n",
              "</style>\n",
              "\n",
              "  <script>\n",
              "    async function quickchart(key) {\n",
              "      const quickchartButtonEl =\n",
              "        document.querySelector('#' + key + ' button');\n",
              "      quickchartButtonEl.disabled = true;  // To prevent multiple clicks.\n",
              "      quickchartButtonEl.classList.add('colab-df-spinner');\n",
              "      try {\n",
              "        const charts = await google.colab.kernel.invokeFunction(\n",
              "            'suggestCharts', [key], {});\n",
              "      } catch (error) {\n",
              "        console.error('Error during call to suggestCharts:', error);\n",
              "      }\n",
              "      quickchartButtonEl.classList.remove('colab-df-spinner');\n",
              "      quickchartButtonEl.classList.add('colab-df-quickchart-complete');\n",
              "    }\n",
              "    (() => {\n",
              "      let quickchartButtonEl =\n",
              "        document.querySelector('#df-91ed86ca-ad30-4554-8ded-bc36ddcf1970 button');\n",
              "      quickchartButtonEl.style.display =\n",
              "        google.colab.kernel.accessAllowed ? 'block' : 'none';\n",
              "    })();\n",
              "  </script>\n",
              "</div>\n",
              "    </div>\n",
              "  </div>\n"
            ]
          },
          "metadata": {},
          "execution_count": 22
        }
      ],
      "source": [
        "dataset.head()"
      ]
    },
    {
      "cell_type": "code",
      "execution_count": 23,
      "metadata": {
        "id": "US1Usc-IOmiO",
        "colab": {
          "base_uri": "https://localhost:8080/"
        },
        "outputId": "2c63973c-9480-4331-f865-2bd126ad7185"
      },
      "outputs": [
        {
          "output_type": "execute_result",
          "data": {
            "text/plain": [
              "array([1, 0])"
            ]
          },
          "metadata": {},
          "execution_count": 23
        }
      ],
      "source": [
        "dataset[\"label\"].unique()\n"
      ]
    },
    {
      "cell_type": "markdown",
      "metadata": {
        "id": "UHDnb0IgKe8p"
      },
      "source": [
        "## Divisao Dataset"
      ]
    },
    {
      "cell_type": "code",
      "execution_count": 24,
      "metadata": {
        "id": "fi6x0K8tKeOf"
      },
      "outputs": [],
      "source": [
        "train,test = train_test_split(dataset,test_size=0.2,random_state=42,stratify=dataset[\"label\"])"
      ]
    },
    {
      "cell_type": "code",
      "execution_count": 25,
      "metadata": {
        "id": "F16C5M1OKvcd",
        "colab": {
          "base_uri": "https://localhost:8080/"
        },
        "outputId": "9af9901f-0e75-410d-8f47-7908acc9b99b"
      },
      "outputs": [
        {
          "output_type": "stream",
          "name": "stdout",
          "text": [
            "(5760, 2) (1440, 2)\n"
          ]
        }
      ],
      "source": [
        "print(train.shape,test.shape)"
      ]
    },
    {
      "cell_type": "markdown",
      "source": [
        "### Imprime os graficos"
      ],
      "metadata": {
        "id": "FT8qJrUifWfC"
      }
    },
    {
      "cell_type": "code",
      "source": [
        "# Conte as amostras da classe 0 e da classe 1 nos conjuntos de treinamento e teste.\n",
        "count_train_label_0 = (train[\"label\"] == 0).sum()\n",
        "count_train_label_1 = (train[\"label\"] == 1).sum()\n",
        "\n",
        "count_test_label_0 = (test[\"label\"] == 0).sum()\n",
        "count_test_label_1 = (test[\"label\"] == 1).sum()\n",
        "\n",
        "# Imprima as contagens.\n",
        "print(\"Contagem da classe 0 no conjunto de treinamento:\", count_train_label_0)\n",
        "print(\"Contagem da classe 1 no conjunto de treinamento:\", count_train_label_1)\n",
        "\n",
        "print(\"\\nContagem da classe 0 no conjunto de teste:\", count_test_label_0)\n",
        "print(\"Contagem da classe 1 no conjunto de teste:\", count_test_label_1)"
      ],
      "metadata": {
        "id": "oO6e8XKRd_v3",
        "colab": {
          "base_uri": "https://localhost:8080/"
        },
        "outputId": "5ea39753-0003-4055-cb63-e36931c88341"
      },
      "execution_count": 26,
      "outputs": [
        {
          "output_type": "stream",
          "name": "stdout",
          "text": [
            "Contagem da classe 0 no conjunto de treinamento: 2880\n",
            "Contagem da classe 1 no conjunto de treinamento: 2880\n",
            "\n",
            "Contagem da classe 0 no conjunto de teste: 720\n",
            "Contagem da classe 1 no conjunto de teste: 720\n"
          ]
        }
      ]
    },
    {
      "cell_type": "code",
      "source": [
        "train"
      ],
      "metadata": {
        "id": "SM3QX0C_c9Np",
        "colab": {
          "base_uri": "https://localhost:8080/",
          "height": 424
        },
        "outputId": "eb7362e2-1b98-444e-ff26-948a6c92ce16"
      },
      "execution_count": 27,
      "outputs": [
        {
          "output_type": "execute_result",
          "data": {
            "text/plain": [
              "                                                content  label\n",
              "4264  Marqueteiro do PT está inquieto na cadeia. Ele...      0\n",
              "3482  População busca fósseis de dinossauros em Nova...      1\n",
              "4757  CHEGA! Vitória de Trump serve de aviso para a ...      0\n",
              "1942  Tribunal nega liberdade para ex-gerente de Eng...      1\n",
              "327   Chuva recorde no Rio causa 4 mortes e deixa es...      1\n",
              "...                                                 ...    ...\n",
              "3737  Em palestra no Comando Militar da Amazônia,  P...      0\n",
              "509   Caça da Marinha cai no mar do RJ; piloto está ...      1\n",
              "3213  Pai de transexual relata luta contra preconcei...      1\n",
              "3778  ALERTA - PT poderá transformar o Brasil em uma...      0\n",
              "2447  Lula diz estar tranquilo com julgamento: Tenho...      1\n",
              "\n",
              "[5760 rows x 2 columns]"
            ],
            "text/html": [
              "\n",
              "  <div id=\"df-36590f39-f84a-499e-a2f5-13ab6a846928\" class=\"colab-df-container\">\n",
              "    <div>\n",
              "<style scoped>\n",
              "    .dataframe tbody tr th:only-of-type {\n",
              "        vertical-align: middle;\n",
              "    }\n",
              "\n",
              "    .dataframe tbody tr th {\n",
              "        vertical-align: top;\n",
              "    }\n",
              "\n",
              "    .dataframe thead th {\n",
              "        text-align: right;\n",
              "    }\n",
              "</style>\n",
              "<table border=\"1\" class=\"dataframe\">\n",
              "  <thead>\n",
              "    <tr style=\"text-align: right;\">\n",
              "      <th></th>\n",
              "      <th>content</th>\n",
              "      <th>label</th>\n",
              "    </tr>\n",
              "  </thead>\n",
              "  <tbody>\n",
              "    <tr>\n",
              "      <th>4264</th>\n",
              "      <td>Marqueteiro do PT está inquieto na cadeia. Ele...</td>\n",
              "      <td>0</td>\n",
              "    </tr>\n",
              "    <tr>\n",
              "      <th>3482</th>\n",
              "      <td>População busca fósseis de dinossauros em Nova...</td>\n",
              "      <td>1</td>\n",
              "    </tr>\n",
              "    <tr>\n",
              "      <th>4757</th>\n",
              "      <td>CHEGA! Vitória de Trump serve de aviso para a ...</td>\n",
              "      <td>0</td>\n",
              "    </tr>\n",
              "    <tr>\n",
              "      <th>1942</th>\n",
              "      <td>Tribunal nega liberdade para ex-gerente de Eng...</td>\n",
              "      <td>1</td>\n",
              "    </tr>\n",
              "    <tr>\n",
              "      <th>327</th>\n",
              "      <td>Chuva recorde no Rio causa 4 mortes e deixa es...</td>\n",
              "      <td>1</td>\n",
              "    </tr>\n",
              "    <tr>\n",
              "      <th>...</th>\n",
              "      <td>...</td>\n",
              "      <td>...</td>\n",
              "    </tr>\n",
              "    <tr>\n",
              "      <th>3737</th>\n",
              "      <td>Em palestra no Comando Militar da Amazônia,  P...</td>\n",
              "      <td>0</td>\n",
              "    </tr>\n",
              "    <tr>\n",
              "      <th>509</th>\n",
              "      <td>Caça da Marinha cai no mar do RJ; piloto está ...</td>\n",
              "      <td>1</td>\n",
              "    </tr>\n",
              "    <tr>\n",
              "      <th>3213</th>\n",
              "      <td>Pai de transexual relata luta contra preconcei...</td>\n",
              "      <td>1</td>\n",
              "    </tr>\n",
              "    <tr>\n",
              "      <th>3778</th>\n",
              "      <td>ALERTA - PT poderá transformar o Brasil em uma...</td>\n",
              "      <td>0</td>\n",
              "    </tr>\n",
              "    <tr>\n",
              "      <th>2447</th>\n",
              "      <td>Lula diz estar tranquilo com julgamento: Tenho...</td>\n",
              "      <td>1</td>\n",
              "    </tr>\n",
              "  </tbody>\n",
              "</table>\n",
              "<p>5760 rows × 2 columns</p>\n",
              "</div>\n",
              "    <div class=\"colab-df-buttons\">\n",
              "\n",
              "  <div class=\"colab-df-container\">\n",
              "    <button class=\"colab-df-convert\" onclick=\"convertToInteractive('df-36590f39-f84a-499e-a2f5-13ab6a846928')\"\n",
              "            title=\"Convert this dataframe to an interactive table.\"\n",
              "            style=\"display:none;\">\n",
              "\n",
              "  <svg xmlns=\"http://www.w3.org/2000/svg\" height=\"24px\" viewBox=\"0 -960 960 960\">\n",
              "    <path d=\"M120-120v-720h720v720H120Zm60-500h600v-160H180v160Zm220 220h160v-160H400v160Zm0 220h160v-160H400v160ZM180-400h160v-160H180v160Zm440 0h160v-160H620v160ZM180-180h160v-160H180v160Zm440 0h160v-160H620v160Z\"/>\n",
              "  </svg>\n",
              "    </button>\n",
              "\n",
              "  <style>\n",
              "    .colab-df-container {\n",
              "      display:flex;\n",
              "      gap: 12px;\n",
              "    }\n",
              "\n",
              "    .colab-df-convert {\n",
              "      background-color: #E8F0FE;\n",
              "      border: none;\n",
              "      border-radius: 50%;\n",
              "      cursor: pointer;\n",
              "      display: none;\n",
              "      fill: #1967D2;\n",
              "      height: 32px;\n",
              "      padding: 0 0 0 0;\n",
              "      width: 32px;\n",
              "    }\n",
              "\n",
              "    .colab-df-convert:hover {\n",
              "      background-color: #E2EBFA;\n",
              "      box-shadow: 0px 1px 2px rgba(60, 64, 67, 0.3), 0px 1px 3px 1px rgba(60, 64, 67, 0.15);\n",
              "      fill: #174EA6;\n",
              "    }\n",
              "\n",
              "    .colab-df-buttons div {\n",
              "      margin-bottom: 4px;\n",
              "    }\n",
              "\n",
              "    [theme=dark] .colab-df-convert {\n",
              "      background-color: #3B4455;\n",
              "      fill: #D2E3FC;\n",
              "    }\n",
              "\n",
              "    [theme=dark] .colab-df-convert:hover {\n",
              "      background-color: #434B5C;\n",
              "      box-shadow: 0px 1px 3px 1px rgba(0, 0, 0, 0.15);\n",
              "      filter: drop-shadow(0px 1px 2px rgba(0, 0, 0, 0.3));\n",
              "      fill: #FFFFFF;\n",
              "    }\n",
              "  </style>\n",
              "\n",
              "    <script>\n",
              "      const buttonEl =\n",
              "        document.querySelector('#df-36590f39-f84a-499e-a2f5-13ab6a846928 button.colab-df-convert');\n",
              "      buttonEl.style.display =\n",
              "        google.colab.kernel.accessAllowed ? 'block' : 'none';\n",
              "\n",
              "      async function convertToInteractive(key) {\n",
              "        const element = document.querySelector('#df-36590f39-f84a-499e-a2f5-13ab6a846928');\n",
              "        const dataTable =\n",
              "          await google.colab.kernel.invokeFunction('convertToInteractive',\n",
              "                                                    [key], {});\n",
              "        if (!dataTable) return;\n",
              "\n",
              "        const docLinkHtml = 'Like what you see? Visit the ' +\n",
              "          '<a target=\"_blank\" href=https://colab.research.google.com/notebooks/data_table.ipynb>data table notebook</a>'\n",
              "          + ' to learn more about interactive tables.';\n",
              "        element.innerHTML = '';\n",
              "        dataTable['output_type'] = 'display_data';\n",
              "        await google.colab.output.renderOutput(dataTable, element);\n",
              "        const docLink = document.createElement('div');\n",
              "        docLink.innerHTML = docLinkHtml;\n",
              "        element.appendChild(docLink);\n",
              "      }\n",
              "    </script>\n",
              "  </div>\n",
              "\n",
              "\n",
              "<div id=\"df-af9e02c4-f8d2-44b1-a066-70bd68f9d231\">\n",
              "  <button class=\"colab-df-quickchart\" onclick=\"quickchart('df-af9e02c4-f8d2-44b1-a066-70bd68f9d231')\"\n",
              "            title=\"Suggest charts.\"\n",
              "            style=\"display:none;\">\n",
              "\n",
              "<svg xmlns=\"http://www.w3.org/2000/svg\" height=\"24px\"viewBox=\"0 0 24 24\"\n",
              "     width=\"24px\">\n",
              "    <g>\n",
              "        <path d=\"M19 3H5c-1.1 0-2 .9-2 2v14c0 1.1.9 2 2 2h14c1.1 0 2-.9 2-2V5c0-1.1-.9-2-2-2zM9 17H7v-7h2v7zm4 0h-2V7h2v10zm4 0h-2v-4h2v4z\"/>\n",
              "    </g>\n",
              "</svg>\n",
              "  </button>\n",
              "\n",
              "<style>\n",
              "  .colab-df-quickchart {\n",
              "      --bg-color: #E8F0FE;\n",
              "      --fill-color: #1967D2;\n",
              "      --hover-bg-color: #E2EBFA;\n",
              "      --hover-fill-color: #174EA6;\n",
              "      --disabled-fill-color: #AAA;\n",
              "      --disabled-bg-color: #DDD;\n",
              "  }\n",
              "\n",
              "  [theme=dark] .colab-df-quickchart {\n",
              "      --bg-color: #3B4455;\n",
              "      --fill-color: #D2E3FC;\n",
              "      --hover-bg-color: #434B5C;\n",
              "      --hover-fill-color: #FFFFFF;\n",
              "      --disabled-bg-color: #3B4455;\n",
              "      --disabled-fill-color: #666;\n",
              "  }\n",
              "\n",
              "  .colab-df-quickchart {\n",
              "    background-color: var(--bg-color);\n",
              "    border: none;\n",
              "    border-radius: 50%;\n",
              "    cursor: pointer;\n",
              "    display: none;\n",
              "    fill: var(--fill-color);\n",
              "    height: 32px;\n",
              "    padding: 0;\n",
              "    width: 32px;\n",
              "  }\n",
              "\n",
              "  .colab-df-quickchart:hover {\n",
              "    background-color: var(--hover-bg-color);\n",
              "    box-shadow: 0 1px 2px rgba(60, 64, 67, 0.3), 0 1px 3px 1px rgba(60, 64, 67, 0.15);\n",
              "    fill: var(--button-hover-fill-color);\n",
              "  }\n",
              "\n",
              "  .colab-df-quickchart-complete:disabled,\n",
              "  .colab-df-quickchart-complete:disabled:hover {\n",
              "    background-color: var(--disabled-bg-color);\n",
              "    fill: var(--disabled-fill-color);\n",
              "    box-shadow: none;\n",
              "  }\n",
              "\n",
              "  .colab-df-spinner {\n",
              "    border: 2px solid var(--fill-color);\n",
              "    border-color: transparent;\n",
              "    border-bottom-color: var(--fill-color);\n",
              "    animation:\n",
              "      spin 1s steps(1) infinite;\n",
              "  }\n",
              "\n",
              "  @keyframes spin {\n",
              "    0% {\n",
              "      border-color: transparent;\n",
              "      border-bottom-color: var(--fill-color);\n",
              "      border-left-color: var(--fill-color);\n",
              "    }\n",
              "    20% {\n",
              "      border-color: transparent;\n",
              "      border-left-color: var(--fill-color);\n",
              "      border-top-color: var(--fill-color);\n",
              "    }\n",
              "    30% {\n",
              "      border-color: transparent;\n",
              "      border-left-color: var(--fill-color);\n",
              "      border-top-color: var(--fill-color);\n",
              "      border-right-color: var(--fill-color);\n",
              "    }\n",
              "    40% {\n",
              "      border-color: transparent;\n",
              "      border-right-color: var(--fill-color);\n",
              "      border-top-color: var(--fill-color);\n",
              "    }\n",
              "    60% {\n",
              "      border-color: transparent;\n",
              "      border-right-color: var(--fill-color);\n",
              "    }\n",
              "    80% {\n",
              "      border-color: transparent;\n",
              "      border-right-color: var(--fill-color);\n",
              "      border-bottom-color: var(--fill-color);\n",
              "    }\n",
              "    90% {\n",
              "      border-color: transparent;\n",
              "      border-bottom-color: var(--fill-color);\n",
              "    }\n",
              "  }\n",
              "</style>\n",
              "\n",
              "  <script>\n",
              "    async function quickchart(key) {\n",
              "      const quickchartButtonEl =\n",
              "        document.querySelector('#' + key + ' button');\n",
              "      quickchartButtonEl.disabled = true;  // To prevent multiple clicks.\n",
              "      quickchartButtonEl.classList.add('colab-df-spinner');\n",
              "      try {\n",
              "        const charts = await google.colab.kernel.invokeFunction(\n",
              "            'suggestCharts', [key], {});\n",
              "      } catch (error) {\n",
              "        console.error('Error during call to suggestCharts:', error);\n",
              "      }\n",
              "      quickchartButtonEl.classList.remove('colab-df-spinner');\n",
              "      quickchartButtonEl.classList.add('colab-df-quickchart-complete');\n",
              "    }\n",
              "    (() => {\n",
              "      let quickchartButtonEl =\n",
              "        document.querySelector('#df-af9e02c4-f8d2-44b1-a066-70bd68f9d231 button');\n",
              "      quickchartButtonEl.style.display =\n",
              "        google.colab.kernel.accessAllowed ? 'block' : 'none';\n",
              "    })();\n",
              "  </script>\n",
              "</div>\n",
              "    </div>\n",
              "  </div>\n"
            ]
          },
          "metadata": {},
          "execution_count": 27
        }
      ]
    },
    {
      "cell_type": "code",
      "source": [
        "import matplotlib.pyplot as plt\n",
        "\n",
        "# Supondo que você já tenha dividido seus dados em 'train' e 'test' e tenha contado as amostras de cada classe.\n",
        "\n",
        "# Defina as classes e as contagens para o conjunto de treinamento e teste.\n",
        "classes = ['Classe 0', 'Classe 1']\n",
        "train_counts = [count_train_label_0, count_train_label_1]\n",
        "test_counts = [count_test_label_0, count_test_label_1]\n",
        "\n",
        "# Crie um gráfico de barras para o conjunto de treinamento.\n",
        "plt.figure(figsize=(10, 5))\n",
        "plt.subplot(1, 2, 1)\n",
        "bars = plt.bar(classes, train_counts, color=['red', 'blue'])\n",
        "plt.title('Treinamento')\n",
        "plt.xlabel('Classes')\n",
        "plt.ylabel('Contagem')\n",
        "\n",
        "# Adicione a quantidade no topo de cada barra.\n",
        "for bar, count in zip(bars, train_counts):\n",
        "    plt.text(bar.get_x() + bar.get_width() / 2, bar.get_height(), count, ha='center', va='bottom')\n",
        "\n",
        "# Crie um gráfico de barras para o conjunto de teste.\n",
        "plt.subplot(1, 2, 2)\n",
        "bars = plt.bar(classes, test_counts, color=['red', 'blue'])\n",
        "plt.title('Teste')\n",
        "plt.xlabel('Classes')\n",
        "plt.ylabel('Contagem')\n",
        "\n",
        "# Adicione a quantidade no topo de cada barra.\n",
        "for bar, count in zip(bars, test_counts):\n",
        "    plt.text(bar.get_x() + bar.get_width() / 2, bar.get_height(), count, ha='center', va='bottom')\n",
        "\n",
        "plt.tight_layout()  # Para ajustar a posição dos gráficos.\n",
        "plt.show()\n"
      ],
      "metadata": {
        "id": "FWeKcsfla6wz",
        "colab": {
          "base_uri": "https://localhost:8080/",
          "height": 484
        },
        "outputId": "b4b2ff72-0dc4-4c4a-af30-d0560b9648ba"
      },
      "execution_count": 28,
      "outputs": [
        {
          "output_type": "display_data",
          "data": {
            "text/plain": [
              "<Figure size 1000x500 with 2 Axes>"
            ],
            "image/png": "[encoded data removed]"
          },
          "metadata": {}
        }
      ]
    },
    {
      "cell_type": "markdown",
      "source": [
        "## Save Dataset Train and Test"
      ],
      "metadata": {
        "id": "_zUfbEzIuJfz"
      }
    },
    {
      "cell_type": "code",
      "source": [
        "test_df = test.copy()\n",
        "test_df.to_csv(dataset_path_save + '/test.csv', index=False)"
      ],
      "metadata": {
        "id": "L5eyFw6lbOe0"
      },
      "execution_count": 29,
      "outputs": []
    },
    {
      "cell_type": "code",
      "source": [
        "train_df = train.copy()\n",
        "train_df.to_csv(dataset_path_save + '/train.csv', index=False)"
      ],
      "metadata": {
        "id": "QdrW1WBUgKl5"
      },
      "execution_count": 30,
      "outputs": []
    },
    {
      "cell_type": "markdown",
      "metadata": {
        "id": "VWxuBa1nLBUL"
      },
      "source": [
        "# Load Model"
      ]
    },
    {
      "cell_type": "code",
      "execution_count": 31,
      "metadata": {
        "id": "ub3Tv0eLLb4t"
      },
      "outputs": [],
      "source": [
        "# tokenizer = AutoTokenizer.from_pretrained(MODEL_NAME)"
      ]
    },
    {
      "cell_type": "code",
      "execution_count": 32,
      "metadata": {
        "id": "M1FQIwozlref",
        "colab": {
          "base_uri": "https://localhost:8080/",
          "height": 177,
          "referenced_widgets": [
            "8064fdf1e69f4162ad4e11d42cc69bbb",
            "c65badb667c9471da4ef16a4500aaa43",
            "19043e57187940f2a5f747f4782e9401",
            "53c5cab8bbdd4df58dd23819a3408538",
            "a541d7200ae3443faa4ec290e9f8c7ac",
            "ad87199adff44c4b96e4551445495900",
            "583035e15ca840109cd37313ab007e5d",
            "4ffe6ab8d9084325929bd4f08462503f",
            "2bea45d3d6c04651836532f662661f5a",
            "84c539e4df464c7e9f079a66060037cd",
            "1236159331db4e42a31315af348ae73b",
            "f987ff8cb37a4bd9b489516b286450bc",
            "b9cd893641214168ad411dfea28279fe",
            "8cb07f2e4fb248d6aab5e5a1066b422e",
            "ecaec6f86e9b4c5caa2509bb29b63499",
            "74de94f747ce4bea9eddb1ef5990c297",
            "ed240e5315154ac98cef70eebc88f2a1",
            "514032efaae2498d8a59ff107893b696",
            "d3cdf8b3c65f46548a6d27ec30f7c78c",
            "fbebf5dacbb448b0b54b051020067ea8",
            "6a9fc9ef517943b5b68b5809ff36d148",
            "13e9e42273c841ba8947228b05bdde6d",
            "8aa1123c68e64a308e2b2743de090bb4",
            "b3fc52192a174247b5997e76c6641a8d",
            "3768f0a2d0f14657bcd462203549c0b6",
            "2519a1faab6948ec96b0dde3cde092b0",
            "eac2acc602204abfacccc00c6420cfac",
            "2f023305bb0648c7af268311e6b826d9",
            "c08b748e8fab44c6a3592fc6be393dda",
            "aa8f49e8625441c685cad3e82ebe029a",
            "2aa842df48584fe6bcf0051347179949",
            "53659e4795514b468c6bd290a1aa9f92",
            "9a3e33bfade24a8eab63b440f72007f8",
            "17cd89fc594449d8bf6ff29c158ab98c",
            "493e67aed3914ce285f05d4d8c3a5d62",
            "6cdb09409c884ef9ba29766589acb050",
            "cc60d4f8847e402f83963dc1f70791f1",
            "852f4deff3f54424b26aeff5380ecbce",
            "a1eb2548266943088f2b13050e0bc2d5",
            "d8a010fdab464f80a60c1c23f62c78bf",
            "eb42b22cec534326adfd3a7944cfe243",
            "0601243b5b1045b2a288ccac7e3bdef2",
            "e325c8d291634deb9b30a562cc26364b",
            "7396423fa6aa4fd286dab2f282acc3cd",
            "14aaa7da748b4bfc98c3ec5b7e6ec09b",
            "7f337bf0f306413995ab242ccfa0d288",
            "d763d9ffb3cf42a5abf5fe85d9600642",
            "dfed2e00ca1e4f2c8a8bfe3a0ec80451",
            "7c3c035271744beeb527dcaff01686bf",
            "cc2e71d259074c73b7e345d5c3efef3b",
            "cc7475e17843491fad3969f13fd50de1",
            "22babdfe08874355ab73d86fb1d4def6",
            "0d8fd05f553046068344b91b3592d5a7",
            "fd7513072d5b497bae5514be016a3279",
            "2bcae9d9a00046599e8dd6198f429f44"
          ]
        },
        "outputId": "7ac341bf-8b41-4af3-8d6f-24d650127914"
      },
      "outputs": [
        {
          "output_type": "display_data",
          "data": {
            "text/plain": [
              "Downloading (…)solve/main/vocab.txt:   0%|          | 0.00/210k [00:00<?, ?B/s]"
            ],
            "application/vnd.jupyter.widget-view+json": {
              "version_major": 2,
              "version_minor": 0,
              "model_id": "8064fdf1e69f4162ad4e11d42cc69bbb"
            }
          },
          "metadata": {}
        },
        {
          "output_type": "display_data",
          "data": {
            "text/plain": [
              "Downloading (…)in/added_tokens.json:   0%|          | 0.00/2.00 [00:00<?, ?B/s]"
            ],
            "application/vnd.jupyter.widget-view+json": {
              "version_major": 2,
              "version_minor": 0,
              "model_id": "f987ff8cb37a4bd9b489516b286450bc"
            }
          },
          "metadata": {}
        },
        {
          "output_type": "display_data",
          "data": {
            "text/plain": [
              "Downloading (…)cial_tokens_map.json:   0%|          | 0.00/112 [00:00<?, ?B/s]"
            ],
            "application/vnd.jupyter.widget-view+json": {
              "version_major": 2,
              "version_minor": 0,
              "model_id": "8aa1123c68e64a308e2b2743de090bb4"
            }
          },
          "metadata": {}
        },
        {
          "output_type": "display_data",
          "data": {
            "text/plain": [
              "Downloading (…)okenizer_config.json:   0%|          | 0.00/43.0 [00:00<?, ?B/s]"
            ],
            "application/vnd.jupyter.widget-view+json": {
              "version_major": 2,
              "version_minor": 0,
              "model_id": "17cd89fc594449d8bf6ff29c158ab98c"
            }
          },
          "metadata": {}
        },
        {
          "output_type": "display_data",
          "data": {
            "text/plain": [
              "Downloading (…)lve/main/config.json:   0%|          | 0.00/647 [00:00<?, ?B/s]"
            ],
            "application/vnd.jupyter.widget-view+json": {
              "version_major": 2,
              "version_minor": 0,
              "model_id": "14aaa7da748b4bfc98c3ec5b7e6ec09b"
            }
          },
          "metadata": {}
        }
      ],
      "source": [
        "tokenizer = BertTokenizer.from_pretrained(MODEL_NAME)"
      ]
    },
    {
      "cell_type": "code",
      "execution_count": 33,
      "metadata": {
        "id": "VTe8W_BhoHrt"
      },
      "outputs": [],
      "source": [
        "tr = train[\"content\"]\n"
      ]
    },
    {
      "cell_type": "code",
      "execution_count": 34,
      "metadata": {
        "id": "o3Abpmt1oJEY",
        "colab": {
          "base_uri": "https://localhost:8080/",
          "height": 192
        },
        "outputId": "ccc3d12c-5165-4766-da95-3f4e1ec639f5"
      },
      "outputs": [
        {
          "output_type": "execute_result",
          "data": {
            "text/plain": [
              "'Ex de Luiza Brunet é ouvido em audiência do caso no qual é acusado de agressão. Lírio Parisotto é acusado de duas lesões corporais contra a modelo: em 2015 e 2016. Outras duas testemunhas, que faltaram em audiência do ano passado, também prestaram depoimento no Fórum da Barra Funda..  O empresário Lírio Parisotto foi ouvido nesta segunda-feira (13) ao Fórum Criminal da Barra Funda, na Zona Oeste de São Paulo, em nova audiência do caso no qual ele é julgado pela acusação de agredir a ex-mulher, a atriz Luiza Brunet. Parisotto não quis falar com a imprensa. A segunda audiência de instrução durou cerca de duas horas. Além do empresário, prestaram depoimento um perito e uma mulher que presenciou uma viagem do casal para o exterior. O advogado de Parisotto, Celso Vilardi, comentou o depoimento do empresário: \"Ele tem uma versão só, nunca mentiu. Uma versão harmônica\", disse. Ele questiona as provas apresentadas pela acusação: \"Uma hora o atestado médico fala em fratura do dedo. Agora, a acusação juntou e-mail que fala em rompimento de tendão. A própria natureza da lesão vai modificando ao longo do tempo. O médico veio aqui hoje e disse que o atestado não tem o menor valor legal. Contraria todas as normas de medicinal legal e de processo.\" O advogado de Luiza Brunet, Pedro Egberto da Fonseca Neto, disse que as agressões estão comprovadas. “Não tem dúvidas das agressões nem de quem é o autor delas. Ele já tentou parar esse processo no Tribunal de Justiça de São Paulo. Não conseguiu porque está evidenciada a materialidade. Tentou no STJ em Brasília e não conseguiu.” “Não consegue explicar porque ela estava com olho roxo, costelas fraturadas, ele não consegue explicar. Então eles fazem o que fazem, jogo de cena, falam que ela que é violenta. Em 40 anos de vida pública, ela nunca teve um escândalo. Agora, do dia para a noite, virou o diabo\", disse. Sobre a agressão nos Estados Unidos, \"ele disse que ele a conteve. Mas quando perguntado sobre o olho roxo, ele disse que quem tem que explicar é ela\". No dia 29 de novembro de 2016, ocorreu a primeira audiência do caso. Naquela ocasião, Luiza Brunet foi ouvida em separado e disse que apanhou do então marido por duas vezes. Laudo e imagens de tomografia computadorizada, de junho de 2016, mostram que Luiza Brunet teve quatro costelas fraturadas. A atriz e modelo de 54 anos acusa o ex-companheiro, o empresário Lírio Parisotto, de 62, de quebrar suas costelas em 21 de maio de 2016 durante uma briga nos Estados Unidos. Segundo o laudo, foi constatada \"fratura sem desvio significativo, da porção ântero-lateral do 7o ao 10o arcos costais à direita, com formações de calos ósseos incipientes\". O laudo e as imagens das fraturas estão no processo, que é digitalizado. A divulgação do laudo com as imagens foi feita nesta semana pela revista Veja e, depois, o G1 também teve acesso ao documento . O caso que envolve as duas agressões está sob segredo judicial. Para o advogado de Parisotto, Celso Vilardi, o laudo da tomografia da coluna é questionável. \"Primeiro exame falou em nona vértebra. Depois um laudo falou em sétima, oitava, nona e décima vértebras. Então, nem os médicos particulares chegam a uma conclusão. Eu não conheço Essa tomografia não está juntada aos autos.\" O advogado de Luiza Brunet, Pedro Egberto da Fonseca Neto, rebate as críticas da defesa de Parisotto. \"O laudo já estava no processo desde o início. As imagens, o que aconteceu, é que elas foram devolvidas para a gente porque não tinha tecnologia para fazer a digitalização”, disse. Luiza ainda alega que Parisotto quebrou um dos seus dedos em 15 de dezembro de 2015 em outra discussão, desta vez em São Paulo. A defesa do empresário alega que ele tentou se defender da ex-mulher nas duas agressões de que é acusado. Como já prestou depoimento à juíza Elaine Cristina Monteiro Cavalcante, da Vara do Foro Central da Violência Doméstica e Familiar contra a Mulher, Luiza não precisou comparecer ao Fórum Criminal da Barra Funda, na Zona Oeste da capital paulista. O ex é acusado pela Promotoria de ter cometido dois crimes contra a modelo: de lesão corporal grave e leve. O empresário pode receber condenação de um ano e meio até oito anos de prisão, já que ele está sendo responsabilizado nos termos da Lei Maria da Penha, que endurece a pena. A ação penal em favor de Luiza não cobra indenização em dinheiro de Parisotto. “O Ministério Público pede apenas a punição dele [do empresário]\", falou o promotor. Na primeira audiência, outras três pessoas teriam sido ouvidas: uma testemunha de acusação (amiga da modelo) e três de defesa (ligadas a Parisotto). O advogado do empresário, Celso Vilardi, criticou em 2016 o Ministério Público por ter denunciado seu cliente por agressão contra Luiza. Ele também apontou haver contradições na versão da modelo. \"Nós já tínhamos feito uma juntada de WhastApp, texto de e-mails. Nós já tínhamos uma prova absolutamente consistente no sentido de que ela confessa que bate nele. Ela fala isso nos e-mails, os amigos falam isso nos e-mails. E, efetivamente, nós apontamos diversas contradições. As fotos que ela publicou não condizem com as daquela semana em que ela trabalhou numa novela\", disse Vilardi sobre a personagem Madá, que fez em Velho Chico, da TV Globo. A defesa de Lírio Parisotto também anexou ao processo uma troca de mensagens antigas, de período anterior às agressões, entre o empresário e a filha de Luiza Brunet, a também modelo Yasmin. Nas mensagens, a jovem teria pedido que os dois fizessem as pazes e falado que a mãe sofre com problemas psicológicos. De acordo com a acusação, o primeiro crime, de \"lesão corporal grave\", ocorreu no dia 15 de dezembro do ano passado, no apartamento do empresário em São Paulo, quando o então casal discutiu e ele quebrou um dos dedos da mão da atriz – de acordo com laudo indireto feito pelo Instituto Médico Legal (IML) a partir da radiografia que a vítima tirou à época. O segundo crime, de \"lesão corporal leve\", foi em 21 de maio de 2016, em outro apartamento do então marido, em Nova Iorque, nos Estados Unidos, segundo Luiza. No dia 29 de junho, ela procurou a Promotoria em São Paulo, cidade onde Parisotto mora, e contou que ele deu um soco no olho dela, a chutou e quebrou quatro de suas costelas – conforme constatou posteriormente laudo pericial. Em depoimento ao Ministério Público Estadual, no dia 14 de julho do ano passado, Parisotto alegou que agiu em legítima defesa para se defender de Luiza. Ele não falou com a imprensa. Luiza e Parisotto tiveram uma união estável por cinco anos, uma relação de términos e voltas. Dessa vez, os dois estão definitivamente separados. Luiza havia anexado ao processo mais de 20 fotos das lesões que alegou ter sofrido do então marido. Numa delas, que foi obtida e divulgada pelo Fantástico, ela aparece com o olho direito inchado. Em 25 de maio de 2016, a atriz havia divulgado uma foto em sua página no Facebook, quatro dias após o incidente, com parte do rosto coberto pelos cabelos e uma frase: \"A maquiagem forte esconde o hematoma da alma\". Luiza é embaixadora do Instituto Avon, que faz campanha contra a violência doméstica. Por conta da queixa de violência doméstica que a atriz prestou ao MPE contra o ex-marido, a Justiça decretou medidas de proteção para Luiza. O empresário está proibido de se aproximar e manter contato com ela.'"
            ],
            "application/vnd.google.colaboratory.intrinsic+json": {
              "type": "string"
            }
          },
          "metadata": {},
          "execution_count": 34
        }
      ],
      "source": [
        "tr[0]"
      ]
    },
    {
      "cell_type": "code",
      "execution_count": 35,
      "metadata": {
        "id": "ZruDM5A2n_Bd"
      },
      "outputs": [],
      "source": [
        "# encoded_input = tokenizer.encode_plus(text=tr[0], max_length=MAX_LEN, truncation=True, return_tensors='tf')\n"
      ]
    },
    {
      "cell_type": "code",
      "execution_count": 36,
      "metadata": {
        "id": "gLigewSnoPqZ"
      },
      "outputs": [],
      "source": [
        "# encoded_input"
      ]
    },
    {
      "cell_type": "markdown",
      "metadata": {
        "id": "feHeIvwlLjsj"
      },
      "source": [
        "# Tratamento das entradas"
      ]
    },
    {
      "cell_type": "code",
      "execution_count": 37,
      "metadata": {
        "id": "IY_JBFavMAS7",
        "colab": {
          "base_uri": "https://localhost:8080/",
          "height": 206
        },
        "outputId": "1afeaeb9-c63e-49ee-826d-55aab4d3c1e6"
      },
      "outputs": [
        {
          "output_type": "execute_result",
          "data": {
            "text/plain": [
              "                                                content  label\n",
              "4264  Marqueteiro do PT está inquieto na cadeia. Ele...      0\n",
              "3482  População busca fósseis de dinossauros em Nova...      1\n",
              "4757  CHEGA! Vitória de Trump serve de aviso para a ...      0\n",
              "1942  Tribunal nega liberdade para ex-gerente de Eng...      1\n",
              "327   Chuva recorde no Rio causa 4 mortes e deixa es...      1"
            ],
            "text/html": [
              "\n",
              "  <div id=\"df-53c8600c-05b5-450a-9d47-fc0c9af3c0ea\" class=\"colab-df-container\">\n",
              "    <div>\n",
              "<style scoped>\n",
              "    .dataframe tbody tr th:only-of-type {\n",
              "        vertical-align: middle;\n",
              "    }\n",
              "\n",
              "    .dataframe tbody tr th {\n",
              "        vertical-align: top;\n",
              "    }\n",
              "\n",
              "    .dataframe thead th {\n",
              "        text-align: right;\n",
              "    }\n",
              "</style>\n",
              "<table border=\"1\" class=\"dataframe\">\n",
              "  <thead>\n",
              "    <tr style=\"text-align: right;\">\n",
              "      <th></th>\n",
              "      <th>content</th>\n",
              "      <th>label</th>\n",
              "    </tr>\n",
              "  </thead>\n",
              "  <tbody>\n",
              "    <tr>\n",
              "      <th>4264</th>\n",
              "      <td>Marqueteiro do PT está inquieto na cadeia. Ele...</td>\n",
              "      <td>0</td>\n",
              "    </tr>\n",
              "    <tr>\n",
              "      <th>3482</th>\n",
              "      <td>População busca fósseis de dinossauros em Nova...</td>\n",
              "      <td>1</td>\n",
              "    </tr>\n",
              "    <tr>\n",
              "      <th>4757</th>\n",
              "      <td>CHEGA! Vitória de Trump serve de aviso para a ...</td>\n",
              "      <td>0</td>\n",
              "    </tr>\n",
              "    <tr>\n",
              "      <th>1942</th>\n",
              "      <td>Tribunal nega liberdade para ex-gerente de Eng...</td>\n",
              "      <td>1</td>\n",
              "    </tr>\n",
              "    <tr>\n",
              "      <th>327</th>\n",
              "      <td>Chuva recorde no Rio causa 4 mortes e deixa es...</td>\n",
              "      <td>1</td>\n",
              "    </tr>\n",
              "  </tbody>\n",
              "</table>\n",
              "</div>\n",
              "    <div class=\"colab-df-buttons\">\n",
              "\n",
              "  <div class=\"colab-df-container\">\n",
              "    <button class=\"colab-df-convert\" onclick=\"convertToInteractive('df-53c8600c-05b5-450a-9d47-fc0c9af3c0ea')\"\n",
              "            title=\"Convert this dataframe to an interactive table.\"\n",
              "            style=\"display:none;\">\n",
              "\n",
              "  <svg xmlns=\"http://www.w3.org/2000/svg\" height=\"24px\" viewBox=\"0 -960 960 960\">\n",
              "    <path d=\"M120-120v-720h720v720H120Zm60-500h600v-160H180v160Zm220 220h160v-160H400v160Zm0 220h160v-160H400v160ZM180-400h160v-160H180v160Zm440 0h160v-160H620v160ZM180-180h160v-160H180v160Zm440 0h160v-160H620v160Z\"/>\n",
              "  </svg>\n",
              "    </button>\n",
              "\n",
              "  <style>\n",
              "    .colab-df-container {\n",
              "      display:flex;\n",
              "      gap: 12px;\n",
              "    }\n",
              "\n",
              "    .colab-df-convert {\n",
              "      background-color: #E8F0FE;\n",
              "      border: none;\n",
              "      border-radius: 50%;\n",
              "      cursor: pointer;\n",
              "      display: none;\n",
              "      fill: #1967D2;\n",
              "      height: 32px;\n",
              "      padding: 0 0 0 0;\n",
              "      width: 32px;\n",
              "    }\n",
              "\n",
              "    .colab-df-convert:hover {\n",
              "      background-color: #E2EBFA;\n",
              "      box-shadow: 0px 1px 2px rgba(60, 64, 67, 0.3), 0px 1px 3px 1px rgba(60, 64, 67, 0.15);\n",
              "      fill: #174EA6;\n",
              "    }\n",
              "\n",
              "    .colab-df-buttons div {\n",
              "      margin-bottom: 4px;\n",
              "    }\n",
              "\n",
              "    [theme=dark] .colab-df-convert {\n",
              "      background-color: #3B4455;\n",
              "      fill: #D2E3FC;\n",
              "    }\n",
              "\n",
              "    [theme=dark] .colab-df-convert:hover {\n",
              "      background-color: #434B5C;\n",
              "      box-shadow: 0px 1px 3px 1px rgba(0, 0, 0, 0.15);\n",
              "      filter: drop-shadow(0px 1px 2px rgba(0, 0, 0, 0.3));\n",
              "      fill: #FFFFFF;\n",
              "    }\n",
              "  </style>\n",
              "\n",
              "    <script>\n",
              "      const buttonEl =\n",
              "        document.querySelector('#df-53c8600c-05b5-450a-9d47-fc0c9af3c0ea button.colab-df-convert');\n",
              "      buttonEl.style.display =\n",
              "        google.colab.kernel.accessAllowed ? 'block' : 'none';\n",
              "\n",
              "      async function convertToInteractive(key) {\n",
              "        const element = document.querySelector('#df-53c8600c-05b5-450a-9d47-fc0c9af3c0ea');\n",
              "        const dataTable =\n",
              "          await google.colab.kernel.invokeFunction('convertToInteractive',\n",
              "                                                    [key], {});\n",
              "        if (!dataTable) return;\n",
              "\n",
              "        const docLinkHtml = 'Like what you see? Visit the ' +\n",
              "          '<a target=\"_blank\" href=https://colab.research.google.com/notebooks/data_table.ipynb>data table notebook</a>'\n",
              "          + ' to learn more about interactive tables.';\n",
              "        element.innerHTML = '';\n",
              "        dataTable['output_type'] = 'display_data';\n",
              "        await google.colab.output.renderOutput(dataTable, element);\n",
              "        const docLink = document.createElement('div');\n",
              "        docLink.innerHTML = docLinkHtml;\n",
              "        element.appendChild(docLink);\n",
              "      }\n",
              "    </script>\n",
              "  </div>\n",
              "\n",
              "\n",
              "<div id=\"df-2e3c5473-6529-44ef-b8ed-dc5d457012ef\">\n",
              "  <button class=\"colab-df-quickchart\" onclick=\"quickchart('df-2e3c5473-6529-44ef-b8ed-dc5d457012ef')\"\n",
              "            title=\"Suggest charts.\"\n",
              "            style=\"display:none;\">\n",
              "\n",
              "<svg xmlns=\"http://www.w3.org/2000/svg\" height=\"24px\"viewBox=\"0 0 24 24\"\n",
              "     width=\"24px\">\n",
              "    <g>\n",
              "        <path d=\"M19 3H5c-1.1 0-2 .9-2 2v14c0 1.1.9 2 2 2h14c1.1 0 2-.9 2-2V5c0-1.1-.9-2-2-2zM9 17H7v-7h2v7zm4 0h-2V7h2v10zm4 0h-2v-4h2v4z\"/>\n",
              "    </g>\n",
              "</svg>\n",
              "  </button>\n",
              "\n",
              "<style>\n",
              "  .colab-df-quickchart {\n",
              "      --bg-color: #E8F0FE;\n",
              "      --fill-color: #1967D2;\n",
              "      --hover-bg-color: #E2EBFA;\n",
              "      --hover-fill-color: #174EA6;\n",
              "      --disabled-fill-color: #AAA;\n",
              "      --disabled-bg-color: #DDD;\n",
              "  }\n",
              "\n",
              "  [theme=dark] .colab-df-quickchart {\n",
              "      --bg-color: #3B4455;\n",
              "      --fill-color: #D2E3FC;\n",
              "      --hover-bg-color: #434B5C;\n",
              "      --hover-fill-color: #FFFFFF;\n",
              "      --disabled-bg-color: #3B4455;\n",
              "      --disabled-fill-color: #666;\n",
              "  }\n",
              "\n",
              "  .colab-df-quickchart {\n",
              "    background-color: var(--bg-color);\n",
              "    border: none;\n",
              "    border-radius: 50%;\n",
              "    cursor: pointer;\n",
              "    display: none;\n",
              "    fill: var(--fill-color);\n",
              "    height: 32px;\n",
              "    padding: 0;\n",
              "    width: 32px;\n",
              "  }\n",
              "\n",
              "  .colab-df-quickchart:hover {\n",
              "    background-color: var(--hover-bg-color);\n",
              "    box-shadow: 0 1px 2px rgba(60, 64, 67, 0.3), 0 1px 3px 1px rgba(60, 64, 67, 0.15);\n",
              "    fill: var(--button-hover-fill-color);\n",
              "  }\n",
              "\n",
              "  .colab-df-quickchart-complete:disabled,\n",
              "  .colab-df-quickchart-complete:disabled:hover {\n",
              "    background-color: var(--disabled-bg-color);\n",
              "    fill: var(--disabled-fill-color);\n",
              "    box-shadow: none;\n",
              "  }\n",
              "\n",
              "  .colab-df-spinner {\n",
              "    border: 2px solid var(--fill-color);\n",
              "    border-color: transparent;\n",
              "    border-bottom-color: var(--fill-color);\n",
              "    animation:\n",
              "      spin 1s steps(1) infinite;\n",
              "  }\n",
              "\n",
              "  @keyframes spin {\n",
              "    0% {\n",
              "      border-color: transparent;\n",
              "      border-bottom-color: var(--fill-color);\n",
              "      border-left-color: var(--fill-color);\n",
              "    }\n",
              "    20% {\n",
              "      border-color: transparent;\n",
              "      border-left-color: var(--fill-color);\n",
              "      border-top-color: var(--fill-color);\n",
              "    }\n",
              "    30% {\n",
              "      border-color: transparent;\n",
              "      border-left-color: var(--fill-color);\n",
              "      border-top-color: var(--fill-color);\n",
              "      border-right-color: var(--fill-color);\n",
              "    }\n",
              "    40% {\n",
              "      border-color: transparent;\n",
              "      border-right-color: var(--fill-color);\n",
              "      border-top-color: var(--fill-color);\n",
              "    }\n",
              "    60% {\n",
              "      border-color: transparent;\n",
              "      border-right-color: var(--fill-color);\n",
              "    }\n",
              "    80% {\n",
              "      border-color: transparent;\n",
              "      border-right-color: var(--fill-color);\n",
              "      border-bottom-color: var(--fill-color);\n",
              "    }\n",
              "    90% {\n",
              "      border-color: transparent;\n",
              "      border-bottom-color: var(--fill-color);\n",
              "    }\n",
              "  }\n",
              "</style>\n",
              "\n",
              "  <script>\n",
              "    async function quickchart(key) {\n",
              "      const quickchartButtonEl =\n",
              "        document.querySelector('#' + key + ' button');\n",
              "      quickchartButtonEl.disabled = true;  // To prevent multiple clicks.\n",
              "      quickchartButtonEl.classList.add('colab-df-spinner');\n",
              "      try {\n",
              "        const charts = await google.colab.kernel.invokeFunction(\n",
              "            'suggestCharts', [key], {});\n",
              "      } catch (error) {\n",
              "        console.error('Error during call to suggestCharts:', error);\n",
              "      }\n",
              "      quickchartButtonEl.classList.remove('colab-df-spinner');\n",
              "      quickchartButtonEl.classList.add('colab-df-quickchart-complete');\n",
              "    }\n",
              "    (() => {\n",
              "      let quickchartButtonEl =\n",
              "        document.querySelector('#df-2e3c5473-6529-44ef-b8ed-dc5d457012ef button');\n",
              "      quickchartButtonEl.style.display =\n",
              "        google.colab.kernel.accessAllowed ? 'block' : 'none';\n",
              "    })();\n",
              "  </script>\n",
              "</div>\n",
              "    </div>\n",
              "  </div>\n"
            ]
          },
          "metadata": {},
          "execution_count": 37
        }
      ],
      "source": [
        "train.head()"
      ]
    },
    {
      "cell_type": "code",
      "execution_count": 38,
      "metadata": {
        "id": "ww2cmMb4B3vf",
        "colab": {
          "base_uri": "https://localhost:8080/",
          "height": 192
        },
        "outputId": "d8b20fc1-1553-4258-db83-c762c5328123"
      },
      "outputs": [
        {
          "output_type": "execute_result",
          "data": {
            "text/plain": [
              "'Ex de Luiza Brunet é ouvido em audiência do caso no qual é acusado de agressão. Lírio Parisotto é acusado de duas lesões corporais contra a modelo: em 2015 e 2016. Outras duas testemunhas, que faltaram em audiência do ano passado, também prestaram depoimento no Fórum da Barra Funda..  O empresário Lírio Parisotto foi ouvido nesta segunda-feira (13) ao Fórum Criminal da Barra Funda, na Zona Oeste de São Paulo, em nova audiência do caso no qual ele é julgado pela acusação de agredir a ex-mulher, a atriz Luiza Brunet. Parisotto não quis falar com a imprensa. A segunda audiência de instrução durou cerca de duas horas. Além do empresário, prestaram depoimento um perito e uma mulher que presenciou uma viagem do casal para o exterior. O advogado de Parisotto, Celso Vilardi, comentou o depoimento do empresário: \"Ele tem uma versão só, nunca mentiu. Uma versão harmônica\", disse. Ele questiona as provas apresentadas pela acusação: \"Uma hora o atestado médico fala em fratura do dedo. Agora, a acusação juntou e-mail que fala em rompimento de tendão. A própria natureza da lesão vai modificando ao longo do tempo. O médico veio aqui hoje e disse que o atestado não tem o menor valor legal. Contraria todas as normas de medicinal legal e de processo.\" O advogado de Luiza Brunet, Pedro Egberto da Fonseca Neto, disse que as agressões estão comprovadas. “Não tem dúvidas das agressões nem de quem é o autor delas. Ele já tentou parar esse processo no Tribunal de Justiça de São Paulo. Não conseguiu porque está evidenciada a materialidade. Tentou no STJ em Brasília e não conseguiu.” “Não consegue explicar porque ela estava com olho roxo, costelas fraturadas, ele não consegue explicar. Então eles fazem o que fazem, jogo de cena, falam que ela que é violenta. Em 40 anos de vida pública, ela nunca teve um escândalo. Agora, do dia para a noite, virou o diabo\", disse. Sobre a agressão nos Estados Unidos, \"ele disse que ele a conteve. Mas quando perguntado sobre o olho roxo, ele disse que quem tem que explicar é ela\". No dia 29 de novembro de 2016, ocorreu a primeira audiência do caso. Naquela ocasião, Luiza Brunet foi ouvida em separado e disse que apanhou do então marido por duas vezes. Laudo e imagens de tomografia computadorizada, de junho de 2016, mostram que Luiza Brunet teve quatro costelas fraturadas. A atriz e modelo de 54 anos acusa o ex-companheiro, o empresário Lírio Parisotto, de 62, de quebrar suas costelas em 21 de maio de 2016 durante uma briga nos Estados Unidos. Segundo o laudo, foi constatada \"fratura sem desvio significativo, da porção ântero-lateral do 7o ao 10o arcos costais à direita, com formações de calos ósseos incipientes\". O laudo e as imagens das fraturas estão no processo, que é digitalizado. A divulgação do laudo com as imagens foi feita nesta semana pela revista Veja e, depois, o G1 também teve acesso ao documento . O caso que envolve as duas agressões está sob segredo judicial. Para o advogado de Parisotto, Celso Vilardi, o laudo da tomografia da coluna é questionável. \"Primeiro exame falou em nona vértebra. Depois um laudo falou em sétima, oitava, nona e décima vértebras. Então, nem os médicos particulares chegam a uma conclusão. Eu não conheço Essa tomografia não está juntada aos autos.\" O advogado de Luiza Brunet, Pedro Egberto da Fonseca Neto, rebate as críticas da defesa de Parisotto. \"O laudo já estava no processo desde o início. As imagens, o que aconteceu, é que elas foram devolvidas para a gente porque não tinha tecnologia para fazer a digitalização”, disse. Luiza ainda alega que Parisotto quebrou um dos seus dedos em 15 de dezembro de 2015 em outra discussão, desta vez em São Paulo. A defesa do empresário alega que ele tentou se defender da ex-mulher nas duas agressões de que é acusado. Como já prestou depoimento à juíza Elaine Cristina Monteiro Cavalcante, da Vara do Foro Central da Violência Doméstica e Familiar contra a Mulher, Luiza não precisou comparecer ao Fórum Criminal da Barra Funda, na Zona Oeste da capital paulista. O ex é acusado pela Promotoria de ter cometido dois crimes contra a modelo: de lesão corporal grave e leve. O empresário pode receber condenação de um ano e meio até oito anos de prisão, já que ele está sendo responsabilizado nos termos da Lei Maria da Penha, que endurece a pena. A ação penal em favor de Luiza não cobra indenização em dinheiro de Parisotto. “O Ministério Público pede apenas a punição dele [do empresário]\", falou o promotor. Na primeira audiência, outras três pessoas teriam sido ouvidas: uma testemunha de acusação (amiga da modelo) e três de defesa (ligadas a Parisotto). O advogado do empresário, Celso Vilardi, criticou em 2016 o Ministério Público por ter denunciado seu cliente por agressão contra Luiza. Ele também apontou haver contradições na versão da modelo. \"Nós já tínhamos feito uma juntada de WhastApp, texto de e-mails. Nós já tínhamos uma prova absolutamente consistente no sentido de que ela confessa que bate nele. Ela fala isso nos e-mails, os amigos falam isso nos e-mails. E, efetivamente, nós apontamos diversas contradições. As fotos que ela publicou não condizem com as daquela semana em que ela trabalhou numa novela\", disse Vilardi sobre a personagem Madá, que fez em Velho Chico, da TV Globo. A defesa de Lírio Parisotto também anexou ao processo uma troca de mensagens antigas, de período anterior às agressões, entre o empresário e a filha de Luiza Brunet, a também modelo Yasmin. Nas mensagens, a jovem teria pedido que os dois fizessem as pazes e falado que a mãe sofre com problemas psicológicos. De acordo com a acusação, o primeiro crime, de \"lesão corporal grave\", ocorreu no dia 15 de dezembro do ano passado, no apartamento do empresário em São Paulo, quando o então casal discutiu e ele quebrou um dos dedos da mão da atriz – de acordo com laudo indireto feito pelo Instituto Médico Legal (IML) a partir da radiografia que a vítima tirou à época. O segundo crime, de \"lesão corporal leve\", foi em 21 de maio de 2016, em outro apartamento do então marido, em Nova Iorque, nos Estados Unidos, segundo Luiza. No dia 29 de junho, ela procurou a Promotoria em São Paulo, cidade onde Parisotto mora, e contou que ele deu um soco no olho dela, a chutou e quebrou quatro de suas costelas – conforme constatou posteriormente laudo pericial. Em depoimento ao Ministério Público Estadual, no dia 14 de julho do ano passado, Parisotto alegou que agiu em legítima defesa para se defender de Luiza. Ele não falou com a imprensa. Luiza e Parisotto tiveram uma união estável por cinco anos, uma relação de términos e voltas. Dessa vez, os dois estão definitivamente separados. Luiza havia anexado ao processo mais de 20 fotos das lesões que alegou ter sofrido do então marido. Numa delas, que foi obtida e divulgada pelo Fantástico, ela aparece com o olho direito inchado. Em 25 de maio de 2016, a atriz havia divulgado uma foto em sua página no Facebook, quatro dias após o incidente, com parte do rosto coberto pelos cabelos e uma frase: \"A maquiagem forte esconde o hematoma da alma\". Luiza é embaixadora do Instituto Avon, que faz campanha contra a violência doméstica. Por conta da queixa de violência doméstica que a atriz prestou ao MPE contra o ex-marido, a Justiça decretou medidas de proteção para Luiza. O empresário está proibido de se aproximar e manter contato com ela.'"
            ],
            "application/vnd.google.colaboratory.intrinsic+json": {
              "type": "string"
            }
          },
          "metadata": {},
          "execution_count": 38
        }
      ],
      "source": [
        "train[\"content\"][0]"
      ]
    },
    {
      "cell_type": "code",
      "execution_count": 39,
      "metadata": {
        "id": "MDFEhGnLL-zg"
      },
      "outputs": [],
      "source": [
        "tr = train[\"content\"]\n",
        "te = test[\"content\"]"
      ]
    },
    {
      "cell_type": "code",
      "execution_count": 40,
      "metadata": {
        "id": "65fEjP1_fOQq"
      },
      "outputs": [],
      "source": [
        "# MAX_LEN=15000"
      ]
    },
    {
      "cell_type": "code",
      "execution_count": 41,
      "metadata": {
        "id": "WlKR66Axpu9E"
      },
      "outputs": [],
      "source": [
        "encoded_samples_train = tokenizer.batch_encode_plus(\n",
        "    tr,\n",
        "    add_special_tokens=True,  # Adicione tokens especiais como [CLS], [SEP]\n",
        "    max_length=MAX_LEN,           # Defina o comprimento máximo desejado\n",
        "    padding=\"max_length\",     # Preencha/trunce para o comprimento máximo\n",
        "    truncation=True,          # Truncar a sequência se exceder o comprimento máximo\n",
        "    return_tensors=\"tf\"       # Retorne tensores do PyTorch\n",
        ")"
      ]
    },
    {
      "cell_type": "code",
      "execution_count": 42,
      "metadata": {
        "id": "OEtdAKacwXHa"
      },
      "outputs": [],
      "source": [
        "encoded_samples_test = tokenizer.batch_encode_plus(\n",
        "    te,\n",
        "    add_special_tokens=True,  # Adicione tokens especiais como [CLS], [SEP]\n",
        "    max_length=MAX_LEN,           # Defina o comprimento máximo desejado\n",
        "    padding=\"max_length\",     # Preencha/trunce para o comprimento máximo\n",
        "    truncation=True,          # Truncar a sequência se exceder o comprimento máximo\n",
        "    return_tensors=\"tf\"       # Retorne tensores do PyTorch\n",
        ")"
      ]
    },
    {
      "cell_type": "markdown",
      "metadata": {
        "id": "yF1SRMhyMb3I"
      },
      "source": [
        "# Criacao do Modelo"
      ]
    },
    {
      "cell_type": "code",
      "execution_count": 43,
      "metadata": {
        "id": "OS1fV2QiMSRZ",
        "colab": {
          "base_uri": "https://localhost:8080/",
          "height": 138,
          "referenced_widgets": [
            "5892ff3545034251b51e5390c987b9dd",
            "92a0db40a9ec4abd99e08e3c6b80888a",
            "efd5603e25f3489d9db7382ac4ba9394",
            "181dd475a84847398764cb7d5c1713f6",
            "ce69ee3ce6d249a9a5d28fed6a66a774",
            "524d65b79e4d4d9e8e4a09fc8cd91323",
            "88cebc3372a94447a495e5301773fbd5",
            "76d54b6974084dbcb688570813d59598",
            "f2ea0c46c1524178800fd753a1ec53b8",
            "1c06cd68c5804cb79e38597597a25bfb",
            "ff060826f3fe4bef9e1dec268d204c80"
          ]
        },
        "outputId": "692aafa3-10bb-4d6a-fb8c-078782fe0b26"
      },
      "outputs": [
        {
          "output_type": "display_data",
          "data": {
            "text/plain": [
              "Downloading tf_model.h5:   0%|          | 0.00/529M [00:00<?, ?B/s]"
            ],
            "application/vnd.jupyter.widget-view+json": {
              "version_major": 2,
              "version_minor": 0,
              "model_id": "5892ff3545034251b51e5390c987b9dd"
            }
          },
          "metadata": {}
        },
        {
          "output_type": "stream",
          "name": "stderr",
          "text": [
            "All model checkpoint layers were used when initializing TFBertForSequenceClassification.\n",
            "\n",
            "Some layers of TFBertForSequenceClassification were not initialized from the model checkpoint at neuralmind/bert-base-portuguese-cased and are newly initialized: ['classifier', 'bert/pooler/dense/bias:0', 'bert/pooler/dense/kernel:0']\n",
            "You should probably TRAIN this model on a down-stream task to be able to use it for predictions and inference.\n"
          ]
        }
      ],
      "source": [
        "input_word_ids = tf.keras.Input(shape=(MAX_LEN,), dtype=tf.int32, name='input_word_ids')\n",
        "input_mask = tf.keras.Input(shape=(MAX_LEN,), dtype=tf.int32, name='input_mask')\n",
        "segment_ids = tf.keras.Input(shape=(MAX_LEN,), dtype=tf.int32,name=\"segment_ids\")\n",
        "bert_model = TFAutoModelForSequenceClassification.from_pretrained(\n",
        "    MODEL_NAME,\n",
        "    num_labels=2\n",
        "  )\n",
        "output = bert_model([input_word_ids, input_mask, segment_ids])\n",
        "# output = output\n",
        "# output = tf.keras.layers.Dense(32,activation='relu')(output)\n",
        "# output = tf.keras.layers.Dropout(DROPOUT_RATE)(output)\n",
        "logits = output.logits  # Acessa os logits da saída da camada BERT\n",
        "probs = tf.keras.layers.Softmax()(logits)\n",
        "\n",
        "# output = tf.keras.layers.Dense(1, activation='sigmoid')(x)\n",
        "model = tf.keras.Model(inputs=[input_word_ids, input_mask, segment_ids], outputs=[probs])\n"
      ]
    },
    {
      "cell_type": "code",
      "execution_count": 44,
      "metadata": {
        "id": "U85SJD7UN669"
      },
      "outputs": [],
      "source": [
        "model.compile(Adam(learning_rate=LEARNING_RATE), loss='sparse_categorical_crossentropy', metrics=['accuracy'])\n"
      ]
    },
    {
      "cell_type": "code",
      "execution_count": 45,
      "metadata": {
        "id": "Vse85gSRN4R-",
        "colab": {
          "base_uri": "https://localhost:8080/"
        },
        "outputId": "d051a3c1-431d-40ae-d1bd-2a02a4386829"
      },
      "outputs": [
        {
          "output_type": "stream",
          "name": "stdout",
          "text": [
            "Model: \"model\"\n",
            "__________________________________________________________________________________________________\n",
            " Layer (type)                   Output Shape         Param #     Connected to                     \n",
            "==================================================================================================\n",
            " input_word_ids (InputLayer)    [(None, 512)]        0           []                               \n",
            "                                                                                                  \n",
            " input_mask (InputLayer)        [(None, 512)]        0           []                               \n",
            "                                                                                                  \n",
            " segment_ids (InputLayer)       [(None, 512)]        0           []                               \n",
            "                                                                                                  \n",
            " tf_bert_for_sequence_classific  TFSequenceClassifie  108924674  ['input_word_ids[0][0]',         \n",
            " ation (TFBertForSequenceClassi  rOutput(loss=None,               'input_mask[0][0]',             \n",
            " fication)                      logits=(None, 2),                 'segment_ids[0][0]']            \n",
            "                                 hidden_states=None                                               \n",
            "                                , attentions=None)                                                \n",
            "                                                                                                  \n",
            " softmax (Softmax)              (None, 2)            0           ['tf_bert_for_sequence_classifica\n",
            "                                                                 tion[0][0]']                     \n",
            "                                                                                                  \n",
            "==================================================================================================\n",
            "Total params: 108,924,674\n",
            "Trainable params: 108,924,674\n",
            "Non-trainable params: 0\n",
            "__________________________________________________________________________________________________\n"
          ]
        }
      ],
      "source": [
        "model.summary()\n"
      ]
    },
    {
      "cell_type": "markdown",
      "metadata": {
        "id": "s4CFtpHFEltz"
      },
      "source": [
        "# Carregar pesos do modelo"
      ]
    },
    {
      "cell_type": "code",
      "execution_count": 46,
      "metadata": {
        "id": "9pL-YduiEpDh"
      },
      "outputs": [],
      "source": [
        "# model.load_weights('/content/drive/MyDrive/Arquivos/Mestrado/Qualificação/Fake_Br_corpus_second_experiment/models/model_2__28_05_2023-18_49.h5')\n"
      ]
    },
    {
      "cell_type": "markdown",
      "metadata": {
        "id": "mfaxddWTMNTH"
      },
      "source": [
        "# Treinamento do Modelo"
      ]
    },
    {
      "cell_type": "code",
      "execution_count": 47,
      "metadata": {
        "id": "Ruxp4Kb0OGcJ"
      },
      "outputs": [],
      "source": [
        "# train[\"label\"] = train[\"label\"]"
      ]
    },
    {
      "cell_type": "code",
      "execution_count": 48,
      "metadata": {
        "id": "AVJ86PfSxZ_j"
      },
      "outputs": [],
      "source": [
        "# encoded_samples_train['input_ids']"
      ]
    },
    {
      "cell_type": "code",
      "execution_count": 49,
      "metadata": {
        "id": "LyMxPCsAzt1L"
      },
      "outputs": [],
      "source": [
        "# input_word_ids = encoded_samples_train['input_ids']\n",
        "# input_mask = encoded_samples_train['attention_mask'],\n",
        "# segment_ids = encoded_samples_train['token_type_ids']"
      ]
    },
    {
      "cell_type": "code",
      "execution_count": 50,
      "metadata": {
        "id": "cbwrArNu-83S"
      },
      "outputs": [],
      "source": [
        "# labels = np.array(train.label)"
      ]
    },
    {
      "cell_type": "code",
      "execution_count": 51,
      "metadata": {
        "id": "2_IPq_rl--wV"
      },
      "outputs": [],
      "source": [
        "# labels = labels.astype(int)  # Converte para inteiros\n",
        "# labels = tf.keras.utils.to_categorical(labels, num_classes=2)\n"
      ]
    },
    {
      "cell_type": "code",
      "execution_count": 52,
      "metadata": {
        "id": "wwUz0qVDAN9m"
      },
      "outputs": [],
      "source": [
        "# labels = labels.astype(int)  # Converte para inteiros\n"
      ]
    },
    {
      "cell_type": "code",
      "execution_count": 53,
      "metadata": {
        "id": "IaUmJ3MO_WJz",
        "colab": {
          "base_uri": "https://localhost:8080/"
        },
        "outputId": "d1f1a014-03c6-41dc-9854-2284cf46d6d1"
      },
      "outputs": [
        {
          "output_type": "execute_result",
          "data": {
            "text/plain": [
              "{'input_ids': <tf.Tensor: shape=(5760, 512), dtype=int32, numpy=\n",
              "array([[  101,   496,  6685, ...,     0,     0,     0],\n",
              "       [  101,  4150,  1163, ...,   481,   291,   102],\n",
              "       [  101,   187, 22340, ...,     0,     0,     0],\n",
              "       ...,\n",
              "       [  101, 12075,   125, ...,  3946,   123,   102],\n",
              "       [  101, 14215,  5054, ...,     0,     0,     0],\n",
              "       [  101, 11124,  1331, ...,   771,  2541,   102]], dtype=int32)>, 'token_type_ids': <tf.Tensor: shape=(5760, 512), dtype=int32, numpy=\n",
              "array([[0, 0, 0, ..., 0, 0, 0],\n",
              "       [0, 0, 0, ..., 0, 0, 0],\n",
              "       [0, 0, 0, ..., 0, 0, 0],\n",
              "       ...,\n",
              "       [0, 0, 0, ..., 0, 0, 0],\n",
              "       [0, 0, 0, ..., 0, 0, 0],\n",
              "       [0, 0, 0, ..., 0, 0, 0]], dtype=int32)>, 'attention_mask': <tf.Tensor: shape=(5760, 512), dtype=int32, numpy=\n",
              "array([[1, 1, 1, ..., 0, 0, 0],\n",
              "       [1, 1, 1, ..., 1, 1, 1],\n",
              "       [1, 1, 1, ..., 0, 0, 0],\n",
              "       ...,\n",
              "       [1, 1, 1, ..., 1, 1, 1],\n",
              "       [1, 1, 1, ..., 0, 0, 0],\n",
              "       [1, 1, 1, ..., 1, 1, 1]], dtype=int32)>}"
            ]
          },
          "metadata": {},
          "execution_count": 53
        }
      ],
      "source": [
        "encoded_samples_train"
      ]
    },
    {
      "cell_type": "code",
      "source": [
        "from keras.callbacks import ModelCheckpoint\n"
      ],
      "metadata": {
        "id": "_g-GFNt3APIy"
      },
      "execution_count": 54,
      "outputs": []
    },
    {
      "cell_type": "code",
      "execution_count": 55,
      "metadata": {
        "id": "cPc-FSUCO8AB",
        "colab": {
          "base_uri": "https://localhost:8080/",
          "height": 442
        },
        "outputId": "480f0406-c95b-4f31-e53f-ff529e6da647"
      },
      "outputs": [
        {
          "output_type": "stream",
          "name": "stdout",
          "text": [
            "Epoch 1/10\n",
            " 50/192 [======>.......................] - ETA: 44:39 - loss: 0.6838 - accuracy: 0.5458"
          ]
        },
        {
          "output_type": "error",
          "ename": "KeyboardInterrupt",
          "evalue": "ignored",
          "traceback": [
            "\u001b[0;31m---------------------------------------------------------------------------\u001b[0m",
            "\u001b[0;31mKeyboardInterrupt\u001b[0m                         Traceback (most recent call last)",
            "\u001b[0;32m<ipython-input-55-d7c9856036c2>\u001b[0m in \u001b[0;36m<cell line: 5>\u001b[0;34m()\u001b[0m\n\u001b[1;32m      3\u001b[0m \u001b[0;31m# checkpoint = ModelCheckpoint(files_name['checkpoint'], save_freq='epoch')\u001b[0m\u001b[0;34m\u001b[0m\u001b[0;34m\u001b[0m\u001b[0m\n\u001b[1;32m      4\u001b[0m \u001b[0;34m\u001b[0m\u001b[0m\n\u001b[0;32m----> 5\u001b[0;31m history = model.fit(\n\u001b[0m\u001b[1;32m      6\u001b[0m           x={\n\u001b[1;32m      7\u001b[0m               \u001b[0;34m\"input_word_ids\"\u001b[0m\u001b[0;34m:\u001b[0m \u001b[0mencoded_samples_train\u001b[0m\u001b[0;34m[\u001b[0m\u001b[0;34m\"input_ids\"\u001b[0m\u001b[0;34m]\u001b[0m\u001b[0;34m,\u001b[0m\u001b[0;34m\u001b[0m\u001b[0;34m\u001b[0m\u001b[0m\n",
            "\u001b[0;32m/usr/local/lib/python3.10/dist-packages/keras/utils/traceback_utils.py\u001b[0m in \u001b[0;36merror_handler\u001b[0;34m(*args, **kwargs)\u001b[0m\n\u001b[1;32m     63\u001b[0m         \u001b[0mfiltered_tb\u001b[0m \u001b[0;34m=\u001b[0m \u001b[0;32mNone\u001b[0m\u001b[0;34m\u001b[0m\u001b[0;34m\u001b[0m\u001b[0m\n\u001b[1;32m     64\u001b[0m         \u001b[0;32mtry\u001b[0m\u001b[0;34m:\u001b[0m\u001b[0;34m\u001b[0m\u001b[0;34m\u001b[0m\u001b[0m\n\u001b[0;32m---> 65\u001b[0;31m             \u001b[0;32mreturn\u001b[0m \u001b[0mfn\u001b[0m\u001b[0;34m(\u001b[0m\u001b[0;34m*\u001b[0m\u001b[0margs\u001b[0m\u001b[0;34m,\u001b[0m \u001b[0;34m**\u001b[0m\u001b[0mkwargs\u001b[0m\u001b[0;34m)\u001b[0m\u001b[0;34m\u001b[0m\u001b[0;34m\u001b[0m\u001b[0m\n\u001b[0m\u001b[1;32m     66\u001b[0m         \u001b[0;32mexcept\u001b[0m \u001b[0mException\u001b[0m \u001b[0;32mas\u001b[0m \u001b[0me\u001b[0m\u001b[0;34m:\u001b[0m\u001b[0;34m\u001b[0m\u001b[0;34m\u001b[0m\u001b[0m\n\u001b[1;32m     67\u001b[0m             \u001b[0mfiltered_tb\u001b[0m \u001b[0;34m=\u001b[0m \u001b[0m_process_traceback_frames\u001b[0m\u001b[0;34m(\u001b[0m\u001b[0me\u001b[0m\u001b[0;34m.\u001b[0m\u001b[0m__traceback__\u001b[0m\u001b[0;34m)\u001b[0m\u001b[0;34m\u001b[0m\u001b[0;34m\u001b[0m\u001b[0m\n",
            "\u001b[0;32m/usr/local/lib/python3.10/dist-packages/keras/engine/training.py\u001b[0m in \u001b[0;36mfit\u001b[0;34m(self, x, y, batch_size, epochs, verbose, callbacks, validation_split, validation_data, shuffle, class_weight, sample_weight, initial_epoch, steps_per_epoch, validation_steps, validation_batch_size, validation_freq, max_queue_size, workers, use_multiprocessing)\u001b[0m\n\u001b[1;32m   1683\u001b[0m                         ):\n\u001b[1;32m   1684\u001b[0m                             \u001b[0mcallbacks\u001b[0m\u001b[0;34m.\u001b[0m\u001b[0mon_train_batch_begin\u001b[0m\u001b[0;34m(\u001b[0m\u001b[0mstep\u001b[0m\u001b[0;34m)\u001b[0m\u001b[0;34m\u001b[0m\u001b[0;34m\u001b[0m\u001b[0m\n\u001b[0;32m-> 1685\u001b[0;31m                             \u001b[0mtmp_logs\u001b[0m \u001b[0;34m=\u001b[0m \u001b[0mself\u001b[0m\u001b[0;34m.\u001b[0m\u001b[0mtrain_function\u001b[0m\u001b[0;34m(\u001b[0m\u001b[0miterator\u001b[0m\u001b[0;34m)\u001b[0m\u001b[0;34m\u001b[0m\u001b[0;34m\u001b[0m\u001b[0m\n\u001b[0m\u001b[1;32m   1686\u001b[0m                             \u001b[0;32mif\u001b[0m \u001b[0mdata_handler\u001b[0m\u001b[0;34m.\u001b[0m\u001b[0mshould_sync\u001b[0m\u001b[0;34m:\u001b[0m\u001b[0;34m\u001b[0m\u001b[0;34m\u001b[0m\u001b[0m\n\u001b[1;32m   1687\u001b[0m                                 \u001b[0mcontext\u001b[0m\u001b[0;34m.\u001b[0m\u001b[0masync_wait\u001b[0m\u001b[0;34m(\u001b[0m\u001b[0;34m)\u001b[0m\u001b[0;34m\u001b[0m\u001b[0;34m\u001b[0m\u001b[0m\n",
            "\u001b[0;32m/usr/local/lib/python3.10/dist-packages/tensorflow/python/util/traceback_utils.py\u001b[0m in \u001b[0;36merror_handler\u001b[0;34m(*args, **kwargs)\u001b[0m\n\u001b[1;32m    148\u001b[0m     \u001b[0mfiltered_tb\u001b[0m \u001b[0;34m=\u001b[0m \u001b[0;32mNone\u001b[0m\u001b[0;34m\u001b[0m\u001b[0;34m\u001b[0m\u001b[0m\n\u001b[1;32m    149\u001b[0m     \u001b[0;32mtry\u001b[0m\u001b[0;34m:\u001b[0m\u001b[0;34m\u001b[0m\u001b[0;34m\u001b[0m\u001b[0m\n\u001b[0;32m--> 150\u001b[0;31m       \u001b[0;32mreturn\u001b[0m \u001b[0mfn\u001b[0m\u001b[0;34m(\u001b[0m\u001b[0;34m*\u001b[0m\u001b[0margs\u001b[0m\u001b[0;34m,\u001b[0m \u001b[0;34m**\u001b[0m\u001b[0mkwargs\u001b[0m\u001b[0;34m)\u001b[0m\u001b[0;34m\u001b[0m\u001b[0;34m\u001b[0m\u001b[0m\n\u001b[0m\u001b[1;32m    151\u001b[0m     \u001b[0;32mexcept\u001b[0m \u001b[0mException\u001b[0m \u001b[0;32mas\u001b[0m \u001b[0me\u001b[0m\u001b[0;34m:\u001b[0m\u001b[0;34m\u001b[0m\u001b[0;34m\u001b[0m\u001b[0m\n\u001b[1;32m    152\u001b[0m       \u001b[0mfiltered_tb\u001b[0m \u001b[0;34m=\u001b[0m \u001b[0m_process_traceback_frames\u001b[0m\u001b[0;34m(\u001b[0m\u001b[0me\u001b[0m\u001b[0;34m.\u001b[0m\u001b[0m__traceback__\u001b[0m\u001b[0;34m)\u001b[0m\u001b[0;34m\u001b[0m\u001b[0;34m\u001b[0m\u001b[0m\n",
            "\u001b[0;32m/usr/local/lib/python3.10/dist-packages/tensorflow/python/eager/polymorphic_function/polymorphic_function.py\u001b[0m in \u001b[0;36m__call__\u001b[0;34m(self, *args, **kwds)\u001b[0m\n\u001b[1;32m    892\u001b[0m \u001b[0;34m\u001b[0m\u001b[0m\n\u001b[1;32m    893\u001b[0m       \u001b[0;32mwith\u001b[0m \u001b[0mOptionalXlaContext\u001b[0m\u001b[0;34m(\u001b[0m\u001b[0mself\u001b[0m\u001b[0;34m.\u001b[0m\u001b[0m_jit_compile\u001b[0m\u001b[0;34m)\u001b[0m\u001b[0;34m:\u001b[0m\u001b[0;34m\u001b[0m\u001b[0;34m\u001b[0m\u001b[0m\n\u001b[0;32m--> 894\u001b[0;31m         \u001b[0mresult\u001b[0m \u001b[0;34m=\u001b[0m \u001b[0mself\u001b[0m\u001b[0;34m.\u001b[0m\u001b[0m_call\u001b[0m\u001b[0;34m(\u001b[0m\u001b[0;34m*\u001b[0m\u001b[0margs\u001b[0m\u001b[0;34m,\u001b[0m \u001b[0;34m**\u001b[0m\u001b[0mkwds\u001b[0m\u001b[0;34m)\u001b[0m\u001b[0;34m\u001b[0m\u001b[0;34m\u001b[0m\u001b[0m\n\u001b[0m\u001b[1;32m    895\u001b[0m \u001b[0;34m\u001b[0m\u001b[0m\n\u001b[1;32m    896\u001b[0m       \u001b[0mnew_tracing_count\u001b[0m \u001b[0;34m=\u001b[0m \u001b[0mself\u001b[0m\u001b[0;34m.\u001b[0m\u001b[0mexperimental_get_tracing_count\u001b[0m\u001b[0;34m(\u001b[0m\u001b[0;34m)\u001b[0m\u001b[0;34m\u001b[0m\u001b[0;34m\u001b[0m\u001b[0m\n",
            "\u001b[0;32m/usr/local/lib/python3.10/dist-packages/tensorflow/python/eager/polymorphic_function/polymorphic_function.py\u001b[0m in \u001b[0;36m_call\u001b[0;34m(self, *args, **kwds)\u001b[0m\n\u001b[1;32m    924\u001b[0m       \u001b[0;31m# In this case we have created variables on the first call, so we run the\u001b[0m\u001b[0;34m\u001b[0m\u001b[0;34m\u001b[0m\u001b[0m\n\u001b[1;32m    925\u001b[0m       \u001b[0;31m# defunned version which is guaranteed to never create variables.\u001b[0m\u001b[0;34m\u001b[0m\u001b[0;34m\u001b[0m\u001b[0m\n\u001b[0;32m--> 926\u001b[0;31m       \u001b[0;32mreturn\u001b[0m \u001b[0mself\u001b[0m\u001b[0;34m.\u001b[0m\u001b[0m_no_variable_creation_fn\u001b[0m\u001b[0;34m(\u001b[0m\u001b[0;34m*\u001b[0m\u001b[0margs\u001b[0m\u001b[0;34m,\u001b[0m \u001b[0;34m**\u001b[0m\u001b[0mkwds\u001b[0m\u001b[0;34m)\u001b[0m  \u001b[0;31m# pylint: disable=not-callable\u001b[0m\u001b[0;34m\u001b[0m\u001b[0;34m\u001b[0m\u001b[0m\n\u001b[0m\u001b[1;32m    927\u001b[0m     \u001b[0;32melif\u001b[0m \u001b[0mself\u001b[0m\u001b[0;34m.\u001b[0m\u001b[0m_variable_creation_fn\u001b[0m \u001b[0;32mis\u001b[0m \u001b[0;32mnot\u001b[0m \u001b[0;32mNone\u001b[0m\u001b[0;34m:\u001b[0m\u001b[0;34m\u001b[0m\u001b[0;34m\u001b[0m\u001b[0m\n\u001b[1;32m    928\u001b[0m       \u001b[0;31m# Release the lock early so that multiple threads can perform the call\u001b[0m\u001b[0;34m\u001b[0m\u001b[0;34m\u001b[0m\u001b[0m\n",
            "\u001b[0;32m/usr/local/lib/python3.10/dist-packages/tensorflow/python/eager/polymorphic_function/tracing_compiler.py\u001b[0m in \u001b[0;36m__call__\u001b[0;34m(self, *args, **kwargs)\u001b[0m\n\u001b[1;32m    141\u001b[0m       (concrete_function,\n\u001b[1;32m    142\u001b[0m        filtered_flat_args) = self._maybe_define_function(args, kwargs)\n\u001b[0;32m--> 143\u001b[0;31m     return concrete_function._call_flat(\n\u001b[0m\u001b[1;32m    144\u001b[0m         filtered_flat_args, captured_inputs=concrete_function.captured_inputs)  # pylint: disable=protected-access\n\u001b[1;32m    145\u001b[0m \u001b[0;34m\u001b[0m\u001b[0m\n",
            "\u001b[0;32m/usr/local/lib/python3.10/dist-packages/tensorflow/python/eager/polymorphic_function/monomorphic_function.py\u001b[0m in \u001b[0;36m_call_flat\u001b[0;34m(self, args, captured_inputs, cancellation_manager)\u001b[0m\n\u001b[1;32m   1755\u001b[0m         and executing_eagerly):\n\u001b[1;32m   1756\u001b[0m       \u001b[0;31m# No tape is watching; skip to running the function.\u001b[0m\u001b[0;34m\u001b[0m\u001b[0;34m\u001b[0m\u001b[0m\n\u001b[0;32m-> 1757\u001b[0;31m       return self._build_call_outputs(self._inference_function.call(\n\u001b[0m\u001b[1;32m   1758\u001b[0m           ctx, args, cancellation_manager=cancellation_manager))\n\u001b[1;32m   1759\u001b[0m     forward_backward = self._select_forward_and_backward_functions(\n",
            "\u001b[0;32m/usr/local/lib/python3.10/dist-packages/tensorflow/python/eager/polymorphic_function/monomorphic_function.py\u001b[0m in \u001b[0;36mcall\u001b[0;34m(self, ctx, args, cancellation_manager)\u001b[0m\n\u001b[1;32m    379\u001b[0m       \u001b[0;32mwith\u001b[0m \u001b[0m_InterpolateFunctionError\u001b[0m\u001b[0;34m(\u001b[0m\u001b[0mself\u001b[0m\u001b[0;34m)\u001b[0m\u001b[0;34m:\u001b[0m\u001b[0;34m\u001b[0m\u001b[0;34m\u001b[0m\u001b[0m\n\u001b[1;32m    380\u001b[0m         \u001b[0;32mif\u001b[0m \u001b[0mcancellation_manager\u001b[0m \u001b[0;32mis\u001b[0m \u001b[0;32mNone\u001b[0m\u001b[0;34m:\u001b[0m\u001b[0;34m\u001b[0m\u001b[0;34m\u001b[0m\u001b[0m\n\u001b[0;32m--> 381\u001b[0;31m           outputs = execute.execute(\n\u001b[0m\u001b[1;32m    382\u001b[0m               \u001b[0mstr\u001b[0m\u001b[0;34m(\u001b[0m\u001b[0mself\u001b[0m\u001b[0;34m.\u001b[0m\u001b[0msignature\u001b[0m\u001b[0;34m.\u001b[0m\u001b[0mname\u001b[0m\u001b[0;34m)\u001b[0m\u001b[0;34m,\u001b[0m\u001b[0;34m\u001b[0m\u001b[0;34m\u001b[0m\u001b[0m\n\u001b[1;32m    383\u001b[0m               \u001b[0mnum_outputs\u001b[0m\u001b[0;34m=\u001b[0m\u001b[0mself\u001b[0m\u001b[0;34m.\u001b[0m\u001b[0m_num_outputs\u001b[0m\u001b[0;34m,\u001b[0m\u001b[0;34m\u001b[0m\u001b[0;34m\u001b[0m\u001b[0m\n",
            "\u001b[0;32m/usr/local/lib/python3.10/dist-packages/tensorflow/python/eager/execute.py\u001b[0m in \u001b[0;36mquick_execute\u001b[0;34m(op_name, num_outputs, inputs, attrs, ctx, name)\u001b[0m\n\u001b[1;32m     50\u001b[0m   \u001b[0;32mtry\u001b[0m\u001b[0;34m:\u001b[0m\u001b[0;34m\u001b[0m\u001b[0;34m\u001b[0m\u001b[0m\n\u001b[1;32m     51\u001b[0m     \u001b[0mctx\u001b[0m\u001b[0;34m.\u001b[0m\u001b[0mensure_initialized\u001b[0m\u001b[0;34m(\u001b[0m\u001b[0;34m)\u001b[0m\u001b[0;34m\u001b[0m\u001b[0;34m\u001b[0m\u001b[0m\n\u001b[0;32m---> 52\u001b[0;31m     tensors = pywrap_tfe.TFE_Py_Execute(ctx._handle, device_name, op_name,\n\u001b[0m\u001b[1;32m     53\u001b[0m                                         inputs, attrs, num_outputs)\n\u001b[1;32m     54\u001b[0m   \u001b[0;32mexcept\u001b[0m \u001b[0mcore\u001b[0m\u001b[0;34m.\u001b[0m\u001b[0m_NotOkStatusException\u001b[0m \u001b[0;32mas\u001b[0m \u001b[0me\u001b[0m\u001b[0;34m:\u001b[0m\u001b[0;34m\u001b[0m\u001b[0;34m\u001b[0m\u001b[0m\n",
            "\u001b[0;31mKeyboardInterrupt\u001b[0m: "
          ]
        }
      ],
      "source": [
        "start_time = time.time()\n",
        "\n",
        "# checkpoint = ModelCheckpoint(files_name['checkpoint'], save_freq='epoch')\n",
        "\n",
        "history = model.fit(\n",
        "          x={\n",
        "              \"input_word_ids\": encoded_samples_train[\"input_ids\"],\n",
        "              \"input_mask\": encoded_samples_train[\"attention_mask\"],\n",
        "              \"segment_ids\": encoded_samples_train[\"token_type_ids\"]\n",
        "          },\n",
        "          y=train['label'],\n",
        "          validation_split=0.20,\n",
        "          epochs = 10,\n",
        "          batch_size = 24\n",
        "          )\n",
        "end_time = time.time()\n"
      ]
    },
    {
      "cell_type": "markdown",
      "metadata": {
        "id": "SH6r7aDplvGo"
      },
      "source": [
        "https://www.kaggle.com/code/andreshg/nlp-glove-bert-tf-idf-lstm-explained#8.-BERT"
      ]
    },
    {
      "cell_type": "code",
      "execution_count": null,
      "metadata": {
        "id": "NBBjg-zJibgZ"
      },
      "outputs": [],
      "source": [
        "model.save_weights(\n",
        "    '/content/drive/MyDrive/Arquivos/Mestrado/Qualificação/Fake_Br_corpus_novo_experimento_2/weights'\n",
        ")\n"
      ]
    },
    {
      "cell_type": "code",
      "execution_count": null,
      "metadata": {
        "id": "XONR7xU3OFOz"
      },
      "outputs": [],
      "source": [
        "model.save(\n",
        "    '/content/drive/MyDrive/Arquivos/Mestrado/Qualificação/Fake_Br_corpus_novo_experimento_2/full_model'\n",
        ")"
      ]
    },
    {
      "cell_type": "markdown",
      "metadata": {
        "id": "Lk_y8WnBMUyh"
      },
      "source": [
        "# Avaliação do modelo"
      ]
    },
    {
      "cell_type": "markdown",
      "metadata": {
        "id": "dyJ7CbqGMZfm"
      },
      "source": [
        "## Excucao do modelo no conjunto de testes"
      ]
    },
    {
      "cell_type": "code",
      "execution_count": null,
      "metadata": {
        "id": "EmbXXAkrPIOI"
      },
      "outputs": [],
      "source": [
        "test[\"label\"] = test[\"label\"].astype(float)"
      ]
    },
    {
      "cell_type": "code",
      "execution_count": null,
      "metadata": {
        "id": "0o83plf_PJDZ"
      },
      "outputs": [],
      "source": [
        "test_loss, test_acc = model.evaluate( x={\n",
        "              \"input_word_ids\": encoded_samples_test[\"input_ids\"],\n",
        "              \"input_mask\": encoded_samples_test[\"attention_mask\"],\n",
        "              \"segment_ids\": encoded_samples_test[\"token_type_ids\"]\n",
        "          },\n",
        "          y=test['label'])\n"
      ]
    },
    {
      "cell_type": "code",
      "execution_count": null,
      "metadata": {
        "id": "J4FpTzYo_ryb"
      },
      "outputs": [],
      "source": [
        "# threshold = 0.5\n"
      ]
    },
    {
      "cell_type": "code",
      "execution_count": null,
      "metadata": {
        "id": "TjqpedQtuSUV"
      },
      "outputs": [],
      "source": [
        "# y_pred = model.predict([ids_test, masks_test, segments_test])\n",
        "\n",
        "# y_pred_bool = np.argmax(y_pred, axis=1)\n"
      ]
    },
    {
      "cell_type": "markdown",
      "metadata": {
        "id": "iJVQnZ2bFoR0"
      },
      "source": [
        "# Geração de Relatorios"
      ]
    },
    {
      "cell_type": "code",
      "execution_count": null,
      "metadata": {
        "id": "__bG7NZZee3D"
      },
      "outputs": [],
      "source": [
        "y_pred = model.predict( x={\n",
        "              \"input_word_ids\": encoded_samples_test[\"input_ids\"],\n",
        "              \"input_mask\": encoded_samples_test[\"attention_mask\"],\n",
        "              \"segment_ids\": encoded_samples_test[\"token_type_ids\"]\n",
        "          })\n",
        "y_pred_bool = np.argmax(y_pred, axis=1)"
      ]
    },
    {
      "cell_type": "code",
      "execution_count": null,
      "metadata": {
        "id": "09Q-Vn19QjE-"
      },
      "outputs": [],
      "source": [
        "y_pred_bool"
      ]
    },
    {
      "cell_type": "code",
      "execution_count": null,
      "metadata": {
        "id": "YJ8viKISd_6F"
      },
      "outputs": [],
      "source": [
        "def show_confusion_matrix(confusion_matrix):\n",
        "  hmap = sns.heatmap(confusion_matrix, annot=True, fmt=\"d\", cmap=\"Blues\")\n",
        "  hmap.yaxis.set_ticklabels(hmap.yaxis.get_ticklabels(), rotation=0, ha='right')\n",
        "  hmap.xaxis.set_ticklabels(hmap.xaxis.get_ticklabels(), rotation=30, ha='right')\n",
        "  plt.ylabel('True class')\n",
        "  plt.xlabel('Predicted class')\n",
        "  return hmap"
      ]
    },
    {
      "cell_type": "code",
      "execution_count": null,
      "metadata": {
        "id": "X71QCsivOVIe"
      },
      "outputs": [],
      "source": [
        "def generate_classification_report(y_pred, y_pred_bool, test, files_name):\n",
        "  # y_pred = model.predict([ids_test, masks_test, segments_test])\n",
        "  # y_pred_bool = np.argmax(y_pred, axis=1)\n",
        "\n",
        "  report = classification_report(y_pred_bool, test[\"label\"])\n",
        "  report_dict = classification_report(y_pred_bool, test[\"label\"], output_dict=True)\n",
        "  # df_report = pd.DataFrame(report_dict).transpose()\n",
        "\n",
        "  with open(files_name['classification_report_json'], 'w') as f:\n",
        "    json.dump(report_dict, f)\n",
        "\n",
        "  with open(files_name['classification_report_txt'], 'w') as f:\n",
        "    f.write(report)\n",
        "\n",
        "  print(report)\n",
        "\n",
        "  # CLASSIFICATION REPORT\n",
        "  cm = confusion_matrix(test[\"label\"], y_pred_bool)\n",
        "  df_cm = pd.DataFrame(cm, index=['0','1'], columns=['0','1'])\n",
        "  heatmap = show_confusion_matrix(df_cm)\n",
        "  heatmap.figure.savefig(files_name['confusion_matrix'])\n"
      ]
    },
    {
      "cell_type": "code",
      "execution_count": null,
      "metadata": {
        "id": "155KXoImErNa"
      },
      "outputs": [],
      "source": [
        "generate_classification_report(y_pred, y_pred_bool, test, files_name)"
      ]
    },
    {
      "cell_type": "markdown",
      "metadata": {
        "id": "myyY6yN7G9Db"
      },
      "source": [
        "# Salvar metricas do modelo"
      ]
    },
    {
      "cell_type": "code",
      "execution_count": null,
      "metadata": {
        "id": "OYHb64c7G_eg"
      },
      "outputs": [],
      "source": [
        "def save_model_metrics(model_save_name, files_name, history, start_time,\n",
        "                       end_time, epochs, batch_size, learning_rate, dropout,\n",
        "                       test_loss, test_acc, with_stop_words):\n",
        "  # Calcula o tempo de execução em segundos\n",
        "  time_seconds = round(end_time - start_time, 2)\n",
        "\n",
        "  # Calcula o tempo de execução em minutos\n",
        "  time_minutes = round(time_seconds / 60, 2)\n",
        "  metrics = {\n",
        "    'model': model_save_name,\n",
        "    'loss': history.history['loss'][-1],\n",
        "    'accuracy': history.history['accuracy'][-1],\n",
        "    'val_loss': history.history['val_loss'][-1],\n",
        "    'val_accuracy': history.history['val_accuracy'][-1],\n",
        "    'time': str(end_time - start_time),\n",
        "    'time_seconds': time_seconds,\n",
        "    'time_minutes': time_minutes,\n",
        "    'epochs': epochs,\n",
        "    'batch_size': batch_size,\n",
        "    'learning_rate': learning_rate,\n",
        "    'dropout': dropout,\n",
        "    'test_loss': test_loss,\n",
        "    'test_acc': test_acc,\n",
        "    'with_stop_words': with_stop_words\n",
        "  }\n",
        "\n",
        "  if os.path.isfile(files_name['metrics_csv']):\n",
        "      # Se o arquivo existe, leia-o em um DataFrame\n",
        "      df_metrics = pd.read_csv(files_name['metrics_csv'])\n",
        "  else:\n",
        "      # Se o arquivo não existe, crie um DataFrame vazio\n",
        "      df_metrics = pd.DataFrame()\n",
        "\n",
        "  df_metrics = df_metrics.append(metrics, ignore_index=True)\n",
        "  df_metrics.to_csv(files_name['metrics_csv'], index=False)\n",
        "\n",
        "  with open(files_name['history'], 'w') as f:\n",
        "    json.dump(history.history, f)\n",
        "\n",
        "  display(df_metrics.tail())\n",
        "\n"
      ]
    },
    {
      "cell_type": "code",
      "execution_count": null,
      "metadata": {
        "id": "BvSmv--mHDAb"
      },
      "outputs": [],
      "source": [
        "save_model_metrics(model_save_name, files_name, history, start_time, end_time,\n",
        "                   EPOCHS, BATCH_SIZE, LEARNING_RATE, DROPOUT_RATE, test_loss,test_acc, True)\n"
      ]
    },
    {
      "cell_type": "markdown",
      "metadata": {
        "id": "s07OPGVMh7jz"
      },
      "source": [
        "# salvar grafico do treinamento"
      ]
    },
    {
      "cell_type": "code",
      "execution_count": null,
      "metadata": {
        "id": "dblETlFkh_OK"
      },
      "outputs": [],
      "source": [
        "def save_model_graphs(model_save_name, files_name, history):\n",
        "  epochs_range = list(range(1, len(history.history['accuracy'])+1))\n",
        "  # cria o gráfico de Accuracy\n",
        "  plt.plot(epochs_range, history.history['accuracy'])\n",
        "  plt.plot(epochs_range, history.history['val_accuracy'])\n",
        "  plt.title('Training and Validation Accuracy')\n",
        "  plt.ylabel('Accuracy')\n",
        "  plt.xlabel('Epoch')\n",
        "  plt.legend(['Train', 'Validation'], loc='lower right')\n",
        "\n",
        "  # Salva figura\n",
        "  plt.savefig(files_name['graph_acc'])\n",
        "  plt.show()\n",
        "\n",
        "  # cria o gráfico de Loss\n",
        "  plt.plot(epochs_range, history.history['loss'])\n",
        "  plt.plot(epochs_range, history.history['val_loss'])\n",
        "  plt.title('Training and Validation Loss')\n",
        "  plt.ylabel('Loss')\n",
        "  plt.xlabel('Epoch')\n",
        "  plt.legend(['Train', 'Validation'], loc='lower right')\n",
        "\n",
        "  # Salva figura\n",
        "  plt.savefig(files_name['graph_loss'])\n",
        "  plt.show()\n",
        "\n",
        "  # Definir o tamanho da figura\n",
        "  fig, axs = plt.subplots(1, 2, figsize=(15,5))\n",
        "\n",
        "  # Plotar o gráfico de loss no primeiro subplot\n",
        "  axs[0].plot(epochs_range, history.history['loss'], label='train_loss')\n",
        "  axs[0].plot(epochs_range, history.history['val_loss'], label='val_loss')\n",
        "  axs[0].set_title('Model Loss')\n",
        "  axs[0].set_xlabel('Epoch')\n",
        "  axs[0].set_ylabel('Loss')\n",
        "  axs[0].legend()\n",
        "\n",
        "  # Plotar o gráfico de acurácia no segundo subplot\n",
        "  axs[1].plot(epochs_range, history.history['accuracy'], label='train_acc')\n",
        "  axs[1].plot(epochs_range, history.history['val_accuracy'], label='val_acc')\n",
        "  axs[1].set_title('Model Accuracy')\n",
        "  axs[1].set_xlabel('Epoch')\n",
        "  axs[1].set_ylabel('Accuracy')\n",
        "  axs[1].legend()\n",
        "\n",
        "  # Salvar a figura em um arquivo\n",
        "  plt.savefig(files_name['graph_acc_and_loss'])"
      ]
    },
    {
      "cell_type": "code",
      "execution_count": null,
      "metadata": {
        "id": "DlnFh6_siE9w"
      },
      "outputs": [],
      "source": [
        "save_model_graphs(model_save_name, files_name, history)"
      ]
    },
    {
      "cell_type": "code",
      "execution_count": null,
      "metadata": {
        "id": "NhbyI20YUfP2"
      },
      "outputs": [],
      "source": [
        "# np.shape(ids_test)"
      ]
    },
    {
      "cell_type": "code",
      "execution_count": null,
      "metadata": {
        "id": "fY52J8_PUypv"
      },
      "outputs": [],
      "source": [
        "# y_pred"
      ]
    },
    {
      "cell_type": "code",
      "execution_count": null,
      "metadata": {
        "id": "SUjjSiwk_omw"
      },
      "outputs": [],
      "source": [
        "# # y_pred_bool = np.where(y_pred >= threshold, 1, 0)\n",
        "# y_pred_bool = np.argmax(y_pred, axis=1)\n",
        "# from sklearn.metrics import classification_report\n",
        "\n",
        "# print(classification_report(y_pred_bool, test[\"label\"]))"
      ]
    },
    {
      "cell_type": "code",
      "execution_count": null,
      "metadata": {
        "id": "Oaw1qPa7v9mX"
      },
      "outputs": [],
      "source": [
        "# from sklearn.metrics import confusion_matrix\n",
        "# import seaborn as sns\n"
      ]
    },
    {
      "cell_type": "code",
      "execution_count": null,
      "metadata": {
        "id": "c0hRUHBYU9n4"
      },
      "outputs": [],
      "source": [
        "# np.shape(y_pred_bool)"
      ]
    },
    {
      "cell_type": "markdown",
      "metadata": {
        "id": "u-5yoZwDuvDe"
      },
      "source": [
        "# LIME"
      ]
    },
    {
      "cell_type": "markdown",
      "metadata": {
        "id": "szsnzZPyAf06"
      },
      "source": [
        "https://www.kaggle.com/code/arinjaypathak/fine-tuned-bert-lime-youtube-comment-sentiment"
      ]
    },
    {
      "cell_type": "code",
      "execution_count": null,
      "metadata": {
        "id": "BvJmGv3butzY"
      },
      "outputs": [],
      "source": [
        "!pip install lime"
      ]
    },
    {
      "cell_type": "code",
      "execution_count": null,
      "metadata": {
        "id": "XtvKIpxJuxx1"
      },
      "outputs": [],
      "source": [
        "import lime\n",
        "from lime.lime_text import LimeTextExplainer"
      ]
    },
    {
      "cell_type": "markdown",
      "metadata": {
        "id": "pMh4ckrvG5ch"
      },
      "source": [
        "## LimeTestes"
      ]
    },
    {
      "cell_type": "markdown",
      "metadata": {
        "id": "NRwtDYB8HARO"
      },
      "source": [
        "## Funçao de predicao"
      ]
    },
    {
      "cell_type": "code",
      "execution_count": null,
      "metadata": {
        "id": "jEER2lUKG79a"
      },
      "outputs": [],
      "source": [
        "def predict_proba(arr):\n",
        "    # processed=[]\n",
        "    # for i in arr:\n",
        "    #     processed.append(i)\n",
        "    id,segment,mask=prepare(arr,tokenizer,max_length=200)\n",
        "    pred=model.predict([id,mask,segment])\n",
        "    return pred\n",
        "    # id, segment, mask = prepare([arr], tokenizer, max_length=200)\n",
        "    # pred = model.predict([id, mask, segment], batch_size=1)\n",
        "    # return pred"
      ]
    },
    {
      "cell_type": "code",
      "execution_count": null,
      "metadata": {
        "id": "ITnHsuVPOiHI"
      },
      "outputs": [],
      "source": [
        "def save_lime_explain(model_save_name, files_name, pos, sample_index, sample_text, original_class, prediction_class):\n",
        "\n",
        "  metrics = {\n",
        "    'model_name': model_save_name,\n",
        "    'pos': pos,\n",
        "    'index': sample_index,\n",
        "    'real_class': original_class,\n",
        "    'pred_class': prediction_class,\n",
        "    'text': sample_text\n",
        "  }\n",
        "\n",
        "  if os.path.isfile(files_name['lime_explanations']):\n",
        "      # Se o arquivo existe, leia-o em um DataFrame\n",
        "      df_lime = pd.read_csv(files_name['lime_explanations'])\n",
        "  else:\n",
        "      # Se o arquivo não existe, crie um DataFrame vazio\n",
        "      df_lime = pd.DataFrame()\n",
        "\n",
        "  df_lime = df_lime.append(metrics, ignore_index=True)\n",
        "  df_lime.to_csv(files_name['lime_explanations'], index=False)\n",
        "  display(df_lime.tail())\n"
      ]
    },
    {
      "cell_type": "code",
      "execution_count": null,
      "metadata": {
        "id": "0cD7Md_tHR0W"
      },
      "outputs": [],
      "source": [
        "def explain_instance(directories, test, y_pred_bool, model_save_name, files_name):\n",
        "  class_names = [0, 1]\n",
        "  explainer = LimeTextExplainer(class_names=class_names)\n",
        "  i = 0\n",
        "  for index, row in test.iterrows():\n",
        "    if i <= 682:\n",
        "      i = i + 1\n",
        "      continue\n",
        "    file_name = '/' + model_save_name + '_' + str(i) + '_pos_' + str(index) + '_index_'+ str(int(row['label'])) + '_orig_class_'+ str(y_pred_bool[i]) +'pred_class__lime_explain'\n",
        "    html_path = 'lime_html_' +  str(int(row['label'])) + '_' + str(y_pred_bool[i])\n",
        "    # explicando instancia\n",
        "    exp = explainer.explain_instance(row['content'], predict_proba)\n",
        "    exp.show_in_notebook(text=True)\n",
        "    # Salvando html do lime\n",
        "    exp.save_to_file(directories[html_path] + file_name + '.html')\n",
        "    # salvando explicancao como csv\n",
        "    result_list = exp.as_list()\n",
        "    csv_file_name = directories[html_path] + file_name + '.csv'\n",
        "    with open(csv_file_name, mode='w', newline='') as result_file:\n",
        "      writer = csv.writer(result_file)\n",
        "      writer.writerows(result_list)\n",
        "    # salvando texto e predicao e classe real no csv com todas as amostras\n",
        "    save_lime_explain(model_save_name, files_name, i, index, row['content'], row['label'], y_pred_bool[i])\n",
        "    i = i + 1\n",
        "    print(i)\n",
        "    print('-------------------------------------')\n"
      ]
    },
    {
      "cell_type": "code",
      "execution_count": null,
      "metadata": {
        "id": "oj7CM_iVN9bf"
      },
      "outputs": [],
      "source": [
        "explain_instance(directories, test, y_pred_bool, model_save_name, files_name)"
      ]
    },
    {
      "cell_type": "code",
      "execution_count": null,
      "metadata": {
        "id": "_-S5kWNPNo9B"
      },
      "outputs": [],
      "source": [
        "def explain_instance(explainer, directories, test):\n"
      ]
    },
    {
      "cell_type": "markdown",
      "metadata": {
        "id": "l-rR6dviG1En"
      },
      "source": [
        "# experimentos de teste Lime"
      ]
    },
    {
      "cell_type": "code",
      "execution_count": null,
      "metadata": {
        "id": "y4UfrkWoGzuQ"
      },
      "outputs": [],
      "source": []
    },
    {
      "cell_type": "code",
      "execution_count": null,
      "metadata": {
        "id": "0jZ5-YcQAmhU"
      },
      "outputs": [],
      "source": [
        "# y_pred = model.predict([ids_test, masks_test, segments_test])\n",
        "# row_index = dataset.loc[dataset['label'] == 0].index[0]\n",
        "# row = dataset.loc[row_index, :]\n",
        "# ids_train, segments_train, masks_train = prepare(tr,\n",
        "#                                                  tokenizer, MAX_LEN)"
      ]
    },
    {
      "cell_type": "markdown",
      "metadata": {
        "id": "C4Vl0KYpGfq4"
      },
      "source": [
        "## funcao de predicao"
      ]
    },
    {
      "cell_type": "code",
      "execution_count": null,
      "metadata": {
        "id": "b_hj8XZmAoyT"
      },
      "outputs": [],
      "source": [
        "def predict_proba_test(arr):\n",
        "    # processed=[]\n",
        "    # for i in arr:\n",
        "    #     processed.append(i)\n",
        "    id,segment,mask=prepare(arr,tokenizer,max_length=200)\n",
        "    pred=model.predict([id,mask,segment])\n",
        "    return pred\n",
        "    # id, segment, mask = prepare([arr], tokenizer, max_length=200)\n",
        "    # pred = model.predict([id, mask, segment], batch_size=1)\n",
        "    # return pred"
      ]
    },
    {
      "cell_type": "code",
      "execution_count": null,
      "metadata": {
        "id": "7wxGoIpYYZ6l"
      },
      "outputs": [],
      "source": []
    },
    {
      "cell_type": "code",
      "execution_count": null,
      "metadata": {
        "id": "smDj5H19YCCf"
      },
      "outputs": [],
      "source": [
        "row_index"
      ]
    },
    {
      "cell_type": "code",
      "execution_count": null,
      "metadata": {
        "id": "j_D3fO_bX-DV"
      },
      "outputs": [],
      "source": [
        "dataset.iloc[4,:]"
      ]
    },
    {
      "cell_type": "code",
      "execution_count": null,
      "metadata": {
        "id": "YNmncCZgX9I0"
      },
      "outputs": [],
      "source": []
    },
    {
      "cell_type": "code",
      "execution_count": null,
      "metadata": {
        "id": "09ZTSuojA2_m"
      },
      "outputs": [],
      "source": [
        "# sample_text = dataset.iloc[4,:]\n",
        "sample_text = dataset['content'][4]\n",
        "sample_text = dataset['content'][4]\n",
        "      # dataset['content'][3600]\n",
        "\n",
        "samples = [\n",
        "     dataset['content'][4],\n",
        "     dataset['content'][3600]\n",
        "]"
      ]
    },
    {
      "cell_type": "code",
      "execution_count": null,
      "metadata": {
        "id": "Uql1kYkQJbbr"
      },
      "outputs": [],
      "source": [
        "samples = [\n",
        "     dataset['content'][6660],\n",
        "]"
      ]
    },
    {
      "cell_type": "code",
      "execution_count": null,
      "metadata": {
        "id": "RjZ9JCcgK3_R"
      },
      "outputs": [],
      "source": [
        "dataset.iloc[3600,:]"
      ]
    },
    {
      "cell_type": "code",
      "execution_count": null,
      "metadata": {
        "id": "UiWPsmtsIKEY"
      },
      "outputs": [],
      "source": [
        "test['content'][6660]"
      ]
    },
    {
      "cell_type": "code",
      "execution_count": null,
      "metadata": {
        "id": "F-wy4JT4IGwZ"
      },
      "outputs": [],
      "source": [
        "test[\"label\"]"
      ]
    },
    {
      "cell_type": "code",
      "execution_count": null,
      "metadata": {
        "id": "punICj3TC4DQ"
      },
      "outputs": [],
      "source": [
        "resp = predict_proba_test(samples)"
      ]
    },
    {
      "cell_type": "code",
      "execution_count": null,
      "metadata": {
        "id": "_NZcvemhY4et"
      },
      "outputs": [],
      "source": [
        "resp"
      ]
    },
    {
      "cell_type": "code",
      "execution_count": null,
      "metadata": {
        "id": "oTlYQOZZEfTf"
      },
      "outputs": [],
      "source": [
        "resp"
      ]
    },
    {
      "cell_type": "code",
      "execution_count": null,
      "metadata": {
        "id": "8aPl-zsCrxrT"
      },
      "outputs": [],
      "source": [
        "resp = predict_proba(dataset['content'][4])"
      ]
    },
    {
      "cell_type": "code",
      "execution_count": null,
      "metadata": {
        "id": "dXtwWI0HT8Eh"
      },
      "outputs": [],
      "source": [
        "# test = np.where(resp >= threshold, 1, 0)\n",
        "np.argmax(resp, axis=0)"
      ]
    },
    {
      "cell_type": "markdown",
      "metadata": {
        "id": "YSDrVZCbGoxT"
      },
      "source": [
        "## instanciando explainer"
      ]
    },
    {
      "cell_type": "code",
      "execution_count": null,
      "metadata": {
        "id": "2PZZnVLtRqFk"
      },
      "outputs": [],
      "source": [
        "class_names = [0, 1]\n",
        "explainer = LimeTextExplainer(class_names=class_names)\n"
      ]
    },
    {
      "cell_type": "code",
      "execution_count": null,
      "metadata": {
        "id": "a5EI21FpA94P"
      },
      "outputs": [],
      "source": [
        "explainer.explain_instance(dataset['content'][3600],predict_proba).show_in_notebook(text=True)\n"
      ]
    },
    {
      "cell_type": "code",
      "execution_count": null,
      "metadata": {
        "id": "-CHvFtX-bmaH"
      },
      "outputs": [],
      "source": [
        "explainer.explain_instance(dataset['content'][4],predict_proba).show_in_notebook(text=True)\n"
      ]
    }
  ],
  "metadata": {
    "accelerator": "TPU",
    "colab": {
      "machine_shape": "hm",
      "provenance": [],
      "authorship_tag": "ABX9TyPJCYpMoezF34l2h/b8pB25",
      "include_colab_link": true
    },
    "kernelspec": {
      "display_name": "Python 3",
      "name": "python3"
    },
    "language_info": {
      "name": "python"
    },
    "widgets": {
      "application/vnd.jupyter.widget-state+json": {
        "8064fdf1e69f4162ad4e11d42cc69bbb": {
          "model_module": "@jupyter-widgets/controls",
          "model_name": "HBoxModel",
          "model_module_version": "1.5.0",
          "state": {
            "_dom_classes": [],
            "_model_module": "@jupyter-widgets/controls",
            "_model_module_version": "1.5.0",
            "_model_name": "HBoxModel",
            "_view_count": null,
            "_view_module": "@jupyter-widgets/controls",
            "_view_module_version": "1.5.0",
            "_view_name": "HBoxView",
            "box_style": "",
            "children": [
              "IPY_MODEL_c65badb667c9471da4ef16a4500aaa43",
              "IPY_MODEL_19043e57187940f2a5f747f4782e9401",
              "IPY_MODEL_53c5cab8bbdd4df58dd23819a3408538"
            ],
            "layout": "IPY_MODEL_a541d7200ae3443faa4ec290e9f8c7ac"
          }
        },
        "c65badb667c9471da4ef16a4500aaa43": {
          "model_module": "@jupyter-widgets/controls",
          "model_name": "HTMLModel",
          "model_module_version": "1.5.0",
          "state": {
            "_dom_classes": [],
            "_model_module": "@jupyter-widgets/controls",
            "_model_module_version": "1.5.0",
            "_model_name": "HTMLModel",
            "_view_count": null,
            "_view_module": "@jupyter-widgets/controls",
            "_view_module_version": "1.5.0",
            "_view_name": "HTMLView",
            "description": "",
            "description_tooltip": null,
            "layout": "IPY_MODEL_ad87199adff44c4b96e4551445495900",
            "placeholder": "​",
            "style": "IPY_MODEL_583035e15ca840109cd37313ab007e5d",
            "value": "Downloading (…)solve/main/vocab.txt: 100%"
          }
        },
        "19043e57187940f2a5f747f4782e9401": {
          "model_module": "@jupyter-widgets/controls",
          "model_name": "FloatProgressModel",
          "model_module_version": "1.5.0",
          "state": {
            "_dom_classes": [],
            "_model_module": "@jupyter-widgets/controls",
            "_model_module_version": "1.5.0",
            "_model_name": "FloatProgressModel",
            "_view_count": null,
            "_view_module": "@jupyter-widgets/controls",
            "_view_module_version": "1.5.0",
            "_view_name": "ProgressView",
            "bar_style": "success",
            "description": "",
            "description_tooltip": null,
            "layout": "IPY_MODEL_4ffe6ab8d9084325929bd4f08462503f",
            "max": 209528,
            "min": 0,
            "orientation": "horizontal",
            "style": "IPY_MODEL_2bea45d3d6c04651836532f662661f5a",
            "value": 209528
          }
        },
        "53c5cab8bbdd4df58dd23819a3408538": {
          "model_module": "@jupyter-widgets/controls",
          "model_name": "HTMLModel",
          "model_module_version": "1.5.0",
          "state": {
            "_dom_classes": [],
            "_model_module": "@jupyter-widgets/controls",
            "_model_module_version": "1.5.0",
            "_model_name": "HTMLModel",
            "_view_count": null,
            "_view_module": "@jupyter-widgets/controls",
            "_view_module_version": "1.5.0",
            "_view_name": "HTMLView",
            "description": "",
            "description_tooltip": null,
            "layout": "IPY_MODEL_84c539e4df464c7e9f079a66060037cd",
            "placeholder": "​",
            "style": "IPY_MODEL_1236159331db4e42a31315af348ae73b",
            "value": " 210k/210k [00:00&lt;00:00, 4.71MB/s]"
          }
        },
        "a541d7200ae3443faa4ec290e9f8c7ac": {
          "model_module": "@jupyter-widgets/base",
          "model_name": "LayoutModel",
          "model_module_version": "1.2.0",
          "state": {
            "_model_module": "@jupyter-widgets/base",
            "_model_module_version": "1.2.0",
            "_model_name": "LayoutModel",
            "_view_count": null,
            "_view_module": "@jupyter-widgets/base",
            "_view_module_version": "1.2.0",
            "_view_name": "LayoutView",
            "align_content": null,
            "align_items": null,
            "align_self": null,
            "border": null,
            "bottom": null,
            "display": null,
            "flex": null,
            "flex_flow": null,
            "grid_area": null,
            "grid_auto_columns": null,
            "grid_auto_flow": null,
            "grid_auto_rows": null,
            "grid_column": null,
            "grid_gap": null,
            "grid_row": null,
            "grid_template_areas": null,
            "grid_template_columns": null,
            "grid_template_rows": null,
            "height": null,
            "justify_content": null,
            "justify_items": null,
            "left": null,
            "margin": null,
            "max_height": null,
            "max_width": null,
            "min_height": null,
            "min_width": null,
            "object_fit": null,
            "object_position": null,
            "order": null,
            "overflow": null,
            "overflow_x": null,
            "overflow_y": null,
            "padding": null,
            "right": null,
            "top": null,
            "visibility": null,
            "width": null
          }
        },
        "ad87199adff44c4b96e4551445495900": {
          "model_module": "@jupyter-widgets/base",
          "model_name": "LayoutModel",
          "model_module_version": "1.2.0",
          "state": {
            "_model_module": "@jupyter-widgets/base",
            "_model_module_version": "1.2.0",
            "_model_name": "LayoutModel",
            "_view_count": null,
            "_view_module": "@jupyter-widgets/base",
            "_view_module_version": "1.2.0",
            "_view_name": "LayoutView",
            "align_content": null,
            "align_items": null,
            "align_self": null,
            "border": null,
            "bottom": null,
            "display": null,
            "flex": null,
            "flex_flow": null,
            "grid_area": null,
            "grid_auto_columns": null,
            "grid_auto_flow": null,
            "grid_auto_rows": null,
            "grid_column": null,
            "grid_gap": null,
            "grid_row": null,
            "grid_template_areas": null,
            "grid_template_columns": null,
            "grid_template_rows": null,
            "height": null,
            "justify_content": null,
            "justify_items": null,
            "left": null,
            "margin": null,
            "max_height": null,
            "max_width": null,
            "min_height": null,
            "min_width": null,
            "object_fit": null,
            "object_position": null,
            "order": null,
            "overflow": null,
            "overflow_x": null,
            "overflow_y": null,
            "padding": null,
            "right": null,
            "top": null,
            "visibility": null,
            "width": null
          }
        },
        "583035e15ca840109cd37313ab007e5d": {
          "model_module": "@jupyter-widgets/controls",
          "model_name": "DescriptionStyleModel",
          "model_module_version": "1.5.0",
          "state": {
            "_model_module": "@jupyter-widgets/controls",
            "_model_module_version": "1.5.0",
            "_model_name": "DescriptionStyleModel",
            "_view_count": null,
            "_view_module": "@jupyter-widgets/base",
            "_view_module_version": "1.2.0",
            "_view_name": "StyleView",
            "description_width": ""
          }
        },
        "4ffe6ab8d9084325929bd4f08462503f": {
          "model_module": "@jupyter-widgets/base",
          "model_name": "LayoutModel",
          "model_module_version": "1.2.0",
          "state": {
            "_model_module": "@jupyter-widgets/base",
            "_model_module_version": "1.2.0",
            "_model_name": "LayoutModel",
            "_view_count": null,
            "_view_module": "@jupyter-widgets/base",
            "_view_module_version": "1.2.0",
            "_view_name": "LayoutView",
            "align_content": null,
            "align_items": null,
            "align_self": null,
            "border": null,
            "bottom": null,
            "display": null,
            "flex": null,
            "flex_flow": null,
            "grid_area": null,
            "grid_auto_columns": null,
            "grid_auto_flow": null,
            "grid_auto_rows": null,
            "grid_column": null,
            "grid_gap": null,
            "grid_row": null,
            "grid_template_areas": null,
            "grid_template_columns": null,
            "grid_template_rows": null,
            "height": null,
            "justify_content": null,
            "justify_items": null,
            "left": null,
            "margin": null,
            "max_height": null,
            "max_width": null,
            "min_height": null,
            "min_width": null,
            "object_fit": null,
            "object_position": null,
            "order": null,
            "overflow": null,
            "overflow_x": null,
            "overflow_y": null,
            "padding": null,
            "right": null,
            "top": null,
            "visibility": null,
            "width": null
          }
        },
        "2bea45d3d6c04651836532f662661f5a": {
          "model_module": "@jupyter-widgets/controls",
          "model_name": "ProgressStyleModel",
          "model_module_version": "1.5.0",
          "state": {
            "_model_module": "@jupyter-widgets/controls",
            "_model_module_version": "1.5.0",
            "_model_name": "ProgressStyleModel",
            "_view_count": null,
            "_view_module": "@jupyter-widgets/base",
            "_view_module_version": "1.2.0",
            "_view_name": "StyleView",
            "bar_color": null,
            "description_width": ""
          }
        },
        "84c539e4df464c7e9f079a66060037cd": {
          "model_module": "@jupyter-widgets/base",
          "model_name": "LayoutModel",
          "model_module_version": "1.2.0",
          "state": {
            "_model_module": "@jupyter-widgets/base",
            "_model_module_version": "1.2.0",
            "_model_name": "LayoutModel",
            "_view_count": null,
            "_view_module": "@jupyter-widgets/base",
            "_view_module_version": "1.2.0",
            "_view_name": "LayoutView",
            "align_content": null,
            "align_items": null,
            "align_self": null,
            "border": null,
            "bottom": null,
            "display": null,
            "flex": null,
            "flex_flow": null,
            "grid_area": null,
            "grid_auto_columns": null,
            "grid_auto_flow": null,
            "grid_auto_rows": null,
            "grid_column": null,
            "grid_gap": null,
            "grid_row": null,
            "grid_template_areas": null,
            "grid_template_columns": null,
            "grid_template_rows": null,
            "height": null,
            "justify_content": null,
            "justify_items": null,
            "left": null,
            "margin": null,
            "max_height": null,
            "max_width": null,
            "min_height": null,
            "min_width": null,
            "object_fit": null,
            "object_position": null,
            "order": null,
            "overflow": null,
            "overflow_x": null,
            "overflow_y": null,
            "padding": null,
            "right": null,
            "top": null,
            "visibility": null,
            "width": null
          }
        },
        "1236159331db4e42a31315af348ae73b": {
          "model_module": "@jupyter-widgets/controls",
          "model_name": "DescriptionStyleModel",
          "model_module_version": "1.5.0",
          "state": {
            "_model_module": "@jupyter-widgets/controls",
            "_model_module_version": "1.5.0",
            "_model_name": "DescriptionStyleModel",
            "_view_count": null,
            "_view_module": "@jupyter-widgets/base",
            "_view_module_version": "1.2.0",
            "_view_name": "StyleView",
            "description_width": ""
          }
        },
        "f987ff8cb37a4bd9b489516b286450bc": {
          "model_module": "@jupyter-widgets/controls",
          "model_name": "HBoxModel",
          "model_module_version": "1.5.0",
          "state": {
            "_dom_classes": [],
            "_model_module": "@jupyter-widgets/controls",
            "_model_module_version": "1.5.0",
            "_model_name": "HBoxModel",
            "_view_count": null,
            "_view_module": "@jupyter-widgets/controls",
            "_view_module_version": "1.5.0",
            "_view_name": "HBoxView",
            "box_style": "",
            "children": [
              "IPY_MODEL_b9cd893641214168ad411dfea28279fe",
              "IPY_MODEL_8cb07f2e4fb248d6aab5e5a1066b422e",
              "IPY_MODEL_ecaec6f86e9b4c5caa2509bb29b63499"
            ],
            "layout": "IPY_MODEL_74de94f747ce4bea9eddb1ef5990c297"
          }
        },
        "b9cd893641214168ad411dfea28279fe": {
          "model_module": "@jupyter-widgets/controls",
          "model_name": "HTMLModel",
          "model_module_version": "1.5.0",
          "state": {
            "_dom_classes": [],
            "_model_module": "@jupyter-widgets/controls",
            "_model_module_version": "1.5.0",
            "_model_name": "HTMLModel",
            "_view_count": null,
            "_view_module": "@jupyter-widgets/controls",
            "_view_module_version": "1.5.0",
            "_view_name": "HTMLView",
            "description": "",
            "description_tooltip": null,
            "layout": "IPY_MODEL_ed240e5315154ac98cef70eebc88f2a1",
            "placeholder": "​",
            "style": "IPY_MODEL_514032efaae2498d8a59ff107893b696",
            "value": "Downloading (…)in/added_tokens.json: 100%"
          }
        },
        "8cb07f2e4fb248d6aab5e5a1066b422e": {
          "model_module": "@jupyter-widgets/controls",
          "model_name": "FloatProgressModel",
          "model_module_version": "1.5.0",
          "state": {
            "_dom_classes": [],
            "_model_module": "@jupyter-widgets/controls",
            "_model_module_version": "1.5.0",
            "_model_name": "FloatProgressModel",
            "_view_count": null,
            "_view_module": "@jupyter-widgets/controls",
            "_view_module_version": "1.5.0",
            "_view_name": "ProgressView",
            "bar_style": "success",
            "description": "",
            "description_tooltip": null,
            "layout": "IPY_MODEL_d3cdf8b3c65f46548a6d27ec30f7c78c",
            "max": 2,
            "min": 0,
            "orientation": "horizontal",
            "style": "IPY_MODEL_fbebf5dacbb448b0b54b051020067ea8",
            "value": 2
          }
        },
        "ecaec6f86e9b4c5caa2509bb29b63499": {
          "model_module": "@jupyter-widgets/controls",
          "model_name": "HTMLModel",
          "model_module_version": "1.5.0",
          "state": {
            "_dom_classes": [],
            "_model_module": "@jupyter-widgets/controls",
            "_model_module_version": "1.5.0",
            "_model_name": "HTMLModel",
            "_view_count": null,
            "_view_module": "@jupyter-widgets/controls",
            "_view_module_version": "1.5.0",
            "_view_name": "HTMLView",
            "description": "",
            "description_tooltip": null,
            "layout": "IPY_MODEL_6a9fc9ef517943b5b68b5809ff36d148",
            "placeholder": "​",
            "style": "IPY_MODEL_13e9e42273c841ba8947228b05bdde6d",
            "value": " 2.00/2.00 [00:00&lt;00:00, 179B/s]"
          }
        },
        "74de94f747ce4bea9eddb1ef5990c297": {
          "model_module": "@jupyter-widgets/base",
          "model_name": "LayoutModel",
          "model_module_version": "1.2.0",
          "state": {
            "_model_module": "@jupyter-widgets/base",
            "_model_module_version": "1.2.0",
            "_model_name": "LayoutModel",
            "_view_count": null,
            "_view_module": "@jupyter-widgets/base",
            "_view_module_version": "1.2.0",
            "_view_name": "LayoutView",
            "align_content": null,
            "align_items": null,
            "align_self": null,
            "border": null,
            "bottom": null,
            "display": null,
            "flex": null,
            "flex_flow": null,
            "grid_area": null,
            "grid_auto_columns": null,
            "grid_auto_flow": null,
            "grid_auto_rows": null,
            "grid_column": null,
            "grid_gap": null,
            "grid_row": null,
            "grid_template_areas": null,
            "grid_template_columns": null,
            "grid_template_rows": null,
            "height": null,
            "justify_content": null,
            "justify_items": null,
            "left": null,
            "margin": null,
            "max_height": null,
            "max_width": null,
            "min_height": null,
            "min_width": null,
            "object_fit": null,
            "object_position": null,
            "order": null,
            "overflow": null,
            "overflow_x": null,
            "overflow_y": null,
            "padding": null,
            "right": null,
            "top": null,
            "visibility": null,
            "width": null
          }
        },
        "ed240e5315154ac98cef70eebc88f2a1": {
          "model_module": "@jupyter-widgets/base",
          "model_name": "LayoutModel",
          "model_module_version": "1.2.0",
          "state": {
            "_model_module": "@jupyter-widgets/base",
            "_model_module_version": "1.2.0",
            "_model_name": "LayoutModel",
            "_view_count": null,
            "_view_module": "@jupyter-widgets/base",
            "_view_module_version": "1.2.0",
            "_view_name": "LayoutView",
            "align_content": null,
            "align_items": null,
            "align_self": null,
            "border": null,
            "bottom": null,
            "display": null,
            "flex": null,
            "flex_flow": null,
            "grid_area": null,
            "grid_auto_columns": null,
            "grid_auto_flow": null,
            "grid_auto_rows": null,
            "grid_column": null,
            "grid_gap": null,
            "grid_row": null,
            "grid_template_areas": null,
            "grid_template_columns": null,
            "grid_template_rows": null,
            "height": null,
            "justify_content": null,
            "justify_items": null,
            "left": null,
            "margin": null,
            "max_height": null,
            "max_width": null,
            "min_height": null,
            "min_width": null,
            "object_fit": null,
            "object_position": null,
            "order": null,
            "overflow": null,
            "overflow_x": null,
            "overflow_y": null,
            "padding": null,
            "right": null,
            "top": null,
            "visibility": null,
            "width": null
          }
        },
        "514032efaae2498d8a59ff107893b696": {
          "model_module": "@jupyter-widgets/controls",
          "model_name": "DescriptionStyleModel",
          "model_module_version": "1.5.0",
          "state": {
            "_model_module": "@jupyter-widgets/controls",
            "_model_module_version": "1.5.0",
            "_model_name": "DescriptionStyleModel",
            "_view_count": null,
            "_view_module": "@jupyter-widgets/base",
            "_view_module_version": "1.2.0",
            "_view_name": "StyleView",
            "description_width": ""
          }
        },
        "d3cdf8b3c65f46548a6d27ec30f7c78c": {
          "model_module": "@jupyter-widgets/base",
          "model_name": "LayoutModel",
          "model_module_version": "1.2.0",
          "state": {
            "_model_module": "@jupyter-widgets/base",
            "_model_module_version": "1.2.0",
            "_model_name": "LayoutModel",
            "_view_count": null,
            "_view_module": "@jupyter-widgets/base",
            "_view_module_version": "1.2.0",
            "_view_name": "LayoutView",
            "align_content": null,
            "align_items": null,
            "align_self": null,
            "border": null,
            "bottom": null,
            "display": null,
            "flex": null,
            "flex_flow": null,
            "grid_area": null,
            "grid_auto_columns": null,
            "grid_auto_flow": null,
            "grid_auto_rows": null,
            "grid_column": null,
            "grid_gap": null,
            "grid_row": null,
            "grid_template_areas": null,
            "grid_template_columns": null,
            "grid_template_rows": null,
            "height": null,
            "justify_content": null,
            "justify_items": null,
            "left": null,
            "margin": null,
            "max_height": null,
            "max_width": null,
            "min_height": null,
            "min_width": null,
            "object_fit": null,
            "object_position": null,
            "order": null,
            "overflow": null,
            "overflow_x": null,
            "overflow_y": null,
            "padding": null,
            "right": null,
            "top": null,
            "visibility": null,
            "width": null
          }
        },
        "fbebf5dacbb448b0b54b051020067ea8": {
          "model_module": "@jupyter-widgets/controls",
          "model_name": "ProgressStyleModel",
          "model_module_version": "1.5.0",
          "state": {
            "_model_module": "@jupyter-widgets/controls",
            "_model_module_version": "1.5.0",
            "_model_name": "ProgressStyleModel",
            "_view_count": null,
            "_view_module": "@jupyter-widgets/base",
            "_view_module_version": "1.2.0",
            "_view_name": "StyleView",
            "bar_color": null,
            "description_width": ""
          }
        },
        "6a9fc9ef517943b5b68b5809ff36d148": {
          "model_module": "@jupyter-widgets/base",
          "model_name": "LayoutModel",
          "model_module_version": "1.2.0",
          "state": {
            "_model_module": "@jupyter-widgets/base",
            "_model_module_version": "1.2.0",
            "_model_name": "LayoutModel",
            "_view_count": null,
            "_view_module": "@jupyter-widgets/base",
            "_view_module_version": "1.2.0",
            "_view_name": "LayoutView",
            "align_content": null,
            "align_items": null,
            "align_self": null,
            "border": null,
            "bottom": null,
            "display": null,
            "flex": null,
            "flex_flow": null,
            "grid_area": null,
            "grid_auto_columns": null,
            "grid_auto_flow": null,
            "grid_auto_rows": null,
            "grid_column": null,
            "grid_gap": null,
            "grid_row": null,
            "grid_template_areas": null,
            "grid_template_columns": null,
            "grid_template_rows": null,
            "height": null,
            "justify_content": null,
            "justify_items": null,
            "left": null,
            "margin": null,
            "max_height": null,
            "max_width": null,
            "min_height": null,
            "min_width": null,
            "object_fit": null,
            "object_position": null,
            "order": null,
            "overflow": null,
            "overflow_x": null,
            "overflow_y": null,
            "padding": null,
            "right": null,
            "top": null,
            "visibility": null,
            "width": null
          }
        },
        "13e9e42273c841ba8947228b05bdde6d": {
          "model_module": "@jupyter-widgets/controls",
          "model_name": "DescriptionStyleModel",
          "model_module_version": "1.5.0",
          "state": {
            "_model_module": "@jupyter-widgets/controls",
            "_model_module_version": "1.5.0",
            "_model_name": "DescriptionStyleModel",
            "_view_count": null,
            "_view_module": "@jupyter-widgets/base",
            "_view_module_version": "1.2.0",
            "_view_name": "StyleView",
            "description_width": ""
          }
        },
        "8aa1123c68e64a308e2b2743de090bb4": {
          "model_module": "@jupyter-widgets/controls",
          "model_name": "HBoxModel",
          "model_module_version": "1.5.0",
          "state": {
            "_dom_classes": [],
            "_model_module": "@jupyter-widgets/controls",
            "_model_module_version": "1.5.0",
            "_model_name": "HBoxModel",
            "_view_count": null,
            "_view_module": "@jupyter-widgets/controls",
            "_view_module_version": "1.5.0",
            "_view_name": "HBoxView",
            "box_style": "",
            "children": [
              "IPY_MODEL_b3fc52192a174247b5997e76c6641a8d",
              "IPY_MODEL_3768f0a2d0f14657bcd462203549c0b6",
              "IPY_MODEL_2519a1faab6948ec96b0dde3cde092b0"
            ],
            "layout": "IPY_MODEL_eac2acc602204abfacccc00c6420cfac"
          }
        },
        "b3fc52192a174247b5997e76c6641a8d": {
          "model_module": "@jupyter-widgets/controls",
          "model_name": "HTMLModel",
          "model_module_version": "1.5.0",
          "state": {
            "_dom_classes": [],
            "_model_module": "@jupyter-widgets/controls",
            "_model_module_version": "1.5.0",
            "_model_name": "HTMLModel",
            "_view_count": null,
            "_view_module": "@jupyter-widgets/controls",
            "_view_module_version": "1.5.0",
            "_view_name": "HTMLView",
            "description": "",
            "description_tooltip": null,
            "layout": "IPY_MODEL_2f023305bb0648c7af268311e6b826d9",
            "placeholder": "​",
            "style": "IPY_MODEL_c08b748e8fab44c6a3592fc6be393dda",
            "value": "Downloading (…)cial_tokens_map.json: 100%"
          }
        },
        "3768f0a2d0f14657bcd462203549c0b6": {
          "model_module": "@jupyter-widgets/controls",
          "model_name": "FloatProgressModel",
          "model_module_version": "1.5.0",
          "state": {
            "_dom_classes": [],
            "_model_module": "@jupyter-widgets/controls",
            "_model_module_version": "1.5.0",
            "_model_name": "FloatProgressModel",
            "_view_count": null,
            "_view_module": "@jupyter-widgets/controls",
            "_view_module_version": "1.5.0",
            "_view_name": "ProgressView",
            "bar_style": "success",
            "description": "",
            "description_tooltip": null,
            "layout": "IPY_MODEL_aa8f49e8625441c685cad3e82ebe029a",
            "max": 112,
            "min": 0,
            "orientation": "horizontal",
            "style": "IPY_MODEL_2aa842df48584fe6bcf0051347179949",
            "value": 112
          }
        },
        "2519a1faab6948ec96b0dde3cde092b0": {
          "model_module": "@jupyter-widgets/controls",
          "model_name": "HTMLModel",
          "model_module_version": "1.5.0",
          "state": {
            "_dom_classes": [],
            "_model_module": "@jupyter-widgets/controls",
            "_model_module_version": "1.5.0",
            "_model_name": "HTMLModel",
            "_view_count": null,
            "_view_module": "@jupyter-widgets/controls",
            "_view_module_version": "1.5.0",
            "_view_name": "HTMLView",
            "description": "",
            "description_tooltip": null,
            "layout": "IPY_MODEL_53659e4795514b468c6bd290a1aa9f92",
            "placeholder": "​",
            "style": "IPY_MODEL_9a3e33bfade24a8eab63b440f72007f8",
            "value": " 112/112 [00:00&lt;00:00, 10.3kB/s]"
          }
        },
        "eac2acc602204abfacccc00c6420cfac": {
          "model_module": "@jupyter-widgets/base",
          "model_name": "LayoutModel",
          "model_module_version": "1.2.0",
          "state": {
            "_model_module": "@jupyter-widgets/base",
            "_model_module_version": "1.2.0",
            "_model_name": "LayoutModel",
            "_view_count": null,
            "_view_module": "@jupyter-widgets/base",
            "_view_module_version": "1.2.0",
            "_view_name": "LayoutView",
            "align_content": null,
            "align_items": null,
            "align_self": null,
            "border": null,
            "bottom": null,
            "display": null,
            "flex": null,
            "flex_flow": null,
            "grid_area": null,
            "grid_auto_columns": null,
            "grid_auto_flow": null,
            "grid_auto_rows": null,
            "grid_column": null,
            "grid_gap": null,
            "grid_row": null,
            "grid_template_areas": null,
            "grid_template_columns": null,
            "grid_template_rows": null,
            "height": null,
            "justify_content": null,
            "justify_items": null,
            "left": null,
            "margin": null,
            "max_height": null,
            "max_width": null,
            "min_height": null,
            "min_width": null,
            "object_fit": null,
            "object_position": null,
            "order": null,
            "overflow": null,
            "overflow_x": null,
            "overflow_y": null,
            "padding": null,
            "right": null,
            "top": null,
            "visibility": null,
            "width": null
          }
        },
        "2f023305bb0648c7af268311e6b826d9": {
          "model_module": "@jupyter-widgets/base",
          "model_name": "LayoutModel",
          "model_module_version": "1.2.0",
          "state": {
            "_model_module": "@jupyter-widgets/base",
            "_model_module_version": "1.2.0",
            "_model_name": "LayoutModel",
            "_view_count": null,
            "_view_module": "@jupyter-widgets/base",
            "_view_module_version": "1.2.0",
            "_view_name": "LayoutView",
            "align_content": null,
            "align_items": null,
            "align_self": null,
            "border": null,
            "bottom": null,
            "display": null,
            "flex": null,
            "flex_flow": null,
            "grid_area": null,
            "grid_auto_columns": null,
            "grid_auto_flow": null,
            "grid_auto_rows": null,
            "grid_column": null,
            "grid_gap": null,
            "grid_row": null,
            "grid_template_areas": null,
            "grid_template_columns": null,
            "grid_template_rows": null,
            "height": null,
            "justify_content": null,
            "justify_items": null,
            "left": null,
            "margin": null,
            "max_height": null,
            "max_width": null,
            "min_height": null,
            "min_width": null,
            "object_fit": null,
            "object_position": null,
            "order": null,
            "overflow": null,
            "overflow_x": null,
            "overflow_y": null,
            "padding": null,
            "right": null,
            "top": null,
            "visibility": null,
            "width": null
          }
        },
        "c08b748e8fab44c6a3592fc6be393dda": {
          "model_module": "@jupyter-widgets/controls",
          "model_name": "DescriptionStyleModel",
          "model_module_version": "1.5.0",
          "state": {
            "_model_module": "@jupyter-widgets/controls",
            "_model_module_version": "1.5.0",
            "_model_name": "DescriptionStyleModel",
            "_view_count": null,
            "_view_module": "@jupyter-widgets/base",
            "_view_module_version": "1.2.0",
            "_view_name": "StyleView",
            "description_width": ""
          }
        },
        "aa8f49e8625441c685cad3e82ebe029a": {
          "model_module": "@jupyter-widgets/base",
          "model_name": "LayoutModel",
          "model_module_version": "1.2.0",
          "state": {
            "_model_module": "@jupyter-widgets/base",
            "_model_module_version": "1.2.0",
            "_model_name": "LayoutModel",
            "_view_count": null,
            "_view_module": "@jupyter-widgets/base",
            "_view_module_version": "1.2.0",
            "_view_name": "LayoutView",
            "align_content": null,
            "align_items": null,
            "align_self": null,
            "border": null,
            "bottom": null,
            "display": null,
            "flex": null,
            "flex_flow": null,
            "grid_area": null,
            "grid_auto_columns": null,
            "grid_auto_flow": null,
            "grid_auto_rows": null,
            "grid_column": null,
            "grid_gap": null,
            "grid_row": null,
            "grid_template_areas": null,
            "grid_template_columns": null,
            "grid_template_rows": null,
            "height": null,
            "justify_content": null,
            "justify_items": null,
            "left": null,
            "margin": null,
            "max_height": null,
            "max_width": null,
            "min_height": null,
            "min_width": null,
            "object_fit": null,
            "object_position": null,
            "order": null,
            "overflow": null,
            "overflow_x": null,
            "overflow_y": null,
            "padding": null,
            "right": null,
            "top": null,
            "visibility": null,
            "width": null
          }
        },
        "2aa842df48584fe6bcf0051347179949": {
          "model_module": "@jupyter-widgets/controls",
          "model_name": "ProgressStyleModel",
          "model_module_version": "1.5.0",
          "state": {
            "_model_module": "@jupyter-widgets/controls",
            "_model_module_version": "1.5.0",
            "_model_name": "ProgressStyleModel",
            "_view_count": null,
            "_view_module": "@jupyter-widgets/base",
            "_view_module_version": "1.2.0",
            "_view_name": "StyleView",
            "bar_color": null,
            "description_width": ""
          }
        },
        "53659e4795514b468c6bd290a1aa9f92": {
          "model_module": "@jupyter-widgets/base",
          "model_name": "LayoutModel",
          "model_module_version": "1.2.0",
          "state": {
            "_model_module": "@jupyter-widgets/base",
            "_model_module_version": "1.2.0",
            "_model_name": "LayoutModel",
            "_view_count": null,
            "_view_module": "@jupyter-widgets/base",
            "_view_module_version": "1.2.0",
            "_view_name": "LayoutView",
            "align_content": null,
            "align_items": null,
            "align_self": null,
            "border": null,
            "bottom": null,
            "display": null,
            "flex": null,
            "flex_flow": null,
            "grid_area": null,
            "grid_auto_columns": null,
            "grid_auto_flow": null,
            "grid_auto_rows": null,
            "grid_column": null,
            "grid_gap": null,
            "grid_row": null,
            "grid_template_areas": null,
            "grid_template_columns": null,
            "grid_template_rows": null,
            "height": null,
            "justify_content": null,
            "justify_items": null,
            "left": null,
            "margin": null,
            "max_height": null,
            "max_width": null,
            "min_height": null,
            "min_width": null,
            "object_fit": null,
            "object_position": null,
            "order": null,
            "overflow": null,
            "overflow_x": null,
            "overflow_y": null,
            "padding": null,
            "right": null,
            "top": null,
            "visibility": null,
            "width": null
          }
        },
        "9a3e33bfade24a8eab63b440f72007f8": {
          "model_module": "@jupyter-widgets/controls",
          "model_name": "DescriptionStyleModel",
          "model_module_version": "1.5.0",
          "state": {
            "_model_module": "@jupyter-widgets/controls",
            "_model_module_version": "1.5.0",
            "_model_name": "DescriptionStyleModel",
            "_view_count": null,
            "_view_module": "@jupyter-widgets/base",
            "_view_module_version": "1.2.0",
            "_view_name": "StyleView",
            "description_width": ""
          }
        },
        "17cd89fc594449d8bf6ff29c158ab98c": {
          "model_module": "@jupyter-widgets/controls",
          "model_name": "HBoxModel",
          "model_module_version": "1.5.0",
          "state": {
            "_dom_classes": [],
            "_model_module": "@jupyter-widgets/controls",
            "_model_module_version": "1.5.0",
            "_model_name": "HBoxModel",
            "_view_count": null,
            "_view_module": "@jupyter-widgets/controls",
            "_view_module_version": "1.5.0",
            "_view_name": "HBoxView",
            "box_style": "",
            "children": [
              "IPY_MODEL_493e67aed3914ce285f05d4d8c3a5d62",
              "IPY_MODEL_6cdb09409c884ef9ba29766589acb050",
              "IPY_MODEL_cc60d4f8847e402f83963dc1f70791f1"
            ],
            "layout": "IPY_MODEL_852f4deff3f54424b26aeff5380ecbce"
          }
        },
        "493e67aed3914ce285f05d4d8c3a5d62": {
          "model_module": "@jupyter-widgets/controls",
          "model_name": "HTMLModel",
          "model_module_version": "1.5.0",
          "state": {
            "_dom_classes": [],
            "_model_module": "@jupyter-widgets/controls",
            "_model_module_version": "1.5.0",
            "_model_name": "HTMLModel",
            "_view_count": null,
            "_view_module": "@jupyter-widgets/controls",
            "_view_module_version": "1.5.0",
            "_view_name": "HTMLView",
            "description": "",
            "description_tooltip": null,
            "layout": "IPY_MODEL_a1eb2548266943088f2b13050e0bc2d5",
            "placeholder": "​",
            "style": "IPY_MODEL_d8a010fdab464f80a60c1c23f62c78bf",
            "value": "Downloading (…)okenizer_config.json: 100%"
          }
        },
        "6cdb09409c884ef9ba29766589acb050": {
          "model_module": "@jupyter-widgets/controls",
          "model_name": "FloatProgressModel",
          "model_module_version": "1.5.0",
          "state": {
            "_dom_classes": [],
            "_model_module": "@jupyter-widgets/controls",
            "_model_module_version": "1.5.0",
            "_model_name": "FloatProgressModel",
            "_view_count": null,
            "_view_module": "@jupyter-widgets/controls",
            "_view_module_version": "1.5.0",
            "_view_name": "ProgressView",
            "bar_style": "success",
            "description": "",
            "description_tooltip": null,
            "layout": "IPY_MODEL_eb42b22cec534326adfd3a7944cfe243",
            "max": 43,
            "min": 0,
            "orientation": "horizontal",
            "style": "IPY_MODEL_0601243b5b1045b2a288ccac7e3bdef2",
            "value": 43
          }
        },
        "cc60d4f8847e402f83963dc1f70791f1": {
          "model_module": "@jupyter-widgets/controls",
          "model_name": "HTMLModel",
          "model_module_version": "1.5.0",
          "state": {
            "_dom_classes": [],
            "_model_module": "@jupyter-widgets/controls",
            "_model_module_version": "1.5.0",
            "_model_name": "HTMLModel",
            "_view_count": null,
            "_view_module": "@jupyter-widgets/controls",
            "_view_module_version": "1.5.0",
            "_view_name": "HTMLView",
            "description": "",
            "description_tooltip": null,
            "layout": "IPY_MODEL_e325c8d291634deb9b30a562cc26364b",
            "placeholder": "​",
            "style": "IPY_MODEL_7396423fa6aa4fd286dab2f282acc3cd",
            "value": " 43.0/43.0 [00:00&lt;00:00, 3.82kB/s]"
          }
        },
        "852f4deff3f54424b26aeff5380ecbce": {
          "model_module": "@jupyter-widgets/base",
          "model_name": "LayoutModel",
          "model_module_version": "1.2.0",
          "state": {
            "_model_module": "@jupyter-widgets/base",
            "_model_module_version": "1.2.0",
            "_model_name": "LayoutModel",
            "_view_count": null,
            "_view_module": "@jupyter-widgets/base",
            "_view_module_version": "1.2.0",
            "_view_name": "LayoutView",
            "align_content": null,
            "align_items": null,
            "align_self": null,
            "border": null,
            "bottom": null,
            "display": null,
            "flex": null,
            "flex_flow": null,
            "grid_area": null,
            "grid_auto_columns": null,
            "grid_auto_flow": null,
            "grid_auto_rows": null,
            "grid_column": null,
            "grid_gap": null,
            "grid_row": null,
            "grid_template_areas": null,
            "grid_template_columns": null,
            "grid_template_rows": null,
            "height": null,
            "justify_content": null,
            "justify_items": null,
            "left": null,
            "margin": null,
            "max_height": null,
            "max_width": null,
            "min_height": null,
            "min_width": null,
            "object_fit": null,
            "object_position": null,
            "order": null,
            "overflow": null,
            "overflow_x": null,
            "overflow_y": null,
            "padding": null,
            "right": null,
            "top": null,
            "visibility": null,
            "width": null
          }
        },
        "a1eb2548266943088f2b13050e0bc2d5": {
          "model_module": "@jupyter-widgets/base",
          "model_name": "LayoutModel",
          "model_module_version": "1.2.0",
          "state": {
            "_model_module": "@jupyter-widgets/base",
            "_model_module_version": "1.2.0",
            "_model_name": "LayoutModel",
            "_view_count": null,
            "_view_module": "@jupyter-widgets/base",
            "_view_module_version": "1.2.0",
            "_view_name": "LayoutView",
            "align_content": null,
            "align_items": null,
            "align_self": null,
            "border": null,
            "bottom": null,
            "display": null,
            "flex": null,
            "flex_flow": null,
            "grid_area": null,
            "grid_auto_columns": null,
            "grid_auto_flow": null,
            "grid_auto_rows": null,
            "grid_column": null,
            "grid_gap": null,
            "grid_row": null,
            "grid_template_areas": null,
            "grid_template_columns": null,
            "grid_template_rows": null,
            "height": null,
            "justify_content": null,
            "justify_items": null,
            "left": null,
            "margin": null,
            "max_height": null,
            "max_width": null,
            "min_height": null,
            "min_width": null,
            "object_fit": null,
            "object_position": null,
            "order": null,
            "overflow": null,
            "overflow_x": null,
            "overflow_y": null,
            "padding": null,
            "right": null,
            "top": null,
            "visibility": null,
            "width": null
          }
        },
        "d8a010fdab464f80a60c1c23f62c78bf": {
          "model_module": "@jupyter-widgets/controls",
          "model_name": "DescriptionStyleModel",
          "model_module_version": "1.5.0",
          "state": {
            "_model_module": "@jupyter-widgets/controls",
            "_model_module_version": "1.5.0",
            "_model_name": "DescriptionStyleModel",
            "_view_count": null,
            "_view_module": "@jupyter-widgets/base",
            "_view_module_version": "1.2.0",
            "_view_name": "StyleView",
            "description_width": ""
          }
        },
        "eb42b22cec534326adfd3a7944cfe243": {
          "model_module": "@jupyter-widgets/base",
          "model_name": "LayoutModel",
          "model_module_version": "1.2.0",
          "state": {
            "_model_module": "@jupyter-widgets/base",
            "_model_module_version": "1.2.0",
            "_model_name": "LayoutModel",
            "_view_count": null,
            "_view_module": "@jupyter-widgets/base",
            "_view_module_version": "1.2.0",
            "_view_name": "LayoutView",
            "align_content": null,
            "align_items": null,
            "align_self": null,
            "border": null,
            "bottom": null,
            "display": null,
            "flex": null,
            "flex_flow": null,
            "grid_area": null,
            "grid_auto_columns": null,
            "grid_auto_flow": null,
            "grid_auto_rows": null,
            "grid_column": null,
            "grid_gap": null,
            "grid_row": null,
            "grid_template_areas": null,
            "grid_template_columns": null,
            "grid_template_rows": null,
            "height": null,
            "justify_content": null,
            "justify_items": null,
            "left": null,
            "margin": null,
            "max_height": null,
            "max_width": null,
            "min_height": null,
            "min_width": null,
            "object_fit": null,
            "object_position": null,
            "order": null,
            "overflow": null,
            "overflow_x": null,
            "overflow_y": null,
            "padding": null,
            "right": null,
            "top": null,
            "visibility": null,
            "width": null
          }
        },
        "0601243b5b1045b2a288ccac7e3bdef2": {
          "model_module": "@jupyter-widgets/controls",
          "model_name": "ProgressStyleModel",
          "model_module_version": "1.5.0",
          "state": {
            "_model_module": "@jupyter-widgets/controls",
            "_model_module_version": "1.5.0",
            "_model_name": "ProgressStyleModel",
            "_view_count": null,
            "_view_module": "@jupyter-widgets/base",
            "_view_module_version": "1.2.0",
            "_view_name": "StyleView",
            "bar_color": null,
            "description_width": ""
          }
        },
        "e325c8d291634deb9b30a562cc26364b": {
          "model_module": "@jupyter-widgets/base",
          "model_name": "LayoutModel",
          "model_module_version": "1.2.0",
          "state": {
            "_model_module": "@jupyter-widgets/base",
            "_model_module_version": "1.2.0",
            "_model_name": "LayoutModel",
            "_view_count": null,
            "_view_module": "@jupyter-widgets/base",
            "_view_module_version": "1.2.0",
            "_view_name": "LayoutView",
            "align_content": null,
            "align_items": null,
            "align_self": null,
            "border": null,
            "bottom": null,
            "display": null,
            "flex": null,
            "flex_flow": null,
            "grid_area": null,
            "grid_auto_columns": null,
            "grid_auto_flow": null,
            "grid_auto_rows": null,
            "grid_column": null,
            "grid_gap": null,
            "grid_row": null,
            "grid_template_areas": null,
            "grid_template_columns": null,
            "grid_template_rows": null,
            "height": null,
            "justify_content": null,
            "justify_items": null,
            "left": null,
            "margin": null,
            "max_height": null,
            "max_width": null,
            "min_height": null,
            "min_width": null,
            "object_fit": null,
            "object_position": null,
            "order": null,
            "overflow": null,
            "overflow_x": null,
            "overflow_y": null,
            "padding": null,
            "right": null,
            "top": null,
            "visibility": null,
            "width": null
          }
        },
        "7396423fa6aa4fd286dab2f282acc3cd": {
          "model_module": "@jupyter-widgets/controls",
          "model_name": "DescriptionStyleModel",
          "model_module_version": "1.5.0",
          "state": {
            "_model_module": "@jupyter-widgets/controls",
            "_model_module_version": "1.5.0",
            "_model_name": "DescriptionStyleModel",
            "_view_count": null,
            "_view_module": "@jupyter-widgets/base",
            "_view_module_version": "1.2.0",
            "_view_name": "StyleView",
            "description_width": ""
          }
        },
        "14aaa7da748b4bfc98c3ec5b7e6ec09b": {
          "model_module": "@jupyter-widgets/controls",
          "model_name": "HBoxModel",
          "model_module_version": "1.5.0",
          "state": {
            "_dom_classes": [],
            "_model_module": "@jupyter-widgets/controls",
            "_model_module_version": "1.5.0",
            "_model_name": "HBoxModel",
            "_view_count": null,
            "_view_module": "@jupyter-widgets/controls",
            "_view_module_version": "1.5.0",
            "_view_name": "HBoxView",
            "box_style": "",
            "children": [
              "IPY_MODEL_7f337bf0f306413995ab242ccfa0d288",
              "IPY_MODEL_d763d9ffb3cf42a5abf5fe85d9600642",
              "IPY_MODEL_dfed2e00ca1e4f2c8a8bfe3a0ec80451"
            ],
            "layout": "IPY_MODEL_7c3c035271744beeb527dcaff01686bf"
          }
        },
        "7f337bf0f306413995ab242ccfa0d288": {
          "model_module": "@jupyter-widgets/controls",
          "model_name": "HTMLModel",
          "model_module_version": "1.5.0",
          "state": {
            "_dom_classes": [],
            "_model_module": "@jupyter-widgets/controls",
            "_model_module_version": "1.5.0",
            "_model_name": "HTMLModel",
            "_view_count": null,
            "_view_module": "@jupyter-widgets/controls",
            "_view_module_version": "1.5.0",
            "_view_name": "HTMLView",
            "description": "",
            "description_tooltip": null,
            "layout": "IPY_MODEL_cc2e71d259074c73b7e345d5c3efef3b",
            "placeholder": "​",
            "style": "IPY_MODEL_cc7475e17843491fad3969f13fd50de1",
            "value": "Downloading (…)lve/main/config.json: 100%"
          }
        },
        "d763d9ffb3cf42a5abf5fe85d9600642": {
          "model_module": "@jupyter-widgets/controls",
          "model_name": "FloatProgressModel",
          "model_module_version": "1.5.0",
          "state": {
            "_dom_classes": [],
            "_model_module": "@jupyter-widgets/controls",
            "_model_module_version": "1.5.0",
            "_model_name": "FloatProgressModel",
            "_view_count": null,
            "_view_module": "@jupyter-widgets/controls",
            "_view_module_version": "1.5.0",
            "_view_name": "ProgressView",
            "bar_style": "success",
            "description": "",
            "description_tooltip": null,
            "layout": "IPY_MODEL_22babdfe08874355ab73d86fb1d4def6",
            "max": 647,
            "min": 0,
            "orientation": "horizontal",
            "style": "IPY_MODEL_0d8fd05f553046068344b91b3592d5a7",
            "value": 647
          }
        },
        "dfed2e00ca1e4f2c8a8bfe3a0ec80451": {
          "model_module": "@jupyter-widgets/controls",
          "model_name": "HTMLModel",
          "model_module_version": "1.5.0",
          "state": {
            "_dom_classes": [],
            "_model_module": "@jupyter-widgets/controls",
            "_model_module_version": "1.5.0",
            "_model_name": "HTMLModel",
            "_view_count": null,
            "_view_module": "@jupyter-widgets/controls",
            "_view_module_version": "1.5.0",
            "_view_name": "HTMLView",
            "description": "",
            "description_tooltip": null,
            "layout": "IPY_MODEL_fd7513072d5b497bae5514be016a3279",
            "placeholder": "​",
            "style": "IPY_MODEL_2bcae9d9a00046599e8dd6198f429f44",
            "value": " 647/647 [00:00&lt;00:00, 59.1kB/s]"
          }
        },
        "7c3c035271744beeb527dcaff01686bf": {
          "model_module": "@jupyter-widgets/base",
          "model_name": "LayoutModel",
          "model_module_version": "1.2.0",
          "state": {
            "_model_module": "@jupyter-widgets/base",
            "_model_module_version": "1.2.0",
            "_model_name": "LayoutModel",
            "_view_count": null,
            "_view_module": "@jupyter-widgets/base",
            "_view_module_version": "1.2.0",
            "_view_name": "LayoutView",
            "align_content": null,
            "align_items": null,
            "align_self": null,
            "border": null,
            "bottom": null,
            "display": null,
            "flex": null,
            "flex_flow": null,
            "grid_area": null,
            "grid_auto_columns": null,
            "grid_auto_flow": null,
            "grid_auto_rows": null,
            "grid_column": null,
            "grid_gap": null,
            "grid_row": null,
            "grid_template_areas": null,
            "grid_template_columns": null,
            "grid_template_rows": null,
            "height": null,
            "justify_content": null,
            "justify_items": null,
            "left": null,
            "margin": null,
            "max_height": null,
            "max_width": null,
            "min_height": null,
            "min_width": null,
            "object_fit": null,
            "object_position": null,
            "order": null,
            "overflow": null,
            "overflow_x": null,
            "overflow_y": null,
            "padding": null,
            "right": null,
            "top": null,
            "visibility": null,
            "width": null
          }
        },
        "cc2e71d259074c73b7e345d5c3efef3b": {
          "model_module": "@jupyter-widgets/base",
          "model_name": "LayoutModel",
          "model_module_version": "1.2.0",
          "state": {
            "_model_module": "@jupyter-widgets/base",
            "_model_module_version": "1.2.0",
            "_model_name": "LayoutModel",
            "_view_count": null,
            "_view_module": "@jupyter-widgets/base",
            "_view_module_version": "1.2.0",
            "_view_name": "LayoutView",
            "align_content": null,
            "align_items": null,
            "align_self": null,
            "border": null,
            "bottom": null,
            "display": null,
            "flex": null,
            "flex_flow": null,
            "grid_area": null,
            "grid_auto_columns": null,
            "grid_auto_flow": null,
            "grid_auto_rows": null,
            "grid_column": null,
            "grid_gap": null,
            "grid_row": null,
            "grid_template_areas": null,
            "grid_template_columns": null,
            "grid_template_rows": null,
            "height": null,
            "justify_content": null,
            "justify_items": null,
            "left": null,
            "margin": null,
            "max_height": null,
            "max_width": null,
            "min_height": null,
            "min_width": null,
            "object_fit": null,
            "object_position": null,
            "order": null,
            "overflow": null,
            "overflow_x": null,
            "overflow_y": null,
            "padding": null,
            "right": null,
            "top": null,
            "visibility": null,
            "width": null
          }
        },
        "cc7475e17843491fad3969f13fd50de1": {
          "model_module": "@jupyter-widgets/controls",
          "model_name": "DescriptionStyleModel",
          "model_module_version": "1.5.0",
          "state": {
            "_model_module": "@jupyter-widgets/controls",
            "_model_module_version": "1.5.0",
            "_model_name": "DescriptionStyleModel",
            "_view_count": null,
            "_view_module": "@jupyter-widgets/base",
            "_view_module_version": "1.2.0",
            "_view_name": "StyleView",
            "description_width": ""
          }
        },
        "22babdfe08874355ab73d86fb1d4def6": {
          "model_module": "@jupyter-widgets/base",
          "model_name": "LayoutModel",
          "model_module_version": "1.2.0",
          "state": {
            "_model_module": "@jupyter-widgets/base",
            "_model_module_version": "1.2.0",
            "_model_name": "LayoutModel",
            "_view_count": null,
            "_view_module": "@jupyter-widgets/base",
            "_view_module_version": "1.2.0",
            "_view_name": "LayoutView",
            "align_content": null,
            "align_items": null,
            "align_self": null,
            "border": null,
            "bottom": null,
            "display": null,
            "flex": null,
            "flex_flow": null,
            "grid_area": null,
            "grid_auto_columns": null,
            "grid_auto_flow": null,
            "grid_auto_rows": null,
            "grid_column": null,
            "grid_gap": null,
            "grid_row": null,
            "grid_template_areas": null,
            "grid_template_columns": null,
            "grid_template_rows": null,
            "height": null,
            "justify_content": null,
            "justify_items": null,
            "left": null,
            "margin": null,
            "max_height": null,
            "max_width": null,
            "min_height": null,
            "min_width": null,
            "object_fit": null,
            "object_position": null,
            "order": null,
            "overflow": null,
            "overflow_x": null,
            "overflow_y": null,
            "padding": null,
            "right": null,
            "top": null,
            "visibility": null,
            "width": null
          }
        },
        "0d8fd05f553046068344b91b3592d5a7": {
          "model_module": "@jupyter-widgets/controls",
          "model_name": "ProgressStyleModel",
          "model_module_version": "1.5.0",
          "state": {
            "_model_module": "@jupyter-widgets/controls",
            "_model_module_version": "1.5.0",
            "_model_name": "ProgressStyleModel",
            "_view_count": null,
            "_view_module": "@jupyter-widgets/base",
            "_view_module_version": "1.2.0",
            "_view_name": "StyleView",
            "bar_color": null,
            "description_width": ""
          }
        },
        "fd7513072d5b497bae5514be016a3279": {
          "model_module": "@jupyter-widgets/base",
          "model_name": "LayoutModel",
          "model_module_version": "1.2.0",
          "state": {
            "_model_module": "@jupyter-widgets/base",
            "_model_module_version": "1.2.0",
            "_model_name": "LayoutModel",
            "_view_count": null,
            "_view_module": "@jupyter-widgets/base",
            "_view_module_version": "1.2.0",
            "_view_name": "LayoutView",
            "align_content": null,
            "align_items": null,
            "align_self": null,
            "border": null,
            "bottom": null,
            "display": null,
            "flex": null,
            "flex_flow": null,
            "grid_area": null,
            "grid_auto_columns": null,
            "grid_auto_flow": null,
            "grid_auto_rows": null,
            "grid_column": null,
            "grid_gap": null,
            "grid_row": null,
            "grid_template_areas": null,
            "grid_template_columns": null,
            "grid_template_rows": null,
            "height": null,
            "justify_content": null,
            "justify_items": null,
            "left": null,
            "margin": null,
            "max_height": null,
            "max_width": null,
            "min_height": null,
            "min_width": null,
            "object_fit": null,
            "object_position": null,
            "order": null,
            "overflow": null,
            "overflow_x": null,
            "overflow_y": null,
            "padding": null,
            "right": null,
            "top": null,
            "visibility": null,
            "width": null
          }
        },
        "2bcae9d9a00046599e8dd6198f429f44": {
          "model_module": "@jupyter-widgets/controls",
          "model_name": "DescriptionStyleModel",
          "model_module_version": "1.5.0",
          "state": {
            "_model_module": "@jupyter-widgets/controls",
            "_model_module_version": "1.5.0",
            "_model_name": "DescriptionStyleModel",
            "_view_count": null,
            "_view_module": "@jupyter-widgets/base",
            "_view_module_version": "1.2.0",
            "_view_name": "StyleView",
            "description_width": ""
          }
        },
        "5892ff3545034251b51e5390c987b9dd": {
          "model_module": "@jupyter-widgets/controls",
          "model_name": "HBoxModel",
          "model_module_version": "1.5.0",
          "state": {
            "_dom_classes": [],
            "_model_module": "@jupyter-widgets/controls",
            "_model_module_version": "1.5.0",
            "_model_name": "HBoxModel",
            "_view_count": null,
            "_view_module": "@jupyter-widgets/controls",
            "_view_module_version": "1.5.0",
            "_view_name": "HBoxView",
            "box_style": "",
            "children": [
              "IPY_MODEL_92a0db40a9ec4abd99e08e3c6b80888a",
              "IPY_MODEL_efd5603e25f3489d9db7382ac4ba9394",
              "IPY_MODEL_181dd475a84847398764cb7d5c1713f6"
            ],
            "layout": "IPY_MODEL_ce69ee3ce6d249a9a5d28fed6a66a774"
          }
        },
        "92a0db40a9ec4abd99e08e3c6b80888a": {
          "model_module": "@jupyter-widgets/controls",
          "model_name": "HTMLModel",
          "model_module_version": "1.5.0",
          "state": {
            "_dom_classes": [],
            "_model_module": "@jupyter-widgets/controls",
            "_model_module_version": "1.5.0",
            "_model_name": "HTMLModel",
            "_view_count": null,
            "_view_module": "@jupyter-widgets/controls",
            "_view_module_version": "1.5.0",
            "_view_name": "HTMLView",
            "description": "",
            "description_tooltip": null,
            "layout": "IPY_MODEL_524d65b79e4d4d9e8e4a09fc8cd91323",
            "placeholder": "​",
            "style": "IPY_MODEL_88cebc3372a94447a495e5301773fbd5",
            "value": "Downloading tf_model.h5: 100%"
          }
        },
        "efd5603e25f3489d9db7382ac4ba9394": {
          "model_module": "@jupyter-widgets/controls",
          "model_name": "FloatProgressModel",
          "model_module_version": "1.5.0",
          "state": {
            "_dom_classes": [],
            "_model_module": "@jupyter-widgets/controls",
            "_model_module_version": "1.5.0",
            "_model_name": "FloatProgressModel",
            "_view_count": null,
            "_view_module": "@jupyter-widgets/controls",
            "_view_module_version": "1.5.0",
            "_view_name": "ProgressView",
            "bar_style": "success",
            "description": "",
            "description_tooltip": null,
            "layout": "IPY_MODEL_76d54b6974084dbcb688570813d59598",
            "max": 529211872,
            "min": 0,
            "orientation": "horizontal",
            "style": "IPY_MODEL_f2ea0c46c1524178800fd753a1ec53b8",
            "value": 529211872
          }
        },
        "181dd475a84847398764cb7d5c1713f6": {
          "model_module": "@jupyter-widgets/controls",
          "model_name": "HTMLModel",
          "model_module_version": "1.5.0",
          "state": {
            "_dom_classes": [],
            "_model_module": "@jupyter-widgets/controls",
            "_model_module_version": "1.5.0",
            "_model_name": "HTMLModel",
            "_view_count": null,
            "_view_module": "@jupyter-widgets/controls",
            "_view_module_version": "1.5.0",
            "_view_name": "HTMLView",
            "description": "",
            "description_tooltip": null,
            "layout": "IPY_MODEL_1c06cd68c5804cb79e38597597a25bfb",
            "placeholder": "​",
            "style": "IPY_MODEL_ff060826f3fe4bef9e1dec268d204c80",
            "value": " 529M/529M [00:11&lt;00:00, 40.4MB/s]"
          }
        },
        "ce69ee3ce6d249a9a5d28fed6a66a774": {
          "model_module": "@jupyter-widgets/base",
          "model_name": "LayoutModel",
          "model_module_version": "1.2.0",
          "state": {
            "_model_module": "@jupyter-widgets/base",
            "_model_module_version": "1.2.0",
            "_model_name": "LayoutModel",
            "_view_count": null,
            "_view_module": "@jupyter-widgets/base",
            "_view_module_version": "1.2.0",
            "_view_name": "LayoutView",
            "align_content": null,
            "align_items": null,
            "align_self": null,
            "border": null,
            "bottom": null,
            "display": null,
            "flex": null,
            "flex_flow": null,
            "grid_area": null,
            "grid_auto_columns": null,
            "grid_auto_flow": null,
            "grid_auto_rows": null,
            "grid_column": null,
            "grid_gap": null,
            "grid_row": null,
            "grid_template_areas": null,
            "grid_template_columns": null,
            "grid_template_rows": null,
            "height": null,
            "justify_content": null,
            "justify_items": null,
            "left": null,
            "margin": null,
            "max_height": null,
            "max_width": null,
            "min_height": null,
            "min_width": null,
            "object_fit": null,
            "object_position": null,
            "order": null,
            "overflow": null,
            "overflow_x": null,
            "overflow_y": null,
            "padding": null,
            "right": null,
            "top": null,
            "visibility": null,
            "width": null
          }
        },
        "524d65b79e4d4d9e8e4a09fc8cd91323": {
          "model_module": "@jupyter-widgets/base",
          "model_name": "LayoutModel",
          "model_module_version": "1.2.0",
          "state": {
            "_model_module": "@jupyter-widgets/base",
            "_model_module_version": "1.2.0",
            "_model_name": "LayoutModel",
            "_view_count": null,
            "_view_module": "@jupyter-widgets/base",
            "_view_module_version": "1.2.0",
            "_view_name": "LayoutView",
            "align_content": null,
            "align_items": null,
            "align_self": null,
            "border": null,
            "bottom": null,
            "display": null,
            "flex": null,
            "flex_flow": null,
            "grid_area": null,
            "grid_auto_columns": null,
            "grid_auto_flow": null,
            "grid_auto_rows": null,
            "grid_column": null,
            "grid_gap": null,
            "grid_row": null,
            "grid_template_areas": null,
            "grid_template_columns": null,
            "grid_template_rows": null,
            "height": null,
            "justify_content": null,
            "justify_items": null,
            "left": null,
            "margin": null,
            "max_height": null,
            "max_width": null,
            "min_height": null,
            "min_width": null,
            "object_fit": null,
            "object_position": null,
            "order": null,
            "overflow": null,
            "overflow_x": null,
            "overflow_y": null,
            "padding": null,
            "right": null,
            "top": null,
            "visibility": null,
            "width": null
          }
        },
        "88cebc3372a94447a495e5301773fbd5": {
          "model_module": "@jupyter-widgets/controls",
          "model_name": "DescriptionStyleModel",
          "model_module_version": "1.5.0",
          "state": {
            "_model_module": "@jupyter-widgets/controls",
            "_model_module_version": "1.5.0",
            "_model_name": "DescriptionStyleModel",
            "_view_count": null,
            "_view_module": "@jupyter-widgets/base",
            "_view_module_version": "1.2.0",
            "_view_name": "StyleView",
            "description_width": ""
          }
        },
        "76d54b6974084dbcb688570813d59598": {
          "model_module": "@jupyter-widgets/base",
          "model_name": "LayoutModel",
          "model_module_version": "1.2.0",
          "state": {
            "_model_module": "@jupyter-widgets/base",
            "_model_module_version": "1.2.0",
            "_model_name": "LayoutModel",
            "_view_count": null,
            "_view_module": "@jupyter-widgets/base",
            "_view_module_version": "1.2.0",
            "_view_name": "LayoutView",
            "align_content": null,
            "align_items": null,
            "align_self": null,
            "border": null,
            "bottom": null,
            "display": null,
            "flex": null,
            "flex_flow": null,
            "grid_area": null,
            "grid_auto_columns": null,
            "grid_auto_flow": null,
            "grid_auto_rows": null,
            "grid_column": null,
            "grid_gap": null,
            "grid_row": null,
            "grid_template_areas": null,
            "grid_template_columns": null,
            "grid_template_rows": null,
            "height": null,
            "justify_content": null,
            "justify_items": null,
            "left": null,
            "margin": null,
            "max_height": null,
            "max_width": null,
            "min_height": null,
            "min_width": null,
            "object_fit": null,
            "object_position": null,
            "order": null,
            "overflow": null,
            "overflow_x": null,
            "overflow_y": null,
            "padding": null,
            "right": null,
            "top": null,
            "visibility": null,
            "width": null
          }
        },
        "f2ea0c46c1524178800fd753a1ec53b8": {
          "model_module": "@jupyter-widgets/controls",
          "model_name": "ProgressStyleModel",
          "model_module_version": "1.5.0",
          "state": {
            "_model_module": "@jupyter-widgets/controls",
            "_model_module_version": "1.5.0",
            "_model_name": "ProgressStyleModel",
            "_view_count": null,
            "_view_module": "@jupyter-widgets/base",
            "_view_module_version": "1.2.0",
            "_view_name": "StyleView",
            "bar_color": null,
            "description_width": ""
          }
        },
        "1c06cd68c5804cb79e38597597a25bfb": {
          "model_module": "@jupyter-widgets/base",
          "model_name": "LayoutModel",
          "model_module_version": "1.2.0",
          "state": {
            "_model_module": "@jupyter-widgets/base",
            "_model_module_version": "1.2.0",
            "_model_name": "LayoutModel",
            "_view_count": null,
            "_view_module": "@jupyter-widgets/base",
            "_view_module_version": "1.2.0",
            "_view_name": "LayoutView",
            "align_content": null,
            "align_items": null,
            "align_self": null,
            "border": null,
            "bottom": null,
            "display": null,
            "flex": null,
            "flex_flow": null,
            "grid_area": null,
            "grid_auto_columns": null,
            "grid_auto_flow": null,
            "grid_auto_rows": null,
            "grid_column": null,
            "grid_gap": null,
            "grid_row": null,
            "grid_template_areas": null,
            "grid_template_columns": null,
            "grid_template_rows": null,
            "height": null,
            "justify_content": null,
            "justify_items": null,
            "left": null,
            "margin": null,
            "max_height": null,
            "max_width": null,
            "min_height": null,
            "min_width": null,
            "object_fit": null,
            "object_position": null,
            "order": null,
            "overflow": null,
            "overflow_x": null,
            "overflow_y": null,
            "padding": null,
            "right": null,
            "top": null,
            "visibility": null,
            "width": null
          }
        },
        "ff060826f3fe4bef9e1dec268d204c80": {
          "model_module": "@jupyter-widgets/controls",
          "model_name": "DescriptionStyleModel",
          "model_module_version": "1.5.0",
          "state": {
            "_model_module": "@jupyter-widgets/controls",
            "_model_module_version": "1.5.0",
            "_model_name": "DescriptionStyleModel",
            "_view_count": null,
            "_view_module": "@jupyter-widgets/base",
            "_view_module_version": "1.2.0",
            "_view_name": "StyleView",
            "description_width": ""
          }
        }
      }
    }
  },
  "nbformat": 4,
  "nbformat_minor": 0
}